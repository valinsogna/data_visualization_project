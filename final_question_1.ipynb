{
 "cells": [
  {
   "cell_type": "code",
   "execution_count": 1,
   "id": "efc2e04a",
   "metadata": {},
   "outputs": [],
   "source": [
    "import pandas as pd\n",
    "import numpy as np\n",
    "import seaborn as sns\n",
    "import matplotlib.pyplot as plt\n",
    "import plotly.express as px\n",
    "from plotly import graph_objs as go\n",
    "from plotly.subplots import make_subplots"
   ]
  },
  {
   "cell_type": "code",
   "execution_count": null,
   "id": "82653b70",
   "metadata": {},
   "outputs": [],
   "source": [
    "df_tot = pd.read_csv(\"data/final.csv\")"
   ]
  },
  {
   "cell_type": "code",
   "execution_count": null,
   "id": "1cc23836",
   "metadata": {},
   "outputs": [],
   "source": [
    "# per rispondere alle mie domande mi basta avere gli elements, quindi elimino le rige relative ai components\n",
    "print(\"initial df.shape:\",df_tot.shape)\n",
    "df = df_tot.drop(df_tot[df_tot.section == \"components\"].index)\n",
    "print(\"post cut df.shape:\",df.shape)"
   ]
  },
  {
   "cell_type": "code",
   "execution_count": null,
   "id": "a8bb10b3",
   "metadata": {},
   "outputs": [],
   "source": [
    "# I giudici tendono a dare voti più alti ai propri connazionali?\n",
    "# per rispondere mi creo una tabella con la media dei voti che ciascun giudice ha dato\n",
    "# a ciascun atleta e le nazionalità di entrambi\n",
    "df.head(1)"
   ]
  },
  {
   "cell_type": "code",
   "execution_count": null,
   "id": "48ecc926",
   "metadata": {},
   "outputs": [],
   "source": [
    "# elimino le colonne che non mi servono più\n",
    "df.drop('total_segment_score', axis=1, inplace=True)\n",
    "df.drop('total_component_score', axis=1, inplace=True)\n",
    "df.drop('total_element_score', axis=1, inplace=True)\n",
    "df.drop('section', axis=1, inplace=True)\n",
    "df_q2 = df.drop('event', axis=1)\n",
    "df_q2.drop('program', axis=1, inplace=True)\n",
    "df_q2.drop('performance_id', axis=1, inplace=True)\n",
    "df_q2.drop('rank', axis=1, inplace=True)\n",
    "df_q2.drop('total_deductions', axis=1, inplace=True)\n",
    "df_q2.drop('aspect_id', axis=1, inplace=True)\n",
    "df_q2.drop('aspect_desc', axis=1, inplace=True)\n",
    "df_q2.drop('element_order', axis=1, inplace=True)\n",
    "df_q2.drop('element_base_value', axis=1, inplace=True)\n",
    "df_q2.drop('aspect_final_score', axis=1, inplace=True)\n",
    "df_q2.drop('judge_name', axis=1, inplace=True)\n",
    "df_q2.head(2)"
   ]
  },
  {
   "cell_type": "code",
   "execution_count": null,
   "id": "33733b78",
   "metadata": {},
   "outputs": [],
   "source": [
    "# creo una tabella che abbina a ciascun atleta il voto medio ricevuto dai giudici\n",
    "# raggruppato per nazionalità dei giudici\n",
    "# esempio: la media dei voti dei giudici canadesi ad Adam RIPPON è 1.5 (riga 2)\n",
    "medie = df_q2.groupby(['athlete_name','athlete_nation','judge_nation'])['judge_score'].agg(['mean']).reset_index()"
   ]
  },
  {
   "cell_type": "code",
   "execution_count": null,
   "id": "5e2351f5",
   "metadata": {},
   "outputs": [],
   "source": [
    "medie.head(5)"
   ]
  },
  {
   "cell_type": "code",
   "execution_count": null,
   "id": "23353ab6",
   "metadata": {},
   "outputs": [],
   "source": [
    "# creo la tabella atleti_voti, che alla fine sarà formata nel seguente modo:\n",
    "# - athlete_name: nome dell'atleta\n",
    "# - athlete_nation: nazionalità dell'atleta\n",
    "# - compatriot_score: la media dei voti dati dai giudici connazionali dell'atleta\n",
    "# - mean_other_nations: la media dei voti ricevuti dall'atleta, esclusi i voti dati dai connazionali\n",
    "atleti_voti = pd.DataFrame(columns=['athlete_name','athlete_nation','compatriot_score'])\n",
    "atleti_voti.head()"
   ]
  },
  {
   "cell_type": "code",
   "execution_count": null,
   "id": "6eb30e6c",
   "metadata": {},
   "outputs": [],
   "source": [
    "# create a colum to index rows to be deleted\n",
    "medie['tbd'] = False\n",
    "# popolo la tabella atleti_voti con i voti dei connazionali\n",
    "for ind in medie.index:\n",
    "    if medie['athlete_nation'][ind] == medie['judge_nation'][ind]:\n",
    "        medie.at[ind,'tbd'] = True\n",
    "        atleti_voti.loc[len(atleti_voti.index)] = [medie['athlete_name'][ind],medie['athlete_nation'][ind], medie['mean'][ind]] "
   ]
  },
  {
   "cell_type": "code",
   "execution_count": null,
   "id": "f1d4b037",
   "metadata": {},
   "outputs": [],
   "source": [
    "atleti_voti.head()"
   ]
  },
  {
   "cell_type": "code",
   "execution_count": null,
   "id": "4cee97f9",
   "metadata": {},
   "outputs": [],
   "source": [
    "# per fare la media dei voti ricevuti dall'atleta, esclusi i voti dati dai connazionali,\n",
    "# elimino le colonne athlete_nation e judge_nation  e elimino le righe in cui c'è il voto dei compatrioti\n",
    "medie.drop('athlete_nation', axis=1, inplace=True)\n",
    "medie.drop('judge_nation', axis=1, inplace=True)\n",
    "medie.drop(medie[medie.tbd].index, inplace=True)\n",
    "medie.drop('tbd', axis=1, inplace=True)\n",
    "medie.rename(columns={'mean': 'score'}, inplace=True)"
   ]
  },
  {
   "cell_type": "code",
   "execution_count": null,
   "id": "4b93d195",
   "metadata": {},
   "outputs": [],
   "source": [
    "medie.head()"
   ]
  },
  {
   "cell_type": "code",
   "execution_count": null,
   "id": "35c0dfba",
   "metadata": {},
   "outputs": [],
   "source": [
    "medie = medie.groupby('athlete_name')['score'].agg(['mean']).reset_index()"
   ]
  },
  {
   "cell_type": "code",
   "execution_count": null,
   "id": "b2889eaa",
   "metadata": {},
   "outputs": [],
   "source": [
    "medie.head()"
   ]
  },
  {
   "cell_type": "code",
   "execution_count": null,
   "id": "ec46e21c",
   "metadata": {},
   "outputs": [],
   "source": [
    "# facendo la join tra le due tabelle, popolo la colonna mean_other_nations di atleti_voti\n",
    "# (vogliamo considerare solo gli atleti che sono stati giudicati da connazionali, scartiamo gli altri)\n",
    "print('atleti_voti.shape: ',atleti_voti.shape)\n",
    "print('medie.shape: ',medie.shape)\n",
    "atleti_voti = atleti_voti.merge(medie,\n",
    "                how='inner',\n",
    "                on='athlete_name')\n",
    "medie.rename(columns={'mean': 'mean_other_nations'}, inplace=True)\n",
    "print('atleti_voti.shape after: ',atleti_voti.shape)"
   ]
  },
  {
   "cell_type": "code",
   "execution_count": null,
   "id": "2e86a5a3",
   "metadata": {},
   "outputs": [],
   "source": [
    "atleti_voti.head()"
   ]
  },
  {
   "cell_type": "code",
   "execution_count": null,
   "id": "22a41327",
   "metadata": {},
   "outputs": [],
   "source": [
    "atleti_voti.shape"
   ]
  },
  {
   "cell_type": "code",
   "execution_count": null,
   "id": "7d183c9e",
   "metadata": {},
   "outputs": [],
   "source": [
    "# per poter fare il barplot devo fare quanto segue\n",
    "tidy = atleti_voti.drop('athlete_nation', axis=1)\n",
    "tidy = tidy.melt(id_vars='athlete_name').rename(columns=str.title)"
   ]
  },
  {
   "cell_type": "code",
   "execution_count": null,
   "id": "f1951da3",
   "metadata": {},
   "outputs": [],
   "source": [
    "# adesso i voti dati ad un atleta sono salvati in questo modo\n",
    "tidy.loc[tidy['Athlete_Name'] == 'Adam RIPPON']"
   ]
  },
  {
   "cell_type": "code",
   "execution_count": null,
   "id": "bf2727c2",
   "metadata": {},
   "outputs": [],
   "source": [
    "# voglio fare la stessa cosa ma per nazioni, invece che per atleti\n",
    "# la tabella nazioni_voti sarà come segue:\n",
    "# - nation: nazionalità considerata\n",
    "# - compatriot_score: la media dei voti dati agli atleti di nation dai giudici connazionali\n",
    "# - mean_other_nations: la media dei voti ricevuti dagli atleti di nation, esclusi i voti dati dai connazionali\n",
    "nazioni_voti = pd.DataFrame(columns=['nation','compatriot_score'])\n",
    "nazioni_voti.head()"
   ]
  },
  {
   "cell_type": "code",
   "execution_count": null,
   "id": "07392285",
   "metadata": {},
   "outputs": [],
   "source": [
    "# creo una tabella che abbina a ciascun atleta il voto medio ricevuto dai giudici\n",
    "# raggruppato per nazionalità dei giudici\n",
    "# esempio: la media dei voti dei giudici canadesi ad Adam RIPPON è 1.5 (riga 2)\n",
    "medie = df_q2.groupby(['athlete_nation','judge_nation'])['judge_score'].agg(['mean']).reset_index()"
   ]
  },
  {
   "cell_type": "code",
   "execution_count": null,
   "id": "ab01b89b",
   "metadata": {},
   "outputs": [],
   "source": [
    "medie.head()"
   ]
  },
  {
   "cell_type": "code",
   "execution_count": null,
   "id": "119334e9",
   "metadata": {},
   "outputs": [],
   "source": [
    "# create a colum to index rows to be deleted\n",
    "medie['tbd'] = False\n",
    "# popolo la tabella nazioni_voti con i voti dei connazionali\n",
    "for ind in medie.index:\n",
    "    if medie['athlete_nation'][ind] == medie['judge_nation'][ind]:\n",
    "        medie.at[ind,'tbd'] = True\n",
    "        nazioni_voti.loc[len(nazioni_voti.index)] = [medie['athlete_nation'][ind], medie['mean'][ind]] "
   ]
  },
  {
   "cell_type": "code",
   "execution_count": null,
   "id": "b93c0013",
   "metadata": {},
   "outputs": [],
   "source": [
    "medie.head()"
   ]
  },
  {
   "cell_type": "code",
   "execution_count": null,
   "id": "368d4150",
   "metadata": {},
   "outputs": [],
   "source": [
    "nazioni_voti.head()"
   ]
  },
  {
   "cell_type": "code",
   "execution_count": null,
   "id": "ce47ded2",
   "metadata": {},
   "outputs": [],
   "source": [
    "# per fare la media dei voti ricevuti da una nazione, esclusi i voti dati dai connazionali,\n",
    "# elimino le colonne udge_nation e elimino le righe in cui c'è il voto dei compatrioti\n",
    "medie.drop('judge_nation', axis=1, inplace=True)\n",
    "medie.drop(medie[medie.tbd].index, inplace=True)\n",
    "medie.drop('tbd', axis=1, inplace=True)\n",
    "medie.rename(columns={'mean': 'score'}, inplace=True)"
   ]
  },
  {
   "cell_type": "code",
   "execution_count": null,
   "id": "ff5c2fcc",
   "metadata": {},
   "outputs": [],
   "source": [
    "medie.head()"
   ]
  },
  {
   "cell_type": "code",
   "execution_count": null,
   "id": "ca5200dc",
   "metadata": {
    "scrolled": true
   },
   "outputs": [],
   "source": [
    "medie = medie.groupby('athlete_nation')['score'].agg(['mean']).reset_index()"
   ]
  },
  {
   "cell_type": "code",
   "execution_count": null,
   "id": "7f41c501",
   "metadata": {
    "scrolled": true
   },
   "outputs": [],
   "source": [
    "medie.head(1)"
   ]
  },
  {
   "cell_type": "code",
   "execution_count": null,
   "id": "56c7ffa6",
   "metadata": {},
   "outputs": [],
   "source": [
    "nazioni_voti.head(1)"
   ]
  },
  {
   "cell_type": "code",
   "execution_count": null,
   "id": "af33c1a5",
   "metadata": {},
   "outputs": [],
   "source": [
    "# facendo la join tra le due tabelle, popolo la colonna mean_other_nations di nazioni_voti\n",
    "# (vogliamo considerare solo le nazioni che hanno ricevuto voti da giudici di quella nazione, scartiamo gli altri)\n",
    "print('nazioni_voti.shape: ',nazioni_voti.shape)\n",
    "print('medie.shape: ',medie.shape)\n",
    "nazioni_voti = nazioni_voti.merge(medie,\n",
    "                how='inner',\n",
    "                left_on='nation',\n",
    "                right_on = 'athlete_nation')\n",
    "nazioni_voti.rename(columns={'mean': 'mean_other_nations'}, inplace=True)\n",
    "print('nazioni_voti.shape after: ',nazioni_voti.shape)"
   ]
  },
  {
   "cell_type": "code",
   "execution_count": null,
   "id": "8d615ac6",
   "metadata": {},
   "outputs": [],
   "source": [
    "nazioni_voti.drop('athlete_nation', axis=1, inplace=True)\n",
    "nazioni_voti.head()"
   ]
  },
  {
   "cell_type": "code",
   "execution_count": null,
   "id": "9af165c2",
   "metadata": {},
   "outputs": [],
   "source": [
    "# per poter fare il barplot devo fare quanto segue\n",
    "tidy = nazioni_voti.melt(id_vars='nation').rename(columns=str.title)"
   ]
  },
  {
   "cell_type": "code",
   "execution_count": null,
   "id": "fb9b11b6",
   "metadata": {},
   "outputs": [],
   "source": [
    "tidy.head()"
   ]
  },
  {
   "cell_type": "code",
   "execution_count": null,
   "id": "7eb06cf9",
   "metadata": {},
   "outputs": [],
   "source": [
    "# adesso i voti dati ad un atleta sono salvati in questo modo\n",
    "tidy.loc[tidy['Nation'] == 'AUS']"
   ]
  },
  {
   "cell_type": "code",
   "execution_count": null,
   "id": "aac96128",
   "metadata": {},
   "outputs": [],
   "source": [
    "tidy.head()"
   ]
  },
  {
   "cell_type": "code",
   "execution_count": null,
   "id": "6082645b",
   "metadata": {},
   "outputs": [],
   "source": [
    "nazioni_voti.head()"
   ]
  },
  {
   "cell_type": "code",
   "execution_count": null,
   "id": "17fb0f0c",
   "metadata": {
    "scrolled": true
   },
   "outputs": [],
   "source": [
    "# faccio il grafico con le proporzioni della slide di power point\n",
    "\n",
    "fig = make_subplots(shared_yaxes=True, shared_xaxes=True)\n",
    "fig.add_bar(x=nazioni_voti['nation'],\n",
    "            y=nazioni_voti['mean_other_nations'],\n",
    "            width=0.75,\n",
    "            #marker=dict(color='#F9A311'),\n",
    "            name='Other nationalities',\n",
    "            #hovertemplate='#F9A311')\n",
    "           )\n",
    "fig.add_bar(x=nazioni_voti['nation'],\n",
    "            y=nazioni_voti['compatriot_score'],\n",
    "            width=0.25,\n",
    "            #marker=dict(color='#1167F9'),\n",
    "            name='Compatriots')\n",
    "fig.update_layout(#general features\n",
    "                  barmode='overlay',\n",
    "                  width=1315,\n",
    "                  height=700,\n",
    "                  plot_bgcolor='#E9F1FA',\n",
    "                  paper_bgcolor='#E9F1FA',\n",
    "    \n",
    "                  #margins\n",
    "                  margin=dict(l=60, r=60, t=120, b=80),\n",
    "    \n",
    "                  #legend\n",
    "                  legend=dict(yanchor=\"top\",\n",
    "                              xanchor=\"center\",\n",
    "                              orientation=\"h\",\n",
    "                              y=1.01,\n",
    "                              x=0.5),\n",
    "                  #title\n",
    "                  title={'text': \"<b>Do the judges support compatriot athletes?</b>\",\n",
    "                          'y':0.97,\n",
    "                          'x':0.5,\n",
    "                          'xanchor': 'center',\n",
    "                          'yanchor': 'top'},\n",
    "                  title_font={'family': 'DejaVu Sans',\n",
    "                               'size': 24,\n",
    "                               'color': '#543810'},\n",
    "                  #general font\n",
    "                  font={'family': 'DejaVu Sans',\n",
    "                        'size': 14,\n",
    "                        'color': '#543810'})\n",
    "\n",
    "\n",
    "# sottotitolo riga 1\n",
    "fig.add_annotation(text = (\"Comparison between the average points given to a Nation’s athletes by their compatriots\"),\n",
    "                   showarrow=False,\n",
    "                   x = 0, \n",
    "                   y = -0.14, \n",
    "                   xref='paper', \n",
    "                   yref='paper', \n",
    "                   xanchor='center', \n",
    "                   yanchor='top', \n",
    "                   xshift=580, \n",
    "                   yshift=640, \n",
    "                   font=dict(size=18, color=\"#543810\", family='DejaVu Sans'), \n",
    "                   align=\"center\")\n",
    "\n",
    "# sottotitolo riga 2\n",
    "fig.add_annotation(text = (\"\"),\n",
    "                   showarrow=False,\n",
    "                   x = 0, \n",
    "                   y = -0.14, \n",
    "                   xref='paper', \n",
    "                   yref='paper', \n",
    "                   xanchor='center', \n",
    "                   yanchor='top', \n",
    "                   xshift=580, \n",
    "                   yshift=620, \n",
    "                   font=dict(size=18, color=\"#543810\", family='DejaVu Sans'), \n",
    "                   align=\"center\")\n",
    "\n",
    "\n",
    "# aggiungi autore e origine dati\n",
    "fig.add_annotation(text = \"data source: https://github.com/BuzzFeedNews/2018-02-figure-skating-analysis\",\n",
    "                   showarrow=False,\n",
    "                   x = 0, \n",
    "                   y = -0.11, \n",
    "                   xref='paper', \n",
    "                   yref='paper', \n",
    "                   xanchor='left', \n",
    "                   yanchor='bottom', \n",
    "                   xshift=-1, \n",
    "                   yshift=-5, \n",
    "                   font=dict(size=10, color=\"#543810\", family='DejaVu Sans'), \n",
    "                   align=\"left\")\n",
    "fig.add_annotation(text = \"plot author: Cecilia Zagni\",\n",
    "                   showarrow=False,\n",
    "                   x = 0, \n",
    "                   y = -0.14, \n",
    "                   xref='paper', \n",
    "                   yref='paper', \n",
    "                   xanchor='left', \n",
    "                   yanchor='bottom', \n",
    "                   xshift=-1, \n",
    "                   yshift=-5, \n",
    "                   font=dict(size=10, color=\"#543810\", family='DejaVu Sans'), \n",
    "                   align=\"left\")\n",
    "#titolo asse y\n",
    "fig.add_annotation(text = \"Score\",\n",
    "                   showarrow=False,\n",
    "                   x = 0, \n",
    "                   y = -0.15, \n",
    "                   xref='paper', \n",
    "                   yref='paper', \n",
    "                   xanchor='left', \n",
    "                   yanchor='top', \n",
    "                   xshift=-50, \n",
    "                   yshift=575, \n",
    "                   font=dict(size=16, color=\"#543810\", family='DejaVu Sans'), \n",
    "                   align=\"left\")\n",
    "\n",
    "fig.update_traces(marker_line_width = 0)\n",
    "fig.update_xaxes(tickangle=0)"
   ]
  },
  {
   "cell_type": "code",
   "execution_count": null,
   "id": "e3ea6cd4",
   "metadata": {},
   "outputs": [],
   "source": [
    "# ordino le nazioni per voto altri giudici decrescente\n",
    "nazioni_voti.sort_values(by=['mean_other_nations'],ascending=False,inplace=True)"
   ]
  },
  {
   "cell_type": "code",
   "execution_count": null,
   "id": "a7a395cd",
   "metadata": {
    "scrolled": true
   },
   "outputs": [],
   "source": [
    "# faccio il grafico con le proporzioni della slide di power point\n",
    "\n",
    "fig = make_subplots(shared_yaxes=True, shared_xaxes=True)\n",
    "fig.add_bar(x=nazioni_voti['nation'],\n",
    "            y=nazioni_voti['mean_other_nations'],\n",
    "            width=0.75,\n",
    "            #marker=dict(color='#F9A311'),\n",
    "            name='Other nationalities',\n",
    "            #hovertemplate='#F9A311')\n",
    "           )\n",
    "fig.add_bar(x=nazioni_voti['nation'],\n",
    "            y=nazioni_voti['compatriot_score'],\n",
    "            width=0.25,\n",
    "            #marker=dict(color='#1167F9'),\n",
    "            name='Compatriots')\n",
    "fig.update_layout(#general features\n",
    "                  barmode='overlay',\n",
    "                  width=1315,\n",
    "                  height=700,\n",
    "                  plot_bgcolor='#E9F1FA',\n",
    "                  paper_bgcolor='#E9F1FA',\n",
    "    \n",
    "                  #margins\n",
    "                  margin=dict(l=60, r=60, t=120, b=80),\n",
    "    \n",
    "                  #legend\n",
    "                  legend=dict(yanchor=\"top\",\n",
    "                              xanchor=\"center\",\n",
    "                              orientation=\"h\",\n",
    "                              y=1.01,\n",
    "                              x=0.5),\n",
    "                  #title\n",
    "                  title={'text': \"<b>Do the judges support compatriot athletes?</b>\",\n",
    "                          'y':0.97,\n",
    "                          'x':0.5,\n",
    "                          'xanchor': 'center',\n",
    "                          'yanchor': 'top'},\n",
    "                  title_font={'family': 'DejaVu Sans',\n",
    "                               'size': 24,\n",
    "                               'color': '#543810'},\n",
    "                  #general font\n",
    "                  font={'family': 'DejaVu Sans',\n",
    "                        'size': 14,\n",
    "                        'color': '#543810'})\n",
    "\n",
    "\n",
    "# sottotitolo riga 1\n",
    "fig.add_annotation(text = (\"Comparison between the average points given to a Nation’s athletes by their compatriots\"),\n",
    "                   showarrow=False,\n",
    "                   x = 0, \n",
    "                   y = -0.14, \n",
    "                   xref='paper', \n",
    "                   yref='paper', \n",
    "                   xanchor='center', \n",
    "                   yanchor='top', \n",
    "                   xshift=580, \n",
    "                   yshift=640, \n",
    "                   font=dict(size=18, color=\"#543810\", family='DejaVu Sans'), \n",
    "                   align=\"center\")\n",
    "\n",
    "# sottotitolo riga 2\n",
    "fig.add_annotation(text = (\"\"),\n",
    "                   showarrow=False,\n",
    "                   x = 0, \n",
    "                   y = -0.14, \n",
    "                   xref='paper', \n",
    "                   yref='paper', \n",
    "                   xanchor='center', \n",
    "                   yanchor='top', \n",
    "                   xshift=580, \n",
    "                   yshift=620, \n",
    "                   font=dict(size=18, color=\"#543810\", family='DejaVu Sans'), \n",
    "                   align=\"center\")\n",
    "\n",
    "\n",
    "# aggiungi autore e origine dati\n",
    "fig.add_annotation(text = \"data source: https://github.com/BuzzFeedNews/2018-02-figure-skating-analysis\",\n",
    "                   showarrow=False,\n",
    "                   x = 0, \n",
    "                   y = -0.11, \n",
    "                   xref='paper', \n",
    "                   yref='paper', \n",
    "                   xanchor='left', \n",
    "                   yanchor='bottom', \n",
    "                   xshift=-1, \n",
    "                   yshift=-5, \n",
    "                   font=dict(size=10, color=\"#543810\", family='DejaVu Sans'), \n",
    "                   align=\"left\")\n",
    "fig.add_annotation(text = \"plot author: Cecilia Zagni\",\n",
    "                   showarrow=False,\n",
    "                   x = 0, \n",
    "                   y = -0.14, \n",
    "                   xref='paper', \n",
    "                   yref='paper', \n",
    "                   xanchor='left', \n",
    "                   yanchor='bottom', \n",
    "                   xshift=-1, \n",
    "                   yshift=-5, \n",
    "                   font=dict(size=10, color=\"#543810\", family='DejaVu Sans'), \n",
    "                   align=\"left\")\n",
    "#titolo asse y\n",
    "fig.add_annotation(text = \"Score\",\n",
    "                   showarrow=False,\n",
    "                   x = 0, \n",
    "                   y = -0.15, \n",
    "                   xref='paper', \n",
    "                   yref='paper', \n",
    "                   xanchor='left', \n",
    "                   yanchor='top', \n",
    "                   xshift=-50, \n",
    "                   yshift=575, \n",
    "                   font=dict(size=16, color=\"#543810\", family='DejaVu Sans'), \n",
    "                   align=\"left\")\n",
    "\n",
    "fig.update_traces(marker_line_width = 0)\n",
    "fig.update_xaxes(tickangle=0)"
   ]
  },
  {
   "cell_type": "code",
   "execution_count": null,
   "id": "1d458f7e",
   "metadata": {},
   "outputs": [],
   "source": []
  }
 ],
 "metadata": {
  "kernelspec": {
   "display_name": "Python 3 (ipykernel)",
   "language": "python",
   "name": "python3"
  },
  "language_info": {
   "codemirror_mode": {
    "name": "ipython",
    "version": 3
   },
   "file_extension": ".py",
   "mimetype": "text/x-python",
   "name": "python",
   "nbconvert_exporter": "python",
   "pygments_lexer": "ipython3",
   "version": "3.9.13"
  },
  "vscode": {
   "interpreter": {
    "hash": "9cda0c324310104f05d8df7cc4d2a731da6a442630e1c96fb26d87993a9b905b"
   }
  }
 },
 "nbformat": 4,
 "nbformat_minor": 5
}

{
 "cells": [
  {
   "cell_type": "code",
   "execution_count": null,
   "metadata": {},
   "outputs": [],
   "source": [
    "# elimino le colonne che non mi servono più\n",
    "df.drop('total_segment_score', axis=1, inplace=True)\n",
    "df.drop('total_component_score', axis=1, inplace=True)\n",
    "df.drop('total_element_score', axis=1, inplace=True)\n",
    "df.drop('section', axis=1, inplace=True)"
   ]
  }
 ],
 "metadata": {
  "language_info": {
   "name": "python"
  },
  "orig_nbformat": 4
 },
 "nbformat": 4,
 "nbformat_minor": 2
}

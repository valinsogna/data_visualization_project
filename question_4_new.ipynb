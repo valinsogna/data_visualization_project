{
 "cells": [
  {
   "cell_type": "markdown",
   "metadata": {},
   "source": [
    "# Chi sono gli atleti che presentano elementi più difficili?"
   ]
  },
  {
   "cell_type": "code",
   "execution_count": 1,
   "metadata": {},
   "outputs": [],
   "source": [
    "import pandas as pd\n",
    "import numpy as np\n",
    "import matplotlib.pyplot as plt\n",
    "import seaborn as sns\n",
    "%matplotlib inline\n",
    "import plotly.express as px"
   ]
  },
  {
   "cell_type": "code",
   "execution_count": 2,
   "metadata": {},
   "outputs": [
    {
     "name": "stdout",
     "output_type": "stream",
     "text": [
      "initial df.shape: (214491, 19)\n",
      "post cut df.shape: (136861, 19)\n"
     ]
    }
   ],
   "source": [
    "df_tot = pd.read_csv(\"final.csv\")\n",
    "# per rispondere alle mie domande mi basta avere gli elements, quindi elimino le rige relative ai components\n",
    "print(\"initial df.shape:\",df_tot.shape)\n",
    "df = df_tot.drop(df_tot[df_tot.section == \"components\"].index)\n",
    "print(\"post cut df.shape:\",df.shape)"
   ]
  },
  {
   "cell_type": "code",
   "execution_count": 3,
   "metadata": {},
   "outputs": [
    {
     "data": {
      "text/html": [
       "<div>\n",
       "<style scoped>\n",
       "    .dataframe tbody tr th:only-of-type {\n",
       "        vertical-align: middle;\n",
       "    }\n",
       "\n",
       "    .dataframe tbody tr th {\n",
       "        vertical-align: top;\n",
       "    }\n",
       "\n",
       "    .dataframe thead th {\n",
       "        text-align: right;\n",
       "    }\n",
       "</style>\n",
       "<table border=\"1\" class=\"dataframe\">\n",
       "  <thead>\n",
       "    <tr style=\"text-align: right;\">\n",
       "      <th></th>\n",
       "      <th>competition</th>\n",
       "      <th>program</th>\n",
       "      <th>performance_id</th>\n",
       "      <th>athlete_name</th>\n",
       "      <th>athlete_nation</th>\n",
       "      <th>rank</th>\n",
       "      <th>total_segment_score</th>\n",
       "      <th>total_element_score</th>\n",
       "      <th>total_component_score</th>\n",
       "      <th>total_deductions</th>\n",
       "      <th>aspect_id</th>\n",
       "      <th>aspect_desc</th>\n",
       "      <th>element_order</th>\n",
       "      <th>element_base_value</th>\n",
       "      <th>section</th>\n",
       "      <th>aspect_final_score</th>\n",
       "      <th>judge_name</th>\n",
       "      <th>judge_nation</th>\n",
       "      <th>judge_score</th>\n",
       "    </tr>\n",
       "  </thead>\n",
       "  <tbody>\n",
       "    <tr>\n",
       "      <th>2</th>\n",
       "      <td>ISU European Figure Skating Championships 2017</td>\n",
       "      <td>LADIES SHORT PROGRAM</td>\n",
       "      <td>b639d77459</td>\n",
       "      <td>Evgenia MEDVEDEVA</td>\n",
       "      <td>RUS</td>\n",
       "      <td>1</td>\n",
       "      <td>78.92</td>\n",
       "      <td>42.0</td>\n",
       "      <td>36.92</td>\n",
       "      <td>0.0</td>\n",
       "      <td>38bda018f5</td>\n",
       "      <td>3Lo</td>\n",
       "      <td>4.0</td>\n",
       "      <td>5.61</td>\n",
       "      <td>elements</td>\n",
       "      <td>7.21</td>\n",
       "      <td>Agita ABELE</td>\n",
       "      <td>LAT</td>\n",
       "      <td>3.0</td>\n",
       "    </tr>\n",
       "    <tr>\n",
       "      <th>3</th>\n",
       "      <td>ISU European Figure Skating Championships 2017</td>\n",
       "      <td>LADIES SHORT PROGRAM</td>\n",
       "      <td>b639d77459</td>\n",
       "      <td>Evgenia MEDVEDEVA</td>\n",
       "      <td>RUS</td>\n",
       "      <td>1</td>\n",
       "      <td>78.92</td>\n",
       "      <td>42.0</td>\n",
       "      <td>36.92</td>\n",
       "      <td>0.0</td>\n",
       "      <td>50366b5d60</td>\n",
       "      <td>3F+3T</td>\n",
       "      <td>3.0</td>\n",
       "      <td>10.56</td>\n",
       "      <td>elements</td>\n",
       "      <td>12.16</td>\n",
       "      <td>Agita ABELE</td>\n",
       "      <td>LAT</td>\n",
       "      <td>3.0</td>\n",
       "    </tr>\n",
       "    <tr>\n",
       "      <th>4</th>\n",
       "      <td>ISU European Figure Skating Championships 2017</td>\n",
       "      <td>LADIES SHORT PROGRAM</td>\n",
       "      <td>b639d77459</td>\n",
       "      <td>Evgenia MEDVEDEVA</td>\n",
       "      <td>RUS</td>\n",
       "      <td>1</td>\n",
       "      <td>78.92</td>\n",
       "      <td>42.0</td>\n",
       "      <td>36.92</td>\n",
       "      <td>0.0</td>\n",
       "      <td>6e36e62b05</td>\n",
       "      <td>CCoSp4</td>\n",
       "      <td>6.0</td>\n",
       "      <td>3.50</td>\n",
       "      <td>elements</td>\n",
       "      <td>4.50</td>\n",
       "      <td>Agita ABELE</td>\n",
       "      <td>LAT</td>\n",
       "      <td>2.0</td>\n",
       "    </tr>\n",
       "    <tr>\n",
       "      <th>5</th>\n",
       "      <td>ISU European Figure Skating Championships 2017</td>\n",
       "      <td>LADIES SHORT PROGRAM</td>\n",
       "      <td>b639d77459</td>\n",
       "      <td>Evgenia MEDVEDEVA</td>\n",
       "      <td>RUS</td>\n",
       "      <td>1</td>\n",
       "      <td>78.92</td>\n",
       "      <td>42.0</td>\n",
       "      <td>36.92</td>\n",
       "      <td>0.0</td>\n",
       "      <td>8f7180d180</td>\n",
       "      <td>2A</td>\n",
       "      <td>5.0</td>\n",
       "      <td>3.63</td>\n",
       "      <td>elements</td>\n",
       "      <td>4.63</td>\n",
       "      <td>Agita ABELE</td>\n",
       "      <td>LAT</td>\n",
       "      <td>2.0</td>\n",
       "    </tr>\n",
       "    <tr>\n",
       "      <th>9</th>\n",
       "      <td>ISU European Figure Skating Championships 2017</td>\n",
       "      <td>LADIES SHORT PROGRAM</td>\n",
       "      <td>b639d77459</td>\n",
       "      <td>Evgenia MEDVEDEVA</td>\n",
       "      <td>RUS</td>\n",
       "      <td>1</td>\n",
       "      <td>78.92</td>\n",
       "      <td>42.0</td>\n",
       "      <td>36.92</td>\n",
       "      <td>0.0</td>\n",
       "      <td>c07f5eb3da</td>\n",
       "      <td>FCSp4</td>\n",
       "      <td>1.0</td>\n",
       "      <td>3.20</td>\n",
       "      <td>elements</td>\n",
       "      <td>4.20</td>\n",
       "      <td>Agita ABELE</td>\n",
       "      <td>LAT</td>\n",
       "      <td>2.0</td>\n",
       "    </tr>\n",
       "  </tbody>\n",
       "</table>\n",
       "</div>"
      ],
      "text/plain": [
       "                                      competition               program  \\\n",
       "2  ISU European Figure Skating Championships 2017  LADIES SHORT PROGRAM   \n",
       "3  ISU European Figure Skating Championships 2017  LADIES SHORT PROGRAM   \n",
       "4  ISU European Figure Skating Championships 2017  LADIES SHORT PROGRAM   \n",
       "5  ISU European Figure Skating Championships 2017  LADIES SHORT PROGRAM   \n",
       "9  ISU European Figure Skating Championships 2017  LADIES SHORT PROGRAM   \n",
       "\n",
       "  performance_id       athlete_name athlete_nation  rank  total_segment_score  \\\n",
       "2     b639d77459  Evgenia MEDVEDEVA            RUS     1                78.92   \n",
       "3     b639d77459  Evgenia MEDVEDEVA            RUS     1                78.92   \n",
       "4     b639d77459  Evgenia MEDVEDEVA            RUS     1                78.92   \n",
       "5     b639d77459  Evgenia MEDVEDEVA            RUS     1                78.92   \n",
       "9     b639d77459  Evgenia MEDVEDEVA            RUS     1                78.92   \n",
       "\n",
       "   total_element_score  total_component_score  total_deductions   aspect_id  \\\n",
       "2                 42.0                  36.92               0.0  38bda018f5   \n",
       "3                 42.0                  36.92               0.0  50366b5d60   \n",
       "4                 42.0                  36.92               0.0  6e36e62b05   \n",
       "5                 42.0                  36.92               0.0  8f7180d180   \n",
       "9                 42.0                  36.92               0.0  c07f5eb3da   \n",
       "\n",
       "  aspect_desc  element_order  element_base_value   section  \\\n",
       "2         3Lo            4.0                5.61  elements   \n",
       "3       3F+3T            3.0               10.56  elements   \n",
       "4      CCoSp4            6.0                3.50  elements   \n",
       "5          2A            5.0                3.63  elements   \n",
       "9       FCSp4            1.0                3.20  elements   \n",
       "\n",
       "   aspect_final_score   judge_name judge_nation  judge_score  \n",
       "2                7.21  Agita ABELE          LAT          3.0  \n",
       "3               12.16  Agita ABELE          LAT          3.0  \n",
       "4                4.50  Agita ABELE          LAT          2.0  \n",
       "5                4.63  Agita ABELE          LAT          2.0  \n",
       "9                4.20  Agita ABELE          LAT          2.0  "
      ]
     },
     "execution_count": 3,
     "metadata": {},
     "output_type": "execute_result"
    }
   ],
   "source": [
    "df.head()"
   ]
  },
  {
   "cell_type": "markdown",
   "metadata": {},
   "source": [
    "## 2.Bubble chart base value e atleti"
   ]
  },
  {
   "cell_type": "markdown",
   "metadata": {},
   "source": [
    "* Non è detto che chi fa gli elementi più difficili sia anche il migliore e li faccia bene (vedi rank e total_deductions)\n",
    "* Pick a reasonable number of base values to make the plot more readable (95 percentile ?)\n",
    "* Rifare grafico Bubble con nuova colonna \"percentage_of_base_value\" per discrimnare meglio le size delle bolle -> non ha funzionato"
   ]
  },
  {
   "cell_type": "markdown",
   "metadata": {},
   "source": [
    "- In media l'atleta x ha portato eleemnti con base value di y\n",
    "- asse x atleti, size è la media del base_value, rank medio dell'ateleta (forse?)\n",
    "- 90% percentile sulla media dei base_value"
   ]
  },
  {
   "cell_type": "code",
   "execution_count": 4,
   "metadata": {
    "scrolled": true
   },
   "outputs": [
    {
     "data": {
      "text/html": [
       "<div>\n",
       "<style scoped>\n",
       "    .dataframe tbody tr th:only-of-type {\n",
       "        vertical-align: middle;\n",
       "    }\n",
       "\n",
       "    .dataframe tbody tr th {\n",
       "        vertical-align: top;\n",
       "    }\n",
       "\n",
       "    .dataframe thead th {\n",
       "        text-align: right;\n",
       "    }\n",
       "</style>\n",
       "<table border=\"1\" class=\"dataframe\">\n",
       "  <thead>\n",
       "    <tr style=\"text-align: right;\">\n",
       "      <th></th>\n",
       "      <th>program</th>\n",
       "      <th>athlete_name</th>\n",
       "      <th>rank</th>\n",
       "      <th>aspect_id</th>\n",
       "      <th>aspect_desc</th>\n",
       "      <th>element_base_value</th>\n",
       "    </tr>\n",
       "  </thead>\n",
       "  <tbody>\n",
       "    <tr>\n",
       "      <th>2</th>\n",
       "      <td>LADIES SHORT PROGRAM</td>\n",
       "      <td>Evgenia MEDVEDEVA</td>\n",
       "      <td>1</td>\n",
       "      <td>38bda018f5</td>\n",
       "      <td>3Lo</td>\n",
       "      <td>5.61</td>\n",
       "    </tr>\n",
       "    <tr>\n",
       "      <th>3</th>\n",
       "      <td>LADIES SHORT PROGRAM</td>\n",
       "      <td>Evgenia MEDVEDEVA</td>\n",
       "      <td>1</td>\n",
       "      <td>50366b5d60</td>\n",
       "      <td>3F+3T</td>\n",
       "      <td>10.56</td>\n",
       "    </tr>\n",
       "    <tr>\n",
       "      <th>4</th>\n",
       "      <td>LADIES SHORT PROGRAM</td>\n",
       "      <td>Evgenia MEDVEDEVA</td>\n",
       "      <td>1</td>\n",
       "      <td>6e36e62b05</td>\n",
       "      <td>CCoSp4</td>\n",
       "      <td>3.50</td>\n",
       "    </tr>\n",
       "    <tr>\n",
       "      <th>5</th>\n",
       "      <td>LADIES SHORT PROGRAM</td>\n",
       "      <td>Evgenia MEDVEDEVA</td>\n",
       "      <td>1</td>\n",
       "      <td>8f7180d180</td>\n",
       "      <td>2A</td>\n",
       "      <td>3.63</td>\n",
       "    </tr>\n",
       "    <tr>\n",
       "      <th>9</th>\n",
       "      <td>LADIES SHORT PROGRAM</td>\n",
       "      <td>Evgenia MEDVEDEVA</td>\n",
       "      <td>1</td>\n",
       "      <td>c07f5eb3da</td>\n",
       "      <td>FCSp4</td>\n",
       "      <td>3.20</td>\n",
       "    </tr>\n",
       "  </tbody>\n",
       "</table>\n",
       "</div>"
      ],
      "text/plain": [
       "                program       athlete_name  rank   aspect_id aspect_desc  \\\n",
       "2  LADIES SHORT PROGRAM  Evgenia MEDVEDEVA     1  38bda018f5         3Lo   \n",
       "3  LADIES SHORT PROGRAM  Evgenia MEDVEDEVA     1  50366b5d60       3F+3T   \n",
       "4  LADIES SHORT PROGRAM  Evgenia MEDVEDEVA     1  6e36e62b05      CCoSp4   \n",
       "5  LADIES SHORT PROGRAM  Evgenia MEDVEDEVA     1  8f7180d180          2A   \n",
       "9  LADIES SHORT PROGRAM  Evgenia MEDVEDEVA     1  c07f5eb3da       FCSp4   \n",
       "\n",
       "   element_base_value  \n",
       "2                5.61  \n",
       "3               10.56  \n",
       "4                3.50  \n",
       "5                3.63  \n",
       "9                3.20  "
      ]
     },
     "execution_count": 4,
     "metadata": {},
     "output_type": "execute_result"
    }
   ],
   "source": [
    "# Creo una tabella che associa a ciascun atleta la media degli element_base_value e il suo rank medio\n",
    "# la tabella alla fine sarà così composta:\n",
    "# - athlete_name\n",
    "# - category\n",
    "# - avg_rank\n",
    "# - avg_elem_base_value\n",
    "\n",
    "# Elimino le colonne che non servono:\n",
    "athlete_base_value = df.drop(['judge_name',\n",
    "                               'judge_nation',\n",
    "                               'judge_score',\n",
    "                               'section',\n",
    "                               'total_deductions',\n",
    "                               'element_order',\n",
    "                               'aspect_final_score',\n",
    "                               'competition',\n",
    "                               'athlete_nation',\n",
    "                               'total_segment_score',\n",
    "                               'total_element_score',\n",
    "                               'total_component_score',\n",
    "                               'performance_id'], axis=1)\n",
    "# Eimino le righe di doppioni di aspect_id con i diversi voti dei giudici:\n",
    "athlete_base_value.drop_duplicates()\n",
    "athlete_base_value.head()\n"
   ]
  },
  {
   "cell_type": "code",
   "execution_count": 5,
   "metadata": {},
   "outputs": [
    {
     "data": {
      "text/html": [
       "<div>\n",
       "<style scoped>\n",
       "    .dataframe tbody tr th:only-of-type {\n",
       "        vertical-align: middle;\n",
       "    }\n",
       "\n",
       "    .dataframe tbody tr th {\n",
       "        vertical-align: top;\n",
       "    }\n",
       "\n",
       "    .dataframe thead th {\n",
       "        text-align: right;\n",
       "    }\n",
       "</style>\n",
       "<table border=\"1\" class=\"dataframe\">\n",
       "  <thead>\n",
       "    <tr style=\"text-align: right;\">\n",
       "      <th></th>\n",
       "      <th>program</th>\n",
       "      <th>athlete_name</th>\n",
       "      <th>rank</th>\n",
       "      <th>aspect_id</th>\n",
       "      <th>aspect_desc</th>\n",
       "      <th>element_base_value</th>\n",
       "      <th>category</th>\n",
       "    </tr>\n",
       "  </thead>\n",
       "  <tbody>\n",
       "    <tr>\n",
       "      <th>2</th>\n",
       "      <td>LADIES SHORT PROGRAM</td>\n",
       "      <td>Evgenia MEDVEDEVA</td>\n",
       "      <td>1</td>\n",
       "      <td>38bda018f5</td>\n",
       "      <td>3Lo</td>\n",
       "      <td>5.61</td>\n",
       "      <td>Ladies</td>\n",
       "    </tr>\n",
       "    <tr>\n",
       "      <th>3</th>\n",
       "      <td>LADIES SHORT PROGRAM</td>\n",
       "      <td>Evgenia MEDVEDEVA</td>\n",
       "      <td>1</td>\n",
       "      <td>50366b5d60</td>\n",
       "      <td>3F+3T</td>\n",
       "      <td>10.56</td>\n",
       "      <td>Ladies</td>\n",
       "    </tr>\n",
       "    <tr>\n",
       "      <th>4</th>\n",
       "      <td>LADIES SHORT PROGRAM</td>\n",
       "      <td>Evgenia MEDVEDEVA</td>\n",
       "      <td>1</td>\n",
       "      <td>6e36e62b05</td>\n",
       "      <td>CCoSp4</td>\n",
       "      <td>3.50</td>\n",
       "      <td>Ladies</td>\n",
       "    </tr>\n",
       "    <tr>\n",
       "      <th>5</th>\n",
       "      <td>LADIES SHORT PROGRAM</td>\n",
       "      <td>Evgenia MEDVEDEVA</td>\n",
       "      <td>1</td>\n",
       "      <td>8f7180d180</td>\n",
       "      <td>2A</td>\n",
       "      <td>3.63</td>\n",
       "      <td>Ladies</td>\n",
       "    </tr>\n",
       "    <tr>\n",
       "      <th>9</th>\n",
       "      <td>LADIES SHORT PROGRAM</td>\n",
       "      <td>Evgenia MEDVEDEVA</td>\n",
       "      <td>1</td>\n",
       "      <td>c07f5eb3da</td>\n",
       "      <td>FCSp4</td>\n",
       "      <td>3.20</td>\n",
       "      <td>Ladies</td>\n",
       "    </tr>\n",
       "  </tbody>\n",
       "</table>\n",
       "</div>"
      ],
      "text/plain": [
       "                program       athlete_name  rank   aspect_id aspect_desc  \\\n",
       "2  LADIES SHORT PROGRAM  Evgenia MEDVEDEVA     1  38bda018f5         3Lo   \n",
       "3  LADIES SHORT PROGRAM  Evgenia MEDVEDEVA     1  50366b5d60       3F+3T   \n",
       "4  LADIES SHORT PROGRAM  Evgenia MEDVEDEVA     1  6e36e62b05      CCoSp4   \n",
       "5  LADIES SHORT PROGRAM  Evgenia MEDVEDEVA     1  8f7180d180          2A   \n",
       "9  LADIES SHORT PROGRAM  Evgenia MEDVEDEVA     1  c07f5eb3da       FCSp4   \n",
       "\n",
       "   element_base_value category  \n",
       "2                5.61   Ladies  \n",
       "3               10.56   Ladies  \n",
       "4                3.50   Ladies  \n",
       "5                3.63   Ladies  \n",
       "9                3.20   Ladies  "
      ]
     },
     "execution_count": 5,
     "metadata": {},
     "output_type": "execute_result"
    }
   ],
   "source": [
    "# new categories\n",
    "conditions = [\n",
    "    (athlete_base_value['program'] == \"LADIES SHORT PROGRAM\") |\n",
    "    (athlete_base_value['program'] == \"JUNIOR LADIES SHORT PROGRAM\") |\n",
    "    (athlete_base_value['program'] == \"JUNIOR LADIES FREE SKATING\") |\n",
    "    (athlete_base_value['program'] == \"LADIES FREE SKATING\"),\n",
    "\n",
    "    (athlete_base_value['program'] == \"MEN SHORT PROGRAM\") |\n",
    "    (athlete_base_value['program'] == \"JUNIOR MEN SHORT PROGRAM\") |\n",
    "    (athlete_base_value['program'] == \"MEN FREE SKATING\") |\n",
    "    (athlete_base_value['program'] == \"JUNIOR MEN FREE SKATING\"),\n",
    "\n",
    "    (athlete_base_value['program'] == \"PAIRS SHORT PROGRAM\") |\n",
    "    (athlete_base_value['program'] == \"JUNIOR PAIRS SHORT PROGRAM\") |\n",
    "    (athlete_base_value['program'] == \"PAIRS FREE SKATING\") |\n",
    "    (athlete_base_value['program'] == \"JUNIOR PAIRS FREE SKATING\"),\n",
    "\n",
    "    (athlete_base_value['program'] == \"ICE DANCE SHORT DANCE\") |\n",
    "    (athlete_base_value['program'] == \"JUNIOR ICE DANCE SHORT DANCE\") |\n",
    "    (athlete_base_value['program'] == \"ICE DANCE FREE DANCE\") |\n",
    "    (athlete_base_value['program'] == \"JUNIOR ICE DANCE FREE DANCE\"),\n",
    "\n",
    "    ]\n",
    "\n",
    "# create a list of the values we want to assign for each condition\n",
    "values = ['Ladies','Men','Pairs','Ice dance']\n",
    "\n",
    "# create a new column and use np.select to assign values to it using our lists as arguments\n",
    "athlete_base_value['category'] = np.select(conditions, values)\n",
    "\n",
    "# elimino le colonne che non mi servono più\n",
    "athlete_base_value.drop(['aspect_id',\n",
    "                          'aspect_desc',\n",
    "                          'program'], axis=1)\n",
    "\n",
    "# display updated DataFrame\n",
    "athlete_base_value.head()"
   ]
  },
  {
   "cell_type": "code",
   "execution_count": 6,
   "metadata": {},
   "outputs": [
    {
     "data": {
      "text/html": [
       "<div>\n",
       "<style scoped>\n",
       "    .dataframe tbody tr th:only-of-type {\n",
       "        vertical-align: middle;\n",
       "    }\n",
       "\n",
       "    .dataframe tbody tr th {\n",
       "        vertical-align: top;\n",
       "    }\n",
       "\n",
       "    .dataframe thead th {\n",
       "        text-align: right;\n",
       "    }\n",
       "</style>\n",
       "<table border=\"1\" class=\"dataframe\">\n",
       "  <thead>\n",
       "    <tr style=\"text-align: right;\">\n",
       "      <th></th>\n",
       "      <th>athlete_name</th>\n",
       "      <th>category</th>\n",
       "      <th>avg_rank</th>\n",
       "      <th>avg_elem_base_value</th>\n",
       "    </tr>\n",
       "  </thead>\n",
       "  <tbody>\n",
       "    <tr>\n",
       "      <th>231</th>\n",
       "      <td>Nathan CHEN</td>\n",
       "      <td>Men</td>\n",
       "      <td>2.375000</td>\n",
       "      <td>7.534813</td>\n",
       "    </tr>\n",
       "    <tr>\n",
       "      <th>59</th>\n",
       "      <td>Boyang JIN</td>\n",
       "      <td>Men</td>\n",
       "      <td>3.932773</td>\n",
       "      <td>7.391765</td>\n",
       "    </tr>\n",
       "    <tr>\n",
       "      <th>300</th>\n",
       "      <td>Vincent ZHOU</td>\n",
       "      <td>Men</td>\n",
       "      <td>6.075000</td>\n",
       "      <td>7.147000</td>\n",
       "    </tr>\n",
       "    <tr>\n",
       "      <th>263</th>\n",
       "      <td>Shoma UNO</td>\n",
       "      <td>Men</td>\n",
       "      <td>1.712500</td>\n",
       "      <td>7.052313</td>\n",
       "    </tr>\n",
       "    <tr>\n",
       "      <th>315</th>\n",
       "      <td>Yuzuru HANYU</td>\n",
       "      <td>Men</td>\n",
       "      <td>1.800000</td>\n",
       "      <td>6.806167</td>\n",
       "    </tr>\n",
       "  </tbody>\n",
       "</table>\n",
       "</div>"
      ],
      "text/plain": [
       "     athlete_name category  avg_rank  avg_elem_base_value\n",
       "231   Nathan CHEN      Men  2.375000             7.534813\n",
       "59     Boyang JIN      Men  3.932773             7.391765\n",
       "300  Vincent ZHOU      Men  6.075000             7.147000\n",
       "263     Shoma UNO      Men  1.712500             7.052313\n",
       "315  Yuzuru HANYU      Men  1.800000             6.806167"
      ]
     },
     "execution_count": 6,
     "metadata": {},
     "output_type": "execute_result"
    }
   ],
   "source": [
    "# Creo una tabella che associa a ciascun atleta la media degli element_base_value e il suo rank medio\n",
    "# degli elementi che ha presentato (avg_element_base_value)\n",
    "athlete_base_value = athlete_base_value.groupby(['athlete_name','category']).mean().reset_index()\n",
    "athlete_base_value.sort_values(by='element_base_value', ascending=False,inplace=True)\n",
    "athlete_base_value.rename(columns={'element_base_value': 'avg_elem_base_value', 'rank': 'avg_rank'}, inplace=True)\n",
    "athlete_base_value.head()"
   ]
  },
  {
   "cell_type": "code",
   "execution_count": 7,
   "metadata": {
    "scrolled": false
   },
   "outputs": [],
   "source": [
    "# Ordino data secondo il rank in modo crescente:\n",
    "athlete_base_value = athlete_base_value.sort_values(by=['avg_rank'], ascending=True)\n",
    "# Create a new column with the inverse of the rank:\n",
    "athlete_base_value['avg_rank_inv'] = 1/athlete_base_value['avg_rank']"
   ]
  },
  {
   "cell_type": "code",
   "execution_count": 8,
   "metadata": {},
   "outputs": [
    {
     "data": {
      "text/html": [
       "<div>\n",
       "<style scoped>\n",
       "    .dataframe tbody tr th:only-of-type {\n",
       "        vertical-align: middle;\n",
       "    }\n",
       "\n",
       "    .dataframe tbody tr th {\n",
       "        vertical-align: top;\n",
       "    }\n",
       "\n",
       "    .dataframe thead th {\n",
       "        text-align: right;\n",
       "    }\n",
       "</style>\n",
       "<table border=\"1\" class=\"dataframe\">\n",
       "  <thead>\n",
       "    <tr style=\"text-align: right;\">\n",
       "      <th></th>\n",
       "      <th>athlete_name</th>\n",
       "      <th>category</th>\n",
       "      <th>avg_rank</th>\n",
       "      <th>avg_elem_base_value</th>\n",
       "      <th>avg_rank_inv</th>\n",
       "    </tr>\n",
       "  </thead>\n",
       "  <tbody>\n",
       "    <tr>\n",
       "      <th>103</th>\n",
       "      <td>Evgenia MEDVEDEVA</td>\n",
       "      <td>Ladies</td>\n",
       "      <td>1.000000</td>\n",
       "      <td>5.012632</td>\n",
       "      <td>1.000000</td>\n",
       "    </tr>\n",
       "    <tr>\n",
       "      <th>33</th>\n",
       "      <td>Anastasia MISHINA / Vladislav MIRZOEV</td>\n",
       "      <td>Pairs</td>\n",
       "      <td>1.000000</td>\n",
       "      <td>4.694444</td>\n",
       "      <td>1.000000</td>\n",
       "    </tr>\n",
       "    <tr>\n",
       "      <th>36</th>\n",
       "      <td>Anastasia SKOPTCOVA / Kirill ALESHIN</td>\n",
       "      <td>Ice dance</td>\n",
       "      <td>1.000000</td>\n",
       "      <td>4.875000</td>\n",
       "      <td>1.000000</td>\n",
       "    </tr>\n",
       "    <tr>\n",
       "      <th>303</th>\n",
       "      <td>Wenjing SUI / Cong HAN</td>\n",
       "      <td>Pairs</td>\n",
       "      <td>1.273684</td>\n",
       "      <td>4.952632</td>\n",
       "      <td>0.785124</td>\n",
       "    </tr>\n",
       "    <tr>\n",
       "      <th>285</th>\n",
       "      <td>Tessa VIRTUE / Scott MOIR</td>\n",
       "      <td>Ice dance</td>\n",
       "      <td>1.285714</td>\n",
       "      <td>5.276786</td>\n",
       "      <td>0.777778</td>\n",
       "    </tr>\n",
       "    <tr>\n",
       "      <th>25</th>\n",
       "      <td>Aljona SAVCHENKO / Bruno MASSOT</td>\n",
       "      <td>Pairs</td>\n",
       "      <td>1.368421</td>\n",
       "      <td>4.860526</td>\n",
       "      <td>0.730769</td>\n",
       "    </tr>\n",
       "    <tr>\n",
       "      <th>6</th>\n",
       "      <td>Alena KOSTORNAIA</td>\n",
       "      <td>Ladies</td>\n",
       "      <td>1.388889</td>\n",
       "      <td>5.287778</td>\n",
       "      <td>0.720000</td>\n",
       "    </tr>\n",
       "    <tr>\n",
       "      <th>105</th>\n",
       "      <td>Gabriella PAPADAKIS / Guillaume CIZERON</td>\n",
       "      <td>Ice dance</td>\n",
       "      <td>1.428571</td>\n",
       "      <td>5.148214</td>\n",
       "      <td>0.700000</td>\n",
       "    </tr>\n",
       "    <tr>\n",
       "      <th>16</th>\n",
       "      <td>Alexandra TRUSOVA</td>\n",
       "      <td>Ladies</td>\n",
       "      <td>1.611111</td>\n",
       "      <td>5.750000</td>\n",
       "      <td>0.620690</td>\n",
       "    </tr>\n",
       "    <tr>\n",
       "      <th>22</th>\n",
       "      <td>Aliona SAVCHENKO / Bruno MASSOT</td>\n",
       "      <td>Pairs</td>\n",
       "      <td>1.673684</td>\n",
       "      <td>4.877895</td>\n",
       "      <td>0.597484</td>\n",
       "    </tr>\n",
       "  </tbody>\n",
       "</table>\n",
       "</div>"
      ],
      "text/plain": [
       "                                athlete_name   category  avg_rank  \\\n",
       "103                        Evgenia MEDVEDEVA     Ladies  1.000000   \n",
       "33     Anastasia MISHINA / Vladislav MIRZOEV      Pairs  1.000000   \n",
       "36      Anastasia SKOPTCOVA / Kirill ALESHIN  Ice dance  1.000000   \n",
       "303                   Wenjing SUI / Cong HAN      Pairs  1.273684   \n",
       "285                Tessa VIRTUE / Scott MOIR  Ice dance  1.285714   \n",
       "25           Aljona SAVCHENKO / Bruno MASSOT      Pairs  1.368421   \n",
       "6                           Alena KOSTORNAIA     Ladies  1.388889   \n",
       "105  Gabriella PAPADAKIS / Guillaume CIZERON  Ice dance  1.428571   \n",
       "16                         Alexandra TRUSOVA     Ladies  1.611111   \n",
       "22           Aliona SAVCHENKO / Bruno MASSOT      Pairs  1.673684   \n",
       "\n",
       "     avg_elem_base_value  avg_rank_inv  \n",
       "103             5.012632      1.000000  \n",
       "33              4.694444      1.000000  \n",
       "36              4.875000      1.000000  \n",
       "303             4.952632      0.785124  \n",
       "285             5.276786      0.777778  \n",
       "25              4.860526      0.730769  \n",
       "6               5.287778      0.720000  \n",
       "105             5.148214      0.700000  \n",
       "16              5.750000      0.620690  \n",
       "22              4.877895      0.597484  "
      ]
     },
     "execution_count": 8,
     "metadata": {},
     "output_type": "execute_result"
    }
   ],
   "source": [
    "athlete_base_value.head(10)"
   ]
  },
  {
   "cell_type": "code",
   "execution_count": 9,
   "metadata": {},
   "outputs": [
    {
     "data": {
      "text/plain": [
       "3.8484285714285726"
      ]
     },
     "execution_count": 9,
     "metadata": {},
     "output_type": "execute_result"
    }
   ],
   "source": [
    "# 10° percentile di tutti i dati\n",
    "athlete_base_value.avg_elem_base_value.quantile(0.1)"
   ]
  },
  {
   "cell_type": "code",
   "execution_count": 10,
   "metadata": {},
   "outputs": [
    {
     "name": "stdout",
     "output_type": "stream",
     "text": [
      "10° percentile Ladies:  3.4560526315789493\n",
      "10° percentile Men:  4.0123999999999995\n",
      "10° percentile Pairs:  4.084121212121213\n",
      "10° percentile Ice dance:  4.327142857142862\n"
     ]
    }
   ],
   "source": [
    "# 10° percentile per categoria\n",
    "print('10° percentile Ladies: ',athlete_base_value[athlete_base_value['category'] == 'Ladies'].avg_elem_base_value.quantile(0.1))\n",
    "print('10° percentile Men: ',athlete_base_value[athlete_base_value['category'] == 'Men'].avg_elem_base_value.quantile(0.1))\n",
    "print('10° percentile Pairs: ',athlete_base_value[athlete_base_value['category'] == 'Pairs'].avg_elem_base_value.quantile(0.1))\n",
    "print('10° percentile Ice dance: ',athlete_base_value[athlete_base_value['category'] == 'Ice dance'].avg_elem_base_value.quantile(0.1))"
   ]
  },
  {
   "cell_type": "code",
   "execution_count": 11,
   "metadata": {},
   "outputs": [
    {
     "name": "stdout",
     "output_type": "stream",
     "text": [
      "90° percentile Ladies:  4.936388888888887\n",
      "90° percentile Men:  6.18972603735196\n",
      "90° percentile Pairs:  4.811045660508894\n",
      "90° percentile Ice dance:  5.083278061224488\n"
     ]
    }
   ],
   "source": [
    "# 90° percentile per categoria\n",
    "print('90° percentile Ladies: ',athlete_base_value[athlete_base_value['category'] == 'Ladies'].avg_elem_base_value.quantile(0.9))\n",
    "print('90° percentile Men: ',athlete_base_value[athlete_base_value['category'] == 'Men'].avg_elem_base_value.quantile(0.9))\n",
    "print('90° percentile Pairs: ',athlete_base_value[athlete_base_value['category'] == 'Pairs'].avg_elem_base_value.quantile(0.9))\n",
    "print('90° percentile Ice dance: ',athlete_base_value[athlete_base_value['category'] == 'Ice dance'].avg_elem_base_value.quantile(0.9))"
   ]
  },
  {
   "cell_type": "code",
   "execution_count": 12,
   "metadata": {},
   "outputs": [],
   "source": [
    "data_90th_perc_category = athlete_base_value[((athlete_base_value['category'] == 'Ladies') &\n",
    "                                              (athlete_base_value['avg_elem_base_value'] > 4.94)) |\n",
    "                                             ((athlete_base_value['category'] == 'Men') &\n",
    "                                              (athlete_base_value['avg_elem_base_value'] > 6.19)) |\n",
    "                                             ((athlete_base_value['category'] == 'Pairs') &\n",
    "                                              (athlete_base_value['avg_elem_base_value'] > 4.81)) |\n",
    "                                             ((athlete_base_value['category'] == 'Ice dance') &\n",
    "                                              (athlete_base_value['avg_elem_base_value'] > 5.08))\n",
    "                                            ]"
   ]
  },
  {
   "cell_type": "code",
   "execution_count": 13,
   "metadata": {},
   "outputs": [
    {
     "data": {
      "text/html": [
       "<div>\n",
       "<style scoped>\n",
       "    .dataframe tbody tr th:only-of-type {\n",
       "        vertical-align: middle;\n",
       "    }\n",
       "\n",
       "    .dataframe tbody tr th {\n",
       "        vertical-align: top;\n",
       "    }\n",
       "\n",
       "    .dataframe thead th {\n",
       "        text-align: right;\n",
       "    }\n",
       "</style>\n",
       "<table border=\"1\" class=\"dataframe\">\n",
       "  <thead>\n",
       "    <tr style=\"text-align: right;\">\n",
       "      <th></th>\n",
       "      <th>athlete_name</th>\n",
       "      <th>category</th>\n",
       "      <th>avg_rank</th>\n",
       "      <th>avg_elem_base_value</th>\n",
       "      <th>avg_rank_inv</th>\n",
       "    </tr>\n",
       "  </thead>\n",
       "  <tbody>\n",
       "    <tr>\n",
       "      <th>103</th>\n",
       "      <td>Evgenia MEDVEDEVA</td>\n",
       "      <td>Ladies</td>\n",
       "      <td>1.000000</td>\n",
       "      <td>5.012632</td>\n",
       "      <td>1.000000</td>\n",
       "    </tr>\n",
       "    <tr>\n",
       "      <th>303</th>\n",
       "      <td>Wenjing SUI / Cong HAN</td>\n",
       "      <td>Pairs</td>\n",
       "      <td>1.273684</td>\n",
       "      <td>4.952632</td>\n",
       "      <td>0.785124</td>\n",
       "    </tr>\n",
       "    <tr>\n",
       "      <th>285</th>\n",
       "      <td>Tessa VIRTUE / Scott MOIR</td>\n",
       "      <td>Ice dance</td>\n",
       "      <td>1.285714</td>\n",
       "      <td>5.276786</td>\n",
       "      <td>0.777778</td>\n",
       "    </tr>\n",
       "    <tr>\n",
       "      <th>25</th>\n",
       "      <td>Aljona SAVCHENKO / Bruno MASSOT</td>\n",
       "      <td>Pairs</td>\n",
       "      <td>1.368421</td>\n",
       "      <td>4.860526</td>\n",
       "      <td>0.730769</td>\n",
       "    </tr>\n",
       "    <tr>\n",
       "      <th>6</th>\n",
       "      <td>Alena KOSTORNAIA</td>\n",
       "      <td>Ladies</td>\n",
       "      <td>1.388889</td>\n",
       "      <td>5.287778</td>\n",
       "      <td>0.720000</td>\n",
       "    </tr>\n",
       "  </tbody>\n",
       "</table>\n",
       "</div>"
      ],
      "text/plain": [
       "                        athlete_name   category  avg_rank  \\\n",
       "103                Evgenia MEDVEDEVA     Ladies  1.000000   \n",
       "303           Wenjing SUI / Cong HAN      Pairs  1.273684   \n",
       "285        Tessa VIRTUE / Scott MOIR  Ice dance  1.285714   \n",
       "25   Aljona SAVCHENKO / Bruno MASSOT      Pairs  1.368421   \n",
       "6                   Alena KOSTORNAIA     Ladies  1.388889   \n",
       "\n",
       "     avg_elem_base_value  avg_rank_inv  \n",
       "103             5.012632      1.000000  \n",
       "303             4.952632      0.785124  \n",
       "285             5.276786      0.777778  \n",
       "25              4.860526      0.730769  \n",
       "6               5.287778      0.720000  "
      ]
     },
     "execution_count": 13,
     "metadata": {},
     "output_type": "execute_result"
    }
   ],
   "source": [
    "data_90th_perc_category.head()"
   ]
  },
  {
   "cell_type": "code",
   "execution_count": 14,
   "metadata": {
    "scrolled": true
   },
   "outputs": [
    {
     "name": "stdout",
     "output_type": "stream",
     "text": [
      "shape tabella completa:  (319, 5)\n",
      "shape 90° perc per categoria:  (33, 5)\n"
     ]
    }
   ],
   "source": [
    "print('shape tabella completa: ',athlete_base_value.shape)\n",
    "print('shape 90° perc per categoria: ',data_90th_perc_category.shape)"
   ]
  },
  {
   "cell_type": "code",
   "execution_count": 15,
   "metadata": {
    "scrolled": true
   },
   "outputs": [
    {
     "data": {
      "application/vnd.plotly.v1+json": {
       "config": {
        "plotlyServerURL": "https://plot.ly"
       },
       "data": [
        {
         "customdata": [
          [
           1,
           1
          ],
          [
           0.72,
           1.3888888888888888
          ],
          [
           0.6206896551724138,
           1.6111111111111112
          ],
          [
           0.5725190839694657,
           1.7466666666666666
          ],
          [
           0.3333333333333333,
           3
          ],
          [
           0.296875,
           3.3684210526315788
          ],
          [
           0.2550335570469799,
           3.9210526315789473
          ],
          [
           0.2,
           5
          ],
          [
           0.16666666666666666,
           6
          ]
         ],
         "hovertemplate": "Category=Ladies<br>avg_elem_base_value=%{x}<br>athlete_name=%{y}<br>Average rank=%{customdata[1]}<extra></extra>",
         "legendgroup": "Ladies",
         "marker": {
          "color": "#636efa",
          "line": {
           "color": "DarkSlateGrey",
           "width": 0.5
          },
          "size": [
           1,
           0.72,
           0.6206896551724138,
           0.5725190839694657,
           0.3333333333333333,
           0.296875,
           0.2550335570469799,
           0.2,
           0.16666666666666666
          ],
          "sizemode": "area",
          "sizeref": 0.0002777777777777778,
          "symbol": "star"
         },
         "mode": "markers",
         "name": "Ladies",
         "orientation": "h",
         "showlegend": true,
         "type": "scatter",
         "x": [
          5.012631578947345,
          5.287777777777776,
          5.750000000000005,
          5.247466666666659,
          5.265555555555559,
          4.997894736842103,
          4.968947368421051,
          5.313888888888889,
          5.144444444444447
         ],
         "xaxis": "x",
         "y": [
          "Evgenia MEDVEDEVA",
          "Alena KOSTORNAIA",
          "Alexandra TRUSOVA",
          "Alina ZAGITOVA",
          "Anastasia TARAKANOVA",
          "Bradie TENNELL",
          "Polina TSURSKAYA",
          "Daria PANENKOVA",
          "Sofia SAMODUROVA"
         ],
         "yaxis": "y"
        },
        {
         "customdata": [
          [
           0.5839416058394161,
           1.7125
          ],
          [
           0.5555555555555556,
           1.8
          ],
          [
           0.42105263157894735,
           2.375
          ],
          [
           0.3921568627450981,
           2.55
          ],
          [
           0.2542735042735043,
           3.9327731092436973
          ],
          [
           0.23795180722891565,
           4.2025316455696204
          ],
          [
           0.228995057660626,
           4.366906474820144
          ],
          [
           0.21978021978021978,
           4.55
          ],
          [
           0.1646090534979424,
           6.075
          ],
          [
           0.12288786482334871,
           8.1375
          ]
         ],
         "hovertemplate": "Category=Men<br>avg_elem_base_value=%{x}<br>athlete_name=%{y}<br>Average rank=%{customdata[1]}<extra></extra>",
         "legendgroup": "Men",
         "marker": {
          "color": "#EF553B",
          "line": {
           "color": "DarkSlateGrey",
           "width": 0.5
          },
          "size": [
           0.5839416058394161,
           0.5555555555555556,
           0.42105263157894735,
           0.3921568627450981,
           0.2542735042735043,
           0.23795180722891565,
           0.228995057660626,
           0.21978021978021978,
           0.1646090534979424,
           0.12288786482334871
          ],
          "sizemode": "area",
          "sizeref": 0.0002777777777777778,
          "symbol": "star"
         },
         "mode": "markers",
         "name": "Men",
         "orientation": "h",
         "showlegend": true,
         "type": "scatter",
         "x": [
          7.052312500000015,
          6.806166666666684,
          7.534812500000019,
          6.562142857142884,
          7.391764705882364,
          6.342911392405083,
          6.1965467625899455,
          6.268625000000004,
          7.147000000000012,
          6.31475
         ],
         "xaxis": "x",
         "y": [
          "Shoma UNO",
          "Yuzuru HANYU",
          "Nathan CHEN",
          "Javier FERNANDEZ",
          "Boyang JIN",
          "Alexander SAMARIN",
          "Mikhail KOLYADA",
          "Max AARON",
          "Vincent ZHOU",
          "Moris KVITELASHVILI"
         ],
         "yaxis": "y"
        },
        {
         "customdata": [
          [
           0.7851239669421488,
           1.2736842105263158
          ],
          [
           0.7307692307692307,
           1.368421052631579
          ],
          [
           0.5974842767295597,
           1.6736842105263159
          ],
          [
           0.37254901960784315,
           2.6842105263157894
          ],
          [
           0.2671035386631717,
           3.7438665358194307
          ],
          [
           0.25885558583106266,
           3.863157894736842
          ]
         ],
         "hovertemplate": "Category=Pairs<br>avg_elem_base_value=%{x}<br>athlete_name=%{y}<br>Average rank=%{customdata[1]}<extra></extra>",
         "legendgroup": "Pairs",
         "marker": {
          "color": "#00cc96",
          "line": {
           "color": "DarkSlateGrey",
           "width": 0.5
          },
          "size": [
           0.7851239669421488,
           0.7307692307692307,
           0.5974842767295597,
           0.37254901960784315,
           0.2671035386631717,
           0.25885558583106266
          ],
          "sizemode": "area",
          "sizeref": 0.0002777777777777778,
          "symbol": "star"
         },
         "mode": "markers",
         "name": "Pairs",
         "orientation": "h",
         "showlegend": true,
         "type": "scatter",
         "x": [
          4.952631578947372,
          4.860526315789474,
          4.877894736842115,
          5.14210526315788,
          4.889106967615307,
          4.9200000000000195
         ],
         "xaxis": "x",
         "y": [
          "Wenjing SUI / Cong HAN",
          "Aljona SAVCHENKO / Bruno MASSOT",
          "Aliona SAVCHENKO / Bruno MASSOT",
          "Meagan DUHAMEL / Eric RADFORD",
          "Vanessa JAMES / Morgan CIPRES",
          "Ksenia STOLBOVA / Fedor KLIMOV"
         ],
         "yaxis": "y"
        },
        {
         "customdata": [
          [
           0.7777777777777777,
           1.2857142857142858
          ],
          [
           0.7,
           1.4285714285714286
          ],
          [
           0.4375,
           2.2857142857142856
          ],
          [
           0.2575406032482599,
           3.8828828828828827
          ],
          [
           0.24528301886792456,
           4.076923076923077
          ],
          [
           0.19387755102040816,
           5.157894736842105
          ],
          [
           0.16666666666666666,
           6
          ],
          [
           0.11551155115511552,
           8.657142857142857
          ]
         ],
         "hovertemplate": "Category=Ice dance<br>avg_elem_base_value=%{x}<br>athlete_name=%{y}<br>Average rank=%{customdata[1]}<extra></extra>",
         "legendgroup": "Ice dance",
         "marker": {
          "color": "#ab63fa",
          "line": {
           "color": "DarkSlateGrey",
           "width": 0.5
          },
          "size": [
           0.7777777777777777,
           0.7,
           0.4375,
           0.2575406032482599,
           0.24528301886792456,
           0.19387755102040816,
           0.16666666666666666,
           0.11551155115511552
          ],
          "sizemode": "area",
          "sizeref": 0.0002777777777777778,
          "symbol": "star"
         },
         "mode": "markers",
         "name": "Ice dance",
         "orientation": "h",
         "showlegend": true,
         "type": "scatter",
         "x": [
          5.276785714285723,
          5.148214285714291,
          5.08660714285715,
          5.108108108108115,
          5.08846153846154,
          5.118421052631562,
          5.507692307692312,
          5.10428571428568
         ],
         "xaxis": "x",
         "y": [
          "Tessa VIRTUE / Scott MOIR",
          "Gabriella PAPADAKIS / Guillaume CIZERON",
          "Maia SHIBUTANI / Alex SHIBUTANI",
          "Madison HUBBELL / Zachary DONOHUE",
          "Lorraine MCNAMARA / Quinn CARPENTER",
          "Alla LOBODA / Pavel DROZD",
          "Betina POPOVA / Sergey MOZGOV",
          "Marie-Jade LAURIAULT / Romain LE GAC"
         ],
         "yaxis": "y"
        }
       ],
       "layout": {
        "height": 1000,
        "legend": {
         "itemsizing": "constant",
         "title": {
          "text": "Category"
         },
         "tracegroupgap": 0
        },
        "template": {
         "data": {
          "bar": [
           {
            "error_x": {
             "color": "#2a3f5f"
            },
            "error_y": {
             "color": "#2a3f5f"
            },
            "marker": {
             "line": {
              "color": "#E5ECF6",
              "width": 0.5
             },
             "pattern": {
              "fillmode": "overlay",
              "size": 10,
              "solidity": 0.2
             }
            },
            "type": "bar"
           }
          ],
          "barpolar": [
           {
            "marker": {
             "line": {
              "color": "#E5ECF6",
              "width": 0.5
             },
             "pattern": {
              "fillmode": "overlay",
              "size": 10,
              "solidity": 0.2
             }
            },
            "type": "barpolar"
           }
          ],
          "carpet": [
           {
            "aaxis": {
             "endlinecolor": "#2a3f5f",
             "gridcolor": "white",
             "linecolor": "white",
             "minorgridcolor": "white",
             "startlinecolor": "#2a3f5f"
            },
            "baxis": {
             "endlinecolor": "#2a3f5f",
             "gridcolor": "white",
             "linecolor": "white",
             "minorgridcolor": "white",
             "startlinecolor": "#2a3f5f"
            },
            "type": "carpet"
           }
          ],
          "choropleth": [
           {
            "colorbar": {
             "outlinewidth": 0,
             "ticks": ""
            },
            "type": "choropleth"
           }
          ],
          "contour": [
           {
            "colorbar": {
             "outlinewidth": 0,
             "ticks": ""
            },
            "colorscale": [
             [
              0,
              "#0d0887"
             ],
             [
              0.1111111111111111,
              "#46039f"
             ],
             [
              0.2222222222222222,
              "#7201a8"
             ],
             [
              0.3333333333333333,
              "#9c179e"
             ],
             [
              0.4444444444444444,
              "#bd3786"
             ],
             [
              0.5555555555555556,
              "#d8576b"
             ],
             [
              0.6666666666666666,
              "#ed7953"
             ],
             [
              0.7777777777777778,
              "#fb9f3a"
             ],
             [
              0.8888888888888888,
              "#fdca26"
             ],
             [
              1,
              "#f0f921"
             ]
            ],
            "type": "contour"
           }
          ],
          "contourcarpet": [
           {
            "colorbar": {
             "outlinewidth": 0,
             "ticks": ""
            },
            "type": "contourcarpet"
           }
          ],
          "heatmap": [
           {
            "colorbar": {
             "outlinewidth": 0,
             "ticks": ""
            },
            "colorscale": [
             [
              0,
              "#0d0887"
             ],
             [
              0.1111111111111111,
              "#46039f"
             ],
             [
              0.2222222222222222,
              "#7201a8"
             ],
             [
              0.3333333333333333,
              "#9c179e"
             ],
             [
              0.4444444444444444,
              "#bd3786"
             ],
             [
              0.5555555555555556,
              "#d8576b"
             ],
             [
              0.6666666666666666,
              "#ed7953"
             ],
             [
              0.7777777777777778,
              "#fb9f3a"
             ],
             [
              0.8888888888888888,
              "#fdca26"
             ],
             [
              1,
              "#f0f921"
             ]
            ],
            "type": "heatmap"
           }
          ],
          "heatmapgl": [
           {
            "colorbar": {
             "outlinewidth": 0,
             "ticks": ""
            },
            "colorscale": [
             [
              0,
              "#0d0887"
             ],
             [
              0.1111111111111111,
              "#46039f"
             ],
             [
              0.2222222222222222,
              "#7201a8"
             ],
             [
              0.3333333333333333,
              "#9c179e"
             ],
             [
              0.4444444444444444,
              "#bd3786"
             ],
             [
              0.5555555555555556,
              "#d8576b"
             ],
             [
              0.6666666666666666,
              "#ed7953"
             ],
             [
              0.7777777777777778,
              "#fb9f3a"
             ],
             [
              0.8888888888888888,
              "#fdca26"
             ],
             [
              1,
              "#f0f921"
             ]
            ],
            "type": "heatmapgl"
           }
          ],
          "histogram": [
           {
            "marker": {
             "pattern": {
              "fillmode": "overlay",
              "size": 10,
              "solidity": 0.2
             }
            },
            "type": "histogram"
           }
          ],
          "histogram2d": [
           {
            "colorbar": {
             "outlinewidth": 0,
             "ticks": ""
            },
            "colorscale": [
             [
              0,
              "#0d0887"
             ],
             [
              0.1111111111111111,
              "#46039f"
             ],
             [
              0.2222222222222222,
              "#7201a8"
             ],
             [
              0.3333333333333333,
              "#9c179e"
             ],
             [
              0.4444444444444444,
              "#bd3786"
             ],
             [
              0.5555555555555556,
              "#d8576b"
             ],
             [
              0.6666666666666666,
              "#ed7953"
             ],
             [
              0.7777777777777778,
              "#fb9f3a"
             ],
             [
              0.8888888888888888,
              "#fdca26"
             ],
             [
              1,
              "#f0f921"
             ]
            ],
            "type": "histogram2d"
           }
          ],
          "histogram2dcontour": [
           {
            "colorbar": {
             "outlinewidth": 0,
             "ticks": ""
            },
            "colorscale": [
             [
              0,
              "#0d0887"
             ],
             [
              0.1111111111111111,
              "#46039f"
             ],
             [
              0.2222222222222222,
              "#7201a8"
             ],
             [
              0.3333333333333333,
              "#9c179e"
             ],
             [
              0.4444444444444444,
              "#bd3786"
             ],
             [
              0.5555555555555556,
              "#d8576b"
             ],
             [
              0.6666666666666666,
              "#ed7953"
             ],
             [
              0.7777777777777778,
              "#fb9f3a"
             ],
             [
              0.8888888888888888,
              "#fdca26"
             ],
             [
              1,
              "#f0f921"
             ]
            ],
            "type": "histogram2dcontour"
           }
          ],
          "mesh3d": [
           {
            "colorbar": {
             "outlinewidth": 0,
             "ticks": ""
            },
            "type": "mesh3d"
           }
          ],
          "parcoords": [
           {
            "line": {
             "colorbar": {
              "outlinewidth": 0,
              "ticks": ""
             }
            },
            "type": "parcoords"
           }
          ],
          "pie": [
           {
            "automargin": true,
            "type": "pie"
           }
          ],
          "scatter": [
           {
            "fillpattern": {
             "fillmode": "overlay",
             "size": 10,
             "solidity": 0.2
            },
            "type": "scatter"
           }
          ],
          "scatter3d": [
           {
            "line": {
             "colorbar": {
              "outlinewidth": 0,
              "ticks": ""
             }
            },
            "marker": {
             "colorbar": {
              "outlinewidth": 0,
              "ticks": ""
             }
            },
            "type": "scatter3d"
           }
          ],
          "scattercarpet": [
           {
            "marker": {
             "colorbar": {
              "outlinewidth": 0,
              "ticks": ""
             }
            },
            "type": "scattercarpet"
           }
          ],
          "scattergeo": [
           {
            "marker": {
             "colorbar": {
              "outlinewidth": 0,
              "ticks": ""
             }
            },
            "type": "scattergeo"
           }
          ],
          "scattergl": [
           {
            "marker": {
             "colorbar": {
              "outlinewidth": 0,
              "ticks": ""
             }
            },
            "type": "scattergl"
           }
          ],
          "scattermapbox": [
           {
            "marker": {
             "colorbar": {
              "outlinewidth": 0,
              "ticks": ""
             }
            },
            "type": "scattermapbox"
           }
          ],
          "scatterpolar": [
           {
            "marker": {
             "colorbar": {
              "outlinewidth": 0,
              "ticks": ""
             }
            },
            "type": "scatterpolar"
           }
          ],
          "scatterpolargl": [
           {
            "marker": {
             "colorbar": {
              "outlinewidth": 0,
              "ticks": ""
             }
            },
            "type": "scatterpolargl"
           }
          ],
          "scatterternary": [
           {
            "marker": {
             "colorbar": {
              "outlinewidth": 0,
              "ticks": ""
             }
            },
            "type": "scatterternary"
           }
          ],
          "surface": [
           {
            "colorbar": {
             "outlinewidth": 0,
             "ticks": ""
            },
            "colorscale": [
             [
              0,
              "#0d0887"
             ],
             [
              0.1111111111111111,
              "#46039f"
             ],
             [
              0.2222222222222222,
              "#7201a8"
             ],
             [
              0.3333333333333333,
              "#9c179e"
             ],
             [
              0.4444444444444444,
              "#bd3786"
             ],
             [
              0.5555555555555556,
              "#d8576b"
             ],
             [
              0.6666666666666666,
              "#ed7953"
             ],
             [
              0.7777777777777778,
              "#fb9f3a"
             ],
             [
              0.8888888888888888,
              "#fdca26"
             ],
             [
              1,
              "#f0f921"
             ]
            ],
            "type": "surface"
           }
          ],
          "table": [
           {
            "cells": {
             "fill": {
              "color": "#EBF0F8"
             },
             "line": {
              "color": "white"
             }
            },
            "header": {
             "fill": {
              "color": "#C8D4E3"
             },
             "line": {
              "color": "white"
             }
            },
            "type": "table"
           }
          ]
         },
         "layout": {
          "annotationdefaults": {
           "arrowcolor": "#2a3f5f",
           "arrowhead": 0,
           "arrowwidth": 1
          },
          "autotypenumbers": "strict",
          "coloraxis": {
           "colorbar": {
            "outlinewidth": 0,
            "ticks": ""
           }
          },
          "colorscale": {
           "diverging": [
            [
             0,
             "#8e0152"
            ],
            [
             0.1,
             "#c51b7d"
            ],
            [
             0.2,
             "#de77ae"
            ],
            [
             0.3,
             "#f1b6da"
            ],
            [
             0.4,
             "#fde0ef"
            ],
            [
             0.5,
             "#f7f7f7"
            ],
            [
             0.6,
             "#e6f5d0"
            ],
            [
             0.7,
             "#b8e186"
            ],
            [
             0.8,
             "#7fbc41"
            ],
            [
             0.9,
             "#4d9221"
            ],
            [
             1,
             "#276419"
            ]
           ],
           "sequential": [
            [
             0,
             "#0d0887"
            ],
            [
             0.1111111111111111,
             "#46039f"
            ],
            [
             0.2222222222222222,
             "#7201a8"
            ],
            [
             0.3333333333333333,
             "#9c179e"
            ],
            [
             0.4444444444444444,
             "#bd3786"
            ],
            [
             0.5555555555555556,
             "#d8576b"
            ],
            [
             0.6666666666666666,
             "#ed7953"
            ],
            [
             0.7777777777777778,
             "#fb9f3a"
            ],
            [
             0.8888888888888888,
             "#fdca26"
            ],
            [
             1,
             "#f0f921"
            ]
           ],
           "sequentialminus": [
            [
             0,
             "#0d0887"
            ],
            [
             0.1111111111111111,
             "#46039f"
            ],
            [
             0.2222222222222222,
             "#7201a8"
            ],
            [
             0.3333333333333333,
             "#9c179e"
            ],
            [
             0.4444444444444444,
             "#bd3786"
            ],
            [
             0.5555555555555556,
             "#d8576b"
            ],
            [
             0.6666666666666666,
             "#ed7953"
            ],
            [
             0.7777777777777778,
             "#fb9f3a"
            ],
            [
             0.8888888888888888,
             "#fdca26"
            ],
            [
             1,
             "#f0f921"
            ]
           ]
          },
          "colorway": [
           "#636efa",
           "#EF553B",
           "#00cc96",
           "#ab63fa",
           "#FFA15A",
           "#19d3f3",
           "#FF6692",
           "#B6E880",
           "#FF97FF",
           "#FECB52"
          ],
          "font": {
           "color": "#2a3f5f"
          },
          "geo": {
           "bgcolor": "white",
           "lakecolor": "white",
           "landcolor": "#E5ECF6",
           "showlakes": true,
           "showland": true,
           "subunitcolor": "white"
          },
          "hoverlabel": {
           "align": "left"
          },
          "hovermode": "closest",
          "mapbox": {
           "style": "light"
          },
          "paper_bgcolor": "white",
          "plot_bgcolor": "#E5ECF6",
          "polar": {
           "angularaxis": {
            "gridcolor": "white",
            "linecolor": "white",
            "ticks": ""
           },
           "bgcolor": "#E5ECF6",
           "radialaxis": {
            "gridcolor": "white",
            "linecolor": "white",
            "ticks": ""
           }
          },
          "scene": {
           "xaxis": {
            "backgroundcolor": "#E5ECF6",
            "gridcolor": "white",
            "gridwidth": 2,
            "linecolor": "white",
            "showbackground": true,
            "ticks": "",
            "zerolinecolor": "white"
           },
           "yaxis": {
            "backgroundcolor": "#E5ECF6",
            "gridcolor": "white",
            "gridwidth": 2,
            "linecolor": "white",
            "showbackground": true,
            "ticks": "",
            "zerolinecolor": "white"
           },
           "zaxis": {
            "backgroundcolor": "#E5ECF6",
            "gridcolor": "white",
            "gridwidth": 2,
            "linecolor": "white",
            "showbackground": true,
            "ticks": "",
            "zerolinecolor": "white"
           }
          },
          "shapedefaults": {
           "line": {
            "color": "#2a3f5f"
           }
          },
          "ternary": {
           "aaxis": {
            "gridcolor": "white",
            "linecolor": "white",
            "ticks": ""
           },
           "baxis": {
            "gridcolor": "white",
            "linecolor": "white",
            "ticks": ""
           },
           "bgcolor": "#E5ECF6",
           "caxis": {
            "gridcolor": "white",
            "linecolor": "white",
            "ticks": ""
           }
          },
          "title": {
           "x": 0.05
          },
          "xaxis": {
           "automargin": true,
           "gridcolor": "white",
           "linecolor": "white",
           "ticks": "",
           "title": {
            "standoff": 15
           },
           "zerolinecolor": "white",
           "zerolinewidth": 2
          },
          "yaxis": {
           "automargin": true,
           "gridcolor": "white",
           "linecolor": "white",
           "ticks": "",
           "title": {
            "standoff": 15
           },
           "zerolinecolor": "white",
           "zerolinewidth": 2
          }
         }
        },
        "title": {
         "text": "Base values of the elements for each aspect"
        },
        "xaxis": {
         "anchor": "y",
         "domain": [
          0,
          1
         ],
         "title": {
          "text": "avg_elem_base_value"
         }
        },
        "yaxis": {
         "anchor": "x",
         "domain": [
          0,
          1
         ],
         "title": {
          "text": "athlete_name"
         }
        }
       }
      }
     },
     "metadata": {},
     "output_type": "display_data"
    }
   ],
   "source": [
    "# grafico con solo il 90° percentile per categoria\n",
    "bubble = px.scatter(\n",
    "    data_90th_perc_category, y=\"athlete_name\", x=\"avg_elem_base_value\",\n",
    "    color=\"category\", size=\"avg_rank_inv\", \n",
    "    title='Base values of the elements for each aspect',\n",
    "    log_x=False, size_max=60,\n",
    "    labels={\"category\": \"Category\",\"avg_rank\": \"Average rank\"},\n",
    "    hover_data={\"avg_rank_inv\":False, \"avg_rank\": True},\n",
    "    category_orders={\"category\": ['Ladies','Men','Pairs','Ice dance']},\n",
    "    )\n",
    "bubble.update_traces(\n",
    "    marker=dict(symbol=\"star\", line=dict(width=0.5, color='DarkSlateGrey')),\n",
    "    selector=dict(mode=\"markers\")\n",
    "    )\n",
    "bubble.update_layout(height=1000)\n",
    "bubble.show()"
   ]
  },
  {
   "cell_type": "code",
   "execution_count": 16,
   "metadata": {},
   "outputs": [
    {
     "data": {
      "application/vnd.plotly.v1+json": {
       "config": {
        "plotlyServerURL": "https://plot.ly"
       },
       "data": [
        {
         "customdata": [
          [
           1,
           1
          ],
          [
           0.72,
           1.3888888888888888
          ],
          [
           0.6206896551724138,
           1.6111111111111112
          ],
          [
           0.5725190839694657,
           1.7466666666666666
          ],
          [
           0.4186046511627907,
           2.388888888888889
          ],
          [
           0.37254901960784315,
           2.6842105263157894
          ],
          [
           0.3333333333333333,
           3
          ],
          [
           0.3138888888888889,
           3.185840707964602
          ],
          [
           0.30434782608695654,
           3.2857142857142856
          ],
          [
           0.296875,
           3.3684210526315788
          ],
          [
           0.2946708463949843,
           3.393617021276596
          ],
          [
           0.290519877675841,
           3.442105263157895
          ],
          [
           0.2571428571428572,
           3.888888888888889
          ],
          [
           0.2558922558922559,
           3.9078947368421053
          ],
          [
           0.2550335570469799,
           3.9210526315789473
          ],
          [
           0.24255319148936172,
           4.12280701754386
          ],
          [
           0.24042553191489363,
           4.15929203539823
          ],
          [
           0.23347107438016526,
           4.283185840707965
          ],
          [
           0.2168674698795181,
           4.611111111111111
          ],
          [
           0.2,
           5
          ],
          [
           0.18686868686868685,
           5.351351351351352
          ],
          [
           0.18656716417910446,
           5.36
          ],
          [
           0.1812227074235808,
           5.518072289156627
          ],
          [
           0.1793478260869565,
           5.575757575757576
          ],
          [
           0.17272727272727273,
           5.7894736842105265
          ],
          [
           0.16666666666666666,
           6
          ],
          [
           0.16170212765957448,
           6.184210526315789
          ],
          [
           0.16170212765957448,
           6.184210526315789
          ],
          [
           0.15859030837004406,
           6.305555555555555
          ],
          [
           0.15625,
           6.4
          ],
          [
           0.15510204081632653,
           6.447368421052632
          ],
          [
           0.15384615384615385,
           6.5
          ],
          [
           0.14834437086092714,
           6.741071428571429
          ],
          [
           0.14303797468354432,
           6.991150442477876
          ],
          [
           0.13803230543318648,
           7.24468085106383
          ],
          [
           0.1342756183745583,
           7.447368421052632
          ],
          [
           0.13103448275862067,
           7.631578947368421
          ],
          [
           0.1292517006802721,
           7.7368421052631575
          ],
          [
           0.125,
           8
          ],
          [
           0.12403100775193798,
           8.0625
          ],
          [
           0.11597151576805696,
           8.62280701754386
          ],
          [
           0.109717868338558,
           9.114285714285714
          ],
          [
           0.10952380952380952,
           9.130434782608695
          ],
          [
           0.1072234762979684,
           9.326315789473684
          ],
          [
           0.10497237569060773,
           9.526315789473685
          ],
          [
           0.10382513661202186,
           9.631578947368421
          ],
          [
           0.10124333925399645,
           9.87719298245614
          ],
          [
           0.1,
           10
          ],
          [
           0.1,
           10
          ],
          [
           0.09912280701754385,
           10.08849557522124
          ],
          [
           0.09420289855072464,
           10.615384615384615
          ],
          [
           0.09178743961352656,
           10.894736842105264
          ],
          [
           0.09112709832134293,
           10.973684210526315
          ],
          [
           0.0861244019138756,
           11.61111111111111
          ],
          [
           0.08482142857142858,
           11.789473684210526
          ],
          [
           0.08333333333333333,
           12
          ],
          [
           0.08214676889375684,
           12.173333333333334
          ],
          [
           0.0805084745762712,
           12.421052631578947
          ],
          [
           0.07922912205567452,
           12.621621621621621
          ],
          [
           0.07664670658682635,
           13.046875
          ],
          [
           0.07562349155269509,
           13.22340425531915
          ],
          [
           0.07364341085271317,
           13.578947368421053
          ],
          [
           0.06785714285714285,
           14.736842105263158
          ],
          [
           0.06578947368421052,
           15.2
          ],
          [
           0.06479113384484228,
           15.43421052631579
          ],
          [
           0.06426155580608793,
           15.56140350877193
          ],
          [
           0.05555555555555555,
           18
          ],
          [
           0.054441260744985676,
           18.36842105263158
          ],
          [
           0.05405405405405406,
           18.5
          ],
          [
           0.05357142857142857,
           18.666666666666668
          ],
          [
           0.04909560723514212,
           20.36842105263158
          ],
          [
           0.04785894206549118,
           20.894736842105264
          ],
          [
           0.04727272727272727,
           21.153846153846153
          ],
          [
           0.04570383912248629,
           21.88
          ],
          [
           0.044520547945205484,
           22.46153846153846
          ],
          [
           0.043478260869565216,
           23
          ],
          [
           0.04220779220779221,
           23.692307692307693
          ],
          [
           0.041666666666666664,
           24
          ],
          [
           0.04113924050632912,
           24.307692307692307
          ],
          [
           0.04,
           25
          ],
          [
           0.03851851851851852,
           25.96153846153846
          ],
          [
           0.03571428571428571,
           28
          ],
          [
           0.034482758620689655,
           29
          ],
          [
           0.03333333333333333,
           30
          ],
          [
           0.03333333333333333,
           30
          ],
          [
           0.03333333333333333,
           30
          ],
          [
           0.03225806451612903,
           31
          ],
          [
           0.03225806451612903,
           31
          ],
          [
           0.03125,
           32
          ],
          [
           0.030303030303030304,
           33
          ],
          [
           0.029411764705882353,
           34
          ]
         ],
         "hovertemplate": "Category=Ladies<br>avg_elem_base_value=%{x}<br>athlete_name=%{y}<br>Average rank=%{customdata[1]}<extra></extra>",
         "legendgroup": "Ladies",
         "marker": {
          "color": "#636efa",
          "line": {
           "color": "DarkSlateGrey",
           "width": 0.5
          },
          "size": [
           1,
           0.72,
           0.6206896551724138,
           0.5725190839694657,
           0.4186046511627907,
           0.37254901960784315,
           0.3333333333333333,
           0.3138888888888889,
           0.30434782608695654,
           0.296875,
           0.2946708463949843,
           0.290519877675841,
           0.2571428571428572,
           0.2558922558922559,
           0.2550335570469799,
           0.24255319148936172,
           0.24042553191489363,
           0.23347107438016526,
           0.2168674698795181,
           0.2,
           0.18686868686868685,
           0.18656716417910446,
           0.1812227074235808,
           0.1793478260869565,
           0.17272727272727273,
           0.16666666666666666,
           0.16170212765957448,
           0.16170212765957448,
           0.15859030837004406,
           0.15625,
           0.15510204081632653,
           0.15384615384615385,
           0.14834437086092714,
           0.14303797468354432,
           0.13803230543318648,
           0.1342756183745583,
           0.13103448275862067,
           0.1292517006802721,
           0.125,
           0.12403100775193798,
           0.11597151576805696,
           0.109717868338558,
           0.10952380952380952,
           0.1072234762979684,
           0.10497237569060773,
           0.10382513661202186,
           0.10124333925399645,
           0.1,
           0.1,
           0.09912280701754385,
           0.09420289855072464,
           0.09178743961352656,
           0.09112709832134293,
           0.0861244019138756,
           0.08482142857142858,
           0.08333333333333333,
           0.08214676889375684,
           0.0805084745762712,
           0.07922912205567452,
           0.07664670658682635,
           0.07562349155269509,
           0.07364341085271317,
           0.06785714285714285,
           0.06578947368421052,
           0.06479113384484228,
           0.06426155580608793,
           0.05555555555555555,
           0.054441260744985676,
           0.05405405405405406,
           0.05357142857142857,
           0.04909560723514212,
           0.04785894206549118,
           0.04727272727272727,
           0.04570383912248629,
           0.044520547945205484,
           0.043478260869565216,
           0.04220779220779221,
           0.041666666666666664,
           0.04113924050632912,
           0.04,
           0.03851851851851852,
           0.03571428571428571,
           0.034482758620689655,
           0.03333333333333333,
           0.03333333333333333,
           0.03333333333333333,
           0.03225806451612903,
           0.03225806451612903,
           0.03125,
           0.030303030303030304,
           0.029411764705882353
          ],
          "sizemode": "area",
          "sizeref": 0.0002777777777777778,
          "symbol": "star"
         },
         "mode": "markers",
         "name": "Ladies",
         "orientation": "h",
         "showlegend": true,
         "type": "scatter",
         "x": [
          5.012631578947345,
          5.287777777777776,
          5.750000000000005,
          5.247466666666659,
          4.901666666666665,
          4.6491447368420955,
          5.265555555555559,
          4.714424778761061,
          4.89857142857142,
          4.997894736842103,
          4.781914893617036,
          4.389684210526313,
          4.936388888888887,
          4.780263157894732,
          4.968947368421051,
          4.5475438596491236,
          4.813628318584098,
          4.6986725663716955,
          4.459444444444448,
          5.313888888888889,
          4.666486486486489,
          4.639999999999995,
          4.2078313253012265,
          4.699848484848467,
          4.408245614035086,
          5.144444444444447,
          4.3063157894736825,
          4.497894736842103,
          4.267499999999989,
          4.49842105263158,
          4.5828947368420945,
          4.553684210526307,
          4.648482142857155,
          4.35238938053098,
          4.649468085106376,
          3.4560526315789493,
          4.331929824561411,
          4.66705263157896,
          4.855789473684212,
          3.851250000000002,
          4.353771929824577,
          3.8565714285714248,
          4.34565217391305,
          4.442315789473687,
          4.431052631578942,
          4.131578947368425,
          3.987017543859639,
          3.428684210526318,
          3.8694736842105275,
          4.272035398230098,
          4.095384615384617,
          4.490315789473679,
          4.42447368421054,
          3.2994444444444464,
          4.2997368421052595,
          2.9999999999999996,
          4.218,
          3.971052631578948,
          4.316756756756768,
          3.8543750000000028,
          4.160744680851057,
          4.289473684210524,
          4.115789473684216,
          3.9248000000000047,
          3.802763157894726,
          3.6852631578947377,
          4.070000000000006,
          3.5484210526315816,
          4.093461538461542,
          4.170000000000003,
          3.545789473684213,
          3.7642105263157872,
          3.2615384615384633,
          3.6276000000000073,
          3.5703846153846217,
          2.761428571428571,
          3.4611538461538407,
          3.5865384615384572,
          4.29730769230769,
          3.675714285714285,
          3.866538461538462,
          3.890000000000001,
          3.657142857142855,
          3.9857142857142875,
          3.837142857142856,
          3.590000000000001,
          3.6278571428571453,
          3.2528571428571422,
          3.3333333333333344,
          3.2471428571428573,
          2.059999999999999
         ],
         "xaxis": "x",
         "y": [
          "Evgenia MEDVEDEVA",
          "Alena KOSTORNAIA",
          "Alexandra TRUSOVA",
          "Alina ZAGITOVA",
          "Anastasiia GUBANOVA",
          "Kaetlyn OSMOND",
          "Anastasia TARAKANOVA",
          "Satoko MIYAHARA",
          "Kaori SAKAMOTO",
          "Bradie TENNELL",
          "Elena RADIONOVA",
          "Carolina KOSTNER",
          "Rika KIHIRA",
          "Maria SOTSKOVA",
          "Polina TSURSKAYA",
          "Gabrielle DALEMAN",
          "Mai MIHARA",
          "Anna POGORILAYA",
          "Elizaveta NUGUMANOVA",
          "Daria PANENKOVA",
          "Marin HONDA",
          "Elizaveta TUKTAMYSHEVA",
          "Ashley WAGNER",
          "Wakaba HIGUCHI",
          "Courtney HICKS",
          "Sofia SAMODUROVA",
          "So Youn PARK",
          "Serafima SAKHANOVICH",
          "Gracie GOLD",
          "Mirai NAGASU",
          "Yuna SHIRAIWA",
          "Yura MATSUDA",
          "Elizabet TURSYNBAEVA",
          "Karen CHEN",
          "Mariah BELL",
          "Mao ASADA",
          "Alena LEONOVA",
          "Dabin CHOI",
          "Valeriia MIKHAILOVA",
          "Julia LIPNITSKAIA",
          "Rika HONGO",
          "Yuka NAGAI",
          "Alaine CHARTRAND",
          "Laurine LECAVELIER",
          "Zijun LI",
          "Polina EDMUNDS",
          "Roberta RODEGHIERO",
          "Kanako MURAKAMI",
          "Amber GLENN",
          "Nicole RAJICOVA",
          "Nahyun KIM",
          "Xiangning LI",
          "Mae Berenice MEITE",
          "Soyoun PARK",
          "Loena HENDRICKX",
          "Larkyn AUSTMAN",
          "Nicole SCHOTT",
          "Ziquan ZHAO",
          "Ivett TOTH",
          "Joshi HELGESSON",
          "Anastasia GALUSTYAN",
          "Matilda ALGOTSSON",
          "Brooklee HAN",
          "Emmi PELTONEN",
          "Angelina KUCHVALSKA",
          "Kailani CRAINE",
          "Suh Hyun SON",
          "Maisy Hiu Ching MA",
          "Helery HÄLVIN",
          "Nathalie WEINZIERL",
          "Chloe ING",
          "Viveca LINDFORS",
          "Amy LIN",
          "Shuran YU",
          "Natasha MCKAY",
          "Michaela DU TOIT",
          "Michaela-Lucie HANZLIKOVA",
          "Kerstin FRANK",
          "Anna KHNYCHENKOVA",
          "Julia SAUTER",
          "Anne Line GJERSEM",
          "Elzbieta KROPA",
          "Antonina DUBININA",
          "Isadora WILLIAMS",
          "Yasmine Kimiko YAMADA",
          "Colette Coco KAMINSKI",
          "Dasa GRM",
          "Aimee BUCHANAN",
          "Birce ATABEY",
          "Valentina MATOS",
          "Hristina VASSILEVA"
         ],
         "yaxis": "y"
        },
        {
         "customdata": [
          [
           0.5839416058394161,
           1.7125
          ],
          [
           0.5555555555555556,
           1.8
          ],
          [
           0.42105263157894735,
           2.375
          ],
          [
           0.3921568627450981,
           2.55
          ],
          [
           0.3333333333333333,
           3
          ],
          [
           0.3220338983050848,
           3.1052631578947367
          ],
          [
           0.30158730158730157,
           3.3157894736842106
          ],
          [
           0.2891566265060241,
           3.4583333333333335
          ],
          [
           0.2881844380403458,
           3.47
          ],
          [
           0.2826603325415677,
           3.53781512605042
          ],
          [
           0.2753623188405797,
           3.6315789473684212
          ],
          [
           0.25675675675675674,
           3.8947368421052633
          ],
          [
           0.2542735042735043,
           3.9327731092436973
          ],
          [
           0.25,
           4
          ],
          [
           0.23795180722891565,
           4.2025316455696204
          ],
          [
           0.228995057660626,
           4.366906474820144
          ],
          [
           0.21978021978021978,
           4.55
          ],
          [
           0.2,
           5
          ],
          [
           0.19716312056737587,
           5.071942446043166
          ],
          [
           0.18627450980392157,
           5.368421052631579
          ],
          [
           0.17341040462427745,
           5.766666666666667
          ],
          [
           0.16666666666666666,
           6
          ],
          [
           0.1646090534979424,
           6.075
          ],
          [
           0.15918367346938775,
           6.282051282051282
          ],
          [
           0.15037593984962405,
           6.65
          ],
          [
           0.1466992665036675,
           6.816666666666666
          ],
          [
           0.14475627769571642,
           6.908163265306122
          ],
          [
           0.14338235294117646,
           6.9743589743589745
          ],
          [
           0.14184397163120568,
           7.05
          ],
          [
           0.136986301369863,
           7.3
          ],
          [
           0.13367174280879865,
           7.481012658227848
          ],
          [
           0.1318242343541944,
           7.585858585858586
          ],
          [
           0.12987012987012986,
           7.7
          ],
          [
           0.12781954887218044,
           7.823529411764706
          ],
          [
           0.1234567901234568,
           8.1
          ],
          [
           0.12288786482334871,
           8.1375
          ],
          [
           0.12145748987854252,
           8.233333333333333
          ],
          [
           0.12074303405572755,
           8.282051282051283
          ],
          [
           0.12058212058212059,
           8.293103448275861
          ],
          [
           0.11985472154963679,
           8.343434343434344
          ],
          [
           0.11661807580174928,
           8.575
          ],
          [
           0.11267605633802817,
           8.875
          ],
          [
           0.1111111111111111,
           9
          ],
          [
           0.10869565217391305,
           9.2
          ],
          [
           0.10737527114967461,
           9.313131313131313
          ],
          [
           0.10582010582010583,
           9.45
          ],
          [
           0.1053763440860215,
           9.489795918367347
          ],
          [
           0.10530973451327434,
           9.495798319327731
          ],
          [
           0.10362694300518134,
           9.65
          ],
          [
           0.10070921985815603,
           9.929577464788732
          ],
          [
           0.0970873786407767,
           10.3
          ],
          [
           0.09389671361502347,
           10.65
          ],
          [
           0.09248554913294797,
           10.8125
          ],
          [
           0.09208103130755065,
           10.86
          ],
          [
           0.09090909090909091,
           11
          ],
          [
           0.08837209302325581,
           11.31578947368421
          ],
          [
           0.08796296296296297,
           11.368421052631579
          ],
          [
           0.07920792079207921,
           12.625
          ],
          [
           0.07435653002859867,
           13.448717948717949
          ],
          [
           0.07338308457711443,
           13.627118644067796
          ],
          [
           0.058823529411764705,
           17
          ],
          [
           0.05844155844155844,
           17.11111111111111
          ],
          [
           0.057803468208092484,
           17.3
          ],
          [
           0.05547850208044383,
           18.025
          ],
          [
           0.05361930294906166,
           18.65
          ],
          [
           0.053608247422680416,
           18.653846153846153
          ],
          [
           0.05263157894736842,
           19
          ],
          [
           0.051526717557251904,
           19.40740740740741
          ],
          [
           0.05103969754253308,
           19.59259259259259
          ],
          [
           0.05027932960893854,
           19.88888888888889
          ],
          [
           0.05,
           20
          ],
          [
           0.04926108374384236,
           20.3
          ],
          [
           0.04842615012106538,
           20.65
          ],
          [
           0.04702970297029703,
           21.263157894736842
          ],
          [
           0.046189376443418015,
           21.65
          ],
          [
           0.043478260869565216,
           23
          ],
          [
           0.043478260869565216,
           23
          ],
          [
           0.043199999999999995,
           23.14814814814815
          ],
          [
           0.041666666666666664,
           24
          ],
          [
           0.04,
           25
          ],
          [
           0.03982300884955752,
           25.11111111111111
          ],
          [
           0.038737446197991396,
           25.814814814814813
          ],
          [
           0.038461538461538464,
           26
          ],
          [
           0.037037037037037035,
           27
          ],
          [
           0.037037037037037035,
           27
          ],
          [
           0.03571428571428571,
           28
          ],
          [
           0.034482758620689655,
           29
          ],
          [
           0.03333333333333333,
           30
          ],
          [
           0.03333333333333333,
           30
          ],
          [
           0.03333333333333333,
           30
          ],
          [
           0.03125,
           32
          ],
          [
           0.02968036529680365,
           33.69230769230769
          ],
          [
           0.029411764705882353,
           34
          ],
          [
           0.02857142857142857,
           35
          ],
          [
           0.027777777777777776,
           36
          ]
         ],
         "hovertemplate": "Category=Men<br>avg_elem_base_value=%{x}<br>athlete_name=%{y}<br>Average rank=%{customdata[1]}<extra></extra>",
         "legendgroup": "Men",
         "marker": {
          "color": "#EF553B",
          "line": {
           "color": "DarkSlateGrey",
           "width": 0.5
          },
          "size": [
           0.5839416058394161,
           0.5555555555555556,
           0.42105263157894735,
           0.3921568627450981,
           0.3333333333333333,
           0.3220338983050848,
           0.30158730158730157,
           0.2891566265060241,
           0.2881844380403458,
           0.2826603325415677,
           0.2753623188405797,
           0.25675675675675674,
           0.2542735042735043,
           0.25,
           0.23795180722891565,
           0.228995057660626,
           0.21978021978021978,
           0.2,
           0.19716312056737587,
           0.18627450980392157,
           0.17341040462427745,
           0.16666666666666666,
           0.1646090534979424,
           0.15918367346938775,
           0.15037593984962405,
           0.1466992665036675,
           0.14475627769571642,
           0.14338235294117646,
           0.14184397163120568,
           0.136986301369863,
           0.13367174280879865,
           0.1318242343541944,
           0.12987012987012986,
           0.12781954887218044,
           0.1234567901234568,
           0.12288786482334871,
           0.12145748987854252,
           0.12074303405572755,
           0.12058212058212059,
           0.11985472154963679,
           0.11661807580174928,
           0.11267605633802817,
           0.1111111111111111,
           0.10869565217391305,
           0.10737527114967461,
           0.10582010582010583,
           0.1053763440860215,
           0.10530973451327434,
           0.10362694300518134,
           0.10070921985815603,
           0.0970873786407767,
           0.09389671361502347,
           0.09248554913294797,
           0.09208103130755065,
           0.09090909090909091,
           0.08837209302325581,
           0.08796296296296297,
           0.07920792079207921,
           0.07435653002859867,
           0.07338308457711443,
           0.058823529411764705,
           0.05844155844155844,
           0.057803468208092484,
           0.05547850208044383,
           0.05361930294906166,
           0.053608247422680416,
           0.05263157894736842,
           0.051526717557251904,
           0.05103969754253308,
           0.05027932960893854,
           0.05,
           0.04926108374384236,
           0.04842615012106538,
           0.04702970297029703,
           0.046189376443418015,
           0.043478260869565216,
           0.043478260869565216,
           0.043199999999999995,
           0.041666666666666664,
           0.04,
           0.03982300884955752,
           0.038737446197991396,
           0.038461538461538464,
           0.037037037037037035,
           0.037037037037037035,
           0.03571428571428571,
           0.034482758620689655,
           0.03333333333333333,
           0.03333333333333333,
           0.03333333333333333,
           0.03125,
           0.02968036529680365,
           0.029411764705882353,
           0.02857142857142857,
           0.027777777777777776
          ],
          "sizemode": "area",
          "sizeref": 0.0002777777777777778,
          "symbol": "star"
         },
         "mode": "markers",
         "name": "Men",
         "orientation": "h",
         "showlegend": true,
         "type": "scatter",
         "x": [
          7.052312500000015,
          6.806166666666684,
          7.534812500000019,
          6.562142857142884,
          5.514210526315784,
          5.316315789473687,
          6.058684210526313,
          5.760916666666701,
          6.074900000000036,
          6.0807563025210065,
          5.712631578947366,
          5.953684210526311,
          7.391764705882364,
          6.0583333333333265,
          6.342911392405083,
          6.1965467625899455,
          6.268625000000004,
          6.125862068965519,
          5.489928057553949,
          5.137368421052634,
          5.9518333333333855,
          4.0421052631578975,
          7.147000000000012,
          5.483333333333332,
          6.014499999999997,
          5.578250000000013,
          5.627244897959201,
          5.4487179487179365,
          5.532999999999997,
          5.273499999999999,
          5.215316455696207,
          6.092929292929321,
          5.395500000000001,
          5.874000000000006,
          4.7764999999999915,
          6.31475,
          5.2228333333333286,
          5.96948717948716,
          4.737931034482763,
          6.179494949494981,
          5.203,
          5.373749999999989,
          5.155499999999999,
          5.5137500000000035,
          5.2918181818182015,
          5.403599999999984,
          5.777551020408192,
          5.153109243697489,
          5.123500000000002,
          5.442112676056349,
          5.431499999999998,
          5.2950000000000035,
          5.800500000000005,
          5.600200000000029,
          4.850000000000005,
          4.628947368421049,
          5.048947368421052,
          5.120499999999995,
          5.016538461538483,
          5.758983050847445,
          4.694499999999999,
          5.156666666666665,
          4.769999999999997,
          5.3222499999999915,
          4.909999999999998,
          5.298461538461536,
          5.247749999999987,
          5.107407407407405,
          5.090370370370365,
          5.10444444444444,
          4.84947368421052,
          4.009999999999996,
          4.726999999999993,
          4.704210526315787,
          4.3204999999999965,
          3.8184210526315825,
          4.016000000000005,
          5.037037037037038,
          4.060526315789472,
          3.765714285714286,
          4.877407407407403,
          4.44814814814815,
          3.3185714285714294,
          5.513571428571429,
          3.875714285714285,
          3.934285714285715,
          4.950000000000001,
          4.075714285714286,
          4.8571428571428585,
          4.347142857142857,
          4.4528571428571455,
          3.712307692307695,
          3.861428571428573,
          3.8666666666666676,
          3.032857142857143
         ],
         "xaxis": "x",
         "y": [
          "Shoma UNO",
          "Yuzuru HANYU",
          "Nathan CHEN",
          "Javier FERNANDEZ",
          "Mitsuki SUMOTO",
          "Camden PULKINEN",
          "Alexei KRASNOZHON",
          "Adam RIPPON",
          "Sergei VORONOV",
          "Patrick CHAN",
          "Roman SAVOSIN",
          "Alexey EROKHOV",
          "Boyang JIN",
          "Makar IGNATOV",
          "Alexander SAMARIN",
          "Mikhail KOLYADA",
          "Max AARON",
          "Dmitri ALIEV",
          "Jason BROWN",
          "Ilia SKIRDA",
          "Alexei BYCHENKO",
          "Andrew TORGASHEV",
          "Vincent ZHOU",
          "Jun Hwan CHA",
          "Kazuki TOMONO",
          "Misha GE",
          "Han YAN",
          "Keegan MESSING",
          "Nicolas NADEAU",
          "Timothy DOLENSKY",
          "Takahito MURA",
          "Nam NGUYEN",
          "Gordei GORSHKOV",
          "Maxim KOVTUN",
          "Elladj BALDE",
          "Moris KVITELASHVILI",
          "Alexander PETROV",
          "Artur DMITRIEV",
          "Ross MINER",
          "Kevin REYNOLDS",
          "Deniss VASILJEVS",
          "Liam FIRUS",
          "Ryuju HINO",
          "Denis TEN",
          "Grant HOCHSTEIN",
          "Jorik HENDRICKX",
          "Keiji TANAKA",
          "Michal BREZINA",
          "Roman SADOVSKY",
          "Daniel SAMOHIN",
          "Andrei LAZUKIN",
          "Hiroaki SATO",
          "Chafik BESSEGHIER",
          "Brendan KERRY",
          "Romain PONSART",
          "He ZHANG",
          "Ivan RIGHINI",
          "Kevin AYMOZ",
          "Alexander MAJOROV",
          "Paul FENTZ",
          "Sihyeong LEE",
          "Ivan PAVLOV",
          "June Hyoung LEE",
          "Julian Zhi Jie YEE",
          "Maurizio ZANDRON",
          "Jinseo KIM",
          "Michael Christian MARTINEZ",
          "Stephane WALKER",
          "Javier RAYA",
          "Graham NEWBERRY",
          "Mark WEBSTER",
          "Andrew DODDS",
          "Jiri BELOHRADSKY",
          "Daniel Albert NAURITS",
          "Leslie Man Cheuk IP",
          "Sondre ODDVOLL BOE",
          "Kai Xiang CHEW",
          "Chih-I TSAO",
          "Micah TANG",
          "Harry Hau Yin LEE",
          "Slavik HAYRAPETYAN",
          "Valtter VIRTANEN",
          "Harrison Jon-Yen WONG",
          "Igor REZNICHENKO",
          "Alexander BOROVOJ",
          "Thomas KENNES",
          "Anton KARPUK",
          "Mark GORODNITSKY",
          "Matteo RIZZO",
          "Nicholas VRDOLJAK",
          "Engin Ali ARTAN",
          "Larry LOUPOLOVER",
          "Michael NEUMAN",
          "Nicky OBREYKOV",
          "Mario-Rafael IONIAN"
         ],
         "yaxis": "y"
        },
        {
         "customdata": [
          [
           1,
           1
          ],
          [
           0.7851239669421488,
           1.2736842105263158
          ],
          [
           0.7307692307692307,
           1.368421052631579
          ],
          [
           0.5974842767295597,
           1.6736842105263159
          ],
          [
           0.44999999999999996,
           2.2222222222222223
          ],
          [
           0.4186046511627907,
           2.388888888888889
          ],
          [
           0.4113173106175844,
           2.4312130177514795
          ],
          [
           0.37254901960784315,
           2.6842105263157894
          ],
          [
           0.34953703703703703,
           2.8609271523178808
          ],
          [
           0.2857142857142857,
           3.5
          ],
          [
           0.27692307692307694,
           3.611111111111111
          ],
          [
           0.2671035386631717,
           3.7438665358194307
          ],
          [
           0.26108754338603934,
           3.8301329394387
          ],
          [
           0.25885558583106266,
           3.863157894736842
          ],
          [
           0.25,
           4
          ],
          [
           0.24672489082969434,
           4.053097345132743
          ],
          [
           0.22784810126582278,
           4.388888888888889
          ],
          [
           0.22619047619047616,
           4.421052631578948
          ],
          [
           0.2205398288347597,
           4.534328358208955
          ],
          [
           0.2052877138413686,
           4.871212121212121
          ],
          [
           0.20357142857142857,
           4.912280701754386
          ],
          [
           0.19332195029406185,
           5.1727183513248285
          ],
          [
           0.18181818181818182,
           5.5
          ],
          [
           0.17843964153927255,
           5.604135893648449
          ],
          [
           0.17821782178217824,
           5.611111111111111
          ],
          [
           0.17383145684066872,
           5.75269872423945
          ],
          [
           0.17209302325581396,
           5.8108108108108105
          ],
          [
           0.16666666666666666,
           6
          ],
          [
           0.15702479338842976,
           6.368421052631579
          ],
          [
           0.15573770491803277,
           6.421052631578948
          ],
          [
           0.15419769803656058,
           6.485181119648738
          ],
          [
           0.1529175050301811,
           6.5394736842105265
          ],
          [
           0.15079365079365079,
           6.631578947368421
          ],
          [
           0.15079365079365079,
           6.631578947368421
          ],
          [
           0.14285714285714285,
           7
          ],
          [
           0.13421052631578947,
           7.450980392156863
          ],
          [
           0.12669683257918551,
           7.892857142857143
          ],
          [
           0.125,
           8
          ],
          [
           0.125,
           8
          ],
          [
           0.125,
           8
          ],
          [
           0.125,
           8
          ],
          [
           0.11717495987158907,
           8.534246575342467
          ],
          [
           0.11688311688311688,
           8.555555555555555
          ],
          [
           0.09405940594059406,
           10.631578947368421
          ],
          [
           0.08260869565217392,
           12.105263157894736
          ],
          [
           0.08085106382978724,
           12.368421052631579
          ],
          [
           0.08029197080291971,
           12.454545454545455
          ],
          [
           0.07692307692307693,
           13
          ],
          [
           0.07638888888888888,
           13.090909090909092
          ],
          [
           0.075,
           13.333333333333334
          ],
          [
           0.07407407407407407,
           13.5
          ],
          [
           0.07065217391304349,
           14.153846153846153
          ],
          [
           0.0683453237410072,
           14.631578947368421
          ],
          [
           0.06666666666666667,
           15
          ],
          [
           0.0625,
           16
          ],
          [
           0.06018518518518518,
           16.615384615384617
          ],
          [
           0.044444444444444446,
           22.5
          ],
          [
           0.041666666666666664,
           24
          ],
          [
           0.04,
           25
          ]
         ],
         "hovertemplate": "Category=Pairs<br>avg_elem_base_value=%{x}<br>athlete_name=%{y}<br>Average rank=%{customdata[1]}<extra></extra>",
         "legendgroup": "Pairs",
         "marker": {
          "color": "#00cc96",
          "line": {
           "color": "DarkSlateGrey",
           "width": 0.5
          },
          "size": [
           1,
           0.7851239669421488,
           0.7307692307692307,
           0.5974842767295597,
           0.44999999999999996,
           0.4186046511627907,
           0.4113173106175844,
           0.37254901960784315,
           0.34953703703703703,
           0.2857142857142857,
           0.27692307692307694,
           0.2671035386631717,
           0.26108754338603934,
           0.25885558583106266,
           0.25,
           0.24672489082969434,
           0.22784810126582278,
           0.22619047619047616,
           0.2205398288347597,
           0.2052877138413686,
           0.20357142857142857,
           0.19332195029406185,
           0.18181818181818182,
           0.17843964153927255,
           0.17821782178217824,
           0.17383145684066872,
           0.17209302325581396,
           0.16666666666666666,
           0.15702479338842976,
           0.15573770491803277,
           0.15419769803656058,
           0.1529175050301811,
           0.15079365079365079,
           0.15079365079365079,
           0.14285714285714285,
           0.13421052631578947,
           0.12669683257918551,
           0.125,
           0.125,
           0.125,
           0.125,
           0.11717495987158907,
           0.11688311688311688,
           0.09405940594059406,
           0.08260869565217392,
           0.08085106382978724,
           0.08029197080291971,
           0.07692307692307693,
           0.07638888888888888,
           0.075,
           0.07407407407407407,
           0.07065217391304349,
           0.0683453237410072,
           0.06666666666666667,
           0.0625,
           0.06018518518518518,
           0.044444444444444446,
           0.041666666666666664,
           0.04
          ],
          "sizemode": "area",
          "sizeref": 0.0002777777777777778,
          "symbol": "star"
         },
         "mode": "markers",
         "name": "Pairs",
         "orientation": "h",
         "showlegend": true,
         "type": "scatter",
         "x": [
          4.694444444444444,
          4.952631578947372,
          4.860526315789474,
          4.877894736842115,
          4.308888888888888,
          4.6933333333333325,
          4.757766272189351,
          5.14210526315788,
          4.798675496688748,
          4.513157894736845,
          4.450000000000001,
          4.889106967615307,
          4.788035450516988,
          4.9200000000000195,
          4.138888888888889,
          4.618584070796462,
          4.602777777777783,
          4.596491228070178,
          4.637134328358214,
          4.643181818181831,
          4.7526315789473825,
          4.687340529931305,
          4.691052631578954,
          4.447075332348604,
          4.411111111111108,
          4.763120706575076,
          4.355135135135137,
          4.347058823529411,
          4.426315789473685,
          4.594736842105268,
          4.401558726673978,
          4.554736842105267,
          4.311578947368417,
          4.252631578947367,
          4.321052631578944,
          4.521568627450986,
          4.787500000000004,
          4.494736842105264,
          4.584210526315789,
          4.22611111111111,
          4.400000000000002,
          4.5686301369863065,
          4.3811111111111085,
          3.8973684210526334,
          4.3094736842105235,
          4.136842105263161,
          4.087727272727273,
          4.0111363636363615,
          4.06969696969697,
          4.25,
          4.461538461538461,
          4.3769230769230765,
          4.3842105263157904,
          3.811111111111112,
          4.105263157894735,
          4.359999999999995,
          4.157142857142858,
          3.8571428571428568,
          4.028571428571429
         ],
         "xaxis": "x",
         "y": [
          "Anastasia MISHINA / Vladislav MIRZOEV",
          "Wenjing SUI / Cong HAN",
          "Aljona SAVCHENKO / Bruno MASSOT",
          "Aliona SAVCHENKO / Bruno MASSOT",
          "Apollinariia PANFILOVA / Dmitry RYLOV",
          "Daria PAVLIUCHENKO / Denis KHODYKIN",
          "Evgenia TARASOVA / Vladimir MOROZOV",
          "Meagan DUHAMEL / Eric RADFORD",
          "Xiaoyu YU / Hao ZHANG",
          "Xuehan WANG / Lei WANG",
          "Alina USTIMKINA / Nikita VOLODIN",
          "Vanessa JAMES / Morgan CIPRES",
          "Kristina ASTAKHOVA / Alexei ROGONOV",
          "Ksenia STOLBOVA / Fedor KLIMOV",
          "Yumeng GAO / Zhong XIE",
          "Cheng PENG / Yang JIN",
          "Aleksandra BOIKOVA / Dmitrii KOZLOVSKII",
          "Liubov ILYUSHECHKINA / Dylan MOSCOVITCH",
          "Tarah KAYNE / Danny O'SHEA",
          "Natalia ZABIIAKO / Alexander ENBERT",
          "Kirsten MOORE-TOWERS / Michael MARINARO",
          "Julianne SEGUIN / Charlie BILODEAU",
          "Mari VARTMANN / Ruben BLOMMAERT",
          "Marissa CASTELLI / Mervin TRAN",
          "Anastasia POLUIANOVA / Dmitry SOPOT",
          "Valentina MARCHEI / Ondrej HOTAREK",
          "Yuko KAVAGUTI / Alexander SMIRNOV",
          "Amina ATAKHANOVA / Ilia SPIRIDONOV",
          "Camille RUEST / Andrew WOLFE",
          "Nicole DELLA MONICA / Matteo GUARISE",
          "Haven DENNEY / Brandon FRAZIER",
          "Alexa SCIMECA KNIERIM / Chris KNIERIM",
          "Mingyang ZHANG / Bowen SONG",
          "Alisa EFIMOVA / Alexander KOROVIN",
          "Brittany JONES / Joshua REAGAN",
          "Miriam ZIEGLER / Severin KIEFER",
          "Anna DUSKOVA / Martin BIDAR",
          "Deanna STELLATO / Nathan BARTHOLOMAY",
          "Sydney KOLODZIEJ / Maxime DESCHAMPS",
          "Jessica PFUND / Joshua SANTILLAN",
          "Ashley CAIN / Timothy LEDUC",
          "Ekaterina ALEXANDROVSKAYA / Harley WINDSOR",
          "Sumire SUTO / Francis BOUDREAU-AUDET",
          "Miu SUZAKI / Ryuichi KIHARA",
          "Rebecca GHILARDI / Filippo AMBROSINI",
          "Su Yeon KIM / Hyungtae KIM",
          "Lola ESBRAT / Andrei NOVOSELOV",
          "Zoe JONES / Christopher BOYADJI",
          "Goda BUTKUTE / Nikita ERMOLAEV",
          "Minji JI / Themistocles LEFTHERIS",
          "Tatiana DANILOVA / Mikalai KAMIANCHUK",
          "Minerva Fabienne HASE / Nolan SEEGERT",
          "Tae Ok RYOM / Ju Sik KIM",
          "Kyueun KIM / Alex Kang Chan KAM",
          "Arina CHERNIAVSKAIA / Evgeni KRASNOPOLSKI",
          "Lana PETRANOVIC / Antonio SOUZA-KORDEIRU",
          "Ioulia CHTCHETININA / Noah SCHERER",
          "Daria BEKLEMISHEVA / Mark MAGYAR",
          "Emilia SIMONEN / Matthew PENASSE"
         ],
         "yaxis": "y"
        },
        {
         "customdata": [
          [
           1,
           1
          ],
          [
           0.7777777777777777,
           1.2857142857142858
          ],
          [
           0.7,
           1.4285714285714286
          ],
          [
           0.4375,
           2.2857142857142856
          ],
          [
           0.33793103448275863,
           2.9591836734693877
          ],
          [
           0.3333333333333333,
           3
          ],
          [
           0.3333333333333333,
           3
          ],
          [
           0.31197771587743733,
           3.205357142857143
          ],
          [
           0.28965517241379307,
           3.4523809523809526
          ],
          [
           0.2792022792022792,
           3.5816326530612246
          ],
          [
           0.2575406032482599,
           3.8828828828828827
          ],
          [
           0.24528301886792456,
           4.076923076923077
          ],
          [
           0.23333333333333334,
           4.285714285714286
          ],
          [
           0.22641509433962262,
           4.416666666666667
          ],
          [
           0.21538461538461537,
           4.642857142857143
          ],
          [
           0.2131979695431472,
           4.690476190476191
          ],
          [
           0.2043795620437956,
           4.892857142857143
          ],
          [
           0.2,
           5
          ],
          [
           0.1958041958041958,
           5.107142857142857
          ],
          [
           0.1943661971830986,
           5.144927536231884
          ],
          [
           0.19387755102040816,
           5.157894736842105
          ],
          [
           0.1935483870967742,
           5.166666666666667
          ],
          [
           0.1846153846153846,
           5.416666666666667
          ],
          [
           0.17177914110429449,
           5.821428571428571
          ],
          [
           0.16666666666666666,
           6
          ],
          [
           0.16666666666666666,
           6
          ],
          [
           0.16326530612244897,
           6.125
          ],
          [
           0.15730337078651685,
           6.357142857142857
          ],
          [
           0.15625,
           6.4
          ],
          [
           0.1497326203208556,
           6.678571428571429
          ],
          [
           0.14814814814814814,
           6.75
          ],
          [
           0.13333333333333333,
           7.5
          ],
          [
           0.1320754716981132,
           7.571428571428571
          ],
          [
           0.12704174228675136,
           7.871428571428571
          ],
          [
           0.125,
           8
          ],
          [
           0.11650485436893203,
           8.583333333333334
          ],
          [
           0.11570247933884298,
           8.642857142857142
          ],
          [
           0.11551155115511552,
           8.657142857142857
          ],
          [
           0.11522633744855967,
           8.678571428571429
          ],
          [
           0.1111111111111111,
           9
          ],
          [
           0.10727969348659004,
           9.321428571428571
          ],
          [
           0.10626185958254268,
           9.410714285714286
          ],
          [
           0.10579345088161209,
           9.452380952380953
          ],
          [
           0.10481099656357389,
           9.540983606557377
          ],
          [
           0.1,
           10
          ],
          [
           0.1,
           10
          ],
          [
           0.0963855421686747,
           10.375
          ],
          [
           0.09523809523809523,
           10.5
          ],
          [
           0.08383233532934131,
           11.928571428571429
          ],
          [
           0.0812807881773399,
           12.303030303030303
          ],
          [
           0.08045977011494253,
           12.428571428571429
          ],
          [
           0.07692307692307693,
           13
          ],
          [
           0.07420494699646643,
           13.476190476190476
          ],
          [
           0.07142857142857142,
           14
          ],
          [
           0.06999999999999999,
           14.285714285714286
          ],
          [
           0.06861313868613138,
           14.574468085106384
          ],
          [
           0.06707317073170732,
           14.909090909090908
          ],
          [
           0.06511627906976744,
           15.357142857142858
          ],
          [
           0.0639269406392694,
           15.642857142857142
          ],
          [
           0.0611353711790393,
           16.357142857142858
          ],
          [
           0.06075949367088608,
           16.458333333333332
          ],
          [
           0.057401812688821746,
           17.42105263157895
          ],
          [
           0.05053191489361702,
           19.789473684210527
          ],
          [
           0.047619047619047616,
           21
          ],
          [
           0.04714640198511166,
           21.210526315789473
          ],
          [
           0.045454545454545456,
           22
          ],
          [
           0.041666666666666664,
           24
          ],
          [
           0.04,
           25
          ],
          [
           0.038461538461538464,
           26
          ],
          [
           0.03571428571428571,
           28
          ],
          [
           0.034482758620689655,
           29
          ],
          [
           0.03389830508474576,
           29.5
          ],
          [
           0.03333333333333333,
           30
          ],
          [
           0.03225806451612903,
           31
          ]
         ],
         "hovertemplate": "Category=Ice dance<br>avg_elem_base_value=%{x}<br>athlete_name=%{y}<br>Average rank=%{customdata[1]}<extra></extra>",
         "legendgroup": "Ice dance",
         "marker": {
          "color": "#ab63fa",
          "line": {
           "color": "DarkSlateGrey",
           "width": 0.5
          },
          "size": [
           1,
           0.7777777777777777,
           0.7,
           0.4375,
           0.33793103448275863,
           0.3333333333333333,
           0.3333333333333333,
           0.31197771587743733,
           0.28965517241379307,
           0.2792022792022792,
           0.2575406032482599,
           0.24528301886792456,
           0.23333333333333334,
           0.22641509433962262,
           0.21538461538461537,
           0.2131979695431472,
           0.2043795620437956,
           0.2,
           0.1958041958041958,
           0.1943661971830986,
           0.19387755102040816,
           0.1935483870967742,
           0.1846153846153846,
           0.17177914110429449,
           0.16666666666666666,
           0.16666666666666666,
           0.16326530612244897,
           0.15730337078651685,
           0.15625,
           0.1497326203208556,
           0.14814814814814814,
           0.13333333333333333,
           0.1320754716981132,
           0.12704174228675136,
           0.125,
           0.11650485436893203,
           0.11570247933884298,
           0.11551155115511552,
           0.11522633744855967,
           0.1111111111111111,
           0.10727969348659004,
           0.10626185958254268,
           0.10579345088161209,
           0.10481099656357389,
           0.1,
           0.1,
           0.0963855421686747,
           0.09523809523809523,
           0.08383233532934131,
           0.0812807881773399,
           0.08045977011494253,
           0.07692307692307693,
           0.07420494699646643,
           0.07142857142857142,
           0.06999999999999999,
           0.06861313868613138,
           0.06707317073170732,
           0.06511627906976744,
           0.0639269406392694,
           0.0611353711790393,
           0.06075949367088608,
           0.057401812688821746,
           0.05053191489361702,
           0.047619047619047616,
           0.04714640198511166,
           0.045454545454545456,
           0.041666666666666664,
           0.04,
           0.038461538461538464,
           0.03571428571428571,
           0.034482758620689655,
           0.03389830508474576,
           0.03333333333333333,
           0.03225806451612903
          ],
          "sizemode": "area",
          "sizeref": 0.0002777777777777778,
          "symbol": "star"
         },
         "mode": "markers",
         "name": "Ice dance",
         "orientation": "h",
         "showlegend": true,
         "type": "scatter",
         "x": [
          4.875000000000005,
          5.276785714285723,
          5.148214285714291,
          5.08660714285715,
          5.009183673469362,
          4.8250000000000055,
          4.9833333333333405,
          5.069642857142857,
          5.011904761904732,
          5.075510204081609,
          5.108108108108115,
          5.08846153846154,
          4.607142857142857,
          4.650000000000005,
          4.87142857142857,
          4.911904761904728,
          4.876190476190441,
          4.614285714285718,
          4.917857142857119,
          4.827536231884032,
          5.118421052631562,
          4.441666666666671,
          4.525000000000005,
          4.89761904761901,
          5.008333333333339,
          5.507692307692312,
          4.759999999999985,
          4.585714285714291,
          4.852499999999985,
          4.674999999999984,
          4.853571428571408,
          4.4392857142857185,
          4.685714285714292,
          4.935714285714256,
          4.535714285714288,
          4.846428571428539,
          4.428571428571433,
          5.10428571428568,
          4.834523809523773,
          4.535714285714288,
          4.503571428571436,
          4.757142857142839,
          4.221428571428565,
          4.618032786885222,
          3.9571428571428613,
          4.642857142857149,
          4.823749999999962,
          4.4071428571428655,
          4.707142857142857,
          4.5242424242424235,
          4.778571428571419,
          4.538461538461541,
          4.597619047619036,
          4.128571428571432,
          4.357142857142862,
          4.13829787234042,
          4.618181818181818,
          3.778571428571431,
          3.3857142857142875,
          4.3142857142857185,
          4.7000000000000055,
          4.726315789473694,
          4.405263157894748,
          5.039999999999998,
          4.542105263157905,
          5.039999999999998,
          4.839999999999998,
          4.539999999999999,
          4.790000000000003,
          4.619999999999998,
          4.419999999999998,
          4.570000000000005,
          4.099999999999998,
          5.039999999999998
         ],
         "xaxis": "x",
         "y": [
          "Anastasia SKOPTCOVA / Kirill ALESHIN",
          "Tessa VIRTUE / Scott MOIR",
          "Gabriella PAPADAKIS / Guillaume CIZERON",
          "Maia SHIBUTANI / Alex SHIBUTANI",
          "Ekaterina BOBROVA / Dmitri SOLOVIEV",
          "Sofia POLISHCHUK / Alexander VAKHNOV",
          "Christina CARREIRA / Anthony PONOMARENKO",
          "Madison CHOCK / Evan BATES",
          "Kaitlyn WEAVER / Andrew POJE",
          "Anna CAPPELLINI / Luca LANOTTE",
          "Madison HUBBELL / Zachary DONOHUE",
          "Lorraine MCNAMARA / Quinn CARPENTER",
          "Elena ILINYKH / Ruslan ZHIGANSHIN",
          "Sofia SHEVCHENKO / Igor EREMENKO",
          "Tiffani ZAGORSKI / Jonathan GUERREIRO",
          "Piper GILLES / Paul POIRIER",
          "Alexandra STEPANOVA / Ivan BUKIN",
          "Tiffany ZAHORSKI / Jonathan GUERREIRO",
          "Kaitlin HAWAYEK / Jean-Luc BAKER",
          "Victoria SINITSINA / Nikita KATSALAPOV",
          "Alla LOBODA / Pavel DROZD",
          "Marjorie LAJOIE / Zachary LAGHA",
          "Arina USHAKOVA / Maxim NEKRASOV",
          "Charlene GUIGNARD / Marco FABBRI",
          "Anastasia SHPILEVAYA / Grigory SMIRNOV",
          "Betina POPOVA / Sergey MOZGOV",
          "Rachel PARSONS / Michael PARSONS",
          "Carolane SOUCISSE / Shane FIRUS",
          "Angelique ABACHKINA / Louis THAURON",
          "Isabella TOBIAS / Ilia TKACHENKO",
          "Elliana POGREBINSKY / Alex BENOIT",
          "Anastasia CANNUSCIO / Colin MCMANUS",
          "Penny COOMES / Nicholas BUCKLAND",
          "Laurence FOURNIER BEAUDRY / Nikolaj SORENSEN",
          "Cortney MANSOUR / Michal CESKA",
          "Shiyue WANG / Xinyu LIU",
          "Alexandra PAUL / Mitchell ISLAM",
          "Marie-Jade LAURIAULT / Romain LE GAC",
          "Natalia KALISZEK / Maksym SPODYRIEV",
          "Sofia EVDOKIMOVA / Egor BAZIN",
          "Linshu SONG / Zhuoming SUN",
          "Alexandra NAZAROVA / Maxim NIKITIN",
          "Hong CHEN / Yan ZHAO",
          "Kana MURAMOTO / Chris REED",
          "Xiaotong WANG / Kaige ZHAO",
          "Misato KOMATSUBARA / Timothy KOLETO",
          "Alisa AGAFONOVA / Alper UCAR",
          "Emi HIRAI / Marien DE LA ASUNCION",
          "Olivia SMART / Adria DIAZ",
          "Lorenza ALESSANDRINI / Pierre SOUQUET",
          "Yura MIN / Alexander GAMELIN",
          "Hojung LEE / Richard Kang In KAM",
          "Kavita LORENZ / Joti POLIZOAKIS",
          "Adele MORRISON / Demid ROKACHEV",
          "Sara HURTADO / Kirill KHALIAVIN",
          "Viktoria KAVALIOVA / Yurii BIELIAIEV",
          "Cecilia TÖRN / Jussiville PARTANEN",
          "Matilda FRIEND / William BADAOUI",
          "Kimberley HEW-LOW / Timothy MCKERNAN",
          "Lucie MYSLIVECKOVA / Lukas CSOLLEY",
          "Nicole KUZMICHOVA / Alexandr SINICYN",
          "Lilah FEAR / Lewis GIBSON",
          "Tina GARABEDIAN / Simon PROULX-SENECAL",
          "Robynne TWEEDALE / Joseph BUCKLAND",
          "Taylor TRAN / Saulius AMBRULEVICIUS",
          "Jasmine TESSARI / Francesco FIORETTI",
          "Vavara OGLOBLINA / Mikhail ZHIRNOV",
          "Victoria MANNI / Carlo RÖTHLISBERGER",
          "Olga JAKUSHINA / Andrey NEVSKIY",
          "Hanna JAKUCS / Daniel ILLES",
          "Katerina BUNINA / German FROLOV",
          "Tatiana KOZMAVA / Alexei SHUMSKI",
          "Adel TANKOVA / Ronald ZILBERBERG",
          "Anastasia GALYETA / Avidan BROWN"
         ],
         "yaxis": "y"
        }
       ],
       "layout": {
        "height": 1000,
        "legend": {
         "itemsizing": "constant",
         "title": {
          "text": "Category"
         },
         "tracegroupgap": 0
        },
        "template": {
         "data": {
          "bar": [
           {
            "error_x": {
             "color": "#2a3f5f"
            },
            "error_y": {
             "color": "#2a3f5f"
            },
            "marker": {
             "line": {
              "color": "#E5ECF6",
              "width": 0.5
             },
             "pattern": {
              "fillmode": "overlay",
              "size": 10,
              "solidity": 0.2
             }
            },
            "type": "bar"
           }
          ],
          "barpolar": [
           {
            "marker": {
             "line": {
              "color": "#E5ECF6",
              "width": 0.5
             },
             "pattern": {
              "fillmode": "overlay",
              "size": 10,
              "solidity": 0.2
             }
            },
            "type": "barpolar"
           }
          ],
          "carpet": [
           {
            "aaxis": {
             "endlinecolor": "#2a3f5f",
             "gridcolor": "white",
             "linecolor": "white",
             "minorgridcolor": "white",
             "startlinecolor": "#2a3f5f"
            },
            "baxis": {
             "endlinecolor": "#2a3f5f",
             "gridcolor": "white",
             "linecolor": "white",
             "minorgridcolor": "white",
             "startlinecolor": "#2a3f5f"
            },
            "type": "carpet"
           }
          ],
          "choropleth": [
           {
            "colorbar": {
             "outlinewidth": 0,
             "ticks": ""
            },
            "type": "choropleth"
           }
          ],
          "contour": [
           {
            "colorbar": {
             "outlinewidth": 0,
             "ticks": ""
            },
            "colorscale": [
             [
              0,
              "#0d0887"
             ],
             [
              0.1111111111111111,
              "#46039f"
             ],
             [
              0.2222222222222222,
              "#7201a8"
             ],
             [
              0.3333333333333333,
              "#9c179e"
             ],
             [
              0.4444444444444444,
              "#bd3786"
             ],
             [
              0.5555555555555556,
              "#d8576b"
             ],
             [
              0.6666666666666666,
              "#ed7953"
             ],
             [
              0.7777777777777778,
              "#fb9f3a"
             ],
             [
              0.8888888888888888,
              "#fdca26"
             ],
             [
              1,
              "#f0f921"
             ]
            ],
            "type": "contour"
           }
          ],
          "contourcarpet": [
           {
            "colorbar": {
             "outlinewidth": 0,
             "ticks": ""
            },
            "type": "contourcarpet"
           }
          ],
          "heatmap": [
           {
            "colorbar": {
             "outlinewidth": 0,
             "ticks": ""
            },
            "colorscale": [
             [
              0,
              "#0d0887"
             ],
             [
              0.1111111111111111,
              "#46039f"
             ],
             [
              0.2222222222222222,
              "#7201a8"
             ],
             [
              0.3333333333333333,
              "#9c179e"
             ],
             [
              0.4444444444444444,
              "#bd3786"
             ],
             [
              0.5555555555555556,
              "#d8576b"
             ],
             [
              0.6666666666666666,
              "#ed7953"
             ],
             [
              0.7777777777777778,
              "#fb9f3a"
             ],
             [
              0.8888888888888888,
              "#fdca26"
             ],
             [
              1,
              "#f0f921"
             ]
            ],
            "type": "heatmap"
           }
          ],
          "heatmapgl": [
           {
            "colorbar": {
             "outlinewidth": 0,
             "ticks": ""
            },
            "colorscale": [
             [
              0,
              "#0d0887"
             ],
             [
              0.1111111111111111,
              "#46039f"
             ],
             [
              0.2222222222222222,
              "#7201a8"
             ],
             [
              0.3333333333333333,
              "#9c179e"
             ],
             [
              0.4444444444444444,
              "#bd3786"
             ],
             [
              0.5555555555555556,
              "#d8576b"
             ],
             [
              0.6666666666666666,
              "#ed7953"
             ],
             [
              0.7777777777777778,
              "#fb9f3a"
             ],
             [
              0.8888888888888888,
              "#fdca26"
             ],
             [
              1,
              "#f0f921"
             ]
            ],
            "type": "heatmapgl"
           }
          ],
          "histogram": [
           {
            "marker": {
             "pattern": {
              "fillmode": "overlay",
              "size": 10,
              "solidity": 0.2
             }
            },
            "type": "histogram"
           }
          ],
          "histogram2d": [
           {
            "colorbar": {
             "outlinewidth": 0,
             "ticks": ""
            },
            "colorscale": [
             [
              0,
              "#0d0887"
             ],
             [
              0.1111111111111111,
              "#46039f"
             ],
             [
              0.2222222222222222,
              "#7201a8"
             ],
             [
              0.3333333333333333,
              "#9c179e"
             ],
             [
              0.4444444444444444,
              "#bd3786"
             ],
             [
              0.5555555555555556,
              "#d8576b"
             ],
             [
              0.6666666666666666,
              "#ed7953"
             ],
             [
              0.7777777777777778,
              "#fb9f3a"
             ],
             [
              0.8888888888888888,
              "#fdca26"
             ],
             [
              1,
              "#f0f921"
             ]
            ],
            "type": "histogram2d"
           }
          ],
          "histogram2dcontour": [
           {
            "colorbar": {
             "outlinewidth": 0,
             "ticks": ""
            },
            "colorscale": [
             [
              0,
              "#0d0887"
             ],
             [
              0.1111111111111111,
              "#46039f"
             ],
             [
              0.2222222222222222,
              "#7201a8"
             ],
             [
              0.3333333333333333,
              "#9c179e"
             ],
             [
              0.4444444444444444,
              "#bd3786"
             ],
             [
              0.5555555555555556,
              "#d8576b"
             ],
             [
              0.6666666666666666,
              "#ed7953"
             ],
             [
              0.7777777777777778,
              "#fb9f3a"
             ],
             [
              0.8888888888888888,
              "#fdca26"
             ],
             [
              1,
              "#f0f921"
             ]
            ],
            "type": "histogram2dcontour"
           }
          ],
          "mesh3d": [
           {
            "colorbar": {
             "outlinewidth": 0,
             "ticks": ""
            },
            "type": "mesh3d"
           }
          ],
          "parcoords": [
           {
            "line": {
             "colorbar": {
              "outlinewidth": 0,
              "ticks": ""
             }
            },
            "type": "parcoords"
           }
          ],
          "pie": [
           {
            "automargin": true,
            "type": "pie"
           }
          ],
          "scatter": [
           {
            "fillpattern": {
             "fillmode": "overlay",
             "size": 10,
             "solidity": 0.2
            },
            "type": "scatter"
           }
          ],
          "scatter3d": [
           {
            "line": {
             "colorbar": {
              "outlinewidth": 0,
              "ticks": ""
             }
            },
            "marker": {
             "colorbar": {
              "outlinewidth": 0,
              "ticks": ""
             }
            },
            "type": "scatter3d"
           }
          ],
          "scattercarpet": [
           {
            "marker": {
             "colorbar": {
              "outlinewidth": 0,
              "ticks": ""
             }
            },
            "type": "scattercarpet"
           }
          ],
          "scattergeo": [
           {
            "marker": {
             "colorbar": {
              "outlinewidth": 0,
              "ticks": ""
             }
            },
            "type": "scattergeo"
           }
          ],
          "scattergl": [
           {
            "marker": {
             "colorbar": {
              "outlinewidth": 0,
              "ticks": ""
             }
            },
            "type": "scattergl"
           }
          ],
          "scattermapbox": [
           {
            "marker": {
             "colorbar": {
              "outlinewidth": 0,
              "ticks": ""
             }
            },
            "type": "scattermapbox"
           }
          ],
          "scatterpolar": [
           {
            "marker": {
             "colorbar": {
              "outlinewidth": 0,
              "ticks": ""
             }
            },
            "type": "scatterpolar"
           }
          ],
          "scatterpolargl": [
           {
            "marker": {
             "colorbar": {
              "outlinewidth": 0,
              "ticks": ""
             }
            },
            "type": "scatterpolargl"
           }
          ],
          "scatterternary": [
           {
            "marker": {
             "colorbar": {
              "outlinewidth": 0,
              "ticks": ""
             }
            },
            "type": "scatterternary"
           }
          ],
          "surface": [
           {
            "colorbar": {
             "outlinewidth": 0,
             "ticks": ""
            },
            "colorscale": [
             [
              0,
              "#0d0887"
             ],
             [
              0.1111111111111111,
              "#46039f"
             ],
             [
              0.2222222222222222,
              "#7201a8"
             ],
             [
              0.3333333333333333,
              "#9c179e"
             ],
             [
              0.4444444444444444,
              "#bd3786"
             ],
             [
              0.5555555555555556,
              "#d8576b"
             ],
             [
              0.6666666666666666,
              "#ed7953"
             ],
             [
              0.7777777777777778,
              "#fb9f3a"
             ],
             [
              0.8888888888888888,
              "#fdca26"
             ],
             [
              1,
              "#f0f921"
             ]
            ],
            "type": "surface"
           }
          ],
          "table": [
           {
            "cells": {
             "fill": {
              "color": "#EBF0F8"
             },
             "line": {
              "color": "white"
             }
            },
            "header": {
             "fill": {
              "color": "#C8D4E3"
             },
             "line": {
              "color": "white"
             }
            },
            "type": "table"
           }
          ]
         },
         "layout": {
          "annotationdefaults": {
           "arrowcolor": "#2a3f5f",
           "arrowhead": 0,
           "arrowwidth": 1
          },
          "autotypenumbers": "strict",
          "coloraxis": {
           "colorbar": {
            "outlinewidth": 0,
            "ticks": ""
           }
          },
          "colorscale": {
           "diverging": [
            [
             0,
             "#8e0152"
            ],
            [
             0.1,
             "#c51b7d"
            ],
            [
             0.2,
             "#de77ae"
            ],
            [
             0.3,
             "#f1b6da"
            ],
            [
             0.4,
             "#fde0ef"
            ],
            [
             0.5,
             "#f7f7f7"
            ],
            [
             0.6,
             "#e6f5d0"
            ],
            [
             0.7,
             "#b8e186"
            ],
            [
             0.8,
             "#7fbc41"
            ],
            [
             0.9,
             "#4d9221"
            ],
            [
             1,
             "#276419"
            ]
           ],
           "sequential": [
            [
             0,
             "#0d0887"
            ],
            [
             0.1111111111111111,
             "#46039f"
            ],
            [
             0.2222222222222222,
             "#7201a8"
            ],
            [
             0.3333333333333333,
             "#9c179e"
            ],
            [
             0.4444444444444444,
             "#bd3786"
            ],
            [
             0.5555555555555556,
             "#d8576b"
            ],
            [
             0.6666666666666666,
             "#ed7953"
            ],
            [
             0.7777777777777778,
             "#fb9f3a"
            ],
            [
             0.8888888888888888,
             "#fdca26"
            ],
            [
             1,
             "#f0f921"
            ]
           ],
           "sequentialminus": [
            [
             0,
             "#0d0887"
            ],
            [
             0.1111111111111111,
             "#46039f"
            ],
            [
             0.2222222222222222,
             "#7201a8"
            ],
            [
             0.3333333333333333,
             "#9c179e"
            ],
            [
             0.4444444444444444,
             "#bd3786"
            ],
            [
             0.5555555555555556,
             "#d8576b"
            ],
            [
             0.6666666666666666,
             "#ed7953"
            ],
            [
             0.7777777777777778,
             "#fb9f3a"
            ],
            [
             0.8888888888888888,
             "#fdca26"
            ],
            [
             1,
             "#f0f921"
            ]
           ]
          },
          "colorway": [
           "#636efa",
           "#EF553B",
           "#00cc96",
           "#ab63fa",
           "#FFA15A",
           "#19d3f3",
           "#FF6692",
           "#B6E880",
           "#FF97FF",
           "#FECB52"
          ],
          "font": {
           "color": "#2a3f5f"
          },
          "geo": {
           "bgcolor": "white",
           "lakecolor": "white",
           "landcolor": "#E5ECF6",
           "showlakes": true,
           "showland": true,
           "subunitcolor": "white"
          },
          "hoverlabel": {
           "align": "left"
          },
          "hovermode": "closest",
          "mapbox": {
           "style": "light"
          },
          "paper_bgcolor": "white",
          "plot_bgcolor": "#E5ECF6",
          "polar": {
           "angularaxis": {
            "gridcolor": "white",
            "linecolor": "white",
            "ticks": ""
           },
           "bgcolor": "#E5ECF6",
           "radialaxis": {
            "gridcolor": "white",
            "linecolor": "white",
            "ticks": ""
           }
          },
          "scene": {
           "xaxis": {
            "backgroundcolor": "#E5ECF6",
            "gridcolor": "white",
            "gridwidth": 2,
            "linecolor": "white",
            "showbackground": true,
            "ticks": "",
            "zerolinecolor": "white"
           },
           "yaxis": {
            "backgroundcolor": "#E5ECF6",
            "gridcolor": "white",
            "gridwidth": 2,
            "linecolor": "white",
            "showbackground": true,
            "ticks": "",
            "zerolinecolor": "white"
           },
           "zaxis": {
            "backgroundcolor": "#E5ECF6",
            "gridcolor": "white",
            "gridwidth": 2,
            "linecolor": "white",
            "showbackground": true,
            "ticks": "",
            "zerolinecolor": "white"
           }
          },
          "shapedefaults": {
           "line": {
            "color": "#2a3f5f"
           }
          },
          "ternary": {
           "aaxis": {
            "gridcolor": "white",
            "linecolor": "white",
            "ticks": ""
           },
           "baxis": {
            "gridcolor": "white",
            "linecolor": "white",
            "ticks": ""
           },
           "bgcolor": "#E5ECF6",
           "caxis": {
            "gridcolor": "white",
            "linecolor": "white",
            "ticks": ""
           }
          },
          "title": {
           "x": 0.05
          },
          "xaxis": {
           "automargin": true,
           "gridcolor": "white",
           "linecolor": "white",
           "ticks": "",
           "title": {
            "standoff": 15
           },
           "zerolinecolor": "white",
           "zerolinewidth": 2
          },
          "yaxis": {
           "automargin": true,
           "gridcolor": "white",
           "linecolor": "white",
           "ticks": "",
           "title": {
            "standoff": 15
           },
           "zerolinecolor": "white",
           "zerolinewidth": 2
          }
         }
        },
        "title": {
         "text": "Base values of the elements for each aspect"
        },
        "xaxis": {
         "anchor": "y",
         "domain": [
          0,
          1
         ],
         "title": {
          "text": "avg_elem_base_value"
         }
        },
        "yaxis": {
         "anchor": "x",
         "domain": [
          0,
          1
         ],
         "title": {
          "text": "athlete_name"
         }
        }
       }
      }
     },
     "metadata": {},
     "output_type": "display_data"
    }
   ],
   "source": [
    "# grafico con tutti i dati\n",
    "bubble = px.scatter(\n",
    "    athlete_base_value, y=\"athlete_name\", x=\"avg_elem_base_value\",\n",
    "    color=\"category\", size=\"avg_rank_inv\", \n",
    "    title='Base values of the elements for each aspect',\n",
    "    log_x=False, size_max=60,\n",
    "    labels={\"category\": \"Category\",\"avg_rank\": \"Average rank\"},\n",
    "    hover_data={\"avg_rank_inv\":False, \"avg_rank\": True},\n",
    "    category_orders={\"category\": ['Ladies','Men','Pairs','Ice dance']},\n",
    "    )\n",
    "bubble.update_traces(\n",
    "    marker=dict(symbol=\"star\", line=dict(width=0.5, color='DarkSlateGrey')),\n",
    "    selector=dict(mode=\"markers\")\n",
    "    )\n",
    "bubble.update_layout(height=1000)\n",
    "bubble.show()"
   ]
  },
  {
   "cell_type": "code",
   "execution_count": null,
   "metadata": {},
   "outputs": [],
   "source": []
  }
 ],
 "metadata": {
  "kernelspec": {
   "display_name": "Python 3 (ipykernel)",
   "language": "python",
   "name": "python3"
  },
  "language_info": {
   "codemirror_mode": {
    "name": "ipython",
    "version": 3
   },
   "file_extension": ".py",
   "mimetype": "text/x-python",
   "name": "python",
   "nbconvert_exporter": "python",
   "pygments_lexer": "ipython3",
   "version": "3.8.8"
  },
  "vscode": {
   "interpreter": {
    "hash": "9cda0c324310104f05d8df7cc4d2a731da6a442630e1c96fb26d87993a9b905b"
   }
  }
 },
 "nbformat": 4,
 "nbformat_minor": 2
}

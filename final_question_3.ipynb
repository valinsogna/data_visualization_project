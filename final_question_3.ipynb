{
 "cells": [
  {
   "cell_type": "markdown",
   "metadata": {},
   "source": [
    "# Sono più importanti per la classifica elements o components?"
   ]
  },
  {
   "attachments": {},
   "cell_type": "markdown",
   "metadata": {},
   "source": [
    "**L'immagine usata nella presentazione si trova alla sezione 2**"
   ]
  },
  {
   "cell_type": "markdown",
   "metadata": {},
   "source": [
    "Questo file presenta l'excursus per arrivare alla soluzione della domanda 3."
   ]
  },
  {
   "attachments": {},
   "cell_type": "markdown",
   "metadata": {},
   "source": [
    "## 1. Sistemo dataset"
   ]
  },
  {
   "cell_type": "code",
   "execution_count": 2,
   "metadata": {},
   "outputs": [],
   "source": [
    "import pandas as pd\n",
    "import numpy as np\n",
    "import plotly.express as px\n",
    "import plotly.graph_objects as go\n",
    "from plotly.subplots import make_subplots\n",
    "# import stats\n",
    "from scipy import stats"
   ]
  },
  {
   "cell_type": "code",
   "execution_count": 3,
   "metadata": {},
   "outputs": [
    {
     "name": "stdout",
     "output_type": "stream",
     "text": [
      "(214491, 19)\n"
     ]
    },
    {
     "data": {
      "text/html": [
       "<div>\n",
       "<style scoped>\n",
       "    .dataframe tbody tr th:only-of-type {\n",
       "        vertical-align: middle;\n",
       "    }\n",
       "\n",
       "    .dataframe tbody tr th {\n",
       "        vertical-align: top;\n",
       "    }\n",
       "\n",
       "    .dataframe thead th {\n",
       "        text-align: right;\n",
       "    }\n",
       "</style>\n",
       "<table border=\"1\" class=\"dataframe\">\n",
       "  <thead>\n",
       "    <tr style=\"text-align: right;\">\n",
       "      <th></th>\n",
       "      <th>event</th>\n",
       "      <th>program</th>\n",
       "      <th>performance_id</th>\n",
       "      <th>athlete_name</th>\n",
       "      <th>athlete_nation</th>\n",
       "      <th>rank</th>\n",
       "      <th>total_segment_score</th>\n",
       "      <th>total_element_score</th>\n",
       "      <th>total_component_score</th>\n",
       "      <th>total_deductions</th>\n",
       "      <th>aspect_id</th>\n",
       "      <th>aspect_desc</th>\n",
       "      <th>element_order</th>\n",
       "      <th>element_base_value</th>\n",
       "      <th>section</th>\n",
       "      <th>aspect_final_score</th>\n",
       "      <th>judge_name</th>\n",
       "      <th>judge_nation</th>\n",
       "      <th>judge_score</th>\n",
       "    </tr>\n",
       "  </thead>\n",
       "  <tbody>\n",
       "    <tr>\n",
       "      <th>0</th>\n",
       "      <td>ISU European Figure Skating Championships 2017</td>\n",
       "      <td>LADIES SHORT PROGRAM</td>\n",
       "      <td>b639d77459</td>\n",
       "      <td>Evgenia MEDVEDEVA</td>\n",
       "      <td>RUS</td>\n",
       "      <td>1</td>\n",
       "      <td>78.92</td>\n",
       "      <td>42.0</td>\n",
       "      <td>36.92</td>\n",
       "      <td>0.0</td>\n",
       "      <td>00034b9414</td>\n",
       "      <td>Transitions</td>\n",
       "      <td>NaN</td>\n",
       "      <td>NaN</td>\n",
       "      <td>components</td>\n",
       "      <td>9.07</td>\n",
       "      <td>Agita ABELE</td>\n",
       "      <td>LAT</td>\n",
       "      <td>9.0</td>\n",
       "    </tr>\n",
       "  </tbody>\n",
       "</table>\n",
       "</div>"
      ],
      "text/plain": [
       "                                            event               program  \\\n",
       "0  ISU European Figure Skating Championships 2017  LADIES SHORT PROGRAM   \n",
       "\n",
       "  performance_id       athlete_name athlete_nation  rank  total_segment_score  \\\n",
       "0     b639d77459  Evgenia MEDVEDEVA            RUS     1                78.92   \n",
       "\n",
       "   total_element_score  total_component_score  total_deductions   aspect_id  \\\n",
       "0                 42.0                  36.92               0.0  00034b9414   \n",
       "\n",
       "   aspect_desc  element_order  element_base_value     section  \\\n",
       "0  Transitions            NaN                 NaN  components   \n",
       "\n",
       "   aspect_final_score   judge_name judge_nation  judge_score  \n",
       "0                9.07  Agita ABELE          LAT          9.0  "
      ]
     },
     "execution_count": 3,
     "metadata": {},
     "output_type": "execute_result"
    }
   ],
   "source": [
    "data = pd.read_csv(\"data/final.csv\")\n",
    "print(data.shape) #214531, 19 rows, cols\n",
    "data.head(1)"
   ]
  },
  {
   "cell_type": "markdown",
   "metadata": {},
   "source": [
    "Colonne importanti:\n",
    "* rank \n",
    "* total_segment_score\t\n",
    "* total_element_score\t\n",
    "* total_component_score\n",
    "\n",
    "Righe importanti per performance_id $\\implies$ elimino doppioni"
   ]
  },
  {
   "cell_type": "code",
   "execution_count": 4,
   "metadata": {},
   "outputs": [
    {
     "data": {
      "text/html": [
       "<div>\n",
       "<style scoped>\n",
       "    .dataframe tbody tr th:only-of-type {\n",
       "        vertical-align: middle;\n",
       "    }\n",
       "\n",
       "    .dataframe tbody tr th {\n",
       "        vertical-align: top;\n",
       "    }\n",
       "\n",
       "    .dataframe thead th {\n",
       "        text-align: right;\n",
       "    }\n",
       "</style>\n",
       "<table border=\"1\" class=\"dataframe\">\n",
       "  <thead>\n",
       "    <tr style=\"text-align: right;\">\n",
       "      <th></th>\n",
       "      <th>index</th>\n",
       "      <th>event</th>\n",
       "      <th>program</th>\n",
       "      <th>performance_id</th>\n",
       "      <th>rank</th>\n",
       "      <th>total_segment_score</th>\n",
       "      <th>total_element_score</th>\n",
       "      <th>total_component_score</th>\n",
       "    </tr>\n",
       "  </thead>\n",
       "  <tbody>\n",
       "    <tr>\n",
       "      <th>0</th>\n",
       "      <td>0</td>\n",
       "      <td>ISU European Figure Skating Championships 2017</td>\n",
       "      <td>LADIES SHORT PROGRAM</td>\n",
       "      <td>b639d77459</td>\n",
       "      <td>1</td>\n",
       "      <td>78.92</td>\n",
       "      <td>42.0</td>\n",
       "      <td>36.92</td>\n",
       "    </tr>\n",
       "  </tbody>\n",
       "</table>\n",
       "</div>"
      ],
      "text/plain": [
       "   index                                           event  \\\n",
       "0      0  ISU European Figure Skating Championships 2017   \n",
       "\n",
       "                program performance_id  rank  total_segment_score  \\\n",
       "0  LADIES SHORT PROGRAM     b639d77459     1                78.92   \n",
       "\n",
       "   total_element_score  total_component_score  \n",
       "0                 42.0                  36.92  "
      ]
     },
     "execution_count": 4,
     "metadata": {},
     "output_type": "execute_result"
    }
   ],
   "source": [
    "# Elimino le righe con stessa performance_id:\n",
    "data = data.drop_duplicates(subset=['performance_id']).reset_index()\n",
    "\n",
    "# Elimino le colonne che non mi servono più\n",
    "data.drop('section', axis=1, inplace=True)\n",
    "data.drop('total_deductions', axis=1, inplace=True)\n",
    "data.drop('aspect_id', axis=1, inplace=True)\n",
    "data.drop('aspect_desc', axis=1, inplace=True)\n",
    "data.drop('element_order', axis=1, inplace=True)\n",
    "data.drop('element_base_value', axis=1, inplace=True)\n",
    "data.drop('aspect_final_score', axis=1, inplace=True)\n",
    "data.drop('judge_name', axis=1, inplace=True)\n",
    "data.drop('athlete_name', axis=1, inplace=True)\n",
    "data.drop('athlete_nation', axis=1, inplace=True)\n",
    "data.drop('judge_nation', axis=1, inplace=True)\n",
    "data.drop('judge_score', axis=1, inplace=True)\n",
    "\n",
    "data.head(1)"
   ]
  },
  {
   "cell_type": "markdown",
   "metadata": {},
   "source": [
    "Creo le nuove 4 categorie:"
   ]
  },
  {
   "cell_type": "code",
   "execution_count": 5,
   "metadata": {},
   "outputs": [
    {
     "data": {
      "text/plain": [
       "MEN SHORT PROGRAM               246\n",
       "LADIES SHORT PROGRAM            244\n",
       "MEN FREE SKATING                218\n",
       "LADIES FREE SKATING             218\n",
       "ICE DANCE SHORT DANCE           207\n",
       "ICE DANCE FREE DANCE            185\n",
       "PAIRS SHORT PROGRAM             164\n",
       "PAIRS FREE SKATING              150\n",
       "JUNIOR MEN FREE SKATING          12\n",
       "JUNIOR MEN SHORT PROGRAM         12\n",
       "JUNIOR ICE DANCE FREE DANCE      12\n",
       "JUNIOR PAIRS FREE SKATING        12\n",
       "JUNIOR PAIRS SHORT PROGRAM       12\n",
       "JUNIOR ICE DANCE SHORT DANCE     12\n",
       "JUNIOR LADIES SHORT PROGRAM      11\n",
       "JUNIOR LADIES FREE SKATING       11\n",
       "Name: program, dtype: int64"
      ]
     },
     "execution_count": 5,
     "metadata": {},
     "output_type": "execute_result"
    }
   ],
   "source": [
    "# quali sono le categorie di program?\n",
    "data['program'].value_counts()"
   ]
  },
  {
   "cell_type": "code",
   "execution_count": 6,
   "metadata": {},
   "outputs": [
    {
     "data": {
      "text/html": [
       "<div>\n",
       "<style scoped>\n",
       "    .dataframe tbody tr th:only-of-type {\n",
       "        vertical-align: middle;\n",
       "    }\n",
       "\n",
       "    .dataframe tbody tr th {\n",
       "        vertical-align: top;\n",
       "    }\n",
       "\n",
       "    .dataframe thead th {\n",
       "        text-align: right;\n",
       "    }\n",
       "</style>\n",
       "<table border=\"1\" class=\"dataframe\">\n",
       "  <thead>\n",
       "    <tr style=\"text-align: right;\">\n",
       "      <th></th>\n",
       "      <th>index</th>\n",
       "      <th>event</th>\n",
       "      <th>program</th>\n",
       "      <th>performance_id</th>\n",
       "      <th>rank</th>\n",
       "      <th>total_segment_score</th>\n",
       "      <th>total_element_score</th>\n",
       "      <th>total_component_score</th>\n",
       "      <th>category</th>\n",
       "    </tr>\n",
       "  </thead>\n",
       "  <tbody>\n",
       "    <tr>\n",
       "      <th>0</th>\n",
       "      <td>0</td>\n",
       "      <td>ISU European Figure Skating Championships 2017</td>\n",
       "      <td>LADIES SHORT PROGRAM</td>\n",
       "      <td>b639d77459</td>\n",
       "      <td>1</td>\n",
       "      <td>78.92</td>\n",
       "      <td>42.00</td>\n",
       "      <td>36.92</td>\n",
       "      <td>Ladies short</td>\n",
       "    </tr>\n",
       "    <tr>\n",
       "      <th>1</th>\n",
       "      <td>12</td>\n",
       "      <td>ISU European Figure Skating Championships 2017</td>\n",
       "      <td>LADIES SHORT PROGRAM</td>\n",
       "      <td>4764e4873e</td>\n",
       "      <td>24</td>\n",
       "      <td>45.97</td>\n",
       "      <td>24.77</td>\n",
       "      <td>21.20</td>\n",
       "      <td>Ladies short</td>\n",
       "    </tr>\n",
       "    <tr>\n",
       "      <th>2</th>\n",
       "      <td>24</td>\n",
       "      <td>ISU European Figure Skating Championships 2017</td>\n",
       "      <td>LADIES SHORT PROGRAM</td>\n",
       "      <td>877e5c34bb</td>\n",
       "      <td>2</td>\n",
       "      <td>74.39</td>\n",
       "      <td>39.90</td>\n",
       "      <td>34.49</td>\n",
       "      <td>Ladies short</td>\n",
       "    </tr>\n",
       "    <tr>\n",
       "      <th>3</th>\n",
       "      <td>36</td>\n",
       "      <td>ISU European Figure Skating Championships 2017</td>\n",
       "      <td>LADIES SHORT PROGRAM</td>\n",
       "      <td>53868b204a</td>\n",
       "      <td>17</td>\n",
       "      <td>51.47</td>\n",
       "      <td>29.04</td>\n",
       "      <td>22.43</td>\n",
       "      <td>Ladies short</td>\n",
       "    </tr>\n",
       "    <tr>\n",
       "      <th>4</th>\n",
       "      <td>48</td>\n",
       "      <td>ISU European Figure Skating Championships 2017</td>\n",
       "      <td>LADIES SHORT PROGRAM</td>\n",
       "      <td>da4b091d04</td>\n",
       "      <td>3</td>\n",
       "      <td>72.40</td>\n",
       "      <td>36.80</td>\n",
       "      <td>35.60</td>\n",
       "      <td>Ladies short</td>\n",
       "    </tr>\n",
       "  </tbody>\n",
       "</table>\n",
       "</div>"
      ],
      "text/plain": [
       "   index                                           event  \\\n",
       "0      0  ISU European Figure Skating Championships 2017   \n",
       "1     12  ISU European Figure Skating Championships 2017   \n",
       "2     24  ISU European Figure Skating Championships 2017   \n",
       "3     36  ISU European Figure Skating Championships 2017   \n",
       "4     48  ISU European Figure Skating Championships 2017   \n",
       "\n",
       "                program performance_id  rank  total_segment_score  \\\n",
       "0  LADIES SHORT PROGRAM     b639d77459     1                78.92   \n",
       "1  LADIES SHORT PROGRAM     4764e4873e    24                45.97   \n",
       "2  LADIES SHORT PROGRAM     877e5c34bb     2                74.39   \n",
       "3  LADIES SHORT PROGRAM     53868b204a    17                51.47   \n",
       "4  LADIES SHORT PROGRAM     da4b091d04     3                72.40   \n",
       "\n",
       "   total_element_score  total_component_score      category  \n",
       "0                42.00                  36.92  Ladies short  \n",
       "1                24.77                  21.20  Ladies short  \n",
       "2                39.90                  34.49  Ladies short  \n",
       "3                29.04                  22.43  Ladies short  \n",
       "4                36.80                  35.60  Ladies short  "
      ]
     },
     "execution_count": 6,
     "metadata": {},
     "output_type": "execute_result"
    }
   ],
   "source": [
    "# creo una colonna caregory in cui sono presenti le 8 categorie: (Ladies, men, pairs, ice_dance) x short + free\n",
    "# create a list of our conditions\n",
    "conditions = [\n",
    "    \n",
    "    (data['program'] == \"LADIES SHORT PROGRAM\") |\n",
    "    (data['program'] == \"JUNIOR LADIES SHORT PROGRAM\"),\n",
    "\n",
    "    (data['program'] == \"MEN SHORT PROGRAM\") |\n",
    "    (data['program'] == \"JUNIOR MEN SHORT PROGRAM\"),\n",
    "\n",
    "    (data['program'] == \"PAIRS SHORT PROGRAM\") |\n",
    "    (data['program'] == \"JUNIOR PAIRS SHORT PROGRAM\"),\n",
    "\n",
    "    (data['program'] == \"ICE DANCE SHORT DANCE\") |\n",
    "    (data['program'] == \"JUNIOR ICE DANCE SHORT DANCE\"),\n",
    "\n",
    "    (data['program'] == \"ICE DANCE FREE DANCE\") |\n",
    "    (data['program'] == \"JUNIOR ICE DANCE FREE DANCE\"),\n",
    "\n",
    "    (data['program'] == \"JUNIOR LADIES FREE SKATING\") |\n",
    "    (data['program'] == \"LADIES FREE SKATING\") ,\n",
    "\n",
    "    (data['program'] == \"MEN FREE SKATING\") |\n",
    "    (data['program'] == \"JUNIOR MEN FREE SKATING\"),\n",
    "\n",
    "    (data['program'] == \"PAIRS FREE SKATING\") |\n",
    "    (data['program'] == \"JUNIOR PAIRS FREE SKATING\")\n",
    "\n",
    "    ]\n",
    "\n",
    "# create a list of the values we want to assign for each condition\n",
    "values = ['Ladies short','Men short','Pairs short','Ice dance short', 'Ice dance free', 'Ladies free','Men free','Pairs free']\n",
    "\n",
    "# create a new column and use np.select to assign values to it using our lists as arguments\n",
    "data['category'] = np.select(conditions, values)\n",
    "\n",
    "# display updated DataFrame\n",
    "data.head()"
   ]
  },
  {
   "cell_type": "code",
   "execution_count": 7,
   "metadata": {},
   "outputs": [
    {
     "data": {
      "text/plain": [
       "event                                           program                     \n",
       "Grand Prix Final 2017 Senior and Junior         ICE DANCE FREE DANCE             6\n",
       "                                                ICE DANCE SHORT DANCE            6\n",
       "                                                JUNIOR ICE DANCE FREE DANCE      6\n",
       "                                                JUNIOR ICE DANCE SHORT DANCE     6\n",
       "                                                JUNIOR LADIES FREE SKATING       6\n",
       "                                                JUNIOR LADIES SHORT PROGRAM      6\n",
       "                                                JUNIOR MEN FREE SKATING          6\n",
       "                                                JUNIOR MEN SHORT PROGRAM         6\n",
       "                                                JUNIOR PAIRS FREE SKATING        6\n",
       "                                                JUNIOR PAIRS SHORT PROGRAM       6\n",
       "                                                LADIES FREE SKATING              6\n",
       "                                                LADIES SHORT PROGRAM             6\n",
       "                                                MEN FREE SKATING                 6\n",
       "                                                MEN SHORT PROGRAM                6\n",
       "                                                PAIRS FREE SKATING               6\n",
       "                                                PAIRS SHORT PROGRAM              6\n",
       "ISU European Figure Skating Championships 2017  ICE DANCE FREE DANCE            20\n",
       "                                                ICE DANCE SHORT DANCE           30\n",
       "                                                LADIES FREE SKATING             24\n",
       "                                                LADIES SHORT PROGRAM            34\n",
       "Name: rank, dtype: int64"
      ]
     },
     "execution_count": 7,
     "metadata": {},
     "output_type": "execute_result"
    }
   ],
   "source": [
    "# Calcola quante categorie presenta la colonna 'rank' in 'data' per ogni 'event' e 'program':\n",
    "ranking = data.groupby(['event','program'])['rank'].nunique() #Count number of distinct elements in specified axis\n",
    "ranking.head(20)"
   ]
  },
  {
   "cell_type": "code",
   "execution_count": 8,
   "metadata": {},
   "outputs": [
    {
     "data": {
      "text/html": [
       "<div>\n",
       "<style scoped>\n",
       "    .dataframe tbody tr th:only-of-type {\n",
       "        vertical-align: middle;\n",
       "    }\n",
       "\n",
       "    .dataframe tbody tr th {\n",
       "        vertical-align: top;\n",
       "    }\n",
       "\n",
       "    .dataframe thead th {\n",
       "        text-align: right;\n",
       "    }\n",
       "</style>\n",
       "<table border=\"1\" class=\"dataframe\">\n",
       "  <thead>\n",
       "    <tr style=\"text-align: right;\">\n",
       "      <th></th>\n",
       "      <th>index</th>\n",
       "      <th>event</th>\n",
       "      <th>program</th>\n",
       "      <th>performance_id</th>\n",
       "      <th>rank</th>\n",
       "      <th>total_segment_score</th>\n",
       "      <th>total_element_score</th>\n",
       "      <th>total_component_score</th>\n",
       "      <th>category</th>\n",
       "      <th>rank_inv</th>\n",
       "    </tr>\n",
       "  </thead>\n",
       "  <tbody>\n",
       "    <tr>\n",
       "      <th>0</th>\n",
       "      <td>0</td>\n",
       "      <td>ISU European Figure Skating Championships 2017</td>\n",
       "      <td>LADIES SHORT PROGRAM</td>\n",
       "      <td>b639d77459</td>\n",
       "      <td>1</td>\n",
       "      <td>78.92</td>\n",
       "      <td>42.0</td>\n",
       "      <td>36.92</td>\n",
       "      <td>Ladies short</td>\n",
       "      <td>1.0</td>\n",
       "    </tr>\n",
       "  </tbody>\n",
       "</table>\n",
       "</div>"
      ],
      "text/plain": [
       "   index                                           event  \\\n",
       "0      0  ISU European Figure Skating Championships 2017   \n",
       "\n",
       "                program performance_id  rank  total_segment_score  \\\n",
       "0  LADIES SHORT PROGRAM     b639d77459     1                78.92   \n",
       "\n",
       "   total_element_score  total_component_score      category  rank_inv  \n",
       "0                 42.0                  36.92  Ladies short       1.0  "
      ]
     },
     "execution_count": 8,
     "metadata": {},
     "output_type": "execute_result"
    }
   ],
   "source": [
    "# Ordino data secondo il rank in modo rescente:\n",
    "data = data.sort_values(by=['rank'], ascending=True)\n",
    "# Create a new column with the inverse of the rank:\n",
    "data['rank_inv'] = 1/data['rank']\n",
    "data.head(1)"
   ]
  },
  {
   "cell_type": "code",
   "execution_count": 9,
   "metadata": {},
   "outputs": [
    {
     "data": {
      "text/html": [
       "<div>\n",
       "<style scoped>\n",
       "    .dataframe tbody tr th:only-of-type {\n",
       "        vertical-align: middle;\n",
       "    }\n",
       "\n",
       "    .dataframe tbody tr th {\n",
       "        vertical-align: top;\n",
       "    }\n",
       "\n",
       "    .dataframe thead th {\n",
       "        text-align: right;\n",
       "    }\n",
       "</style>\n",
       "<table border=\"1\" class=\"dataframe\">\n",
       "  <thead>\n",
       "    <tr style=\"text-align: right;\">\n",
       "      <th></th>\n",
       "      <th>index</th>\n",
       "      <th>event</th>\n",
       "      <th>program</th>\n",
       "      <th>performance_id</th>\n",
       "      <th>rank</th>\n",
       "      <th>total_segment_score</th>\n",
       "      <th>total_element_score</th>\n",
       "      <th>total_component_score</th>\n",
       "      <th>category</th>\n",
       "      <th>rank_inv</th>\n",
       "      <th>weight_elem</th>\n",
       "      <th>weight_comp</th>\n",
       "    </tr>\n",
       "  </thead>\n",
       "  <tbody>\n",
       "    <tr>\n",
       "      <th>0</th>\n",
       "      <td>0</td>\n",
       "      <td>ISU European Figure Skating Championships 2017</td>\n",
       "      <td>LADIES SHORT PROGRAM</td>\n",
       "      <td>b639d77459</td>\n",
       "      <td>1</td>\n",
       "      <td>78.92</td>\n",
       "      <td>42.00</td>\n",
       "      <td>36.92</td>\n",
       "      <td>Ladies short</td>\n",
       "      <td>1.0</td>\n",
       "      <td>0.532184</td>\n",
       "      <td>0.467816</td>\n",
       "    </tr>\n",
       "    <tr>\n",
       "      <th>837</th>\n",
       "      <td>103731</td>\n",
       "      <td>Grand Prix Final 2017 Senior and Junior</td>\n",
       "      <td>LADIES FREE SKATING</td>\n",
       "      <td>5e8023f5f0</td>\n",
       "      <td>1</td>\n",
       "      <td>147.03</td>\n",
       "      <td>76.61</td>\n",
       "      <td>70.42</td>\n",
       "      <td>Ladies free</td>\n",
       "      <td>1.0</td>\n",
       "      <td>0.521050</td>\n",
       "      <td>0.478950</td>\n",
       "    </tr>\n",
       "    <tr>\n",
       "      <th>805</th>\n",
       "      <td>100830</td>\n",
       "      <td>ISU World Figure Skating Championships 2017</td>\n",
       "      <td>ICE DANCE SHORT DANCE</td>\n",
       "      <td>8e7983756f</td>\n",
       "      <td>1</td>\n",
       "      <td>82.43</td>\n",
       "      <td>43.74</td>\n",
       "      <td>38.69</td>\n",
       "      <td>Ice dance short</td>\n",
       "      <td>1.0</td>\n",
       "      <td>0.530632</td>\n",
       "      <td>0.469368</td>\n",
       "    </tr>\n",
       "    <tr>\n",
       "      <th>793</th>\n",
       "      <td>99910</td>\n",
       "      <td>ISU GP Rostelecom Cup 2017</td>\n",
       "      <td>ICE DANCE SHORT DANCE</td>\n",
       "      <td>43f5771db8</td>\n",
       "      <td>1</td>\n",
       "      <td>77.30</td>\n",
       "      <td>40.23</td>\n",
       "      <td>37.07</td>\n",
       "      <td>Ice dance short</td>\n",
       "      <td>1.0</td>\n",
       "      <td>0.520440</td>\n",
       "      <td>0.479560</td>\n",
       "    </tr>\n",
       "    <tr>\n",
       "      <th>782</th>\n",
       "      <td>98280</td>\n",
       "      <td>ISU GP Audi Cup of China 2016</td>\n",
       "      <td>MEN FREE SKATING</td>\n",
       "      <td>58a25fecce</td>\n",
       "      <td>1</td>\n",
       "      <td>196.31</td>\n",
       "      <td>104.31</td>\n",
       "      <td>93.00</td>\n",
       "      <td>Men free</td>\n",
       "      <td>1.0</td>\n",
       "      <td>0.531353</td>\n",
       "      <td>0.473741</td>\n",
       "    </tr>\n",
       "  </tbody>\n",
       "</table>\n",
       "</div>"
      ],
      "text/plain": [
       "      index                                           event  \\\n",
       "0         0  ISU European Figure Skating Championships 2017   \n",
       "837  103731         Grand Prix Final 2017 Senior and Junior   \n",
       "805  100830     ISU World Figure Skating Championships 2017   \n",
       "793   99910                      ISU GP Rostelecom Cup 2017   \n",
       "782   98280                   ISU GP Audi Cup of China 2016   \n",
       "\n",
       "                   program performance_id  rank  total_segment_score  \\\n",
       "0     LADIES SHORT PROGRAM     b639d77459     1                78.92   \n",
       "837    LADIES FREE SKATING     5e8023f5f0     1               147.03   \n",
       "805  ICE DANCE SHORT DANCE     8e7983756f     1                82.43   \n",
       "793  ICE DANCE SHORT DANCE     43f5771db8     1                77.30   \n",
       "782       MEN FREE SKATING     58a25fecce     1               196.31   \n",
       "\n",
       "     total_element_score  total_component_score         category  rank_inv  \\\n",
       "0                  42.00                  36.92     Ladies short       1.0   \n",
       "837                76.61                  70.42      Ladies free       1.0   \n",
       "805                43.74                  38.69  Ice dance short       1.0   \n",
       "793                40.23                  37.07  Ice dance short       1.0   \n",
       "782               104.31                  93.00         Men free       1.0   \n",
       "\n",
       "     weight_elem  weight_comp  \n",
       "0       0.532184     0.467816  \n",
       "837     0.521050     0.478950  \n",
       "805     0.530632     0.469368  \n",
       "793     0.520440     0.479560  \n",
       "782     0.531353     0.473741  "
      ]
     },
     "execution_count": 9,
     "metadata": {},
     "output_type": "execute_result"
    }
   ],
   "source": [
    "# Aggiungi colonna con il peso dei component_score e element_score per ogni performance_id in percentuale rispetto al totale total_segment_score:\n",
    "data['weight_elem'] = data['total_element_score']/data['total_segment_score']\n",
    "data['weight_comp'] = data['total_component_score']/data['total_segment_score']\n",
    "data.head()"
   ]
  },
  {
   "cell_type": "markdown",
   "metadata": {},
   "source": [
    "Raggruppo i dati per categoria e rank prendendo la media dei pesi degli elementi e dei pesi dei componenti"
   ]
  },
  {
   "cell_type": "code",
   "execution_count": 10,
   "metadata": {},
   "outputs": [
    {
     "name": "stderr",
     "output_type": "stream",
     "text": [
      "<ipython-input-10-e50f1661b72a>:2: FutureWarning: Indexing with multiple keys (implicitly converted to a tuple of keys) will be deprecated, use a list instead.\n",
      "  medie = data.groupby(['category', 'rank'])['weight_elem', 'weight_comp'].mean().reset_index()\n",
      "<ipython-input-10-e50f1661b72a>:7: UserWarning: Pandas doesn't allow columns to be created via a new attribute name - see https://pandas.pydata.org/pandas-docs/stable/indexing.html#attribute-access\n",
      "  medie.colnames = ['category', 'rank', 'weight_elem', 'weight_comp', 'rank_inv']\n"
     ]
    },
    {
     "data": {
      "text/html": [
       "<div>\n",
       "<style scoped>\n",
       "    .dataframe tbody tr th:only-of-type {\n",
       "        vertical-align: middle;\n",
       "    }\n",
       "\n",
       "    .dataframe tbody tr th {\n",
       "        vertical-align: top;\n",
       "    }\n",
       "\n",
       "    .dataframe thead th {\n",
       "        text-align: right;\n",
       "    }\n",
       "</style>\n",
       "<table border=\"1\" class=\"dataframe\">\n",
       "  <thead>\n",
       "    <tr style=\"text-align: right;\">\n",
       "      <th></th>\n",
       "      <th>category</th>\n",
       "      <th>rank</th>\n",
       "      <th>weight_elem</th>\n",
       "      <th>weight_comp</th>\n",
       "      <th>rank_inv</th>\n",
       "    </tr>\n",
       "  </thead>\n",
       "  <tbody>\n",
       "    <tr>\n",
       "      <th>0</th>\n",
       "      <td>Ice dance free</td>\n",
       "      <td>1</td>\n",
       "      <td>0.500918</td>\n",
       "      <td>0.499082</td>\n",
       "      <td>1.0</td>\n",
       "    </tr>\n",
       "    <tr>\n",
       "      <th>52</th>\n",
       "      <td>Ladies free</td>\n",
       "      <td>1</td>\n",
       "      <td>0.510249</td>\n",
       "      <td>0.491218</td>\n",
       "      <td>1.0</td>\n",
       "    </tr>\n",
       "    <tr>\n",
       "      <th>189</th>\n",
       "      <td>Pairs short</td>\n",
       "      <td>1</td>\n",
       "      <td>0.545739</td>\n",
       "      <td>0.454937</td>\n",
       "      <td>1.0</td>\n",
       "    </tr>\n",
       "    <tr>\n",
       "      <th>76</th>\n",
       "      <td>Ladies short</td>\n",
       "      <td>1</td>\n",
       "      <td>0.532529</td>\n",
       "      <td>0.467471</td>\n",
       "      <td>1.0</td>\n",
       "    </tr>\n",
       "    <tr>\n",
       "      <th>173</th>\n",
       "      <td>Pairs free</td>\n",
       "      <td>1</td>\n",
       "      <td>0.501095</td>\n",
       "      <td>0.501993</td>\n",
       "      <td>1.0</td>\n",
       "    </tr>\n",
       "  </tbody>\n",
       "</table>\n",
       "</div>"
      ],
      "text/plain": [
       "           category  rank  weight_elem  weight_comp  rank_inv\n",
       "0    Ice dance free     1     0.500918     0.499082       1.0\n",
       "52      Ladies free     1     0.510249     0.491218       1.0\n",
       "189     Pairs short     1     0.545739     0.454937       1.0\n",
       "76     Ladies short     1     0.532529     0.467471       1.0\n",
       "173      Pairs free     1     0.501095     0.501993       1.0"
      ]
     },
     "execution_count": 10,
     "metadata": {},
     "output_type": "execute_result"
    }
   ],
   "source": [
    "# Raggruppo i dati per categoria e rank prendendo la media dei pesi degli elementi e dei pesi dei componenti:\n",
    "medie = data.groupby(['category', 'rank'])['weight_elem', 'weight_comp'].mean().reset_index() \n",
    "# Ordino data secondo il rank in modo crescente:\n",
    "medie = medie.sort_values(by=['rank'], ascending=True)\n",
    "# Create a new column with the inverse of the rank:\n",
    "medie['rank_inv'] = 1/medie['rank']\n",
    "medie.colnames = ['category', 'rank', 'weight_elem', 'weight_comp', 'rank_inv']\n",
    "medie.head()"
   ]
  },
  {
   "cell_type": "markdown",
   "metadata": {},
   "source": [
    "Dal momento che il **rank** varia da 1 a 37 e differisce a seconda dell'evento e del programma, ho deciso di creare una nuova metrica **rank level** che riassuma qualitativamente il livello di classifica: sarà un valore che varia da low a high."
   ]
  },
  {
   "cell_type": "code",
   "execution_count": 11,
   "metadata": {},
   "outputs": [
    {
     "data": {
      "text/plain": [
       "event                                           program                     \n",
       "Grand Prix Final 2017 Senior and Junior         ICE DANCE FREE DANCE             6\n",
       "                                                ICE DANCE SHORT DANCE            6\n",
       "                                                JUNIOR ICE DANCE FREE DANCE      6\n",
       "                                                JUNIOR ICE DANCE SHORT DANCE     6\n",
       "                                                JUNIOR LADIES FREE SKATING       6\n",
       "                                                JUNIOR LADIES SHORT PROGRAM      6\n",
       "                                                JUNIOR MEN FREE SKATING          6\n",
       "                                                JUNIOR MEN SHORT PROGRAM         6\n",
       "                                                JUNIOR PAIRS FREE SKATING        6\n",
       "                                                JUNIOR PAIRS SHORT PROGRAM       6\n",
       "                                                LADIES FREE SKATING              6\n",
       "                                                LADIES SHORT PROGRAM             6\n",
       "                                                MEN FREE SKATING                 6\n",
       "                                                MEN SHORT PROGRAM                6\n",
       "                                                PAIRS FREE SKATING               6\n",
       "                                                PAIRS SHORT PROGRAM              6\n",
       "ISU European Figure Skating Championships 2017  ICE DANCE FREE DANCE            20\n",
       "                                                ICE DANCE SHORT DANCE           30\n",
       "                                                LADIES FREE SKATING             24\n",
       "                                                LADIES SHORT PROGRAM            34\n",
       "Name: rank, dtype: int64"
      ]
     },
     "execution_count": 11,
     "metadata": {},
     "output_type": "execute_result"
    }
   ],
   "source": [
    "# Calcola quante categorie presenta la colonna 'rank' in 'data' per ogni 'event' e 'program':\n",
    "ranking.head(20) #Series object"
   ]
  },
  {
   "cell_type": "code",
   "execution_count": 12,
   "metadata": {},
   "outputs": [
    {
     "data": {
      "text/plain": [
       "count    152.000000\n",
       "mean      11.355263\n",
       "std        6.493408\n",
       "min        5.000000\n",
       "25%        7.000000\n",
       "50%       10.000000\n",
       "75%       12.000000\n",
       "max       37.000000\n",
       "Name: rank, dtype: float64"
      ]
     },
     "execution_count": 12,
     "metadata": {},
     "output_type": "execute_result"
    }
   ],
   "source": [
    "# get info about the ranking:\n",
    "ranking.describe() # min is 5 max is 37 of number of participants in all events of all programs"
   ]
  },
  {
   "cell_type": "code",
   "execution_count": 13,
   "metadata": {},
   "outputs": [
    {
     "name": "stderr",
     "output_type": "stream",
     "text": [
      "<ipython-input-13-0d0d795d51bc>:12: FutureWarning: Indexing with multiple keys (implicitly converted to a tuple of keys) will be deprecated, use a list instead.\n",
      "  medie2 = data.groupby(['category', 'rank_perc_cat'])['weight_elem', 'weight_comp'].mean().reset_index()\n"
     ]
    },
    {
     "data": {
      "text/html": [
       "<div>\n",
       "<style scoped>\n",
       "    .dataframe tbody tr th:only-of-type {\n",
       "        vertical-align: middle;\n",
       "    }\n",
       "\n",
       "    .dataframe tbody tr th {\n",
       "        vertical-align: top;\n",
       "    }\n",
       "\n",
       "    .dataframe thead th {\n",
       "        text-align: right;\n",
       "    }\n",
       "</style>\n",
       "<table border=\"1\" class=\"dataframe\">\n",
       "  <thead>\n",
       "    <tr style=\"text-align: right;\">\n",
       "      <th></th>\n",
       "      <th>category</th>\n",
       "      <th>rank_perc_cat</th>\n",
       "      <th>weight_elem</th>\n",
       "      <th>weight_comp</th>\n",
       "      <th>rank_perc</th>\n",
       "    </tr>\n",
       "  </thead>\n",
       "  <tbody>\n",
       "    <tr>\n",
       "      <th>15</th>\n",
       "      <td>Ladies short</td>\n",
       "      <td>high</td>\n",
       "      <td>0.534455</td>\n",
       "      <td>0.465871</td>\n",
       "      <td>0.029412</td>\n",
       "    </tr>\n",
       "    <tr>\n",
       "      <th>5</th>\n",
       "      <td>Ice dance short</td>\n",
       "      <td>high</td>\n",
       "      <td>0.515120</td>\n",
       "      <td>0.485210</td>\n",
       "      <td>0.031250</td>\n",
       "    </tr>\n",
       "    <tr>\n",
       "      <th>25</th>\n",
       "      <td>Men short</td>\n",
       "      <td>high</td>\n",
       "      <td>0.542448</td>\n",
       "      <td>0.459869</td>\n",
       "      <td>0.090909</td>\n",
       "    </tr>\n",
       "    <tr>\n",
       "      <th>20</th>\n",
       "      <td>Men free</td>\n",
       "      <td>high</td>\n",
       "      <td>0.528909</td>\n",
       "      <td>0.474816</td>\n",
       "      <td>0.100000</td>\n",
       "    </tr>\n",
       "    <tr>\n",
       "      <th>0</th>\n",
       "      <td>Ice dance free</td>\n",
       "      <td>high</td>\n",
       "      <td>0.500477</td>\n",
       "      <td>0.499775</td>\n",
       "      <td>0.111111</td>\n",
       "    </tr>\n",
       "  </tbody>\n",
       "</table>\n",
       "</div>"
      ],
      "text/plain": [
       "           category rank_perc_cat  weight_elem  weight_comp  rank_perc\n",
       "15     Ladies short          high     0.534455     0.465871   0.029412\n",
       "5   Ice dance short          high     0.515120     0.485210   0.031250\n",
       "25        Men short          high     0.542448     0.459869   0.090909\n",
       "20         Men free          high     0.528909     0.474816   0.100000\n",
       "0    Ice dance free          high     0.500477     0.499775   0.111111"
      ]
     },
     "execution_count": 13,
     "metadata": {},
     "output_type": "execute_result"
    }
   ],
   "source": [
    "# Crea una nuova colonna in 'data' con il numero di partecipanti per ogni 'program' di ogni 'event' usando la serie 'ranking':\n",
    "data['n_participants'] = data.apply(lambda x: ranking.loc[(x['event'], x['program'])], axis=1)\n",
    "data.head(1)\n",
    "\n",
    "# Crea una colonna con il rank percentuale:\n",
    "data['rank_perc'] = data['rank']/data['n_participants']\n",
    "\n",
    "# Crea una colonna con il rank percentuale mappato in una variabile categorica:\n",
    "data['rank_perc_cat'] = data['rank_perc'].apply(lambda x: 'high' if x <= 0.20 else ('mid-high' if x <= 0.4 else ('medium' if x <= 0.60 else ('mid-low' if x <= 0.8 else 'low'))))\n",
    "\n",
    "# Creo il dataset medie2 coi dati dei valori medi delle colonne 'weight_elem', 'weight_comp' raggruppati secondo 'category' e 'rank_perc_cat':\n",
    "medie2 = data.groupby(['category', 'rank_perc_cat'])['weight_elem', 'weight_comp'].mean().reset_index()\n",
    "\n",
    "# Aggiungo una colonna 'rank_perc' a medie2 matchando con la colonna 'rank_perc' di data:\n",
    "medie2['rank_perc'] = medie2.apply(lambda x: data.loc[(data['category'] == x['category']) & (data['rank_perc_cat'] == x['rank_perc_cat']), 'rank_perc'].iloc[0], axis=1)\n",
    "# Ordino medie2 secondo il rank percentuale in modo crescente:\n",
    "medie2 = medie2.sort_values(by=['rank_perc'], ascending=True)\n",
    "\n",
    "medie2.head()"
   ]
  },
  {
   "cell_type": "code",
   "execution_count": 14,
   "metadata": {},
   "outputs": [],
   "source": [
    "# Add column \"rank_perc_cat_2\" filled with values from 1 to 5 based on the rank_perc_cat:\n",
    "medie2['rank_perc_cat_2'] = medie2['rank_perc_cat'].apply(lambda x: 5 if x == 'low' else (4 if x == 'mid-low' else (3 if x == 'medium' else (2 if x == 'mid-high' else 1))))"
   ]
  },
  {
   "cell_type": "code",
   "execution_count": 15,
   "metadata": {},
   "outputs": [],
   "source": [
    "palette = {'Ladies short':'#F833FA',\n",
    "            'Ladies free': '#F833FA',\n",
    "            'Men short':'#3399FA',\n",
    "            'Men free':'#3399FA',\n",
    "            'Pairs short':'#FA9433',\n",
    "            'Pairs free':'#FA9433',\n",
    "            'Ice dance short':'#35FA33',\n",
    "            'Ice dance free':'#35FA33'}"
   ]
  },
  {
   "cell_type": "code",
   "execution_count": 16,
   "metadata": {},
   "outputs": [
    {
     "data": {
      "application/vnd.plotly.v1+json": {
       "config": {
        "plotlyServerURL": "https://plot.ly"
       },
       "data": [
        {
         "customdata": [
          [
           0.029411764705882353
          ],
          [
           0.4
          ],
          [
           0.5
          ],
          [
           0.6666666666666666
          ],
          [
           0.8333333333333334
          ]
         ],
         "hovertemplate": "Category=Ladies short<br>Weight of elements=%{x}<br>Rank=%{y}<br>Rank percentage=%{customdata[0]}<extra></extra>",
         "legendgroup": "Ladies short",
         "marker": {
          "color": "#F833FA",
          "line": {
           "color": "DarkSlateGrey",
           "width": 0.5
          },
          "size": 18,
          "symbol": "circle"
         },
         "mode": "markers",
         "name": "Ladies short",
         "orientation": "h",
         "showlegend": true,
         "type": "scatter",
         "x": [
          0.5344551321136566,
          0.5367815490936283,
          0.5262364536027999,
          0.5274246932431231,
          0.5027027605325558
         ],
         "xaxis": "x",
         "y": [
          "high",
          "mid-high",
          "medium",
          "mid-low",
          "low"
         ],
         "yaxis": "y"
        },
        {
         "customdata": [
          [
           0.16666666666666666
          ],
          [
           0.4
          ],
          [
           0.5
          ],
          [
           0.6666666666666666
          ],
          [
           0.8333333333333334
          ]
         ],
         "hovertemplate": "Category=Ladies free<br>Weight of elements=%{x}<br>Rank=%{y}<br>Rank percentage=%{customdata[0]}<extra></extra>",
         "legendgroup": "Ladies free",
         "marker": {
          "color": "#F833FA",
          "line": {
           "color": "DarkSlateGrey",
           "width": 0.5
          },
          "size": 18,
          "symbol": "star"
         },
         "mode": "markers",
         "name": "Ladies free",
         "orientation": "h",
         "showlegend": true,
         "type": "scatter",
         "x": [
          0.505582707810362,
          0.5021541913277664,
          0.4926512643634074,
          0.49091098873448497,
          0.47521278607271883
         ],
         "xaxis": "x",
         "y": [
          "high",
          "mid-high",
          "medium",
          "mid-low",
          "low"
         ],
         "yaxis": "y"
        },
        {
         "customdata": [
          [
           0.09090909090909091
          ],
          [
           0.3333333333333333
          ],
          [
           0.5
          ],
          [
           0.6666666666666666
          ],
          [
           0.8333333333333334
          ]
         ],
         "hovertemplate": "Category=Men short<br>Weight of elements=%{x}<br>Rank=%{y}<br>Rank percentage=%{customdata[0]}<extra></extra>",
         "legendgroup": "Men short",
         "marker": {
          "color": "#3399FA",
          "line": {
           "color": "DarkSlateGrey",
           "width": 0.5
          },
          "size": 18,
          "symbol": "circle"
         },
         "mode": "markers",
         "name": "Men short",
         "orientation": "h",
         "showlegend": true,
         "type": "scatter",
         "x": [
          0.5424484666407794,
          0.5250890717481519,
          0.5228083205424591,
          0.5104927500281912,
          0.48824643053124805
         ],
         "xaxis": "x",
         "y": [
          "high",
          "mid-high",
          "medium",
          "mid-low",
          "low"
         ],
         "yaxis": "y"
        },
        {
         "customdata": [
          [
           0.1
          ],
          [
           0.3333333333333333
          ],
          [
           0.5
          ],
          [
           0.6666666666666666
          ],
          [
           0.8333333333333334
          ]
         ],
         "hovertemplate": "Category=Men free<br>Weight of elements=%{x}<br>Rank=%{y}<br>Rank percentage=%{customdata[0]}<extra></extra>",
         "legendgroup": "Men free",
         "marker": {
          "color": "#3399FA",
          "line": {
           "color": "DarkSlateGrey",
           "width": 0.5
          },
          "size": 18,
          "symbol": "star"
         },
         "mode": "markers",
         "name": "Men free",
         "orientation": "h",
         "showlegend": true,
         "type": "scatter",
         "x": [
          0.5289094265322807,
          0.517716578571006,
          0.5014524873201008,
          0.49512672685608905,
          0.4737820808695084
         ],
         "xaxis": "x",
         "y": [
          "high",
          "mid-high",
          "medium",
          "mid-low",
          "low"
         ],
         "yaxis": "y"
        },
        {
         "customdata": [
          [
           0.125
          ],
          [
           0.3333333333333333
          ],
          [
           0.5
          ],
          [
           0.6666666666666666
          ],
          [
           0.8333333333333334
          ]
         ],
         "hovertemplate": "Category=Pairs short<br>Weight of elements=%{x}<br>Rank=%{y}<br>Rank percentage=%{customdata[0]}<extra></extra>",
         "legendgroup": "Pairs short",
         "marker": {
          "color": "#FA9433",
          "line": {
           "color": "DarkSlateGrey",
           "width": 0.5
          },
          "size": 18,
          "symbol": "circle"
         },
         "mode": "markers",
         "name": "Pairs short",
         "orientation": "h",
         "showlegend": true,
         "type": "scatter",
         "x": [
          0.5480186734606602,
          0.5442631990182959,
          0.5466025619976486,
          0.5440292318520387,
          0.5358161517967936
         ],
         "xaxis": "x",
         "y": [
          "high",
          "mid-high",
          "medium",
          "mid-low",
          "low"
         ],
         "yaxis": "y"
        },
        {
         "customdata": [
          [
           0.14285714285714285
          ],
          [
           0.3333333333333333
          ],
          [
           0.5
          ],
          [
           0.6666666666666666
          ],
          [
           0.8333333333333334
          ]
         ],
         "hovertemplate": "Category=Pairs free<br>Weight of elements=%{x}<br>Rank=%{y}<br>Rank percentage=%{customdata[0]}<extra></extra>",
         "legendgroup": "Pairs free",
         "marker": {
          "color": "#FA9433",
          "line": {
           "color": "DarkSlateGrey",
           "width": 0.5
          },
          "size": 18,
          "symbol": "star"
         },
         "mode": "markers",
         "name": "Pairs free",
         "orientation": "h",
         "showlegend": true,
         "type": "scatter",
         "x": [
          0.5023136784485667,
          0.49731471781951125,
          0.5001385116698875,
          0.5028882904104944,
          0.4965445123639089
         ],
         "xaxis": "x",
         "y": [
          "high",
          "mid-high",
          "medium",
          "mid-low",
          "low"
         ],
         "yaxis": "y"
        },
        {
         "customdata": [
          [
           0.03125
          ],
          [
           0.3333333333333333
          ],
          [
           0.5
          ],
          [
           0.6666666666666666
          ],
          [
           0.8333333333333334
          ]
         ],
         "hovertemplate": "Category=Ice dance short<br>Weight of elements=%{x}<br>Rank=%{y}<br>Rank percentage=%{customdata[0]}<extra></extra>",
         "legendgroup": "Ice dance short",
         "marker": {
          "color": "#35FA33",
          "line": {
           "color": "DarkSlateGrey",
           "width": 0.5
          },
          "size": 18,
          "symbol": "circle"
         },
         "mode": "markers",
         "name": "Ice dance short",
         "orientation": "h",
         "showlegend": true,
         "type": "scatter",
         "x": [
          0.5151201366716174,
          0.5118463885949143,
          0.5154560138980258,
          0.5137827091623485,
          0.5054306064127563
         ],
         "xaxis": "x",
         "y": [
          "high",
          "mid-high",
          "medium",
          "mid-low",
          "low"
         ],
         "yaxis": "y"
        },
        {
         "customdata": [
          [
           0.1111111111111111
          ],
          [
           0.3333333333333333
          ],
          [
           0.5
          ],
          [
           0.6666666666666666
          ],
          [
           0.8333333333333334
          ]
         ],
         "hovertemplate": "Category=Ice dance free<br>Weight of elements=%{x}<br>Rank=%{y}<br>Rank percentage=%{customdata[0]}<extra></extra>",
         "legendgroup": "Ice dance free",
         "marker": {
          "color": "#35FA33",
          "line": {
           "color": "DarkSlateGrey",
           "width": 0.5
          },
          "size": 18,
          "symbol": "star"
         },
         "mode": "markers",
         "name": "Ice dance free",
         "orientation": "h",
         "showlegend": true,
         "type": "scatter",
         "x": [
          0.5004766928909621,
          0.49799614734050807,
          0.5018514253769075,
          0.5072555027056775,
          0.5014976561595648
         ],
         "xaxis": "x",
         "y": [
          "high",
          "mid-high",
          "medium",
          "mid-low",
          "low"
         ],
         "yaxis": "y"
        }
       ],
       "layout": {
        "height": 600,
        "legend": {
         "title": {
          "text": "Category"
         },
         "tracegroupgap": 0
        },
        "shapes": [
         {
          "line": {
           "color": "black",
           "dash": "dash",
           "width": 2
          },
          "name": "equilibrium",
          "opacity": 1,
          "type": "line",
          "x0": 0.5,
          "x1": 0.5,
          "xref": "x",
          "y0": 0,
          "y1": 1,
          "yref": "y domain"
         }
        ],
        "template": {
         "data": {
          "bar": [
           {
            "error_x": {
             "color": "#2a3f5f"
            },
            "error_y": {
             "color": "#2a3f5f"
            },
            "marker": {
             "line": {
              "color": "#E5ECF6",
              "width": 0.5
             },
             "pattern": {
              "fillmode": "overlay",
              "size": 10,
              "solidity": 0.2
             }
            },
            "type": "bar"
           }
          ],
          "barpolar": [
           {
            "marker": {
             "line": {
              "color": "#E5ECF6",
              "width": 0.5
             },
             "pattern": {
              "fillmode": "overlay",
              "size": 10,
              "solidity": 0.2
             }
            },
            "type": "barpolar"
           }
          ],
          "carpet": [
           {
            "aaxis": {
             "endlinecolor": "#2a3f5f",
             "gridcolor": "white",
             "linecolor": "white",
             "minorgridcolor": "white",
             "startlinecolor": "#2a3f5f"
            },
            "baxis": {
             "endlinecolor": "#2a3f5f",
             "gridcolor": "white",
             "linecolor": "white",
             "minorgridcolor": "white",
             "startlinecolor": "#2a3f5f"
            },
            "type": "carpet"
           }
          ],
          "choropleth": [
           {
            "colorbar": {
             "outlinewidth": 0,
             "ticks": ""
            },
            "type": "choropleth"
           }
          ],
          "contour": [
           {
            "colorbar": {
             "outlinewidth": 0,
             "ticks": ""
            },
            "colorscale": [
             [
              0,
              "#0d0887"
             ],
             [
              0.1111111111111111,
              "#46039f"
             ],
             [
              0.2222222222222222,
              "#7201a8"
             ],
             [
              0.3333333333333333,
              "#9c179e"
             ],
             [
              0.4444444444444444,
              "#bd3786"
             ],
             [
              0.5555555555555556,
              "#d8576b"
             ],
             [
              0.6666666666666666,
              "#ed7953"
             ],
             [
              0.7777777777777778,
              "#fb9f3a"
             ],
             [
              0.8888888888888888,
              "#fdca26"
             ],
             [
              1,
              "#f0f921"
             ]
            ],
            "type": "contour"
           }
          ],
          "contourcarpet": [
           {
            "colorbar": {
             "outlinewidth": 0,
             "ticks": ""
            },
            "type": "contourcarpet"
           }
          ],
          "heatmap": [
           {
            "colorbar": {
             "outlinewidth": 0,
             "ticks": ""
            },
            "colorscale": [
             [
              0,
              "#0d0887"
             ],
             [
              0.1111111111111111,
              "#46039f"
             ],
             [
              0.2222222222222222,
              "#7201a8"
             ],
             [
              0.3333333333333333,
              "#9c179e"
             ],
             [
              0.4444444444444444,
              "#bd3786"
             ],
             [
              0.5555555555555556,
              "#d8576b"
             ],
             [
              0.6666666666666666,
              "#ed7953"
             ],
             [
              0.7777777777777778,
              "#fb9f3a"
             ],
             [
              0.8888888888888888,
              "#fdca26"
             ],
             [
              1,
              "#f0f921"
             ]
            ],
            "type": "heatmap"
           }
          ],
          "heatmapgl": [
           {
            "colorbar": {
             "outlinewidth": 0,
             "ticks": ""
            },
            "colorscale": [
             [
              0,
              "#0d0887"
             ],
             [
              0.1111111111111111,
              "#46039f"
             ],
             [
              0.2222222222222222,
              "#7201a8"
             ],
             [
              0.3333333333333333,
              "#9c179e"
             ],
             [
              0.4444444444444444,
              "#bd3786"
             ],
             [
              0.5555555555555556,
              "#d8576b"
             ],
             [
              0.6666666666666666,
              "#ed7953"
             ],
             [
              0.7777777777777778,
              "#fb9f3a"
             ],
             [
              0.8888888888888888,
              "#fdca26"
             ],
             [
              1,
              "#f0f921"
             ]
            ],
            "type": "heatmapgl"
           }
          ],
          "histogram": [
           {
            "marker": {
             "pattern": {
              "fillmode": "overlay",
              "size": 10,
              "solidity": 0.2
             }
            },
            "type": "histogram"
           }
          ],
          "histogram2d": [
           {
            "colorbar": {
             "outlinewidth": 0,
             "ticks": ""
            },
            "colorscale": [
             [
              0,
              "#0d0887"
             ],
             [
              0.1111111111111111,
              "#46039f"
             ],
             [
              0.2222222222222222,
              "#7201a8"
             ],
             [
              0.3333333333333333,
              "#9c179e"
             ],
             [
              0.4444444444444444,
              "#bd3786"
             ],
             [
              0.5555555555555556,
              "#d8576b"
             ],
             [
              0.6666666666666666,
              "#ed7953"
             ],
             [
              0.7777777777777778,
              "#fb9f3a"
             ],
             [
              0.8888888888888888,
              "#fdca26"
             ],
             [
              1,
              "#f0f921"
             ]
            ],
            "type": "histogram2d"
           }
          ],
          "histogram2dcontour": [
           {
            "colorbar": {
             "outlinewidth": 0,
             "ticks": ""
            },
            "colorscale": [
             [
              0,
              "#0d0887"
             ],
             [
              0.1111111111111111,
              "#46039f"
             ],
             [
              0.2222222222222222,
              "#7201a8"
             ],
             [
              0.3333333333333333,
              "#9c179e"
             ],
             [
              0.4444444444444444,
              "#bd3786"
             ],
             [
              0.5555555555555556,
              "#d8576b"
             ],
             [
              0.6666666666666666,
              "#ed7953"
             ],
             [
              0.7777777777777778,
              "#fb9f3a"
             ],
             [
              0.8888888888888888,
              "#fdca26"
             ],
             [
              1,
              "#f0f921"
             ]
            ],
            "type": "histogram2dcontour"
           }
          ],
          "mesh3d": [
           {
            "colorbar": {
             "outlinewidth": 0,
             "ticks": ""
            },
            "type": "mesh3d"
           }
          ],
          "parcoords": [
           {
            "line": {
             "colorbar": {
              "outlinewidth": 0,
              "ticks": ""
             }
            },
            "type": "parcoords"
           }
          ],
          "pie": [
           {
            "automargin": true,
            "type": "pie"
           }
          ],
          "scatter": [
           {
            "fillpattern": {
             "fillmode": "overlay",
             "size": 10,
             "solidity": 0.2
            },
            "type": "scatter"
           }
          ],
          "scatter3d": [
           {
            "line": {
             "colorbar": {
              "outlinewidth": 0,
              "ticks": ""
             }
            },
            "marker": {
             "colorbar": {
              "outlinewidth": 0,
              "ticks": ""
             }
            },
            "type": "scatter3d"
           }
          ],
          "scattercarpet": [
           {
            "marker": {
             "colorbar": {
              "outlinewidth": 0,
              "ticks": ""
             }
            },
            "type": "scattercarpet"
           }
          ],
          "scattergeo": [
           {
            "marker": {
             "colorbar": {
              "outlinewidth": 0,
              "ticks": ""
             }
            },
            "type": "scattergeo"
           }
          ],
          "scattergl": [
           {
            "marker": {
             "colorbar": {
              "outlinewidth": 0,
              "ticks": ""
             }
            },
            "type": "scattergl"
           }
          ],
          "scattermapbox": [
           {
            "marker": {
             "colorbar": {
              "outlinewidth": 0,
              "ticks": ""
             }
            },
            "type": "scattermapbox"
           }
          ],
          "scatterpolar": [
           {
            "marker": {
             "colorbar": {
              "outlinewidth": 0,
              "ticks": ""
             }
            },
            "type": "scatterpolar"
           }
          ],
          "scatterpolargl": [
           {
            "marker": {
             "colorbar": {
              "outlinewidth": 0,
              "ticks": ""
             }
            },
            "type": "scatterpolargl"
           }
          ],
          "scatterternary": [
           {
            "marker": {
             "colorbar": {
              "outlinewidth": 0,
              "ticks": ""
             }
            },
            "type": "scatterternary"
           }
          ],
          "surface": [
           {
            "colorbar": {
             "outlinewidth": 0,
             "ticks": ""
            },
            "colorscale": [
             [
              0,
              "#0d0887"
             ],
             [
              0.1111111111111111,
              "#46039f"
             ],
             [
              0.2222222222222222,
              "#7201a8"
             ],
             [
              0.3333333333333333,
              "#9c179e"
             ],
             [
              0.4444444444444444,
              "#bd3786"
             ],
             [
              0.5555555555555556,
              "#d8576b"
             ],
             [
              0.6666666666666666,
              "#ed7953"
             ],
             [
              0.7777777777777778,
              "#fb9f3a"
             ],
             [
              0.8888888888888888,
              "#fdca26"
             ],
             [
              1,
              "#f0f921"
             ]
            ],
            "type": "surface"
           }
          ],
          "table": [
           {
            "cells": {
             "fill": {
              "color": "#EBF0F8"
             },
             "line": {
              "color": "white"
             }
            },
            "header": {
             "fill": {
              "color": "#C8D4E3"
             },
             "line": {
              "color": "white"
             }
            },
            "type": "table"
           }
          ]
         },
         "layout": {
          "annotationdefaults": {
           "arrowcolor": "#2a3f5f",
           "arrowhead": 0,
           "arrowwidth": 1
          },
          "autotypenumbers": "strict",
          "coloraxis": {
           "colorbar": {
            "outlinewidth": 0,
            "ticks": ""
           }
          },
          "colorscale": {
           "diverging": [
            [
             0,
             "#8e0152"
            ],
            [
             0.1,
             "#c51b7d"
            ],
            [
             0.2,
             "#de77ae"
            ],
            [
             0.3,
             "#f1b6da"
            ],
            [
             0.4,
             "#fde0ef"
            ],
            [
             0.5,
             "#f7f7f7"
            ],
            [
             0.6,
             "#e6f5d0"
            ],
            [
             0.7,
             "#b8e186"
            ],
            [
             0.8,
             "#7fbc41"
            ],
            [
             0.9,
             "#4d9221"
            ],
            [
             1,
             "#276419"
            ]
           ],
           "sequential": [
            [
             0,
             "#0d0887"
            ],
            [
             0.1111111111111111,
             "#46039f"
            ],
            [
             0.2222222222222222,
             "#7201a8"
            ],
            [
             0.3333333333333333,
             "#9c179e"
            ],
            [
             0.4444444444444444,
             "#bd3786"
            ],
            [
             0.5555555555555556,
             "#d8576b"
            ],
            [
             0.6666666666666666,
             "#ed7953"
            ],
            [
             0.7777777777777778,
             "#fb9f3a"
            ],
            [
             0.8888888888888888,
             "#fdca26"
            ],
            [
             1,
             "#f0f921"
            ]
           ],
           "sequentialminus": [
            [
             0,
             "#0d0887"
            ],
            [
             0.1111111111111111,
             "#46039f"
            ],
            [
             0.2222222222222222,
             "#7201a8"
            ],
            [
             0.3333333333333333,
             "#9c179e"
            ],
            [
             0.4444444444444444,
             "#bd3786"
            ],
            [
             0.5555555555555556,
             "#d8576b"
            ],
            [
             0.6666666666666666,
             "#ed7953"
            ],
            [
             0.7777777777777778,
             "#fb9f3a"
            ],
            [
             0.8888888888888888,
             "#fdca26"
            ],
            [
             1,
             "#f0f921"
            ]
           ]
          },
          "colorway": [
           "#636efa",
           "#EF553B",
           "#00cc96",
           "#ab63fa",
           "#FFA15A",
           "#19d3f3",
           "#FF6692",
           "#B6E880",
           "#FF97FF",
           "#FECB52"
          ],
          "font": {
           "color": "#2a3f5f"
          },
          "geo": {
           "bgcolor": "white",
           "lakecolor": "white",
           "landcolor": "#E5ECF6",
           "showlakes": true,
           "showland": true,
           "subunitcolor": "white"
          },
          "hoverlabel": {
           "align": "left"
          },
          "hovermode": "closest",
          "mapbox": {
           "style": "light"
          },
          "paper_bgcolor": "white",
          "plot_bgcolor": "#E5ECF6",
          "polar": {
           "angularaxis": {
            "gridcolor": "white",
            "linecolor": "white",
            "ticks": ""
           },
           "bgcolor": "#E5ECF6",
           "radialaxis": {
            "gridcolor": "white",
            "linecolor": "white",
            "ticks": ""
           }
          },
          "scene": {
           "xaxis": {
            "backgroundcolor": "#E5ECF6",
            "gridcolor": "white",
            "gridwidth": 2,
            "linecolor": "white",
            "showbackground": true,
            "ticks": "",
            "zerolinecolor": "white"
           },
           "yaxis": {
            "backgroundcolor": "#E5ECF6",
            "gridcolor": "white",
            "gridwidth": 2,
            "linecolor": "white",
            "showbackground": true,
            "ticks": "",
            "zerolinecolor": "white"
           },
           "zaxis": {
            "backgroundcolor": "#E5ECF6",
            "gridcolor": "white",
            "gridwidth": 2,
            "linecolor": "white",
            "showbackground": true,
            "ticks": "",
            "zerolinecolor": "white"
           }
          },
          "shapedefaults": {
           "line": {
            "color": "#2a3f5f"
           }
          },
          "ternary": {
           "aaxis": {
            "gridcolor": "white",
            "linecolor": "white",
            "ticks": ""
           },
           "baxis": {
            "gridcolor": "white",
            "linecolor": "white",
            "ticks": ""
           },
           "bgcolor": "#E5ECF6",
           "caxis": {
            "gridcolor": "white",
            "linecolor": "white",
            "ticks": ""
           }
          },
          "title": {
           "x": 0.05
          },
          "xaxis": {
           "automargin": true,
           "gridcolor": "white",
           "linecolor": "white",
           "ticks": "",
           "title": {
            "standoff": 15
           },
           "zerolinecolor": "white",
           "zerolinewidth": 2
          },
          "yaxis": {
           "automargin": true,
           "gridcolor": "white",
           "linecolor": "white",
           "ticks": "",
           "title": {
            "standoff": 15
           },
           "zerolinecolor": "white",
           "zerolinewidth": 2
          }
         }
        },
        "title": {
         "text": "Rank: components vs elements score for each performance"
        },
        "width": 1000,
        "xaxis": {
         "anchor": "y",
         "domain": [
          0,
          1
         ],
         "tickformat": "0%",
         "title": {
          "text": "Weight of elements"
         }
        },
        "yaxis": {
         "anchor": "x",
         "autorange": "reversed",
         "domain": [
          0,
          1
         ],
         "title": {
          "text": "Rank"
         }
        }
       }
      }
     },
     "metadata": {},
     "output_type": "display_data"
    }
   ],
   "source": [
    "scatter_medie2 = px.scatter(\n",
    "    medie2, x=\"weight_elem\", y=\"rank_perc_cat\",\n",
    "    symbol=\"category\", #size=\"rank_inv\", \n",
    "    color=\"category\",\n",
    "    # Assign color to categories using list_colors:\n",
    "    color_discrete_map=palette,\n",
    "    # Choose marker type according to category: \n",
    "    symbol_sequence=['circle','star','circle','star','circle','star','circle', 'star'],\n",
    "    title='Rank: components vs elements score for each performance',\n",
    "    log_x=False,\n",
    "    labels={\n",
    "        \"category\": \"Category\",  \n",
    "        \"rank_perc_cat\": \"Rank\", \n",
    "        \"weight_elem\": \"Weight of elements\",\n",
    "        \"rank_perc\": \"Rank percentage\"\n",
    "    },\n",
    "    hover_data={\"rank_perc\":True},\n",
    "    category_orders={ # replaces default order by column name\n",
    "        \"category\": ['Ladies short','Ladies free','Men short','Men free','Pairs short','Pairs free','Ice dance short', 'Ice dance free']\n",
    "    },\n",
    "    # Add picture 'img.png' as background:\n",
    "    \n",
    "    #template=\"plotly_dark\",\n",
    "    width=1000,\n",
    "    height=600\n",
    ")\n",
    "\n",
    "scatter_medie2.update_traces(\n",
    "    marker=dict(line=dict(width=0.5, color='DarkSlateGrey'), size=18),\n",
    "    selector=dict(mode=\"markers\"),  \n",
    ")\n",
    "scatter_medie2['layout']['yaxis']['autorange'] = \"reversed\"\n",
    "\n",
    "scatter_medie2.layout.xaxis.tickformat = '0%'\n",
    "# #Aggiungo y = x\n",
    "scatter_medie2.add_vline(x=0.5, line_width=2, line_dash=\"dash\", line_color=\"black\", opacity=1, name=\"equilibrium\")\n",
    "\n",
    "scatter_medie2.show()"
   ]
  },
  {
   "attachments": {},
   "cell_type": "markdown",
   "metadata": {},
   "source": [
    "## 2. Final plot"
   ]
  },
  {
   "cell_type": "code",
   "execution_count": 24,
   "metadata": {},
   "outputs": [
    {
     "data": {
      "application/vnd.plotly.v1+json": {
       "config": {
        "plotlyServerURL": "https://plot.ly"
       },
       "data": [
        {
         "customdata": [
          [
           0.029411764705882353
          ],
          [
           0.4
          ],
          [
           0.5
          ],
          [
           0.6666666666666666
          ],
          [
           0.8333333333333334
          ]
         ],
         "hovertemplate": "Category=Ladies short<br>Elements' weight=%{x}<br>Rank level=%{y}<br>Rank percentage=%{customdata[0]}<extra></extra>",
         "legendgroup": "Ladies short",
         "marker": {
          "color": "#F833FA",
          "line": {
           "color": "DarkSlateGrey",
           "width": 0.5
          },
          "size": 25,
          "symbol": "circle"
         },
         "mode": "markers",
         "name": "Ladies short",
         "orientation": "v",
         "showlegend": true,
         "type": "scatter",
         "x": [
          0.5344551321136566,
          0.5367815490936283,
          0.5262364536027999,
          0.5274246932431231,
          0.5027027605325558
         ],
         "xaxis": "x",
         "y": [
          1,
          2,
          3,
          4,
          5
         ],
         "yaxis": "y"
        },
        {
         "customdata": [
          [
           0.16666666666666666
          ],
          [
           0.4
          ],
          [
           0.5
          ],
          [
           0.6666666666666666
          ],
          [
           0.8333333333333334
          ]
         ],
         "hovertemplate": "Category=Ladies free<br>Elements' weight=%{x}<br>Rank level=%{y}<br>Rank percentage=%{customdata[0]}<extra></extra>",
         "legendgroup": "Ladies free",
         "marker": {
          "color": "#F833FA",
          "line": {
           "color": "DarkSlateGrey",
           "width": 0.5
          },
          "size": 25,
          "symbol": "star-diamond"
         },
         "mode": "markers",
         "name": "Ladies free",
         "orientation": "v",
         "showlegend": true,
         "type": "scatter",
         "x": [
          0.505582707810362,
          0.5021541913277664,
          0.4926512643634074,
          0.49091098873448497,
          0.47521278607271883
         ],
         "xaxis": "x",
         "y": [
          1,
          2,
          3,
          4,
          5
         ],
         "yaxis": "y"
        },
        {
         "customdata": [
          [
           0.09090909090909091
          ],
          [
           0.3333333333333333
          ],
          [
           0.5
          ],
          [
           0.6666666666666666
          ],
          [
           0.8333333333333334
          ]
         ],
         "hovertemplate": "Category=Men short<br>Elements' weight=%{x}<br>Rank level=%{y}<br>Rank percentage=%{customdata[0]}<extra></extra>",
         "legendgroup": "Men short",
         "marker": {
          "color": "#3399FA",
          "line": {
           "color": "DarkSlateGrey",
           "width": 0.5
          },
          "size": 25,
          "symbol": "circle"
         },
         "mode": "markers",
         "name": "Men short",
         "orientation": "v",
         "showlegend": true,
         "type": "scatter",
         "x": [
          0.5424484666407794,
          0.5250890717481519,
          0.5228083205424591,
          0.5104927500281912,
          0.48824643053124805
         ],
         "xaxis": "x",
         "y": [
          1,
          2,
          3,
          4,
          5
         ],
         "yaxis": "y"
        },
        {
         "customdata": [
          [
           0.1
          ],
          [
           0.3333333333333333
          ],
          [
           0.5
          ],
          [
           0.6666666666666666
          ],
          [
           0.8333333333333334
          ]
         ],
         "hovertemplate": "Category=Men free<br>Elements' weight=%{x}<br>Rank level=%{y}<br>Rank percentage=%{customdata[0]}<extra></extra>",
         "legendgroup": "Men free",
         "marker": {
          "color": "#3399FA",
          "line": {
           "color": "DarkSlateGrey",
           "width": 0.5
          },
          "size": 25,
          "symbol": "star-diamond"
         },
         "mode": "markers",
         "name": "Men free",
         "orientation": "v",
         "showlegend": true,
         "type": "scatter",
         "x": [
          0.5289094265322807,
          0.517716578571006,
          0.5014524873201008,
          0.49512672685608905,
          0.4737820808695084
         ],
         "xaxis": "x",
         "y": [
          1,
          2,
          3,
          4,
          5
         ],
         "yaxis": "y"
        },
        {
         "customdata": [
          [
           0.125
          ],
          [
           0.3333333333333333
          ],
          [
           0.5
          ],
          [
           0.6666666666666666
          ],
          [
           0.8333333333333334
          ]
         ],
         "hovertemplate": "Category=Pairs short<br>Elements' weight=%{x}<br>Rank level=%{y}<br>Rank percentage=%{customdata[0]}<extra></extra>",
         "legendgroup": "Pairs short",
         "marker": {
          "color": "#FA9433",
          "line": {
           "color": "DarkSlateGrey",
           "width": 0.5
          },
          "size": 25,
          "symbol": "circle"
         },
         "mode": "markers",
         "name": "Pairs short",
         "orientation": "v",
         "showlegend": true,
         "type": "scatter",
         "x": [
          0.5480186734606602,
          0.5442631990182959,
          0.5466025619976486,
          0.5440292318520387,
          0.5358161517967936
         ],
         "xaxis": "x",
         "y": [
          1,
          2,
          3,
          4,
          5
         ],
         "yaxis": "y"
        },
        {
         "customdata": [
          [
           0.14285714285714285
          ],
          [
           0.3333333333333333
          ],
          [
           0.5
          ],
          [
           0.6666666666666666
          ],
          [
           0.8333333333333334
          ]
         ],
         "hovertemplate": "Category=Pairs free<br>Elements' weight=%{x}<br>Rank level=%{y}<br>Rank percentage=%{customdata[0]}<extra></extra>",
         "legendgroup": "Pairs free",
         "marker": {
          "color": "#FA9433",
          "line": {
           "color": "DarkSlateGrey",
           "width": 0.5
          },
          "size": 25,
          "symbol": "star-diamond"
         },
         "mode": "markers",
         "name": "Pairs free",
         "orientation": "v",
         "showlegend": true,
         "type": "scatter",
         "x": [
          0.5023136784485667,
          0.49731471781951125,
          0.5001385116698875,
          0.5028882904104944,
          0.4965445123639089
         ],
         "xaxis": "x",
         "y": [
          1,
          2,
          3,
          4,
          5
         ],
         "yaxis": "y"
        },
        {
         "customdata": [
          [
           0.03125
          ],
          [
           0.3333333333333333
          ],
          [
           0.5
          ],
          [
           0.6666666666666666
          ],
          [
           0.8333333333333334
          ]
         ],
         "hovertemplate": "Category=Ice dance short<br>Elements' weight=%{x}<br>Rank level=%{y}<br>Rank percentage=%{customdata[0]}<extra></extra>",
         "legendgroup": "Ice dance short",
         "marker": {
          "color": "#35FA33",
          "line": {
           "color": "DarkSlateGrey",
           "width": 0.5
          },
          "size": 25,
          "symbol": "circle"
         },
         "mode": "markers",
         "name": "Ice dance short",
         "orientation": "v",
         "showlegend": true,
         "type": "scatter",
         "x": [
          0.5151201366716174,
          0.5118463885949143,
          0.5154560138980258,
          0.5137827091623485,
          0.5054306064127563
         ],
         "xaxis": "x",
         "y": [
          1,
          2,
          3,
          4,
          5
         ],
         "yaxis": "y"
        },
        {
         "customdata": [
          [
           0.1111111111111111
          ],
          [
           0.3333333333333333
          ],
          [
           0.5
          ],
          [
           0.6666666666666666
          ],
          [
           0.8333333333333334
          ]
         ],
         "hovertemplate": "Category=Ice dance free<br>Elements' weight=%{x}<br>Rank level=%{y}<br>Rank percentage=%{customdata[0]}<extra></extra>",
         "legendgroup": "Ice dance free",
         "marker": {
          "color": "#35FA33",
          "line": {
           "color": "DarkSlateGrey",
           "width": 0.5
          },
          "size": 25,
          "symbol": "star-diamond"
         },
         "mode": "markers",
         "name": "Ice dance free",
         "orientation": "v",
         "showlegend": true,
         "type": "scatter",
         "x": [
          0.5004766928909621,
          0.49799614734050807,
          0.5018514253769075,
          0.5072555027056775,
          0.5014976561595648
         ],
         "xaxis": "x",
         "y": [
          1,
          2,
          3,
          4,
          5
         ],
         "yaxis": "y"
        },
        {
         "line": {
          "color": "#F833FA",
          "dash": "dash",
          "width": 2
         },
         "mode": "lines",
         "name": "Ladies short",
         "showlegend": false,
         "type": "scatter",
         "x": [
          0.5344551321136566,
          0.5367815490936283,
          0.5262364536027999,
          0.5274246932431231,
          0.5027027605325558
         ],
         "y": [
          2.109932029950947,
          1.8781843072319617,
          2.9286416787576,
          2.8102743211170633,
          5.272967662942463
         ]
        },
        {
         "line": {
          "color": "#35FA33",
          "dash": "dash",
          "width": 2
         },
         "mode": "lines",
         "name": "Ice dance short",
         "showlegend": false,
         "type": "scatter",
         "x": [
          0.5151201366716174,
          0.5118463885949143,
          0.5154560138980258,
          0.5137827091623485,
          0.5054306064127563
         ],
         "y": [
          2.2782954941995115,
          3.124234532325289,
          2.191504558800972,
          2.6238877982638087,
          4.782077616410447
         ]
        },
        {
         "line": {
          "color": "#3399FA",
          "dash": "dash",
          "width": 2
         },
         "mode": "lines",
         "name": "Men short",
         "showlegend": false,
         "type": "scatter",
         "x": [
          0.5424484666407794,
          0.5250890717481519,
          0.5228083205424591,
          0.5104927500281912,
          0.48824643053124805
         ],
         "y": [
          1.1212092369002704,
          2.4453155806648184,
          2.619282309268307,
          3.5586655738282573,
          5.255527299338368
         ]
        },
        {
         "line": {
          "color": "#3399FA",
          "dash": "solid",
          "width": 2
         },
         "mode": "lines",
         "name": "Men free",
         "showlegend": false,
         "type": "scatter",
         "x": [
          0.5289094265322807,
          0.517716578571006,
          0.5014524873201008,
          0.49512672685608905,
          0.4737820808695084
         ],
         "y": [
          1.1225306178635464,
          1.9462315012962605,
          3.143133878417011,
          3.608657443162805,
          5.179446559260363
         ]
        },
        {
         "line": {
          "color": "#35FA33",
          "dash": "solid",
          "width": 2
         },
         "mode": "lines",
         "name": "Ice dance free",
         "showlegend": false,
         "type": "scatter",
         "x": [
          0.5004766928909621,
          0.49799614734050807,
          0.5018514253769075,
          0.5072555027056775,
          0.5014976561595648
         ],
         "y": [
          2.671626655787435,
          2.063208742037304,
          3.0088153322503075,
          4.334304982505984,
          2.9220442874189274
         ]
        },
        {
         "line": {
          "color": "#FA9433",
          "dash": "dash",
          "width": 2
         },
         "mode": "lines",
         "name": "Pairs short",
         "showlegend": false,
         "type": "scatter",
         "x": [
          0.5480186734606602,
          0.5442631990182959,
          0.5466025619976486,
          0.5440292318520387,
          0.5358161517967936
         ],
         "y": [
          1.8256534744192265,
          2.8578387931085842,
          2.2148691339000948,
          2.922144243131555,
          5.179494355440397
         ]
        },
        {
         "line": {
          "color": "#FA9433",
          "dash": "solid",
          "width": 2
         },
         "mode": "lines",
         "name": "Pairs free",
         "showlegend": false,
         "type": "scatter",
         "x": [
          0.5023136784485667,
          0.49731471781951125,
          0.5001385116698875,
          0.5028882904104944,
          0.4965445123639089
         ],
         "y": [
          2.549287013672071,
          3.4600940661892707,
          2.945600845572841,
          2.4445931250379687,
          3.600424949527792
         ]
        },
        {
         "line": {
          "color": "#F833FA",
          "dash": "solid",
          "width": 2
         },
         "mode": "lines",
         "name": "Ladies free",
         "showlegend": false,
         "type": "scatter",
         "x": [
          0.505582707810362,
          0.5021541913277664,
          0.4926512643634074,
          0.49091098873448497,
          0.47521278607271883
         ],
         "y": [
          1.4285928725887658,
          1.8673106887367084,
          3.0833186577754788,
          3.306006787551752,
          5.314770993347253
         ]
        }
       ],
       "layout": {
        "annotations": [
         {
          "align": "center",
          "font": {
           "color": "#543810",
           "family": "DejaVu Sans",
           "size": 18
          },
          "showarrow": false,
          "text": "The more the elements' importance in the performance score, the higher the ranking of Men and Ladies athletes. For the other categories,",
          "x": 0.02,
          "xanchor": "left",
          "xref": "paper",
          "xshift": -80,
          "y": -0.14,
          "yanchor": "top",
          "yref": "paper",
          "yshift": 620
         },
         {
          "align": "center",
          "font": {
           "color": "#543810",
           "family": "DejaVu Sans",
           "size": 18
          },
          "showarrow": false,
          "text": " correlation between ranking and elements' weight is less noticeable. In general, short programs tend to have higher elements' weight than free ones.",
          "x": 0.02,
          "xanchor": "left",
          "xref": "paper",
          "xshift": -80,
          "y": -0.14,
          "yanchor": "top",
          "yref": "paper",
          "yshift": 600
         },
         {
          "align": "left",
          "font": {
           "color": "#543810",
           "family": "DejaVu Sans",
           "size": 10
          },
          "showarrow": false,
          "text": "data source: https://github.com/BuzzFeedNews/2018-02-figure-skating-analysis",
          "x": 0,
          "xanchor": "left",
          "xref": "paper",
          "xshift": -1,
          "y": -0.15,
          "yanchor": "bottom",
          "yref": "paper",
          "yshift": -5
         },
         {
          "align": "left",
          "font": {
           "color": "#543810",
           "family": "DejaVu Sans",
           "size": 10
          },
          "showarrow": false,
          "text": "plot author: Valeria Insogna",
          "x": 0,
          "xanchor": "left",
          "xref": "paper",
          "xshift": -1,
          "y": -0.18,
          "yanchor": "bottom",
          "yref": "paper",
          "yshift": -5
         },
         {
          "align": "left",
          "font": {
           "color": "#543810",
           "family": "DejaVu Sans",
           "size": 16
          },
          "showarrow": false,
          "text": "Rank level",
          "x": -0.025,
          "xanchor": "left",
          "xref": "paper",
          "xshift": -44,
          "y": -0.07,
          "yanchor": "top",
          "yref": "paper",
          "yshift": 530
         }
        ],
        "font": {
         "color": "#543810",
         "family": "DejaVu Sans",
         "size": 14
        },
        "height": 700,
        "legend": {
         "title": {
          "text": ""
         },
         "tracegroupgap": 0,
         "x": 1.11,
         "xanchor": "right",
         "y": 0.575,
         "yanchor": "bottom"
        },
        "margin": {
         "b": 100,
         "l": 100,
         "r": 150,
         "t": 120
        },
        "paper_bgcolor": "#E9F1FA",
        "plot_bgcolor": "#E9F1FA",
        "shapes": [
         {
          "line": {
           "color": "#543810",
           "dash": "dash",
           "width": 2
          },
          "name": "equilibrium",
          "opacity": 1,
          "type": "line",
          "x0": 0.5,
          "x1": 0.5,
          "xref": "x",
          "y0": 0,
          "y1": 1,
          "yref": "y domain"
         }
        ],
        "template": {
         "data": {
          "bar": [
           {
            "error_x": {
             "color": "#2a3f5f"
            },
            "error_y": {
             "color": "#2a3f5f"
            },
            "marker": {
             "line": {
              "color": "#E5ECF6",
              "width": 0.5
             },
             "pattern": {
              "fillmode": "overlay",
              "size": 10,
              "solidity": 0.2
             }
            },
            "type": "bar"
           }
          ],
          "barpolar": [
           {
            "marker": {
             "line": {
              "color": "#E5ECF6",
              "width": 0.5
             },
             "pattern": {
              "fillmode": "overlay",
              "size": 10,
              "solidity": 0.2
             }
            },
            "type": "barpolar"
           }
          ],
          "carpet": [
           {
            "aaxis": {
             "endlinecolor": "#2a3f5f",
             "gridcolor": "white",
             "linecolor": "white",
             "minorgridcolor": "white",
             "startlinecolor": "#2a3f5f"
            },
            "baxis": {
             "endlinecolor": "#2a3f5f",
             "gridcolor": "white",
             "linecolor": "white",
             "minorgridcolor": "white",
             "startlinecolor": "#2a3f5f"
            },
            "type": "carpet"
           }
          ],
          "choropleth": [
           {
            "colorbar": {
             "outlinewidth": 0,
             "ticks": ""
            },
            "type": "choropleth"
           }
          ],
          "contour": [
           {
            "colorbar": {
             "outlinewidth": 0,
             "ticks": ""
            },
            "colorscale": [
             [
              0,
              "#0d0887"
             ],
             [
              0.1111111111111111,
              "#46039f"
             ],
             [
              0.2222222222222222,
              "#7201a8"
             ],
             [
              0.3333333333333333,
              "#9c179e"
             ],
             [
              0.4444444444444444,
              "#bd3786"
             ],
             [
              0.5555555555555556,
              "#d8576b"
             ],
             [
              0.6666666666666666,
              "#ed7953"
             ],
             [
              0.7777777777777778,
              "#fb9f3a"
             ],
             [
              0.8888888888888888,
              "#fdca26"
             ],
             [
              1,
              "#f0f921"
             ]
            ],
            "type": "contour"
           }
          ],
          "contourcarpet": [
           {
            "colorbar": {
             "outlinewidth": 0,
             "ticks": ""
            },
            "type": "contourcarpet"
           }
          ],
          "heatmap": [
           {
            "colorbar": {
             "outlinewidth": 0,
             "ticks": ""
            },
            "colorscale": [
             [
              0,
              "#0d0887"
             ],
             [
              0.1111111111111111,
              "#46039f"
             ],
             [
              0.2222222222222222,
              "#7201a8"
             ],
             [
              0.3333333333333333,
              "#9c179e"
             ],
             [
              0.4444444444444444,
              "#bd3786"
             ],
             [
              0.5555555555555556,
              "#d8576b"
             ],
             [
              0.6666666666666666,
              "#ed7953"
             ],
             [
              0.7777777777777778,
              "#fb9f3a"
             ],
             [
              0.8888888888888888,
              "#fdca26"
             ],
             [
              1,
              "#f0f921"
             ]
            ],
            "type": "heatmap"
           }
          ],
          "heatmapgl": [
           {
            "colorbar": {
             "outlinewidth": 0,
             "ticks": ""
            },
            "colorscale": [
             [
              0,
              "#0d0887"
             ],
             [
              0.1111111111111111,
              "#46039f"
             ],
             [
              0.2222222222222222,
              "#7201a8"
             ],
             [
              0.3333333333333333,
              "#9c179e"
             ],
             [
              0.4444444444444444,
              "#bd3786"
             ],
             [
              0.5555555555555556,
              "#d8576b"
             ],
             [
              0.6666666666666666,
              "#ed7953"
             ],
             [
              0.7777777777777778,
              "#fb9f3a"
             ],
             [
              0.8888888888888888,
              "#fdca26"
             ],
             [
              1,
              "#f0f921"
             ]
            ],
            "type": "heatmapgl"
           }
          ],
          "histogram": [
           {
            "marker": {
             "pattern": {
              "fillmode": "overlay",
              "size": 10,
              "solidity": 0.2
             }
            },
            "type": "histogram"
           }
          ],
          "histogram2d": [
           {
            "colorbar": {
             "outlinewidth": 0,
             "ticks": ""
            },
            "colorscale": [
             [
              0,
              "#0d0887"
             ],
             [
              0.1111111111111111,
              "#46039f"
             ],
             [
              0.2222222222222222,
              "#7201a8"
             ],
             [
              0.3333333333333333,
              "#9c179e"
             ],
             [
              0.4444444444444444,
              "#bd3786"
             ],
             [
              0.5555555555555556,
              "#d8576b"
             ],
             [
              0.6666666666666666,
              "#ed7953"
             ],
             [
              0.7777777777777778,
              "#fb9f3a"
             ],
             [
              0.8888888888888888,
              "#fdca26"
             ],
             [
              1,
              "#f0f921"
             ]
            ],
            "type": "histogram2d"
           }
          ],
          "histogram2dcontour": [
           {
            "colorbar": {
             "outlinewidth": 0,
             "ticks": ""
            },
            "colorscale": [
             [
              0,
              "#0d0887"
             ],
             [
              0.1111111111111111,
              "#46039f"
             ],
             [
              0.2222222222222222,
              "#7201a8"
             ],
             [
              0.3333333333333333,
              "#9c179e"
             ],
             [
              0.4444444444444444,
              "#bd3786"
             ],
             [
              0.5555555555555556,
              "#d8576b"
             ],
             [
              0.6666666666666666,
              "#ed7953"
             ],
             [
              0.7777777777777778,
              "#fb9f3a"
             ],
             [
              0.8888888888888888,
              "#fdca26"
             ],
             [
              1,
              "#f0f921"
             ]
            ],
            "type": "histogram2dcontour"
           }
          ],
          "mesh3d": [
           {
            "colorbar": {
             "outlinewidth": 0,
             "ticks": ""
            },
            "type": "mesh3d"
           }
          ],
          "parcoords": [
           {
            "line": {
             "colorbar": {
              "outlinewidth": 0,
              "ticks": ""
             }
            },
            "type": "parcoords"
           }
          ],
          "pie": [
           {
            "automargin": true,
            "type": "pie"
           }
          ],
          "scatter": [
           {
            "fillpattern": {
             "fillmode": "overlay",
             "size": 10,
             "solidity": 0.2
            },
            "type": "scatter"
           }
          ],
          "scatter3d": [
           {
            "line": {
             "colorbar": {
              "outlinewidth": 0,
              "ticks": ""
             }
            },
            "marker": {
             "colorbar": {
              "outlinewidth": 0,
              "ticks": ""
             }
            },
            "type": "scatter3d"
           }
          ],
          "scattercarpet": [
           {
            "marker": {
             "colorbar": {
              "outlinewidth": 0,
              "ticks": ""
             }
            },
            "type": "scattercarpet"
           }
          ],
          "scattergeo": [
           {
            "marker": {
             "colorbar": {
              "outlinewidth": 0,
              "ticks": ""
             }
            },
            "type": "scattergeo"
           }
          ],
          "scattergl": [
           {
            "marker": {
             "colorbar": {
              "outlinewidth": 0,
              "ticks": ""
             }
            },
            "type": "scattergl"
           }
          ],
          "scattermapbox": [
           {
            "marker": {
             "colorbar": {
              "outlinewidth": 0,
              "ticks": ""
             }
            },
            "type": "scattermapbox"
           }
          ],
          "scatterpolar": [
           {
            "marker": {
             "colorbar": {
              "outlinewidth": 0,
              "ticks": ""
             }
            },
            "type": "scatterpolar"
           }
          ],
          "scatterpolargl": [
           {
            "marker": {
             "colorbar": {
              "outlinewidth": 0,
              "ticks": ""
             }
            },
            "type": "scatterpolargl"
           }
          ],
          "scatterternary": [
           {
            "marker": {
             "colorbar": {
              "outlinewidth": 0,
              "ticks": ""
             }
            },
            "type": "scatterternary"
           }
          ],
          "surface": [
           {
            "colorbar": {
             "outlinewidth": 0,
             "ticks": ""
            },
            "colorscale": [
             [
              0,
              "#0d0887"
             ],
             [
              0.1111111111111111,
              "#46039f"
             ],
             [
              0.2222222222222222,
              "#7201a8"
             ],
             [
              0.3333333333333333,
              "#9c179e"
             ],
             [
              0.4444444444444444,
              "#bd3786"
             ],
             [
              0.5555555555555556,
              "#d8576b"
             ],
             [
              0.6666666666666666,
              "#ed7953"
             ],
             [
              0.7777777777777778,
              "#fb9f3a"
             ],
             [
              0.8888888888888888,
              "#fdca26"
             ],
             [
              1,
              "#f0f921"
             ]
            ],
            "type": "surface"
           }
          ],
          "table": [
           {
            "cells": {
             "fill": {
              "color": "#EBF0F8"
             },
             "line": {
              "color": "white"
             }
            },
            "header": {
             "fill": {
              "color": "#C8D4E3"
             },
             "line": {
              "color": "white"
             }
            },
            "type": "table"
           }
          ]
         },
         "layout": {
          "annotationdefaults": {
           "arrowcolor": "#2a3f5f",
           "arrowhead": 0,
           "arrowwidth": 1
          },
          "autotypenumbers": "strict",
          "coloraxis": {
           "colorbar": {
            "outlinewidth": 0,
            "ticks": ""
           }
          },
          "colorscale": {
           "diverging": [
            [
             0,
             "#8e0152"
            ],
            [
             0.1,
             "#c51b7d"
            ],
            [
             0.2,
             "#de77ae"
            ],
            [
             0.3,
             "#f1b6da"
            ],
            [
             0.4,
             "#fde0ef"
            ],
            [
             0.5,
             "#f7f7f7"
            ],
            [
             0.6,
             "#e6f5d0"
            ],
            [
             0.7,
             "#b8e186"
            ],
            [
             0.8,
             "#7fbc41"
            ],
            [
             0.9,
             "#4d9221"
            ],
            [
             1,
             "#276419"
            ]
           ],
           "sequential": [
            [
             0,
             "#0d0887"
            ],
            [
             0.1111111111111111,
             "#46039f"
            ],
            [
             0.2222222222222222,
             "#7201a8"
            ],
            [
             0.3333333333333333,
             "#9c179e"
            ],
            [
             0.4444444444444444,
             "#bd3786"
            ],
            [
             0.5555555555555556,
             "#d8576b"
            ],
            [
             0.6666666666666666,
             "#ed7953"
            ],
            [
             0.7777777777777778,
             "#fb9f3a"
            ],
            [
             0.8888888888888888,
             "#fdca26"
            ],
            [
             1,
             "#f0f921"
            ]
           ],
           "sequentialminus": [
            [
             0,
             "#0d0887"
            ],
            [
             0.1111111111111111,
             "#46039f"
            ],
            [
             0.2222222222222222,
             "#7201a8"
            ],
            [
             0.3333333333333333,
             "#9c179e"
            ],
            [
             0.4444444444444444,
             "#bd3786"
            ],
            [
             0.5555555555555556,
             "#d8576b"
            ],
            [
             0.6666666666666666,
             "#ed7953"
            ],
            [
             0.7777777777777778,
             "#fb9f3a"
            ],
            [
             0.8888888888888888,
             "#fdca26"
            ],
            [
             1,
             "#f0f921"
            ]
           ]
          },
          "colorway": [
           "#636efa",
           "#EF553B",
           "#00cc96",
           "#ab63fa",
           "#FFA15A",
           "#19d3f3",
           "#FF6692",
           "#B6E880",
           "#FF97FF",
           "#FECB52"
          ],
          "font": {
           "color": "#2a3f5f"
          },
          "geo": {
           "bgcolor": "white",
           "lakecolor": "white",
           "landcolor": "#E5ECF6",
           "showlakes": true,
           "showland": true,
           "subunitcolor": "white"
          },
          "hoverlabel": {
           "align": "left"
          },
          "hovermode": "closest",
          "mapbox": {
           "style": "light"
          },
          "paper_bgcolor": "white",
          "plot_bgcolor": "#E5ECF6",
          "polar": {
           "angularaxis": {
            "gridcolor": "white",
            "linecolor": "white",
            "ticks": ""
           },
           "bgcolor": "#E5ECF6",
           "radialaxis": {
            "gridcolor": "white",
            "linecolor": "white",
            "ticks": ""
           }
          },
          "scene": {
           "xaxis": {
            "backgroundcolor": "#E5ECF6",
            "gridcolor": "white",
            "gridwidth": 2,
            "linecolor": "white",
            "showbackground": true,
            "ticks": "",
            "zerolinecolor": "white"
           },
           "yaxis": {
            "backgroundcolor": "#E5ECF6",
            "gridcolor": "white",
            "gridwidth": 2,
            "linecolor": "white",
            "showbackground": true,
            "ticks": "",
            "zerolinecolor": "white"
           },
           "zaxis": {
            "backgroundcolor": "#E5ECF6",
            "gridcolor": "white",
            "gridwidth": 2,
            "linecolor": "white",
            "showbackground": true,
            "ticks": "",
            "zerolinecolor": "white"
           }
          },
          "shapedefaults": {
           "line": {
            "color": "#2a3f5f"
           }
          },
          "ternary": {
           "aaxis": {
            "gridcolor": "white",
            "linecolor": "white",
            "ticks": ""
           },
           "baxis": {
            "gridcolor": "white",
            "linecolor": "white",
            "ticks": ""
           },
           "bgcolor": "#E5ECF6",
           "caxis": {
            "gridcolor": "white",
            "linecolor": "white",
            "ticks": ""
           }
          },
          "title": {
           "x": 0.05
          },
          "xaxis": {
           "automargin": true,
           "gridcolor": "white",
           "linecolor": "white",
           "ticks": "",
           "title": {
            "standoff": 15
           },
           "zerolinecolor": "white",
           "zerolinewidth": 2
          },
          "yaxis": {
           "automargin": true,
           "gridcolor": "white",
           "linecolor": "white",
           "ticks": "",
           "title": {
            "standoff": 15
           },
           "zerolinecolor": "white",
           "zerolinewidth": 2
          }
         }
        },
        "title": {
         "font": {
          "color": "#543810",
          "family": "DejaVu Sans",
          "size": 24
         },
         "text": "<b>Elements play key role in Men and Ladies competitions</b>",
         "x": 0.02,
         "xanchor": "left",
         "y": 0.97,
         "yanchor": "top"
        },
        "width": 1315,
        "xaxis": {
         "anchor": "y",
         "domain": [
          0,
          1
         ],
         "tickformat": "0%",
         "title": {
          "font": {
           "color": "#543810",
           "family": "DejaVu Sans",
           "size": 17
          },
          "text": "Elements' weight"
         }
        },
        "yaxis": {
         "anchor": "x",
         "autorange": "reversed",
         "domain": [
          0,
          1
         ],
         "range": [
          1,
          5
         ],
         "ticktext": [
          "high",
          "mid-high",
          "mid",
          "mid-low",
          "low"
         ],
         "tickvals": [
          1,
          2,
          3,
          4,
          5
         ],
         "title": {
          "text": ""
         }
        }
       }
      }
     },
     "metadata": {},
     "output_type": "display_data"
    }
   ],
   "source": [
    "bubble = px.scatter(\n",
    "    medie2, x=\"weight_elem\", y=\"rank_perc_cat_2\",\n",
    "    symbol=\"category\",\n",
    "    color=\"category\",\n",
    "    # Assign color to categories using list_colors:\n",
    "    color_discrete_map=palette,\n",
    "    # Choose marker type according to category: \n",
    "    symbol_sequence=['circle','star-diamond','circle','star-diamond','circle','star-diamond','circle', 'star-diamond'],\n",
    "    # title='Rank: components vs elements score for each performance',\n",
    "    log_x=False,\n",
    "    labels={\n",
    "        \"category\": \"Category\",  \n",
    "        \"rank_perc_cat\": \"Rank level (categ)\", \n",
    "        \"weight_elem\": \"Elements' weight\",\n",
    "        \"rank_perc\": \"Rank percentage\",\n",
    "        \"rank_perc_cat_2\":\"Rank level\"\n",
    "    },\n",
    "    hover_data={\"rank_perc\":True},\n",
    "    category_orders={ # replaces default order by column name\n",
    "        \"category\": ['Ladies short','Ladies free','Men short','Men free','Pairs short','Pairs free','Ice dance short', 'Ice dance free']\n",
    "    },\n",
    ")\n",
    "bubble['layout']['yaxis']['autorange'] = \"reversed\"\n",
    "bubble.layout.xaxis.tickformat = '0%'\n",
    "bubble.update_traces(\n",
    "    marker=dict(line=dict(width=0.5, color='DarkSlateGrey'), size=25),\n",
    "    selector=dict(mode=\"markers\"),  \n",
    ")\n",
    "bubble.add_vline(x=0.5, line_width=2, line_dash=\"dash\", line_color=\"#543810\", opacity=1, name=\"equilibrium\")\n",
    "\n",
    "\n",
    "#Add the lines connecting the points of each category with different line shapes:\n",
    "# for cat in medie2['category'].unique():\n",
    "#     bubble.add_trace(go.Scatter\n",
    "#                         (x=medie2.loc[medie2['category'] == cat, 'weight_elem'],\n",
    "#                             y=medie2.loc[medie2['category'] == cat, 'rank_perc_cat_2'],\n",
    "#                             mode='lines',\n",
    "#                             # use solid lines for free categories:\n",
    "#                             line=dict(color=palette[cat], width=2, dash='dash' if cat in ['Ladies short', 'Men short', 'Pairs short', 'Ice dance short'] else 'solid'),\n",
    "#                             showlegend=False,\n",
    "#                             name=cat\n",
    "#                         )\n",
    "#                     )\n",
    "\n",
    "\n",
    "# #Add linear regression line for each category:\n",
    "for cat in medie2['category'].unique():\n",
    "    # fit a linear regression model to the data:\n",
    "    x = medie2.loc[medie2['category'] == cat, 'weight_elem']\n",
    "    y = medie2.loc[medie2['category'] == cat, 'rank_perc_cat_2'] #rank_perc\n",
    "    slope, intercept, r_value, p_value, std_err = stats.linregress(x, y)\n",
    "    bubble.add_trace(go.Scatter\n",
    "                        (\n",
    "                            x=x, #x=[0.47,0.55],\n",
    "                            y=intercept + slope * x,#y=[intercept, intercept + slope*0.55],\n",
    "                            mode='lines',\n",
    "                            line=dict(color=palette[cat], width=2, dash='dash' if cat in ['Ladies short', 'Men short', 'Pairs short', 'Ice dance short'] else 'solid'),\n",
    "                            showlegend=False,\n",
    "                            name=cat,\n",
    "                        )\n",
    "                    )\n",
    "\n",
    "#general features\n",
    "bubble.update_layout(width=1315,\n",
    "                     height=700,\n",
    "                     plot_bgcolor='#E9F1FA',\n",
    "                     paper_bgcolor='#E9F1FA',\n",
    "                     \n",
    "                     #margins\n",
    "                     margin=dict(l=100, r=150, t=120, b=100),\n",
    "                     \n",
    "                     #legend\n",
    "                     legend=dict(yanchor=\"bottom\",\n",
    "                                 xanchor=\"right\",\n",
    "                                 #orientation=\"h\",\n",
    "                                 # change title of legend:\n",
    "                                 title_text=\"\",\n",
    "                                 y=0.575,\n",
    "                                 x=1.11),\n",
    "                     \n",
    "                     #title\n",
    "                     title={'text': \"<b>Elements play key role in Men and Ladies competitions</b>\",\n",
    "                             'y':0.97,\n",
    "                             'x':0.02,\n",
    "                             'xanchor': 'left',\n",
    "                             'yanchor': 'top'},\n",
    "                     title_font={'family': 'DejaVu Sans',\n",
    "                                  'size': 24,\n",
    "                                  'color': '#543810'},\n",
    "                     \n",
    "                     #general font\n",
    "                     font={'family': 'DejaVu Sans',\n",
    "                           'size': 14,\n",
    "                           'color': '#543810'},\n",
    "                    #change range x axis:\n",
    "                    #xaxis_range=[0.47,0.56],\n",
    "                    #change axis title font:\n",
    "                    xaxis_title_font=dict(family='DejaVu Sans', size=17, color='#543810'),\n",
    "                    yaxis_title=\"\")\n",
    "\n",
    "# Set limits of y axis:\n",
    "bubble.update_yaxes(range=[1,5], tickvals=[1,2,3,4,5], ticktext=['high','mid-high','mid','mid-low','low'])\n",
    "\n",
    "# sottotitolo riga 1\n",
    "bubble.add_annotation(text = (\"The more the elements' importance in the performance score, the higher the ranking of Men and Ladies athletes. For the other categories,\"),\n",
    "                              showarrow=False,\n",
    "                              x = 0.02, \n",
    "                              y = -0.14, \n",
    "                              xref='paper', \n",
    "                              yref='paper', \n",
    "                              xanchor='left', \n",
    "                              yanchor='top', \n",
    "                              xshift=-80,\n",
    "                              yshift=620, \n",
    "                              font=dict(size=18, color=\"#543810\", family='DejaVu Sans'), \n",
    "                              align=\"center\")\n",
    "# sottotitolo riga 2\n",
    "bubble.add_annotation(text = (\" correlation between ranking and elements' weight is less noticeable. In general, short programs tend to have higher elements' weight than free ones.\"),\n",
    "                              showarrow=False,\n",
    "                              x = 0.02, \n",
    "                              y = -0.14, \n",
    "                              xref='paper', \n",
    "                              yref='paper', \n",
    "                              xanchor='left', \n",
    "                              yanchor='top',\n",
    "                              xshift=-80, \n",
    "                              yshift=600, \n",
    "                              font=dict(size=18, color=\"#543810\", family='DejaVu Sans'), \n",
    "                              align=\"center\")\n",
    "\n",
    "# aggiungi autore e origine dati\n",
    "bubble.add_annotation(text = \"data source: https://github.com/BuzzFeedNews/2018-02-figure-skating-analysis\",\n",
    "                      showarrow=False,\n",
    "                      x = 0, \n",
    "                      y = -0.15, \n",
    "                      xref='paper', \n",
    "                      yref='paper', \n",
    "                      xanchor='left', \n",
    "                      yanchor='bottom', \n",
    "                      xshift=-1, \n",
    "                      yshift=-5, \n",
    "                      font=dict(size=10, color=\"#543810\", family='DejaVu Sans'), \n",
    "                      align=\"left\")\n",
    "bubble.add_annotation(text = \"plot author: Valeria Insogna\",\n",
    "                      showarrow=False,\n",
    "                      x = 0, \n",
    "                      y = -0.18, \n",
    "                      xref='paper', \n",
    "                      yref='paper', \n",
    "                      xanchor='left', \n",
    "                      yanchor='bottom', \n",
    "                      xshift=-1, \n",
    "                      yshift=-5, \n",
    "                      font=dict(size=10, color=\"#543810\", family='DejaVu Sans'), \n",
    "                      align=\"left\")\n",
    "#titolo asse y riga 1\n",
    "bubble.add_annotation(text = \"Rank level\",\n",
    "                   showarrow=False,\n",
    "                   x = -0.025, \n",
    "                   y = -0.07, \n",
    "                   xref='paper', \n",
    "                   yref='paper', \n",
    "                   xanchor='left', \n",
    "                   yanchor='top', \n",
    "                   xshift=-44, \n",
    "                   yshift=530, \n",
    "                   font=dict(size=16, color=\"#543810\", family='DejaVu Sans'), \n",
    "                   align=\"left\")"
   ]
  },
  {
   "cell_type": "code",
   "execution_count": 29,
   "metadata": {},
   "outputs": [
    {
     "data": {
      "application/vnd.plotly.v1+json": {
       "config": {
        "plotlyServerURL": "https://plot.ly"
       },
       "data": [
        {
         "line": {
          "color": "black",
          "dash": "dash",
          "width": 2
         },
         "mode": "lines",
         "name": "Short program",
         "type": "scatter",
         "x": [
          null
         ],
         "y": [
          null
         ]
        },
        {
         "line": {
          "color": "black",
          "dash": "solid",
          "width": 2
         },
         "mode": "lines",
         "name": "Free program",
         "type": "scatter",
         "x": [
          null
         ],
         "y": [
          null
         ]
        }
       ],
       "layout": {
        "legend": {
         "font": {
          "color": "#543810",
          "family": "DejaVu Sans",
          "size": 14
         },
         "title": {
          "text": "Linear regression:"
         },
         "xanchor": "right",
         "yanchor": "bottom"
        },
        "template": {
         "data": {
          "bar": [
           {
            "error_x": {
             "color": "#2a3f5f"
            },
            "error_y": {
             "color": "#2a3f5f"
            },
            "marker": {
             "line": {
              "color": "#E5ECF6",
              "width": 0.5
             },
             "pattern": {
              "fillmode": "overlay",
              "size": 10,
              "solidity": 0.2
             }
            },
            "type": "bar"
           }
          ],
          "barpolar": [
           {
            "marker": {
             "line": {
              "color": "#E5ECF6",
              "width": 0.5
             },
             "pattern": {
              "fillmode": "overlay",
              "size": 10,
              "solidity": 0.2
             }
            },
            "type": "barpolar"
           }
          ],
          "carpet": [
           {
            "aaxis": {
             "endlinecolor": "#2a3f5f",
             "gridcolor": "white",
             "linecolor": "white",
             "minorgridcolor": "white",
             "startlinecolor": "#2a3f5f"
            },
            "baxis": {
             "endlinecolor": "#2a3f5f",
             "gridcolor": "white",
             "linecolor": "white",
             "minorgridcolor": "white",
             "startlinecolor": "#2a3f5f"
            },
            "type": "carpet"
           }
          ],
          "choropleth": [
           {
            "colorbar": {
             "outlinewidth": 0,
             "ticks": ""
            },
            "type": "choropleth"
           }
          ],
          "contour": [
           {
            "colorbar": {
             "outlinewidth": 0,
             "ticks": ""
            },
            "colorscale": [
             [
              0,
              "#0d0887"
             ],
             [
              0.1111111111111111,
              "#46039f"
             ],
             [
              0.2222222222222222,
              "#7201a8"
             ],
             [
              0.3333333333333333,
              "#9c179e"
             ],
             [
              0.4444444444444444,
              "#bd3786"
             ],
             [
              0.5555555555555556,
              "#d8576b"
             ],
             [
              0.6666666666666666,
              "#ed7953"
             ],
             [
              0.7777777777777778,
              "#fb9f3a"
             ],
             [
              0.8888888888888888,
              "#fdca26"
             ],
             [
              1,
              "#f0f921"
             ]
            ],
            "type": "contour"
           }
          ],
          "contourcarpet": [
           {
            "colorbar": {
             "outlinewidth": 0,
             "ticks": ""
            },
            "type": "contourcarpet"
           }
          ],
          "heatmap": [
           {
            "colorbar": {
             "outlinewidth": 0,
             "ticks": ""
            },
            "colorscale": [
             [
              0,
              "#0d0887"
             ],
             [
              0.1111111111111111,
              "#46039f"
             ],
             [
              0.2222222222222222,
              "#7201a8"
             ],
             [
              0.3333333333333333,
              "#9c179e"
             ],
             [
              0.4444444444444444,
              "#bd3786"
             ],
             [
              0.5555555555555556,
              "#d8576b"
             ],
             [
              0.6666666666666666,
              "#ed7953"
             ],
             [
              0.7777777777777778,
              "#fb9f3a"
             ],
             [
              0.8888888888888888,
              "#fdca26"
             ],
             [
              1,
              "#f0f921"
             ]
            ],
            "type": "heatmap"
           }
          ],
          "heatmapgl": [
           {
            "colorbar": {
             "outlinewidth": 0,
             "ticks": ""
            },
            "colorscale": [
             [
              0,
              "#0d0887"
             ],
             [
              0.1111111111111111,
              "#46039f"
             ],
             [
              0.2222222222222222,
              "#7201a8"
             ],
             [
              0.3333333333333333,
              "#9c179e"
             ],
             [
              0.4444444444444444,
              "#bd3786"
             ],
             [
              0.5555555555555556,
              "#d8576b"
             ],
             [
              0.6666666666666666,
              "#ed7953"
             ],
             [
              0.7777777777777778,
              "#fb9f3a"
             ],
             [
              0.8888888888888888,
              "#fdca26"
             ],
             [
              1,
              "#f0f921"
             ]
            ],
            "type": "heatmapgl"
           }
          ],
          "histogram": [
           {
            "marker": {
             "pattern": {
              "fillmode": "overlay",
              "size": 10,
              "solidity": 0.2
             }
            },
            "type": "histogram"
           }
          ],
          "histogram2d": [
           {
            "colorbar": {
             "outlinewidth": 0,
             "ticks": ""
            },
            "colorscale": [
             [
              0,
              "#0d0887"
             ],
             [
              0.1111111111111111,
              "#46039f"
             ],
             [
              0.2222222222222222,
              "#7201a8"
             ],
             [
              0.3333333333333333,
              "#9c179e"
             ],
             [
              0.4444444444444444,
              "#bd3786"
             ],
             [
              0.5555555555555556,
              "#d8576b"
             ],
             [
              0.6666666666666666,
              "#ed7953"
             ],
             [
              0.7777777777777778,
              "#fb9f3a"
             ],
             [
              0.8888888888888888,
              "#fdca26"
             ],
             [
              1,
              "#f0f921"
             ]
            ],
            "type": "histogram2d"
           }
          ],
          "histogram2dcontour": [
           {
            "colorbar": {
             "outlinewidth": 0,
             "ticks": ""
            },
            "colorscale": [
             [
              0,
              "#0d0887"
             ],
             [
              0.1111111111111111,
              "#46039f"
             ],
             [
              0.2222222222222222,
              "#7201a8"
             ],
             [
              0.3333333333333333,
              "#9c179e"
             ],
             [
              0.4444444444444444,
              "#bd3786"
             ],
             [
              0.5555555555555556,
              "#d8576b"
             ],
             [
              0.6666666666666666,
              "#ed7953"
             ],
             [
              0.7777777777777778,
              "#fb9f3a"
             ],
             [
              0.8888888888888888,
              "#fdca26"
             ],
             [
              1,
              "#f0f921"
             ]
            ],
            "type": "histogram2dcontour"
           }
          ],
          "mesh3d": [
           {
            "colorbar": {
             "outlinewidth": 0,
             "ticks": ""
            },
            "type": "mesh3d"
           }
          ],
          "parcoords": [
           {
            "line": {
             "colorbar": {
              "outlinewidth": 0,
              "ticks": ""
             }
            },
            "type": "parcoords"
           }
          ],
          "pie": [
           {
            "automargin": true,
            "type": "pie"
           }
          ],
          "scatter": [
           {
            "fillpattern": {
             "fillmode": "overlay",
             "size": 10,
             "solidity": 0.2
            },
            "type": "scatter"
           }
          ],
          "scatter3d": [
           {
            "line": {
             "colorbar": {
              "outlinewidth": 0,
              "ticks": ""
             }
            },
            "marker": {
             "colorbar": {
              "outlinewidth": 0,
              "ticks": ""
             }
            },
            "type": "scatter3d"
           }
          ],
          "scattercarpet": [
           {
            "marker": {
             "colorbar": {
              "outlinewidth": 0,
              "ticks": ""
             }
            },
            "type": "scattercarpet"
           }
          ],
          "scattergeo": [
           {
            "marker": {
             "colorbar": {
              "outlinewidth": 0,
              "ticks": ""
             }
            },
            "type": "scattergeo"
           }
          ],
          "scattergl": [
           {
            "marker": {
             "colorbar": {
              "outlinewidth": 0,
              "ticks": ""
             }
            },
            "type": "scattergl"
           }
          ],
          "scattermapbox": [
           {
            "marker": {
             "colorbar": {
              "outlinewidth": 0,
              "ticks": ""
             }
            },
            "type": "scattermapbox"
           }
          ],
          "scatterpolar": [
           {
            "marker": {
             "colorbar": {
              "outlinewidth": 0,
              "ticks": ""
             }
            },
            "type": "scatterpolar"
           }
          ],
          "scatterpolargl": [
           {
            "marker": {
             "colorbar": {
              "outlinewidth": 0,
              "ticks": ""
             }
            },
            "type": "scatterpolargl"
           }
          ],
          "scatterternary": [
           {
            "marker": {
             "colorbar": {
              "outlinewidth": 0,
              "ticks": ""
             }
            },
            "type": "scatterternary"
           }
          ],
          "surface": [
           {
            "colorbar": {
             "outlinewidth": 0,
             "ticks": ""
            },
            "colorscale": [
             [
              0,
              "#0d0887"
             ],
             [
              0.1111111111111111,
              "#46039f"
             ],
             [
              0.2222222222222222,
              "#7201a8"
             ],
             [
              0.3333333333333333,
              "#9c179e"
             ],
             [
              0.4444444444444444,
              "#bd3786"
             ],
             [
              0.5555555555555556,
              "#d8576b"
             ],
             [
              0.6666666666666666,
              "#ed7953"
             ],
             [
              0.7777777777777778,
              "#fb9f3a"
             ],
             [
              0.8888888888888888,
              "#fdca26"
             ],
             [
              1,
              "#f0f921"
             ]
            ],
            "type": "surface"
           }
          ],
          "table": [
           {
            "cells": {
             "fill": {
              "color": "#EBF0F8"
             },
             "line": {
              "color": "white"
             }
            },
            "header": {
             "fill": {
              "color": "#C8D4E3"
             },
             "line": {
              "color": "white"
             }
            },
            "type": "table"
           }
          ]
         },
         "layout": {
          "annotationdefaults": {
           "arrowcolor": "#2a3f5f",
           "arrowhead": 0,
           "arrowwidth": 1
          },
          "autotypenumbers": "strict",
          "coloraxis": {
           "colorbar": {
            "outlinewidth": 0,
            "ticks": ""
           }
          },
          "colorscale": {
           "diverging": [
            [
             0,
             "#8e0152"
            ],
            [
             0.1,
             "#c51b7d"
            ],
            [
             0.2,
             "#de77ae"
            ],
            [
             0.3,
             "#f1b6da"
            ],
            [
             0.4,
             "#fde0ef"
            ],
            [
             0.5,
             "#f7f7f7"
            ],
            [
             0.6,
             "#e6f5d0"
            ],
            [
             0.7,
             "#b8e186"
            ],
            [
             0.8,
             "#7fbc41"
            ],
            [
             0.9,
             "#4d9221"
            ],
            [
             1,
             "#276419"
            ]
           ],
           "sequential": [
            [
             0,
             "#0d0887"
            ],
            [
             0.1111111111111111,
             "#46039f"
            ],
            [
             0.2222222222222222,
             "#7201a8"
            ],
            [
             0.3333333333333333,
             "#9c179e"
            ],
            [
             0.4444444444444444,
             "#bd3786"
            ],
            [
             0.5555555555555556,
             "#d8576b"
            ],
            [
             0.6666666666666666,
             "#ed7953"
            ],
            [
             0.7777777777777778,
             "#fb9f3a"
            ],
            [
             0.8888888888888888,
             "#fdca26"
            ],
            [
             1,
             "#f0f921"
            ]
           ],
           "sequentialminus": [
            [
             0,
             "#0d0887"
            ],
            [
             0.1111111111111111,
             "#46039f"
            ],
            [
             0.2222222222222222,
             "#7201a8"
            ],
            [
             0.3333333333333333,
             "#9c179e"
            ],
            [
             0.4444444444444444,
             "#bd3786"
            ],
            [
             0.5555555555555556,
             "#d8576b"
            ],
            [
             0.6666666666666666,
             "#ed7953"
            ],
            [
             0.7777777777777778,
             "#fb9f3a"
            ],
            [
             0.8888888888888888,
             "#fdca26"
            ],
            [
             1,
             "#f0f921"
            ]
           ]
          },
          "colorway": [
           "#636efa",
           "#EF553B",
           "#00cc96",
           "#ab63fa",
           "#FFA15A",
           "#19d3f3",
           "#FF6692",
           "#B6E880",
           "#FF97FF",
           "#FECB52"
          ],
          "font": {
           "color": "#2a3f5f"
          },
          "geo": {
           "bgcolor": "white",
           "lakecolor": "white",
           "landcolor": "#E5ECF6",
           "showlakes": true,
           "showland": true,
           "subunitcolor": "white"
          },
          "hoverlabel": {
           "align": "left"
          },
          "hovermode": "closest",
          "mapbox": {
           "style": "light"
          },
          "paper_bgcolor": "white",
          "plot_bgcolor": "#E5ECF6",
          "polar": {
           "angularaxis": {
            "gridcolor": "white",
            "linecolor": "white",
            "ticks": ""
           },
           "bgcolor": "#E5ECF6",
           "radialaxis": {
            "gridcolor": "white",
            "linecolor": "white",
            "ticks": ""
           }
          },
          "scene": {
           "xaxis": {
            "backgroundcolor": "#E5ECF6",
            "gridcolor": "white",
            "gridwidth": 2,
            "linecolor": "white",
            "showbackground": true,
            "ticks": "",
            "zerolinecolor": "white"
           },
           "yaxis": {
            "backgroundcolor": "#E5ECF6",
            "gridcolor": "white",
            "gridwidth": 2,
            "linecolor": "white",
            "showbackground": true,
            "ticks": "",
            "zerolinecolor": "white"
           },
           "zaxis": {
            "backgroundcolor": "#E5ECF6",
            "gridcolor": "white",
            "gridwidth": 2,
            "linecolor": "white",
            "showbackground": true,
            "ticks": "",
            "zerolinecolor": "white"
           }
          },
          "shapedefaults": {
           "line": {
            "color": "#2a3f5f"
           }
          },
          "ternary": {
           "aaxis": {
            "gridcolor": "white",
            "linecolor": "white",
            "ticks": ""
           },
           "baxis": {
            "gridcolor": "white",
            "linecolor": "white",
            "ticks": ""
           },
           "bgcolor": "#E5ECF6",
           "caxis": {
            "gridcolor": "white",
            "linecolor": "white",
            "ticks": ""
           }
          },
          "title": {
           "x": 0.05
          },
          "xaxis": {
           "automargin": true,
           "gridcolor": "white",
           "linecolor": "white",
           "ticks": "",
           "title": {
            "standoff": 15
           },
           "zerolinecolor": "white",
           "zerolinewidth": 2
          },
          "yaxis": {
           "automargin": true,
           "gridcolor": "white",
           "linecolor": "white",
           "ticks": "",
           "title": {
            "standoff": 15
           },
           "zerolinecolor": "white",
           "zerolinewidth": 2
          }
         }
        }
       }
      }
     },
     "metadata": {},
     "output_type": "display_data"
    }
   ],
   "source": [
    "\n",
    "# Create a new scatter plot with x=0.47 and y=3:\n",
    "bubble = go.Figure()\n",
    "dash = dict(color='black', width=2, dash='dash')\n",
    "solid = dict(color='black', width=2, dash='solid')\n",
    "bubble.add_trace(go.Scatter(x=[None], y=[None], mode='lines', line=dash, name='Short program'))\n",
    "bubble.add_trace(go.Scatter(x=[None], y=[None], mode='lines', line=solid, name='Free program'))\n",
    "#Add a new legend for the linear regression lines in the lower right corner:\n",
    "\n",
    "bubble.update_layout(legend=dict(yanchor=\"bottom\",\n",
    "                                    xanchor=\"right\",\n",
    "                                    #orientation=\"h\",\n",
    "                                    # change title of legend:\n",
    "                                    title_text=\"Linear regression:\",\n",
    "                                    font=dict(size=14, color=\"#543810\", family='DejaVu Sans'),\n",
    "))"
   ]
  }
 ],
 "metadata": {
  "kernelspec": {
   "display_name": "Python 3 (ipykernel)",
   "language": "python",
   "name": "python3"
  },
  "language_info": {
   "codemirror_mode": {
    "name": "ipython",
    "version": 3
   },
   "file_extension": ".py",
   "mimetype": "text/x-python",
   "name": "python",
   "nbconvert_exporter": "python",
   "pygments_lexer": "ipython3",
   "version": "3.8.8"
  },
  "vscode": {
   "interpreter": {
    "hash": "9cda0c324310104f05d8df7cc4d2a731da6a442630e1c96fb26d87993a9b905b"
   }
  }
 },
 "nbformat": 4,
 "nbformat_minor": 2
}

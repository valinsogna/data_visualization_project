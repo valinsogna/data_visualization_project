{
 "cells": [
  {
   "cell_type": "markdown",
   "metadata": {},
   "source": [
    "# Chi sono gli atleti che presentano elementi più difficili e come si classificano?"
   ]
  },
  {
   "cell_type": "code",
   "execution_count": 1,
   "metadata": {},
   "outputs": [],
   "source": [
    "import pandas as pd\n",
    "import numpy as np\n",
    "import matplotlib.pyplot as plt\n",
    "import seaborn as sns\n",
    "%matplotlib inline\n",
    "import plotly.express as px"
   ]
  },
  {
   "cell_type": "code",
   "execution_count": 2,
   "metadata": {},
   "outputs": [
    {
     "name": "stdout",
     "output_type": "stream",
     "text": [
      "initial df.shape: (214491, 19)\n",
      "post cut df.shape: (136861, 19)\n"
     ]
    }
   ],
   "source": [
    "df_tot = pd.read_csv(\"data/final.csv\")\n",
    "# per rispondere alle mie domande mi basta avere gli elements, quindi elimino le rige relative ai components\n",
    "print(\"initial df.shape:\",df_tot.shape)\n",
    "df = df_tot.drop(df_tot[df_tot.section == \"components\"].index)\n",
    "print(\"post cut df.shape:\",df.shape)"
   ]
  },
  {
   "cell_type": "code",
   "execution_count": 3,
   "metadata": {},
   "outputs": [
    {
     "data": {
      "text/html": [
       "<div>\n",
       "<style scoped>\n",
       "    .dataframe tbody tr th:only-of-type {\n",
       "        vertical-align: middle;\n",
       "    }\n",
       "\n",
       "    .dataframe tbody tr th {\n",
       "        vertical-align: top;\n",
       "    }\n",
       "\n",
       "    .dataframe thead th {\n",
       "        text-align: right;\n",
       "    }\n",
       "</style>\n",
       "<table border=\"1\" class=\"dataframe\">\n",
       "  <thead>\n",
       "    <tr style=\"text-align: right;\">\n",
       "      <th></th>\n",
       "      <th>event</th>\n",
       "      <th>program</th>\n",
       "      <th>performance_id</th>\n",
       "      <th>athlete_name</th>\n",
       "      <th>athlete_nation</th>\n",
       "      <th>rank</th>\n",
       "      <th>total_segment_score</th>\n",
       "      <th>total_element_score</th>\n",
       "      <th>total_component_score</th>\n",
       "      <th>total_deductions</th>\n",
       "      <th>aspect_id</th>\n",
       "      <th>aspect_desc</th>\n",
       "      <th>element_order</th>\n",
       "      <th>element_base_value</th>\n",
       "      <th>section</th>\n",
       "      <th>aspect_final_score</th>\n",
       "      <th>judge_name</th>\n",
       "      <th>judge_nation</th>\n",
       "      <th>judge_score</th>\n",
       "    </tr>\n",
       "  </thead>\n",
       "  <tbody>\n",
       "    <tr>\n",
       "      <th>2</th>\n",
       "      <td>ISU European Figure Skating Championships 2017</td>\n",
       "      <td>LADIES SHORT PROGRAM</td>\n",
       "      <td>b639d77459</td>\n",
       "      <td>Evgenia MEDVEDEVA</td>\n",
       "      <td>RUS</td>\n",
       "      <td>1</td>\n",
       "      <td>78.92</td>\n",
       "      <td>42.0</td>\n",
       "      <td>36.92</td>\n",
       "      <td>0.0</td>\n",
       "      <td>38bda018f5</td>\n",
       "      <td>3Lo</td>\n",
       "      <td>4.0</td>\n",
       "      <td>5.61</td>\n",
       "      <td>elements</td>\n",
       "      <td>7.21</td>\n",
       "      <td>Agita ABELE</td>\n",
       "      <td>LAT</td>\n",
       "      <td>3.0</td>\n",
       "    </tr>\n",
       "    <tr>\n",
       "      <th>3</th>\n",
       "      <td>ISU European Figure Skating Championships 2017</td>\n",
       "      <td>LADIES SHORT PROGRAM</td>\n",
       "      <td>b639d77459</td>\n",
       "      <td>Evgenia MEDVEDEVA</td>\n",
       "      <td>RUS</td>\n",
       "      <td>1</td>\n",
       "      <td>78.92</td>\n",
       "      <td>42.0</td>\n",
       "      <td>36.92</td>\n",
       "      <td>0.0</td>\n",
       "      <td>50366b5d60</td>\n",
       "      <td>3F+3T</td>\n",
       "      <td>3.0</td>\n",
       "      <td>10.56</td>\n",
       "      <td>elements</td>\n",
       "      <td>12.16</td>\n",
       "      <td>Agita ABELE</td>\n",
       "      <td>LAT</td>\n",
       "      <td>3.0</td>\n",
       "    </tr>\n",
       "    <tr>\n",
       "      <th>4</th>\n",
       "      <td>ISU European Figure Skating Championships 2017</td>\n",
       "      <td>LADIES SHORT PROGRAM</td>\n",
       "      <td>b639d77459</td>\n",
       "      <td>Evgenia MEDVEDEVA</td>\n",
       "      <td>RUS</td>\n",
       "      <td>1</td>\n",
       "      <td>78.92</td>\n",
       "      <td>42.0</td>\n",
       "      <td>36.92</td>\n",
       "      <td>0.0</td>\n",
       "      <td>6e36e62b05</td>\n",
       "      <td>CCoSp4</td>\n",
       "      <td>6.0</td>\n",
       "      <td>3.50</td>\n",
       "      <td>elements</td>\n",
       "      <td>4.50</td>\n",
       "      <td>Agita ABELE</td>\n",
       "      <td>LAT</td>\n",
       "      <td>2.0</td>\n",
       "    </tr>\n",
       "    <tr>\n",
       "      <th>5</th>\n",
       "      <td>ISU European Figure Skating Championships 2017</td>\n",
       "      <td>LADIES SHORT PROGRAM</td>\n",
       "      <td>b639d77459</td>\n",
       "      <td>Evgenia MEDVEDEVA</td>\n",
       "      <td>RUS</td>\n",
       "      <td>1</td>\n",
       "      <td>78.92</td>\n",
       "      <td>42.0</td>\n",
       "      <td>36.92</td>\n",
       "      <td>0.0</td>\n",
       "      <td>8f7180d180</td>\n",
       "      <td>2A</td>\n",
       "      <td>5.0</td>\n",
       "      <td>3.63</td>\n",
       "      <td>elements</td>\n",
       "      <td>4.63</td>\n",
       "      <td>Agita ABELE</td>\n",
       "      <td>LAT</td>\n",
       "      <td>2.0</td>\n",
       "    </tr>\n",
       "    <tr>\n",
       "      <th>9</th>\n",
       "      <td>ISU European Figure Skating Championships 2017</td>\n",
       "      <td>LADIES SHORT PROGRAM</td>\n",
       "      <td>b639d77459</td>\n",
       "      <td>Evgenia MEDVEDEVA</td>\n",
       "      <td>RUS</td>\n",
       "      <td>1</td>\n",
       "      <td>78.92</td>\n",
       "      <td>42.0</td>\n",
       "      <td>36.92</td>\n",
       "      <td>0.0</td>\n",
       "      <td>c07f5eb3da</td>\n",
       "      <td>FCSp4</td>\n",
       "      <td>1.0</td>\n",
       "      <td>3.20</td>\n",
       "      <td>elements</td>\n",
       "      <td>4.20</td>\n",
       "      <td>Agita ABELE</td>\n",
       "      <td>LAT</td>\n",
       "      <td>2.0</td>\n",
       "    </tr>\n",
       "  </tbody>\n",
       "</table>\n",
       "</div>"
      ],
      "text/plain": [
       "                                            event               program  \\\n",
       "2  ISU European Figure Skating Championships 2017  LADIES SHORT PROGRAM   \n",
       "3  ISU European Figure Skating Championships 2017  LADIES SHORT PROGRAM   \n",
       "4  ISU European Figure Skating Championships 2017  LADIES SHORT PROGRAM   \n",
       "5  ISU European Figure Skating Championships 2017  LADIES SHORT PROGRAM   \n",
       "9  ISU European Figure Skating Championships 2017  LADIES SHORT PROGRAM   \n",
       "\n",
       "  performance_id       athlete_name athlete_nation  rank  total_segment_score  \\\n",
       "2     b639d77459  Evgenia MEDVEDEVA            RUS     1                78.92   \n",
       "3     b639d77459  Evgenia MEDVEDEVA            RUS     1                78.92   \n",
       "4     b639d77459  Evgenia MEDVEDEVA            RUS     1                78.92   \n",
       "5     b639d77459  Evgenia MEDVEDEVA            RUS     1                78.92   \n",
       "9     b639d77459  Evgenia MEDVEDEVA            RUS     1                78.92   \n",
       "\n",
       "   total_element_score  total_component_score  total_deductions   aspect_id  \\\n",
       "2                 42.0                  36.92               0.0  38bda018f5   \n",
       "3                 42.0                  36.92               0.0  50366b5d60   \n",
       "4                 42.0                  36.92               0.0  6e36e62b05   \n",
       "5                 42.0                  36.92               0.0  8f7180d180   \n",
       "9                 42.0                  36.92               0.0  c07f5eb3da   \n",
       "\n",
       "  aspect_desc  element_order  element_base_value   section  \\\n",
       "2         3Lo            4.0                5.61  elements   \n",
       "3       3F+3T            3.0               10.56  elements   \n",
       "4      CCoSp4            6.0                3.50  elements   \n",
       "5          2A            5.0                3.63  elements   \n",
       "9       FCSp4            1.0                3.20  elements   \n",
       "\n",
       "   aspect_final_score   judge_name judge_nation  judge_score  \n",
       "2                7.21  Agita ABELE          LAT          3.0  \n",
       "3               12.16  Agita ABELE          LAT          3.0  \n",
       "4                4.50  Agita ABELE          LAT          2.0  \n",
       "5                4.63  Agita ABELE          LAT          2.0  \n",
       "9                4.20  Agita ABELE          LAT          2.0  "
      ]
     },
     "execution_count": 3,
     "metadata": {},
     "output_type": "execute_result"
    }
   ],
   "source": [
    "df.head()"
   ]
  },
  {
   "cell_type": "code",
   "execution_count": 4,
   "metadata": {
    "scrolled": true
   },
   "outputs": [
    {
     "data": {
      "text/html": [
       "<div>\n",
       "<style scoped>\n",
       "    .dataframe tbody tr th:only-of-type {\n",
       "        vertical-align: middle;\n",
       "    }\n",
       "\n",
       "    .dataframe tbody tr th {\n",
       "        vertical-align: top;\n",
       "    }\n",
       "\n",
       "    .dataframe thead th {\n",
       "        text-align: right;\n",
       "    }\n",
       "</style>\n",
       "<table border=\"1\" class=\"dataframe\">\n",
       "  <thead>\n",
       "    <tr style=\"text-align: right;\">\n",
       "      <th></th>\n",
       "      <th>program</th>\n",
       "      <th>athlete_name</th>\n",
       "      <th>rank</th>\n",
       "      <th>aspect_id</th>\n",
       "      <th>aspect_desc</th>\n",
       "      <th>element_base_value</th>\n",
       "    </tr>\n",
       "  </thead>\n",
       "  <tbody>\n",
       "    <tr>\n",
       "      <th>2</th>\n",
       "      <td>LADIES SHORT PROGRAM</td>\n",
       "      <td>Evgenia MEDVEDEVA</td>\n",
       "      <td>1</td>\n",
       "      <td>38bda018f5</td>\n",
       "      <td>3Lo</td>\n",
       "      <td>5.61</td>\n",
       "    </tr>\n",
       "    <tr>\n",
       "      <th>3</th>\n",
       "      <td>LADIES SHORT PROGRAM</td>\n",
       "      <td>Evgenia MEDVEDEVA</td>\n",
       "      <td>1</td>\n",
       "      <td>50366b5d60</td>\n",
       "      <td>3F+3T</td>\n",
       "      <td>10.56</td>\n",
       "    </tr>\n",
       "    <tr>\n",
       "      <th>4</th>\n",
       "      <td>LADIES SHORT PROGRAM</td>\n",
       "      <td>Evgenia MEDVEDEVA</td>\n",
       "      <td>1</td>\n",
       "      <td>6e36e62b05</td>\n",
       "      <td>CCoSp4</td>\n",
       "      <td>3.50</td>\n",
       "    </tr>\n",
       "    <tr>\n",
       "      <th>5</th>\n",
       "      <td>LADIES SHORT PROGRAM</td>\n",
       "      <td>Evgenia MEDVEDEVA</td>\n",
       "      <td>1</td>\n",
       "      <td>8f7180d180</td>\n",
       "      <td>2A</td>\n",
       "      <td>3.63</td>\n",
       "    </tr>\n",
       "    <tr>\n",
       "      <th>9</th>\n",
       "      <td>LADIES SHORT PROGRAM</td>\n",
       "      <td>Evgenia MEDVEDEVA</td>\n",
       "      <td>1</td>\n",
       "      <td>c07f5eb3da</td>\n",
       "      <td>FCSp4</td>\n",
       "      <td>3.20</td>\n",
       "    </tr>\n",
       "  </tbody>\n",
       "</table>\n",
       "</div>"
      ],
      "text/plain": [
       "                program       athlete_name  rank   aspect_id aspect_desc  \\\n",
       "2  LADIES SHORT PROGRAM  Evgenia MEDVEDEVA     1  38bda018f5         3Lo   \n",
       "3  LADIES SHORT PROGRAM  Evgenia MEDVEDEVA     1  50366b5d60       3F+3T   \n",
       "4  LADIES SHORT PROGRAM  Evgenia MEDVEDEVA     1  6e36e62b05      CCoSp4   \n",
       "5  LADIES SHORT PROGRAM  Evgenia MEDVEDEVA     1  8f7180d180          2A   \n",
       "9  LADIES SHORT PROGRAM  Evgenia MEDVEDEVA     1  c07f5eb3da       FCSp4   \n",
       "\n",
       "   element_base_value  \n",
       "2                5.61  \n",
       "3               10.56  \n",
       "4                3.50  \n",
       "5                3.63  \n",
       "9                3.20  "
      ]
     },
     "execution_count": 4,
     "metadata": {},
     "output_type": "execute_result"
    }
   ],
   "source": [
    "# Creo una tabella che associa a ciascun atleta la media degli element_base_value e il suo rank medio\n",
    "# la tabella alla fine sarà così composta:\n",
    "# - athlete_name\n",
    "# - category\n",
    "# - avg_rank\n",
    "# - avg_elem_base_value\n",
    "\n",
    "# Elimino le colonne che non servono:\n",
    "athlete_base_value = df.drop(['judge_name',\n",
    "                               'judge_nation',\n",
    "                               'judge_score',\n",
    "                               'section',\n",
    "                               'total_deductions',\n",
    "                               'element_order',\n",
    "                               'aspect_final_score',\n",
    "                               'event',\n",
    "                               'athlete_nation',\n",
    "                               'total_segment_score',\n",
    "                               'total_element_score',\n",
    "                               'total_component_score',\n",
    "                               'performance_id'], axis=1)\n",
    "# Eimino le righe di doppioni di aspect_id con i diversi voti dei giudici:\n",
    "athlete_base_value.drop_duplicates()\n",
    "athlete_base_value.head()\n"
   ]
  },
  {
   "cell_type": "code",
   "execution_count": 5,
   "metadata": {},
   "outputs": [
    {
     "data": {
      "text/html": [
       "<div>\n",
       "<style scoped>\n",
       "    .dataframe tbody tr th:only-of-type {\n",
       "        vertical-align: middle;\n",
       "    }\n",
       "\n",
       "    .dataframe tbody tr th {\n",
       "        vertical-align: top;\n",
       "    }\n",
       "\n",
       "    .dataframe thead th {\n",
       "        text-align: right;\n",
       "    }\n",
       "</style>\n",
       "<table border=\"1\" class=\"dataframe\">\n",
       "  <thead>\n",
       "    <tr style=\"text-align: right;\">\n",
       "      <th></th>\n",
       "      <th>program</th>\n",
       "      <th>athlete_name</th>\n",
       "      <th>rank</th>\n",
       "      <th>aspect_id</th>\n",
       "      <th>aspect_desc</th>\n",
       "      <th>element_base_value</th>\n",
       "      <th>category</th>\n",
       "    </tr>\n",
       "  </thead>\n",
       "  <tbody>\n",
       "    <tr>\n",
       "      <th>2</th>\n",
       "      <td>LADIES SHORT PROGRAM</td>\n",
       "      <td>Evgenia MEDVEDEVA</td>\n",
       "      <td>1</td>\n",
       "      <td>38bda018f5</td>\n",
       "      <td>3Lo</td>\n",
       "      <td>5.61</td>\n",
       "      <td>Ladies</td>\n",
       "    </tr>\n",
       "    <tr>\n",
       "      <th>3</th>\n",
       "      <td>LADIES SHORT PROGRAM</td>\n",
       "      <td>Evgenia MEDVEDEVA</td>\n",
       "      <td>1</td>\n",
       "      <td>50366b5d60</td>\n",
       "      <td>3F+3T</td>\n",
       "      <td>10.56</td>\n",
       "      <td>Ladies</td>\n",
       "    </tr>\n",
       "    <tr>\n",
       "      <th>4</th>\n",
       "      <td>LADIES SHORT PROGRAM</td>\n",
       "      <td>Evgenia MEDVEDEVA</td>\n",
       "      <td>1</td>\n",
       "      <td>6e36e62b05</td>\n",
       "      <td>CCoSp4</td>\n",
       "      <td>3.50</td>\n",
       "      <td>Ladies</td>\n",
       "    </tr>\n",
       "    <tr>\n",
       "      <th>5</th>\n",
       "      <td>LADIES SHORT PROGRAM</td>\n",
       "      <td>Evgenia MEDVEDEVA</td>\n",
       "      <td>1</td>\n",
       "      <td>8f7180d180</td>\n",
       "      <td>2A</td>\n",
       "      <td>3.63</td>\n",
       "      <td>Ladies</td>\n",
       "    </tr>\n",
       "    <tr>\n",
       "      <th>9</th>\n",
       "      <td>LADIES SHORT PROGRAM</td>\n",
       "      <td>Evgenia MEDVEDEVA</td>\n",
       "      <td>1</td>\n",
       "      <td>c07f5eb3da</td>\n",
       "      <td>FCSp4</td>\n",
       "      <td>3.20</td>\n",
       "      <td>Ladies</td>\n",
       "    </tr>\n",
       "  </tbody>\n",
       "</table>\n",
       "</div>"
      ],
      "text/plain": [
       "                program       athlete_name  rank   aspect_id aspect_desc  \\\n",
       "2  LADIES SHORT PROGRAM  Evgenia MEDVEDEVA     1  38bda018f5         3Lo   \n",
       "3  LADIES SHORT PROGRAM  Evgenia MEDVEDEVA     1  50366b5d60       3F+3T   \n",
       "4  LADIES SHORT PROGRAM  Evgenia MEDVEDEVA     1  6e36e62b05      CCoSp4   \n",
       "5  LADIES SHORT PROGRAM  Evgenia MEDVEDEVA     1  8f7180d180          2A   \n",
       "9  LADIES SHORT PROGRAM  Evgenia MEDVEDEVA     1  c07f5eb3da       FCSp4   \n",
       "\n",
       "   element_base_value category  \n",
       "2                5.61   Ladies  \n",
       "3               10.56   Ladies  \n",
       "4                3.50   Ladies  \n",
       "5                3.63   Ladies  \n",
       "9                3.20   Ladies  "
      ]
     },
     "execution_count": 5,
     "metadata": {},
     "output_type": "execute_result"
    }
   ],
   "source": [
    "# new categories\n",
    "conditions = [\n",
    "    (athlete_base_value['program'] == \"LADIES SHORT PROGRAM\") |\n",
    "    (athlete_base_value['program'] == \"JUNIOR LADIES SHORT PROGRAM\") |\n",
    "    (athlete_base_value['program'] == \"JUNIOR LADIES FREE SKATING\") |\n",
    "    (athlete_base_value['program'] == \"LADIES FREE SKATING\"),\n",
    "\n",
    "    (athlete_base_value['program'] == \"MEN SHORT PROGRAM\") |\n",
    "    (athlete_base_value['program'] == \"JUNIOR MEN SHORT PROGRAM\") |\n",
    "    (athlete_base_value['program'] == \"MEN FREE SKATING\") |\n",
    "    (athlete_base_value['program'] == \"JUNIOR MEN FREE SKATING\"),\n",
    "\n",
    "    (athlete_base_value['program'] == \"PAIRS SHORT PROGRAM\") |\n",
    "    (athlete_base_value['program'] == \"JUNIOR PAIRS SHORT PROGRAM\") |\n",
    "    (athlete_base_value['program'] == \"PAIRS FREE SKATING\") |\n",
    "    (athlete_base_value['program'] == \"JUNIOR PAIRS FREE SKATING\"),\n",
    "\n",
    "    (athlete_base_value['program'] == \"ICE DANCE SHORT DANCE\") |\n",
    "    (athlete_base_value['program'] == \"JUNIOR ICE DANCE SHORT DANCE\") |\n",
    "    (athlete_base_value['program'] == \"ICE DANCE FREE DANCE\") |\n",
    "    (athlete_base_value['program'] == \"JUNIOR ICE DANCE FREE DANCE\"),\n",
    "\n",
    "    ]\n",
    "\n",
    "# create a list of the values we want to assign for each condition\n",
    "values = ['Ladies','Men','Pairs','Ice dance']\n",
    "\n",
    "# create a new column and use np.select to assign values to it using our lists as arguments\n",
    "athlete_base_value['category'] = np.select(conditions, values)\n",
    "\n",
    "# elimino le colonne che non mi servono più\n",
    "athlete_base_value.drop(['aspect_id',\n",
    "                          'aspect_desc',\n",
    "                          'program'], axis=1)\n",
    "\n",
    "# display updated DataFrame\n",
    "athlete_base_value.head()"
   ]
  },
  {
   "cell_type": "code",
   "execution_count": 6,
   "metadata": {},
   "outputs": [
    {
     "data": {
      "text/html": [
       "<div>\n",
       "<style scoped>\n",
       "    .dataframe tbody tr th:only-of-type {\n",
       "        vertical-align: middle;\n",
       "    }\n",
       "\n",
       "    .dataframe tbody tr th {\n",
       "        vertical-align: top;\n",
       "    }\n",
       "\n",
       "    .dataframe thead th {\n",
       "        text-align: right;\n",
       "    }\n",
       "</style>\n",
       "<table border=\"1\" class=\"dataframe\">\n",
       "  <thead>\n",
       "    <tr style=\"text-align: right;\">\n",
       "      <th></th>\n",
       "      <th>athlete_name</th>\n",
       "      <th>category</th>\n",
       "      <th>avg_rank</th>\n",
       "      <th>avg_elem_base_value</th>\n",
       "    </tr>\n",
       "  </thead>\n",
       "  <tbody>\n",
       "    <tr>\n",
       "      <th>231</th>\n",
       "      <td>Nathan CHEN</td>\n",
       "      <td>Men</td>\n",
       "      <td>2.375000</td>\n",
       "      <td>7.534812</td>\n",
       "    </tr>\n",
       "    <tr>\n",
       "      <th>59</th>\n",
       "      <td>Boyang JIN</td>\n",
       "      <td>Men</td>\n",
       "      <td>3.932773</td>\n",
       "      <td>7.391765</td>\n",
       "    </tr>\n",
       "    <tr>\n",
       "      <th>300</th>\n",
       "      <td>Vincent ZHOU</td>\n",
       "      <td>Men</td>\n",
       "      <td>6.075000</td>\n",
       "      <td>7.147000</td>\n",
       "    </tr>\n",
       "    <tr>\n",
       "      <th>263</th>\n",
       "      <td>Shoma UNO</td>\n",
       "      <td>Men</td>\n",
       "      <td>1.712500</td>\n",
       "      <td>7.052313</td>\n",
       "    </tr>\n",
       "    <tr>\n",
       "      <th>315</th>\n",
       "      <td>Yuzuru HANYU</td>\n",
       "      <td>Men</td>\n",
       "      <td>1.800000</td>\n",
       "      <td>6.806167</td>\n",
       "    </tr>\n",
       "  </tbody>\n",
       "</table>\n",
       "</div>"
      ],
      "text/plain": [
       "     athlete_name category  avg_rank  avg_elem_base_value\n",
       "231   Nathan CHEN      Men  2.375000             7.534812\n",
       "59     Boyang JIN      Men  3.932773             7.391765\n",
       "300  Vincent ZHOU      Men  6.075000             7.147000\n",
       "263     Shoma UNO      Men  1.712500             7.052313\n",
       "315  Yuzuru HANYU      Men  1.800000             6.806167"
      ]
     },
     "execution_count": 6,
     "metadata": {},
     "output_type": "execute_result"
    }
   ],
   "source": [
    "# Creo una tabella che associa a ciascun atleta la media degli element_base_value e il suo rank medio\n",
    "# degli elementi che ha presentato (avg_element_base_value)\n",
    "athlete_base_value = athlete_base_value.groupby(['athlete_name','category']).mean().reset_index()\n",
    "athlete_base_value.sort_values(by='element_base_value', ascending=False,inplace=True)\n",
    "athlete_base_value.rename(columns={'element_base_value': 'avg_elem_base_value', 'rank': 'avg_rank'}, inplace=True)\n",
    "athlete_base_value.head()"
   ]
  },
  {
   "cell_type": "code",
   "execution_count": 7,
   "metadata": {
    "scrolled": false
   },
   "outputs": [],
   "source": [
    "# Ordino data secondo il rank in modo crescente:\n",
    "athlete_base_value = athlete_base_value.sort_values(by=['avg_rank'], ascending=True)\n",
    "# Create a new column with the inverse of the rank:\n",
    "athlete_base_value['avg_rank_inv'] = 1/athlete_base_value['avg_rank']"
   ]
  },
  {
   "cell_type": "code",
   "execution_count": 8,
   "metadata": {},
   "outputs": [
    {
     "data": {
      "text/html": [
       "<div>\n",
       "<style scoped>\n",
       "    .dataframe tbody tr th:only-of-type {\n",
       "        vertical-align: middle;\n",
       "    }\n",
       "\n",
       "    .dataframe tbody tr th {\n",
       "        vertical-align: top;\n",
       "    }\n",
       "\n",
       "    .dataframe thead th {\n",
       "        text-align: right;\n",
       "    }\n",
       "</style>\n",
       "<table border=\"1\" class=\"dataframe\">\n",
       "  <thead>\n",
       "    <tr style=\"text-align: right;\">\n",
       "      <th></th>\n",
       "      <th>athlete_name</th>\n",
       "      <th>category</th>\n",
       "      <th>avg_rank</th>\n",
       "      <th>avg_elem_base_value</th>\n",
       "      <th>avg_rank_inv</th>\n",
       "    </tr>\n",
       "  </thead>\n",
       "  <tbody>\n",
       "    <tr>\n",
       "      <th>103</th>\n",
       "      <td>Evgenia MEDVEDEVA</td>\n",
       "      <td>Ladies</td>\n",
       "      <td>1.000000</td>\n",
       "      <td>5.012632</td>\n",
       "      <td>1.000000</td>\n",
       "    </tr>\n",
       "    <tr>\n",
       "      <th>33</th>\n",
       "      <td>Anastasia MISHINA / Vladislav MIRZOEV</td>\n",
       "      <td>Pairs</td>\n",
       "      <td>1.000000</td>\n",
       "      <td>4.694444</td>\n",
       "      <td>1.000000</td>\n",
       "    </tr>\n",
       "    <tr>\n",
       "      <th>36</th>\n",
       "      <td>Anastasia SKOPTCOVA / Kirill ALESHIN</td>\n",
       "      <td>Ice dance</td>\n",
       "      <td>1.000000</td>\n",
       "      <td>4.875000</td>\n",
       "      <td>1.000000</td>\n",
       "    </tr>\n",
       "    <tr>\n",
       "      <th>303</th>\n",
       "      <td>Wenjing SUI / Cong HAN</td>\n",
       "      <td>Pairs</td>\n",
       "      <td>1.273684</td>\n",
       "      <td>4.952632</td>\n",
       "      <td>0.785124</td>\n",
       "    </tr>\n",
       "    <tr>\n",
       "      <th>285</th>\n",
       "      <td>Tessa VIRTUE / Scott MOIR</td>\n",
       "      <td>Ice dance</td>\n",
       "      <td>1.285714</td>\n",
       "      <td>5.276786</td>\n",
       "      <td>0.777778</td>\n",
       "    </tr>\n",
       "    <tr>\n",
       "      <th>25</th>\n",
       "      <td>Aljona SAVCHENKO / Bruno MASSOT</td>\n",
       "      <td>Pairs</td>\n",
       "      <td>1.368421</td>\n",
       "      <td>4.860526</td>\n",
       "      <td>0.730769</td>\n",
       "    </tr>\n",
       "    <tr>\n",
       "      <th>6</th>\n",
       "      <td>Alena KOSTORNAIA</td>\n",
       "      <td>Ladies</td>\n",
       "      <td>1.388889</td>\n",
       "      <td>5.287778</td>\n",
       "      <td>0.720000</td>\n",
       "    </tr>\n",
       "    <tr>\n",
       "      <th>105</th>\n",
       "      <td>Gabriella PAPADAKIS / Guillaume CIZERON</td>\n",
       "      <td>Ice dance</td>\n",
       "      <td>1.428571</td>\n",
       "      <td>5.148214</td>\n",
       "      <td>0.700000</td>\n",
       "    </tr>\n",
       "    <tr>\n",
       "      <th>16</th>\n",
       "      <td>Alexandra TRUSOVA</td>\n",
       "      <td>Ladies</td>\n",
       "      <td>1.611111</td>\n",
       "      <td>5.750000</td>\n",
       "      <td>0.620690</td>\n",
       "    </tr>\n",
       "    <tr>\n",
       "      <th>22</th>\n",
       "      <td>Aliona SAVCHENKO / Bruno MASSOT</td>\n",
       "      <td>Pairs</td>\n",
       "      <td>1.673684</td>\n",
       "      <td>4.877895</td>\n",
       "      <td>0.597484</td>\n",
       "    </tr>\n",
       "  </tbody>\n",
       "</table>\n",
       "</div>"
      ],
      "text/plain": [
       "                                athlete_name   category  avg_rank  \\\n",
       "103                        Evgenia MEDVEDEVA     Ladies  1.000000   \n",
       "33     Anastasia MISHINA / Vladislav MIRZOEV      Pairs  1.000000   \n",
       "36      Anastasia SKOPTCOVA / Kirill ALESHIN  Ice dance  1.000000   \n",
       "303                   Wenjing SUI / Cong HAN      Pairs  1.273684   \n",
       "285                Tessa VIRTUE / Scott MOIR  Ice dance  1.285714   \n",
       "25           Aljona SAVCHENKO / Bruno MASSOT      Pairs  1.368421   \n",
       "6                           Alena KOSTORNAIA     Ladies  1.388889   \n",
       "105  Gabriella PAPADAKIS / Guillaume CIZERON  Ice dance  1.428571   \n",
       "16                         Alexandra TRUSOVA     Ladies  1.611111   \n",
       "22           Aliona SAVCHENKO / Bruno MASSOT      Pairs  1.673684   \n",
       "\n",
       "     avg_elem_base_value  avg_rank_inv  \n",
       "103             5.012632      1.000000  \n",
       "33              4.694444      1.000000  \n",
       "36              4.875000      1.000000  \n",
       "303             4.952632      0.785124  \n",
       "285             5.276786      0.777778  \n",
       "25              4.860526      0.730769  \n",
       "6               5.287778      0.720000  \n",
       "105             5.148214      0.700000  \n",
       "16              5.750000      0.620690  \n",
       "22              4.877895      0.597484  "
      ]
     },
     "execution_count": 8,
     "metadata": {},
     "output_type": "execute_result"
    }
   ],
   "source": [
    "athlete_base_value.head(10)"
   ]
  },
  {
   "cell_type": "code",
   "execution_count": 9,
   "metadata": {},
   "outputs": [],
   "source": [
    "palette2 = {'Ladies':'#F833FA',\n",
    "            'Men':'#3399FA',\n",
    "            'Pairs':'#FA9433',\n",
    "            'Ice dance':'#35FA33'}"
   ]
  },
  {
   "cell_type": "code",
   "execution_count": 15,
   "metadata": {},
   "outputs": [
    {
     "data": {
      "application/vnd.plotly.v1+json": {
       "config": {
        "plotlyServerURL": "https://plot.ly"
       },
       "data": [
        {
         "customdata": [
          [
           1,
           1
          ],
          [
           0.72,
           1.3888888888888888
          ],
          [
           0.6206896551724138,
           1.6111111111111112
          ],
          [
           0.5725190839694657,
           1.7466666666666666
          ],
          [
           0.4186046511627907,
           2.388888888888889
          ],
          [
           0.37254901960784315,
           2.6842105263157894
          ],
          [
           0.3333333333333333,
           3
          ],
          [
           0.3138888888888889,
           3.185840707964602
          ],
          [
           0.30434782608695654,
           3.2857142857142856
          ],
          [
           0.296875,
           3.3684210526315788
          ],
          [
           0.2946708463949843,
           3.393617021276596
          ],
          [
           0.290519877675841,
           3.442105263157895
          ],
          [
           0.2571428571428572,
           3.888888888888889
          ],
          [
           0.2558922558922559,
           3.9078947368421053
          ],
          [
           0.2550335570469799,
           3.9210526315789473
          ],
          [
           0.24255319148936172,
           4.12280701754386
          ],
          [
           0.24042553191489363,
           4.15929203539823
          ],
          [
           0.23347107438016526,
           4.283185840707965
          ],
          [
           0.2168674698795181,
           4.611111111111111
          ],
          [
           0.2,
           5
          ],
          [
           0.18686868686868685,
           5.351351351351352
          ],
          [
           0.18656716417910446,
           5.36
          ],
          [
           0.1812227074235808,
           5.518072289156627
          ],
          [
           0.1793478260869565,
           5.575757575757576
          ],
          [
           0.17272727272727273,
           5.7894736842105265
          ],
          [
           0.16666666666666666,
           6
          ],
          [
           0.16170212765957448,
           6.184210526315789
          ],
          [
           0.16170212765957448,
           6.184210526315789
          ],
          [
           0.15859030837004406,
           6.305555555555555
          ],
          [
           0.15625,
           6.4
          ],
          [
           0.15510204081632653,
           6.447368421052632
          ],
          [
           0.15384615384615385,
           6.5
          ],
          [
           0.14834437086092714,
           6.741071428571429
          ],
          [
           0.14303797468354432,
           6.991150442477876
          ],
          [
           0.13803230543318648,
           7.24468085106383
          ],
          [
           0.1342756183745583,
           7.447368421052632
          ],
          [
           0.13103448275862067,
           7.631578947368421
          ],
          [
           0.1292517006802721,
           7.7368421052631575
          ],
          [
           0.125,
           8
          ],
          [
           0.12403100775193798,
           8.0625
          ],
          [
           0.11597151576805696,
           8.62280701754386
          ],
          [
           0.109717868338558,
           9.114285714285714
          ],
          [
           0.10952380952380952,
           9.130434782608695
          ],
          [
           0.1072234762979684,
           9.326315789473684
          ],
          [
           0.10497237569060773,
           9.526315789473685
          ],
          [
           0.10382513661202186,
           9.631578947368421
          ],
          [
           0.10124333925399645,
           9.87719298245614
          ],
          [
           0.1,
           10
          ],
          [
           0.1,
           10
          ],
          [
           0.09912280701754385,
           10.08849557522124
          ],
          [
           0.09420289855072464,
           10.615384615384615
          ],
          [
           0.09178743961352656,
           10.894736842105264
          ],
          [
           0.09112709832134293,
           10.973684210526315
          ],
          [
           0.0861244019138756,
           11.61111111111111
          ],
          [
           0.08482142857142858,
           11.789473684210526
          ],
          [
           0.08333333333333333,
           12
          ],
          [
           0.08214676889375684,
           12.173333333333334
          ],
          [
           0.0805084745762712,
           12.421052631578947
          ],
          [
           0.07922912205567452,
           12.621621621621621
          ],
          [
           0.07664670658682635,
           13.046875
          ],
          [
           0.07562349155269509,
           13.22340425531915
          ],
          [
           0.07364341085271317,
           13.578947368421053
          ],
          [
           0.06785714285714285,
           14.736842105263158
          ],
          [
           0.06578947368421052,
           15.2
          ],
          [
           0.06479113384484228,
           15.43421052631579
          ],
          [
           0.06426155580608793,
           15.56140350877193
          ],
          [
           0.05555555555555555,
           18
          ],
          [
           0.054441260744985676,
           18.36842105263158
          ],
          [
           0.05405405405405406,
           18.5
          ],
          [
           0.05357142857142857,
           18.666666666666668
          ],
          [
           0.04909560723514212,
           20.36842105263158
          ],
          [
           0.04785894206549118,
           20.894736842105264
          ],
          [
           0.04727272727272727,
           21.153846153846153
          ],
          [
           0.04570383912248629,
           21.88
          ],
          [
           0.044520547945205484,
           22.46153846153846
          ],
          [
           0.043478260869565216,
           23
          ],
          [
           0.04220779220779221,
           23.692307692307693
          ],
          [
           0.041666666666666664,
           24
          ],
          [
           0.04113924050632912,
           24.307692307692307
          ],
          [
           0.04,
           25
          ],
          [
           0.03851851851851852,
           25.96153846153846
          ],
          [
           0.03571428571428571,
           28
          ],
          [
           0.034482758620689655,
           29
          ],
          [
           0.03333333333333333,
           30
          ],
          [
           0.03333333333333333,
           30
          ],
          [
           0.03333333333333333,
           30
          ],
          [
           0.03225806451612903,
           31
          ],
          [
           0.03225806451612903,
           31
          ],
          [
           0.03125,
           32
          ],
          [
           0.030303030303030304,
           33
          ],
          [
           0.029411764705882353,
           34
          ]
         ],
         "hovertemplate": "=Ladies<br>athlete_name=%{x}<br>avg_elem_base_value=%{y}<br>Average rank=%{customdata[1]}<extra></extra>",
         "legendgroup": "Ladies",
         "marker": {
          "color": "#F833FA",
          "size": [
           1,
           0.72,
           0.6206896551724138,
           0.5725190839694657,
           0.4186046511627907,
           0.37254901960784315,
           0.3333333333333333,
           0.3138888888888889,
           0.30434782608695654,
           0.296875,
           0.2946708463949843,
           0.290519877675841,
           0.2571428571428572,
           0.2558922558922559,
           0.2550335570469799,
           0.24255319148936172,
           0.24042553191489363,
           0.23347107438016526,
           0.2168674698795181,
           0.2,
           0.18686868686868685,
           0.18656716417910446,
           0.1812227074235808,
           0.1793478260869565,
           0.17272727272727273,
           0.16666666666666666,
           0.16170212765957448,
           0.16170212765957448,
           0.15859030837004406,
           0.15625,
           0.15510204081632653,
           0.15384615384615385,
           0.14834437086092714,
           0.14303797468354432,
           0.13803230543318648,
           0.1342756183745583,
           0.13103448275862067,
           0.1292517006802721,
           0.125,
           0.12403100775193798,
           0.11597151576805696,
           0.109717868338558,
           0.10952380952380952,
           0.1072234762979684,
           0.10497237569060773,
           0.10382513661202186,
           0.10124333925399645,
           0.1,
           0.1,
           0.09912280701754385,
           0.09420289855072464,
           0.09178743961352656,
           0.09112709832134293,
           0.0861244019138756,
           0.08482142857142858,
           0.08333333333333333,
           0.08214676889375684,
           0.0805084745762712,
           0.07922912205567452,
           0.07664670658682635,
           0.07562349155269509,
           0.07364341085271317,
           0.06785714285714285,
           0.06578947368421052,
           0.06479113384484228,
           0.06426155580608793,
           0.05555555555555555,
           0.054441260744985676,
           0.05405405405405406,
           0.05357142857142857,
           0.04909560723514212,
           0.04785894206549118,
           0.04727272727272727,
           0.04570383912248629,
           0.044520547945205484,
           0.043478260869565216,
           0.04220779220779221,
           0.041666666666666664,
           0.04113924050632912,
           0.04,
           0.03851851851851852,
           0.03571428571428571,
           0.034482758620689655,
           0.03333333333333333,
           0.03333333333333333,
           0.03333333333333333,
           0.03225806451612903,
           0.03225806451612903,
           0.03125,
           0.030303030303030304,
           0.029411764705882353
          ],
          "sizemode": "area",
          "sizeref": 0.0012755102040816326,
          "symbol": "circle"
         },
         "mode": "markers",
         "name": "Ladies",
         "opacity": 1,
         "orientation": "v",
         "showlegend": true,
         "type": "scatter",
         "x": [
          "Evgenia MEDVEDEVA",
          "Alena KOSTORNAIA",
          "Alexandra TRUSOVA",
          "Alina ZAGITOVA",
          "Anastasiia GUBANOVA",
          "Kaetlyn OSMOND",
          "Anastasia TARAKANOVA",
          "Satoko MIYAHARA",
          "Kaori SAKAMOTO",
          "Bradie TENNELL",
          "Elena RADIONOVA",
          "Carolina KOSTNER",
          "Rika KIHIRA",
          "Maria SOTSKOVA",
          "Polina TSURSKAYA",
          "Gabrielle DALEMAN",
          "Mai MIHARA",
          "Anna POGORILAYA",
          "Elizaveta NUGUMANOVA",
          "Daria PANENKOVA",
          "Marin HONDA",
          "Elizaveta TUKTAMYSHEVA",
          "Ashley WAGNER",
          "Wakaba HIGUCHI",
          "Courtney HICKS",
          "Sofia SAMODUROVA",
          "So Youn PARK",
          "Serafima SAKHANOVICH",
          "Gracie GOLD",
          "Mirai NAGASU",
          "Yuna SHIRAIWA",
          "Yura MATSUDA",
          "Elizabet TURSYNBAEVA",
          "Karen CHEN",
          "Mariah BELL",
          "Mao ASADA",
          "Alena LEONOVA",
          "Dabin CHOI",
          "Valeriia MIKHAILOVA",
          "Julia LIPNITSKAIA",
          "Rika HONGO",
          "Yuka NAGAI",
          "Alaine CHARTRAND",
          "Laurine LECAVELIER",
          "Zijun LI",
          "Polina EDMUNDS",
          "Roberta RODEGHIERO",
          "Kanako MURAKAMI",
          "Amber GLENN",
          "Nicole RAJICOVA",
          "Nahyun KIM",
          "Xiangning LI",
          "Mae Berenice MEITE",
          "Soyoun PARK",
          "Loena HENDRICKX",
          "Larkyn AUSTMAN",
          "Nicole SCHOTT",
          "Ziquan ZHAO",
          "Ivett TOTH",
          "Joshi HELGESSON",
          "Anastasia GALUSTYAN",
          "Matilda ALGOTSSON",
          "Brooklee HAN",
          "Emmi PELTONEN",
          "Angelina KUCHVALSKA",
          "Kailani CRAINE",
          "Suh Hyun SON",
          "Maisy Hiu Ching MA",
          "Helery HÄLVIN",
          "Nathalie WEINZIERL",
          "Chloe ING",
          "Viveca LINDFORS",
          "Amy LIN",
          "Shuran YU",
          "Natasha MCKAY",
          "Michaela DU TOIT",
          "Michaela-Lucie HANZLIKOVA",
          "Kerstin FRANK",
          "Anna KHNYCHENKOVA",
          "Julia SAUTER",
          "Anne Line GJERSEM",
          "Elzbieta KROPA",
          "Antonina DUBININA",
          "Isadora WILLIAMS",
          "Yasmine Kimiko YAMADA",
          "Colette Coco KAMINSKI",
          "Dasa GRM",
          "Aimee BUCHANAN",
          "Birce ATABEY",
          "Valentina MATOS",
          "Hristina VASSILEVA"
         ],
         "xaxis": "x",
         "y": [
          5.012631578947368,
          5.2877777777777775,
          5.75,
          5.247466666666667,
          4.901666666666666,
          4.649144736842105,
          5.265555555555555,
          4.714424778761062,
          4.898571428571429,
          4.997894736842105,
          4.781914893617022,
          4.389684210526315,
          4.93638888888889,
          4.780263157894737,
          4.968947368421053,
          4.547543859649123,
          4.813628318584071,
          4.698672566371681,
          4.459444444444444,
          5.313888888888889,
          4.666486486486487,
          4.64,
          4.207831325301205,
          4.699848484848485,
          4.408245614035088,
          5.144444444444444,
          4.306315789473684,
          4.497894736842105,
          4.2675,
          4.498421052631579,
          4.582894736842105,
          4.553684210526316,
          4.648482142857143,
          4.3523893805309735,
          4.649468085106383,
          3.4560526315789475,
          4.331929824561404,
          4.667052631578947,
          4.855789473684211,
          3.8512500000000003,
          4.353771929824561,
          3.8565714285714283,
          4.345652173913043,
          4.442315789473684,
          4.431052631578948,
          4.131578947368421,
          3.987017543859649,
          3.4286842105263156,
          3.869473684210526,
          4.272035398230089,
          4.095384615384615,
          4.490315789473684,
          4.424473684210526,
          3.299444444444444,
          4.299736842105263,
          3,
          4.218,
          3.9710526315789476,
          4.316756756756757,
          3.8543749999999997,
          4.160744680851064,
          4.2894736842105265,
          4.11578947368421,
          3.9248,
          3.802763157894737,
          3.685263157894737,
          4.07,
          3.548421052631579,
          4.093461538461538,
          4.17,
          3.5457894736842106,
          3.76421052631579,
          3.261538461538462,
          3.6276,
          3.5703846153846155,
          2.7614285714285716,
          3.461153846153846,
          3.5865384615384617,
          4.297307692307692,
          3.6757142857142857,
          3.8665384615384615,
          3.8899999999999997,
          3.657142857142857,
          3.9857142857142858,
          3.837142857142857,
          3.59,
          3.627857142857143,
          3.252857142857143,
          3.3333333333333335,
          3.247142857142857,
          2.06
         ],
         "yaxis": "y"
        },
        {
         "customdata": [
          [
           0.5839416058394161,
           1.7125
          ],
          [
           0.5555555555555556,
           1.8
          ],
          [
           0.42105263157894735,
           2.375
          ],
          [
           0.3921568627450981,
           2.55
          ],
          [
           0.3333333333333333,
           3
          ],
          [
           0.3220338983050848,
           3.1052631578947367
          ],
          [
           0.30158730158730157,
           3.3157894736842106
          ],
          [
           0.2891566265060241,
           3.4583333333333335
          ],
          [
           0.2881844380403458,
           3.47
          ],
          [
           0.2826603325415677,
           3.53781512605042
          ],
          [
           0.2753623188405797,
           3.6315789473684212
          ],
          [
           0.25675675675675674,
           3.8947368421052633
          ],
          [
           0.2542735042735043,
           3.9327731092436973
          ],
          [
           0.25,
           4
          ],
          [
           0.23795180722891565,
           4.2025316455696204
          ],
          [
           0.228995057660626,
           4.366906474820144
          ],
          [
           0.21978021978021978,
           4.55
          ],
          [
           0.2,
           5
          ],
          [
           0.19716312056737587,
           5.071942446043166
          ],
          [
           0.18627450980392157,
           5.368421052631579
          ],
          [
           0.17341040462427745,
           5.766666666666667
          ],
          [
           0.16666666666666666,
           6
          ],
          [
           0.1646090534979424,
           6.075
          ],
          [
           0.15918367346938775,
           6.282051282051282
          ],
          [
           0.15037593984962405,
           6.65
          ],
          [
           0.1466992665036675,
           6.816666666666666
          ],
          [
           0.14475627769571642,
           6.908163265306122
          ],
          [
           0.14338235294117646,
           6.9743589743589745
          ],
          [
           0.14184397163120568,
           7.05
          ],
          [
           0.136986301369863,
           7.3
          ],
          [
           0.13367174280879865,
           7.481012658227848
          ],
          [
           0.1318242343541944,
           7.585858585858586
          ],
          [
           0.12987012987012986,
           7.7
          ],
          [
           0.12781954887218044,
           7.823529411764706
          ],
          [
           0.1234567901234568,
           8.1
          ],
          [
           0.12288786482334871,
           8.1375
          ],
          [
           0.12145748987854252,
           8.233333333333333
          ],
          [
           0.12074303405572755,
           8.282051282051283
          ],
          [
           0.12058212058212059,
           8.293103448275861
          ],
          [
           0.11985472154963679,
           8.343434343434344
          ],
          [
           0.11661807580174928,
           8.575
          ],
          [
           0.11267605633802817,
           8.875
          ],
          [
           0.1111111111111111,
           9
          ],
          [
           0.10869565217391305,
           9.2
          ],
          [
           0.10737527114967461,
           9.313131313131313
          ],
          [
           0.10582010582010583,
           9.45
          ],
          [
           0.1053763440860215,
           9.489795918367347
          ],
          [
           0.10530973451327434,
           9.495798319327731
          ],
          [
           0.10362694300518134,
           9.65
          ],
          [
           0.10070921985815603,
           9.929577464788732
          ],
          [
           0.0970873786407767,
           10.3
          ],
          [
           0.09389671361502347,
           10.65
          ],
          [
           0.09248554913294797,
           10.8125
          ],
          [
           0.09208103130755065,
           10.86
          ],
          [
           0.09090909090909091,
           11
          ],
          [
           0.08837209302325581,
           11.31578947368421
          ],
          [
           0.08796296296296297,
           11.368421052631579
          ],
          [
           0.07920792079207921,
           12.625
          ],
          [
           0.07435653002859867,
           13.448717948717949
          ],
          [
           0.07338308457711443,
           13.627118644067796
          ],
          [
           0.058823529411764705,
           17
          ],
          [
           0.05844155844155844,
           17.11111111111111
          ],
          [
           0.057803468208092484,
           17.3
          ],
          [
           0.05547850208044383,
           18.025
          ],
          [
           0.05361930294906166,
           18.65
          ],
          [
           0.053608247422680416,
           18.653846153846153
          ],
          [
           0.05263157894736842,
           19
          ],
          [
           0.051526717557251904,
           19.40740740740741
          ],
          [
           0.05103969754253308,
           19.59259259259259
          ],
          [
           0.05027932960893854,
           19.88888888888889
          ],
          [
           0.05,
           20
          ],
          [
           0.04926108374384236,
           20.3
          ],
          [
           0.04842615012106538,
           20.65
          ],
          [
           0.04702970297029703,
           21.263157894736842
          ],
          [
           0.046189376443418015,
           21.65
          ],
          [
           0.043478260869565216,
           23
          ],
          [
           0.043478260869565216,
           23
          ],
          [
           0.043199999999999995,
           23.14814814814815
          ],
          [
           0.041666666666666664,
           24
          ],
          [
           0.04,
           25
          ],
          [
           0.03982300884955752,
           25.11111111111111
          ],
          [
           0.038737446197991396,
           25.814814814814813
          ],
          [
           0.038461538461538464,
           26
          ],
          [
           0.037037037037037035,
           27
          ],
          [
           0.037037037037037035,
           27
          ],
          [
           0.03571428571428571,
           28
          ],
          [
           0.034482758620689655,
           29
          ],
          [
           0.03333333333333333,
           30
          ],
          [
           0.03333333333333333,
           30
          ],
          [
           0.03333333333333333,
           30
          ],
          [
           0.03125,
           32
          ],
          [
           0.02968036529680365,
           33.69230769230769
          ],
          [
           0.029411764705882353,
           34
          ],
          [
           0.02857142857142857,
           35
          ],
          [
           0.027777777777777776,
           36
          ]
         ],
         "hovertemplate": "=Men<br>athlete_name=%{x}<br>avg_elem_base_value=%{y}<br>Average rank=%{customdata[1]}<extra></extra>",
         "legendgroup": "Men",
         "marker": {
          "color": "#3399FA",
          "size": [
           0.5839416058394161,
           0.5555555555555556,
           0.42105263157894735,
           0.3921568627450981,
           0.3333333333333333,
           0.3220338983050848,
           0.30158730158730157,
           0.2891566265060241,
           0.2881844380403458,
           0.2826603325415677,
           0.2753623188405797,
           0.25675675675675674,
           0.2542735042735043,
           0.25,
           0.23795180722891565,
           0.228995057660626,
           0.21978021978021978,
           0.2,
           0.19716312056737587,
           0.18627450980392157,
           0.17341040462427745,
           0.16666666666666666,
           0.1646090534979424,
           0.15918367346938775,
           0.15037593984962405,
           0.1466992665036675,
           0.14475627769571642,
           0.14338235294117646,
           0.14184397163120568,
           0.136986301369863,
           0.13367174280879865,
           0.1318242343541944,
           0.12987012987012986,
           0.12781954887218044,
           0.1234567901234568,
           0.12288786482334871,
           0.12145748987854252,
           0.12074303405572755,
           0.12058212058212059,
           0.11985472154963679,
           0.11661807580174928,
           0.11267605633802817,
           0.1111111111111111,
           0.10869565217391305,
           0.10737527114967461,
           0.10582010582010583,
           0.1053763440860215,
           0.10530973451327434,
           0.10362694300518134,
           0.10070921985815603,
           0.0970873786407767,
           0.09389671361502347,
           0.09248554913294797,
           0.09208103130755065,
           0.09090909090909091,
           0.08837209302325581,
           0.08796296296296297,
           0.07920792079207921,
           0.07435653002859867,
           0.07338308457711443,
           0.058823529411764705,
           0.05844155844155844,
           0.057803468208092484,
           0.05547850208044383,
           0.05361930294906166,
           0.053608247422680416,
           0.05263157894736842,
           0.051526717557251904,
           0.05103969754253308,
           0.05027932960893854,
           0.05,
           0.04926108374384236,
           0.04842615012106538,
           0.04702970297029703,
           0.046189376443418015,
           0.043478260869565216,
           0.043478260869565216,
           0.043199999999999995,
           0.041666666666666664,
           0.04,
           0.03982300884955752,
           0.038737446197991396,
           0.038461538461538464,
           0.037037037037037035,
           0.037037037037037035,
           0.03571428571428571,
           0.034482758620689655,
           0.03333333333333333,
           0.03333333333333333,
           0.03333333333333333,
           0.03125,
           0.02968036529680365,
           0.029411764705882353,
           0.02857142857142857,
           0.027777777777777776
          ],
          "sizemode": "area",
          "sizeref": 0.0012755102040816326,
          "symbol": "circle"
         },
         "mode": "markers",
         "name": "Men",
         "opacity": 1,
         "orientation": "v",
         "showlegend": true,
         "type": "scatter",
         "x": [
          "Shoma UNO",
          "Yuzuru HANYU",
          "Nathan CHEN",
          "Javier FERNANDEZ",
          "Mitsuki SUMOTO",
          "Camden PULKINEN",
          "Alexei KRASNOZHON",
          "Adam RIPPON",
          "Sergei VORONOV",
          "Patrick CHAN",
          "Roman SAVOSIN",
          "Alexey EROKHOV",
          "Boyang JIN",
          "Makar IGNATOV",
          "Alexander SAMARIN",
          "Mikhail KOLYADA",
          "Max AARON",
          "Dmitri ALIEV",
          "Jason BROWN",
          "Ilia SKIRDA",
          "Alexei BYCHENKO",
          "Andrew TORGASHEV",
          "Vincent ZHOU",
          "Jun Hwan CHA",
          "Kazuki TOMONO",
          "Misha GE",
          "Han YAN",
          "Keegan MESSING",
          "Nicolas NADEAU",
          "Timothy DOLENSKY",
          "Takahito MURA",
          "Nam NGUYEN",
          "Gordei GORSHKOV",
          "Maxim KOVTUN",
          "Elladj BALDE",
          "Moris KVITELASHVILI",
          "Alexander PETROV",
          "Artur DMITRIEV",
          "Ross MINER",
          "Kevin REYNOLDS",
          "Deniss VASILJEVS",
          "Liam FIRUS",
          "Ryuju HINO",
          "Denis TEN",
          "Grant HOCHSTEIN",
          "Jorik HENDRICKX",
          "Keiji TANAKA",
          "Michal BREZINA",
          "Roman SADOVSKY",
          "Daniel SAMOHIN",
          "Andrei LAZUKIN",
          "Hiroaki SATO",
          "Chafik BESSEGHIER",
          "Brendan KERRY",
          "Romain PONSART",
          "He ZHANG",
          "Ivan RIGHINI",
          "Kevin AYMOZ",
          "Alexander MAJOROV",
          "Paul FENTZ",
          "Sihyeong LEE",
          "Ivan PAVLOV",
          "June Hyoung LEE",
          "Julian Zhi Jie YEE",
          "Maurizio ZANDRON",
          "Jinseo KIM",
          "Michael Christian MARTINEZ",
          "Stephane WALKER",
          "Javier RAYA",
          "Graham NEWBERRY",
          "Mark WEBSTER",
          "Andrew DODDS",
          "Jiri BELOHRADSKY",
          "Daniel Albert NAURITS",
          "Leslie Man Cheuk IP",
          "Sondre ODDVOLL BOE",
          "Kai Xiang CHEW",
          "Chih-I TSAO",
          "Micah TANG",
          "Harry Hau Yin LEE",
          "Slavik HAYRAPETYAN",
          "Valtter VIRTANEN",
          "Harrison Jon-Yen WONG",
          "Igor REZNICHENKO",
          "Alexander BOROVOJ",
          "Thomas KENNES",
          "Anton KARPUK",
          "Mark GORODNITSKY",
          "Matteo RIZZO",
          "Nicholas VRDOLJAK",
          "Engin Ali ARTAN",
          "Larry LOUPOLOVER",
          "Michael NEUMAN",
          "Nicky OBREYKOV",
          "Mario-Rafael IONIAN"
         ],
         "xaxis": "x",
         "y": [
          7.0523125,
          6.806166666666667,
          7.534812499999999,
          6.562142857142858,
          5.5142105263157895,
          5.316315789473684,
          6.058684210526316,
          5.760916666666667,
          6.0748999999999995,
          6.080756302521008,
          5.712631578947368,
          5.953684210526316,
          7.391764705882353,
          6.058333333333334,
          6.342911392405064,
          6.196546762589928,
          6.268625,
          6.1258620689655165,
          5.489928057553956,
          5.137368421052631,
          5.951833333333334,
          4.042105263157895,
          7.147,
          5.483333333333333,
          6.014499999999999,
          5.578250000000001,
          5.6272448979591845,
          5.448717948717949,
          5.5329999999999995,
          5.2735,
          5.215316455696203,
          6.092929292929293,
          5.395499999999999,
          5.874,
          4.7764999999999995,
          6.31475,
          5.222833333333333,
          5.96948717948718,
          4.7379310344827585,
          6.17949494949495,
          5.202999999999999,
          5.37375,
          5.1555,
          5.51375,
          5.291818181818182,
          5.4036,
          5.777551020408163,
          5.153109243697479,
          5.1235,
          5.442112676056339,
          5.4315,
          5.295,
          5.8004999999999995,
          5.6002,
          4.85,
          4.628947368421052,
          5.048947368421053,
          5.120500000000001,
          5.016538461538461,
          5.7589830508474575,
          4.6945,
          5.156666666666666,
          4.7700000000000005,
          5.32225,
          4.91,
          5.298461538461538,
          5.24775,
          5.107407407407407,
          5.090370370370371,
          5.104444444444445,
          4.849473684210526,
          4.01,
          4.727,
          4.704210526315789,
          4.3205,
          3.8184210526315794,
          4.016,
          5.037037037037037,
          4.060526315789474,
          3.765714285714286,
          4.877407407407407,
          4.448148148148149,
          3.3185714285714285,
          5.513571428571429,
          3.8757142857142854,
          3.934285714285714,
          4.95,
          4.075714285714286,
          4.857142857142857,
          4.347142857142857,
          4.452857142857144,
          3.712307692307692,
          3.861428571428571,
          3.8666666666666663,
          3.032857142857143
         ],
         "yaxis": "y"
        },
        {
         "customdata": [
          [
           1,
           1
          ],
          [
           0.7851239669421488,
           1.2736842105263158
          ],
          [
           0.7307692307692307,
           1.368421052631579
          ],
          [
           0.5974842767295597,
           1.6736842105263159
          ],
          [
           0.44999999999999996,
           2.2222222222222223
          ],
          [
           0.4186046511627907,
           2.388888888888889
          ],
          [
           0.4113173106175844,
           2.4312130177514795
          ],
          [
           0.37254901960784315,
           2.6842105263157894
          ],
          [
           0.34953703703703703,
           2.8609271523178808
          ],
          [
           0.2857142857142857,
           3.5
          ],
          [
           0.27692307692307694,
           3.611111111111111
          ],
          [
           0.2671035386631717,
           3.7438665358194307
          ],
          [
           0.26108754338603934,
           3.8301329394387
          ],
          [
           0.25885558583106266,
           3.863157894736842
          ],
          [
           0.25,
           4
          ],
          [
           0.24672489082969434,
           4.053097345132743
          ],
          [
           0.22784810126582278,
           4.388888888888889
          ],
          [
           0.22619047619047616,
           4.421052631578948
          ],
          [
           0.2205398288347597,
           4.534328358208955
          ],
          [
           0.2052877138413686,
           4.871212121212121
          ],
          [
           0.20357142857142857,
           4.912280701754386
          ],
          [
           0.19332195029406185,
           5.1727183513248285
          ],
          [
           0.18181818181818182,
           5.5
          ],
          [
           0.17843964153927255,
           5.604135893648449
          ],
          [
           0.17821782178217824,
           5.611111111111111
          ],
          [
           0.17383145684066872,
           5.75269872423945
          ],
          [
           0.17209302325581396,
           5.8108108108108105
          ],
          [
           0.16666666666666666,
           6
          ],
          [
           0.15702479338842976,
           6.368421052631579
          ],
          [
           0.15573770491803277,
           6.421052631578948
          ],
          [
           0.15419769803656058,
           6.485181119648738
          ],
          [
           0.1529175050301811,
           6.5394736842105265
          ],
          [
           0.15079365079365079,
           6.631578947368421
          ],
          [
           0.15079365079365079,
           6.631578947368421
          ],
          [
           0.14285714285714285,
           7
          ],
          [
           0.13421052631578947,
           7.450980392156863
          ],
          [
           0.12669683257918551,
           7.892857142857143
          ],
          [
           0.125,
           8
          ],
          [
           0.125,
           8
          ],
          [
           0.125,
           8
          ],
          [
           0.125,
           8
          ],
          [
           0.11717495987158907,
           8.534246575342467
          ],
          [
           0.11688311688311688,
           8.555555555555555
          ],
          [
           0.09405940594059406,
           10.631578947368421
          ],
          [
           0.08260869565217392,
           12.105263157894736
          ],
          [
           0.08085106382978724,
           12.368421052631579
          ],
          [
           0.08029197080291971,
           12.454545454545455
          ],
          [
           0.07692307692307693,
           13
          ],
          [
           0.07638888888888888,
           13.090909090909092
          ],
          [
           0.075,
           13.333333333333334
          ],
          [
           0.07407407407407407,
           13.5
          ],
          [
           0.07065217391304349,
           14.153846153846153
          ],
          [
           0.0683453237410072,
           14.631578947368421
          ],
          [
           0.06666666666666667,
           15
          ],
          [
           0.0625,
           16
          ],
          [
           0.06018518518518518,
           16.615384615384617
          ],
          [
           0.044444444444444446,
           22.5
          ],
          [
           0.041666666666666664,
           24
          ],
          [
           0.04,
           25
          ]
         ],
         "hovertemplate": "=Pairs<br>athlete_name=%{x}<br>avg_elem_base_value=%{y}<br>Average rank=%{customdata[1]}<extra></extra>",
         "legendgroup": "Pairs",
         "marker": {
          "color": "#FA9433",
          "size": [
           1,
           0.7851239669421488,
           0.7307692307692307,
           0.5974842767295597,
           0.44999999999999996,
           0.4186046511627907,
           0.4113173106175844,
           0.37254901960784315,
           0.34953703703703703,
           0.2857142857142857,
           0.27692307692307694,
           0.2671035386631717,
           0.26108754338603934,
           0.25885558583106266,
           0.25,
           0.24672489082969434,
           0.22784810126582278,
           0.22619047619047616,
           0.2205398288347597,
           0.2052877138413686,
           0.20357142857142857,
           0.19332195029406185,
           0.18181818181818182,
           0.17843964153927255,
           0.17821782178217824,
           0.17383145684066872,
           0.17209302325581396,
           0.16666666666666666,
           0.15702479338842976,
           0.15573770491803277,
           0.15419769803656058,
           0.1529175050301811,
           0.15079365079365079,
           0.15079365079365079,
           0.14285714285714285,
           0.13421052631578947,
           0.12669683257918551,
           0.125,
           0.125,
           0.125,
           0.125,
           0.11717495987158907,
           0.11688311688311688,
           0.09405940594059406,
           0.08260869565217392,
           0.08085106382978724,
           0.08029197080291971,
           0.07692307692307693,
           0.07638888888888888,
           0.075,
           0.07407407407407407,
           0.07065217391304349,
           0.0683453237410072,
           0.06666666666666667,
           0.0625,
           0.06018518518518518,
           0.044444444444444446,
           0.041666666666666664,
           0.04
          ],
          "sizemode": "area",
          "sizeref": 0.0012755102040816326,
          "symbol": "circle"
         },
         "mode": "markers",
         "name": "Pairs",
         "opacity": 1,
         "orientation": "v",
         "showlegend": true,
         "type": "scatter",
         "x": [
          "Anastasia MISHINA / Vladislav MIRZOEV",
          "Wenjing SUI / Cong HAN",
          "Aljona SAVCHENKO / Bruno MASSOT",
          "Aliona SAVCHENKO / Bruno MASSOT",
          "Apollinariia PANFILOVA / Dmitry RYLOV",
          "Daria PAVLIUCHENKO / Denis KHODYKIN",
          "Evgenia TARASOVA / Vladimir MOROZOV",
          "Meagan DUHAMEL / Eric RADFORD",
          "Xiaoyu YU / Hao ZHANG",
          "Xuehan WANG / Lei WANG",
          "Alina USTIMKINA / Nikita VOLODIN",
          "Vanessa JAMES / Morgan CIPRES",
          "Kristina ASTAKHOVA / Alexei ROGONOV",
          "Ksenia STOLBOVA / Fedor KLIMOV",
          "Yumeng GAO / Zhong XIE",
          "Cheng PENG / Yang JIN",
          "Aleksandra BOIKOVA / Dmitrii KOZLOVSKII",
          "Liubov ILYUSHECHKINA / Dylan MOSCOVITCH",
          "Tarah KAYNE / Danny O'SHEA",
          "Natalia ZABIIAKO / Alexander ENBERT",
          "Kirsten MOORE-TOWERS / Michael MARINARO",
          "Julianne SEGUIN / Charlie BILODEAU",
          "Mari VARTMANN / Ruben BLOMMAERT",
          "Marissa CASTELLI / Mervin TRAN",
          "Anastasia POLUIANOVA / Dmitry SOPOT",
          "Valentina MARCHEI / Ondrej HOTAREK",
          "Yuko KAVAGUTI / Alexander SMIRNOV",
          "Amina ATAKHANOVA / Ilia SPIRIDONOV",
          "Camille RUEST / Andrew WOLFE",
          "Nicole DELLA MONICA / Matteo GUARISE",
          "Haven DENNEY / Brandon FRAZIER",
          "Alexa SCIMECA KNIERIM / Chris KNIERIM",
          "Mingyang ZHANG / Bowen SONG",
          "Alisa EFIMOVA / Alexander KOROVIN",
          "Brittany JONES / Joshua REAGAN",
          "Miriam ZIEGLER / Severin KIEFER",
          "Anna DUSKOVA / Martin BIDAR",
          "Deanna STELLATO / Nathan BARTHOLOMAY",
          "Sydney KOLODZIEJ / Maxime DESCHAMPS",
          "Jessica PFUND / Joshua SANTILLAN",
          "Ashley CAIN / Timothy LEDUC",
          "Ekaterina ALEXANDROVSKAYA / Harley WINDSOR",
          "Sumire SUTO / Francis BOUDREAU-AUDET",
          "Miu SUZAKI / Ryuichi KIHARA",
          "Rebecca GHILARDI / Filippo AMBROSINI",
          "Su Yeon KIM / Hyungtae KIM",
          "Lola ESBRAT / Andrei NOVOSELOV",
          "Zoe JONES / Christopher BOYADJI",
          "Goda BUTKUTE / Nikita ERMOLAEV",
          "Minji JI / Themistocles LEFTHERIS",
          "Tatiana DANILOVA / Mikalai KAMIANCHUK",
          "Minerva Fabienne HASE / Nolan SEEGERT",
          "Tae Ok RYOM / Ju Sik KIM",
          "Kyueun KIM / Alex Kang Chan KAM",
          "Arina CHERNIAVSKAIA / Evgeni KRASNOPOLSKI",
          "Lana PETRANOVIC / Antonio SOUZA-KORDEIRU",
          "Ioulia CHTCHETININA / Noah SCHERER",
          "Daria BEKLEMISHEVA / Mark MAGYAR",
          "Emilia SIMONEN / Matthew PENASSE"
         ],
         "xaxis": "x",
         "y": [
          4.694444444444445,
          4.9526315789473685,
          4.860526315789474,
          4.877894736842106,
          4.308888888888888,
          4.693333333333333,
          4.757766272189349,
          5.1421052631578945,
          4.798675496688741,
          4.5131578947368425,
          4.45,
          4.889106967615309,
          4.788035450516987,
          4.920000000000001,
          4.138888888888889,
          4.6185840707964605,
          4.602777777777778,
          4.5964912280701755,
          4.637134328358209,
          4.6431818181818185,
          4.752631578947368,
          4.687340529931305,
          4.691052631578947,
          4.4470753323485965,
          4.411111111111111,
          4.763120706575074,
          4.355135135135135,
          4.347058823529412,
          4.426315789473684,
          4.594736842105263,
          4.401558726673985,
          4.554736842105263,
          4.311578947368421,
          4.252631578947368,
          4.321052631578947,
          4.52156862745098,
          4.7875000000000005,
          4.494736842105263,
          4.58421052631579,
          4.226111111111111,
          4.3999999999999995,
          4.568630136986301,
          4.381111111111111,
          3.897368421052632,
          4.309473684210526,
          4.136842105263158,
          4.087727272727273,
          4.011136363636364,
          4.06969696969697,
          4.25,
          4.461538461538462,
          4.376923076923077,
          4.38421052631579,
          3.811111111111111,
          4.105263157894737,
          4.36,
          4.157142857142857,
          3.857142857142857,
          4.0285714285714285
         ],
         "yaxis": "y"
        },
        {
         "customdata": [
          [
           1,
           1
          ],
          [
           0.7777777777777777,
           1.2857142857142858
          ],
          [
           0.7,
           1.4285714285714286
          ],
          [
           0.4375,
           2.2857142857142856
          ],
          [
           0.33793103448275863,
           2.9591836734693877
          ],
          [
           0.3333333333333333,
           3
          ],
          [
           0.3333333333333333,
           3
          ],
          [
           0.31197771587743733,
           3.205357142857143
          ],
          [
           0.28965517241379307,
           3.4523809523809526
          ],
          [
           0.2792022792022792,
           3.5816326530612246
          ],
          [
           0.2575406032482599,
           3.8828828828828827
          ],
          [
           0.24528301886792456,
           4.076923076923077
          ],
          [
           0.23333333333333334,
           4.285714285714286
          ],
          [
           0.22641509433962262,
           4.416666666666667
          ],
          [
           0.21538461538461537,
           4.642857142857143
          ],
          [
           0.2131979695431472,
           4.690476190476191
          ],
          [
           0.2043795620437956,
           4.892857142857143
          ],
          [
           0.2,
           5
          ],
          [
           0.1958041958041958,
           5.107142857142857
          ],
          [
           0.1943661971830986,
           5.144927536231884
          ],
          [
           0.19387755102040816,
           5.157894736842105
          ],
          [
           0.1935483870967742,
           5.166666666666667
          ],
          [
           0.1846153846153846,
           5.416666666666667
          ],
          [
           0.17177914110429449,
           5.821428571428571
          ],
          [
           0.16666666666666666,
           6
          ],
          [
           0.16666666666666666,
           6
          ],
          [
           0.16326530612244897,
           6.125
          ],
          [
           0.15730337078651685,
           6.357142857142857
          ],
          [
           0.15625,
           6.4
          ],
          [
           0.1497326203208556,
           6.678571428571429
          ],
          [
           0.14814814814814814,
           6.75
          ],
          [
           0.13333333333333333,
           7.5
          ],
          [
           0.1320754716981132,
           7.571428571428571
          ],
          [
           0.12704174228675136,
           7.871428571428571
          ],
          [
           0.125,
           8
          ],
          [
           0.11650485436893203,
           8.583333333333334
          ],
          [
           0.11570247933884298,
           8.642857142857142
          ],
          [
           0.11551155115511552,
           8.657142857142857
          ],
          [
           0.11522633744855967,
           8.678571428571429
          ],
          [
           0.1111111111111111,
           9
          ],
          [
           0.10727969348659004,
           9.321428571428571
          ],
          [
           0.10626185958254268,
           9.410714285714286
          ],
          [
           0.10579345088161209,
           9.452380952380953
          ],
          [
           0.10481099656357389,
           9.540983606557377
          ],
          [
           0.1,
           10
          ],
          [
           0.1,
           10
          ],
          [
           0.0963855421686747,
           10.375
          ],
          [
           0.09523809523809523,
           10.5
          ],
          [
           0.08383233532934131,
           11.928571428571429
          ],
          [
           0.0812807881773399,
           12.303030303030303
          ],
          [
           0.08045977011494253,
           12.428571428571429
          ],
          [
           0.07692307692307693,
           13
          ],
          [
           0.07420494699646643,
           13.476190476190476
          ],
          [
           0.07142857142857142,
           14
          ],
          [
           0.06999999999999999,
           14.285714285714286
          ],
          [
           0.06861313868613138,
           14.574468085106384
          ],
          [
           0.06707317073170732,
           14.909090909090908
          ],
          [
           0.06511627906976744,
           15.357142857142858
          ],
          [
           0.0639269406392694,
           15.642857142857142
          ],
          [
           0.0611353711790393,
           16.357142857142858
          ],
          [
           0.06075949367088608,
           16.458333333333332
          ],
          [
           0.057401812688821746,
           17.42105263157895
          ],
          [
           0.05053191489361702,
           19.789473684210527
          ],
          [
           0.047619047619047616,
           21
          ],
          [
           0.04714640198511166,
           21.210526315789473
          ],
          [
           0.045454545454545456,
           22
          ],
          [
           0.041666666666666664,
           24
          ],
          [
           0.04,
           25
          ],
          [
           0.038461538461538464,
           26
          ],
          [
           0.03571428571428571,
           28
          ],
          [
           0.034482758620689655,
           29
          ],
          [
           0.03389830508474576,
           29.5
          ],
          [
           0.03333333333333333,
           30
          ],
          [
           0.03225806451612903,
           31
          ]
         ],
         "hovertemplate": "=Ice dance<br>athlete_name=%{x}<br>avg_elem_base_value=%{y}<br>Average rank=%{customdata[1]}<extra></extra>",
         "legendgroup": "Ice dance",
         "marker": {
          "color": "#35FA33",
          "size": [
           1,
           0.7777777777777777,
           0.7,
           0.4375,
           0.33793103448275863,
           0.3333333333333333,
           0.3333333333333333,
           0.31197771587743733,
           0.28965517241379307,
           0.2792022792022792,
           0.2575406032482599,
           0.24528301886792456,
           0.23333333333333334,
           0.22641509433962262,
           0.21538461538461537,
           0.2131979695431472,
           0.2043795620437956,
           0.2,
           0.1958041958041958,
           0.1943661971830986,
           0.19387755102040816,
           0.1935483870967742,
           0.1846153846153846,
           0.17177914110429449,
           0.16666666666666666,
           0.16666666666666666,
           0.16326530612244897,
           0.15730337078651685,
           0.15625,
           0.1497326203208556,
           0.14814814814814814,
           0.13333333333333333,
           0.1320754716981132,
           0.12704174228675136,
           0.125,
           0.11650485436893203,
           0.11570247933884298,
           0.11551155115511552,
           0.11522633744855967,
           0.1111111111111111,
           0.10727969348659004,
           0.10626185958254268,
           0.10579345088161209,
           0.10481099656357389,
           0.1,
           0.1,
           0.0963855421686747,
           0.09523809523809523,
           0.08383233532934131,
           0.0812807881773399,
           0.08045977011494253,
           0.07692307692307693,
           0.07420494699646643,
           0.07142857142857142,
           0.06999999999999999,
           0.06861313868613138,
           0.06707317073170732,
           0.06511627906976744,
           0.0639269406392694,
           0.0611353711790393,
           0.06075949367088608,
           0.057401812688821746,
           0.05053191489361702,
           0.047619047619047616,
           0.04714640198511166,
           0.045454545454545456,
           0.041666666666666664,
           0.04,
           0.038461538461538464,
           0.03571428571428571,
           0.034482758620689655,
           0.03389830508474576,
           0.03333333333333333,
           0.03225806451612903
          ],
          "sizemode": "area",
          "sizeref": 0.0012755102040816326,
          "symbol": "circle"
         },
         "mode": "markers",
         "name": "Ice dance",
         "opacity": 1,
         "orientation": "v",
         "showlegend": true,
         "type": "scatter",
         "x": [
          "Anastasia SKOPTCOVA / Kirill ALESHIN",
          "Tessa VIRTUE / Scott MOIR",
          "Gabriella PAPADAKIS / Guillaume CIZERON",
          "Maia SHIBUTANI / Alex SHIBUTANI",
          "Ekaterina BOBROVA / Dmitri SOLOVIEV",
          "Sofia POLISHCHUK / Alexander VAKHNOV",
          "Christina CARREIRA / Anthony PONOMARENKO",
          "Madison CHOCK / Evan BATES",
          "Kaitlyn WEAVER / Andrew POJE",
          "Anna CAPPELLINI / Luca LANOTTE",
          "Madison HUBBELL / Zachary DONOHUE",
          "Lorraine MCNAMARA / Quinn CARPENTER",
          "Elena ILINYKH / Ruslan ZHIGANSHIN",
          "Sofia SHEVCHENKO / Igor EREMENKO",
          "Tiffani ZAGORSKI / Jonathan GUERREIRO",
          "Piper GILLES / Paul POIRIER",
          "Alexandra STEPANOVA / Ivan BUKIN",
          "Tiffany ZAHORSKI / Jonathan GUERREIRO",
          "Kaitlin HAWAYEK / Jean-Luc BAKER",
          "Victoria SINITSINA / Nikita KATSALAPOV",
          "Alla LOBODA / Pavel DROZD",
          "Marjorie LAJOIE / Zachary LAGHA",
          "Arina USHAKOVA / Maxim NEKRASOV",
          "Charlene GUIGNARD / Marco FABBRI",
          "Anastasia SHPILEVAYA / Grigory SMIRNOV",
          "Betina POPOVA / Sergey MOZGOV",
          "Rachel PARSONS / Michael PARSONS",
          "Carolane SOUCISSE / Shane FIRUS",
          "Angelique ABACHKINA / Louis THAURON",
          "Isabella TOBIAS / Ilia TKACHENKO",
          "Elliana POGREBINSKY / Alex BENOIT",
          "Anastasia CANNUSCIO / Colin MCMANUS",
          "Penny COOMES / Nicholas BUCKLAND",
          "Laurence FOURNIER BEAUDRY / Nikolaj SORENSEN",
          "Cortney MANSOUR / Michal CESKA",
          "Shiyue WANG / Xinyu LIU",
          "Alexandra PAUL / Mitchell ISLAM",
          "Marie-Jade LAURIAULT / Romain LE GAC",
          "Natalia KALISZEK / Maksym SPODYRIEV",
          "Sofia EVDOKIMOVA / Egor BAZIN",
          "Linshu SONG / Zhuoming SUN",
          "Alexandra NAZAROVA / Maxim NIKITIN",
          "Hong CHEN / Yan ZHAO",
          "Kana MURAMOTO / Chris REED",
          "Xiaotong WANG / Kaige ZHAO",
          "Misato KOMATSUBARA / Timothy KOLETO",
          "Alisa AGAFONOVA / Alper UCAR",
          "Emi HIRAI / Marien DE LA ASUNCION",
          "Olivia SMART / Adria DIAZ",
          "Lorenza ALESSANDRINI / Pierre SOUQUET",
          "Yura MIN / Alexander GAMELIN",
          "Hojung LEE / Richard Kang In KAM",
          "Kavita LORENZ / Joti POLIZOAKIS",
          "Adele MORRISON / Demid ROKACHEV",
          "Sara HURTADO / Kirill KHALIAVIN",
          "Viktoria KAVALIOVA / Yurii BIELIAIEV",
          "Cecilia TÖRN / Jussiville PARTANEN",
          "Matilda FRIEND / William BADAOUI",
          "Kimberley HEW-LOW / Timothy MCKERNAN",
          "Lucie MYSLIVECKOVA / Lukas CSOLLEY",
          "Nicole KUZMICHOVA / Alexandr SINICYN",
          "Lilah FEAR / Lewis GIBSON",
          "Tina GARABEDIAN / Simon PROULX-SENECAL",
          "Robynne TWEEDALE / Joseph BUCKLAND",
          "Taylor TRAN / Saulius AMBRULEVICIUS",
          "Jasmine TESSARI / Francesco FIORETTI",
          "Vavara OGLOBLINA / Mikhail ZHIRNOV",
          "Victoria MANNI / Carlo RÖTHLISBERGER",
          "Olga JAKUSHINA / Andrey NEVSKIY",
          "Hanna JAKUCS / Daniel ILLES",
          "Katerina BUNINA / German FROLOV",
          "Tatiana KOZMAVA / Alexei SHUMSKI",
          "Adel TANKOVA / Ronald ZILBERBERG",
          "Anastasia GALYETA / Avidan BROWN"
         ],
         "xaxis": "x",
         "y": [
          4.875,
          5.276785714285714,
          5.148214285714285,
          5.086607142857143,
          5.009183673469387,
          4.825,
          4.9833333333333325,
          5.069642857142857,
          5.011904761904762,
          5.075510204081632,
          5.108108108108108,
          5.088461538461539,
          4.607142857142857,
          4.6499999999999995,
          4.871428571428571,
          4.911904761904762,
          4.876190476190477,
          4.614285714285714,
          4.917857142857143,
          4.827536231884058,
          5.118421052631579,
          4.441666666666666,
          4.5249999999999995,
          4.897619047619047,
          5.008333333333333,
          5.507692307692308,
          4.76,
          4.585714285714285,
          4.8525,
          4.675,
          4.853571428571429,
          4.439285714285714,
          4.685714285714286,
          4.935714285714286,
          4.535714285714286,
          4.8464285714285715,
          4.428571428571429,
          5.104285714285714,
          4.83452380952381,
          4.535714285714286,
          4.503571428571428,
          4.757142857142857,
          4.2214285714285715,
          4.618032786885245,
          3.957142857142857,
          4.642857142857143,
          4.8237499999999995,
          4.407142857142857,
          4.707142857142857,
          4.524242424242424,
          4.7785714285714285,
          4.538461538461538,
          4.597619047619047,
          4.128571428571428,
          4.357142857142857,
          4.138297872340425,
          4.618181818181818,
          3.7785714285714285,
          3.3857142857142852,
          4.314285714285714,
          4.699999999999999,
          4.726315789473684,
          4.405263157894737,
          5.04,
          4.542105263157894,
          5.04,
          4.84,
          4.54,
          4.79,
          4.619999999999999,
          4.42,
          4.569999999999999,
          4.1,
          5.04
         ],
         "yaxis": "y"
        }
       ],
       "layout": {
        "annotations": [
         {
          "align": "center",
          "font": {
           "color": "#543810",
           "family": "DejaVu Sans",
           "size": 18
          },
          "showarrow": false,
          "text": "Each athlete is represented by a bubble. The athletes are categorized and ordered by average rank descending from left to right,",
          "x": 0,
          "xanchor": "center",
          "xref": "paper",
          "xshift": 558,
          "y": -0.14,
          "yanchor": "top",
          "yref": "paper",
          "yshift": 640
         },
         {
          "align": "center",
          "font": {
           "color": "#543810",
           "family": "DejaVu Sans",
           "size": 18
          },
          "showarrow": false,
          "text": "the rank is also represented by the dimension of the bubble",
          "x": 0,
          "xanchor": "center",
          "xref": "paper",
          "xshift": 558,
          "y": -0.14,
          "yanchor": "top",
          "yref": "paper",
          "yshift": 620
         },
         {
          "align": "left",
          "font": {
           "color": "#543810",
           "family": "DejaVu Sans",
           "size": 10
          },
          "showarrow": false,
          "text": "data source: https://github.com/BuzzFeedNews/2018-02-figure-skating-analysis",
          "x": 0,
          "xanchor": "left",
          "xref": "paper",
          "xshift": -1,
          "y": -0.11,
          "yanchor": "bottom",
          "yref": "paper",
          "yshift": -5
         },
         {
          "align": "left",
          "font": {
           "color": "#543810",
           "family": "DejaVu Sans",
           "size": 10
          },
          "showarrow": false,
          "text": "plot author: Cecilia Zagni",
          "x": 0,
          "xanchor": "left",
          "xref": "paper",
          "xshift": -1,
          "y": -0.14,
          "yanchor": "bottom",
          "yref": "paper",
          "yshift": -5
         },
         {
          "align": "left",
          "font": {
           "color": "#543810",
           "family": "DejaVu Sans",
           "size": 16
          },
          "showarrow": false,
          "text": "Average",
          "x": 0,
          "xanchor": "left",
          "xref": "paper",
          "xshift": -83,
          "y": -0.15,
          "yanchor": "top",
          "yref": "paper",
          "yshift": 585
         },
         {
          "align": "left",
          "font": {
           "color": "#543810",
           "family": "DejaVu Sans",
           "size": 16
          },
          "showarrow": false,
          "text": "Base",
          "x": 0,
          "xanchor": "left",
          "xref": "paper",
          "xshift": -56,
          "y": -0.15,
          "yanchor": "top",
          "yref": "paper",
          "yshift": 565
         },
         {
          "align": "left",
          "font": {
           "color": "#543810",
           "family": "DejaVu Sans",
           "size": 16
          },
          "showarrow": false,
          "text": "Value",
          "x": 0,
          "xanchor": "left",
          "xref": "paper",
          "xshift": -61,
          "y": -0.15,
          "yanchor": "top",
          "yref": "paper",
          "yshift": 545
         },
         {
          "align": "center",
          "font": {
           "color": "#543810",
           "family": "DejaVu Sans",
           "size": 17
          },
          "showarrow": false,
          "text": "Athletes",
          "x": 0,
          "xanchor": "center",
          "xref": "paper",
          "xshift": 580,
          "y": -0.14,
          "yanchor": "bottom",
          "yref": "paper",
          "yshift": 40
         },
         {
          "align": "left",
          "font": {
           "color": "#543810",
           "family": "DejaVu Sans",
           "size": 14
          },
          "showarrow": false,
          "text": "Max: 1",
          "x": 0,
          "xanchor": "left",
          "xref": "paper",
          "xshift": 1085,
          "y": -0.15,
          "yanchor": "top",
          "yref": "paper",
          "yshift": 459
         },
         {
          "align": "left",
          "font": {
           "color": "#543810",
           "family": "DejaVu Sans",
           "size": 14
          },
          "showarrow": false,
          "text": "Min: 36",
          "x": 0,
          "xanchor": "left",
          "xref": "paper",
          "xshift": 1085,
          "y": -0.15,
          "yanchor": "top",
          "yref": "paper",
          "yshift": 419
         }
        ],
        "font": {
         "color": "#543810",
         "family": "DejaVu Sans",
         "size": 14
        },
        "height": 700,
        "images": [
         {
          "sizex": 0.15,
          "sizey": 0.15,
          "source": "img/maxminL.png",
          "x": 1.05,
          "xanchor": "right",
          "xref": "paper",
          "y": 0.655,
          "yanchor": "bottom",
          "yref": "paper"
         },
         {
          "sizex": 0.13,
          "sizey": 0.13,
          "source": "img/d_ladies.PNG",
          "x": 0.03,
          "xanchor": "left",
          "xref": "paper",
          "y": 0.12,
          "yanchor": "bottom",
          "yref": "paper"
         },
         {
          "sizex": 0.13,
          "sizey": 0.13,
          "source": "img/d_men.PNG",
          "x": 0.15,
          "xanchor": "left",
          "xref": "paper",
          "y": 0.8,
          "yanchor": "bottom",
          "yref": "paper"
         },
         {
          "sizex": 0.2,
          "sizey": 0.2,
          "source": "img/d_pairs.PNG",
          "x": 0.5,
          "xanchor": "left",
          "xref": "paper",
          "y": 0.7,
          "yanchor": "bottom",
          "yref": "paper"
         },
         {
          "sizex": 0.2,
          "sizey": 0.2,
          "source": "img/d_pairs.PNG",
          "x": 0.75,
          "xanchor": "left",
          "xref": "paper",
          "y": 0.1,
          "yanchor": "bottom",
          "yref": "paper"
         }
        ],
        "legend": {
         "itemsizing": "constant",
         "title": {
          "text": ""
         },
         "tracegroupgap": 0,
         "x": 1,
         "xanchor": "right",
         "y": 0.8,
         "yanchor": "bottom"
        },
        "margin": {
         "b": 80,
         "l": 100,
         "r": 60,
         "t": 120
        },
        "paper_bgcolor": "#E9F1FA",
        "plot_bgcolor": "#E9F1FA",
        "template": {
         "data": {
          "bar": [
           {
            "error_x": {
             "color": "#2a3f5f"
            },
            "error_y": {
             "color": "#2a3f5f"
            },
            "marker": {
             "line": {
              "color": "#E5ECF6",
              "width": 0.5
             },
             "pattern": {
              "fillmode": "overlay",
              "size": 10,
              "solidity": 0.2
             }
            },
            "type": "bar"
           }
          ],
          "barpolar": [
           {
            "marker": {
             "line": {
              "color": "#E5ECF6",
              "width": 0.5
             },
             "pattern": {
              "fillmode": "overlay",
              "size": 10,
              "solidity": 0.2
             }
            },
            "type": "barpolar"
           }
          ],
          "carpet": [
           {
            "aaxis": {
             "endlinecolor": "#2a3f5f",
             "gridcolor": "white",
             "linecolor": "white",
             "minorgridcolor": "white",
             "startlinecolor": "#2a3f5f"
            },
            "baxis": {
             "endlinecolor": "#2a3f5f",
             "gridcolor": "white",
             "linecolor": "white",
             "minorgridcolor": "white",
             "startlinecolor": "#2a3f5f"
            },
            "type": "carpet"
           }
          ],
          "choropleth": [
           {
            "colorbar": {
             "outlinewidth": 0,
             "ticks": ""
            },
            "type": "choropleth"
           }
          ],
          "contour": [
           {
            "colorbar": {
             "outlinewidth": 0,
             "ticks": ""
            },
            "colorscale": [
             [
              0,
              "#0d0887"
             ],
             [
              0.1111111111111111,
              "#46039f"
             ],
             [
              0.2222222222222222,
              "#7201a8"
             ],
             [
              0.3333333333333333,
              "#9c179e"
             ],
             [
              0.4444444444444444,
              "#bd3786"
             ],
             [
              0.5555555555555556,
              "#d8576b"
             ],
             [
              0.6666666666666666,
              "#ed7953"
             ],
             [
              0.7777777777777778,
              "#fb9f3a"
             ],
             [
              0.8888888888888888,
              "#fdca26"
             ],
             [
              1,
              "#f0f921"
             ]
            ],
            "type": "contour"
           }
          ],
          "contourcarpet": [
           {
            "colorbar": {
             "outlinewidth": 0,
             "ticks": ""
            },
            "type": "contourcarpet"
           }
          ],
          "heatmap": [
           {
            "colorbar": {
             "outlinewidth": 0,
             "ticks": ""
            },
            "colorscale": [
             [
              0,
              "#0d0887"
             ],
             [
              0.1111111111111111,
              "#46039f"
             ],
             [
              0.2222222222222222,
              "#7201a8"
             ],
             [
              0.3333333333333333,
              "#9c179e"
             ],
             [
              0.4444444444444444,
              "#bd3786"
             ],
             [
              0.5555555555555556,
              "#d8576b"
             ],
             [
              0.6666666666666666,
              "#ed7953"
             ],
             [
              0.7777777777777778,
              "#fb9f3a"
             ],
             [
              0.8888888888888888,
              "#fdca26"
             ],
             [
              1,
              "#f0f921"
             ]
            ],
            "type": "heatmap"
           }
          ],
          "heatmapgl": [
           {
            "colorbar": {
             "outlinewidth": 0,
             "ticks": ""
            },
            "colorscale": [
             [
              0,
              "#0d0887"
             ],
             [
              0.1111111111111111,
              "#46039f"
             ],
             [
              0.2222222222222222,
              "#7201a8"
             ],
             [
              0.3333333333333333,
              "#9c179e"
             ],
             [
              0.4444444444444444,
              "#bd3786"
             ],
             [
              0.5555555555555556,
              "#d8576b"
             ],
             [
              0.6666666666666666,
              "#ed7953"
             ],
             [
              0.7777777777777778,
              "#fb9f3a"
             ],
             [
              0.8888888888888888,
              "#fdca26"
             ],
             [
              1,
              "#f0f921"
             ]
            ],
            "type": "heatmapgl"
           }
          ],
          "histogram": [
           {
            "marker": {
             "pattern": {
              "fillmode": "overlay",
              "size": 10,
              "solidity": 0.2
             }
            },
            "type": "histogram"
           }
          ],
          "histogram2d": [
           {
            "colorbar": {
             "outlinewidth": 0,
             "ticks": ""
            },
            "colorscale": [
             [
              0,
              "#0d0887"
             ],
             [
              0.1111111111111111,
              "#46039f"
             ],
             [
              0.2222222222222222,
              "#7201a8"
             ],
             [
              0.3333333333333333,
              "#9c179e"
             ],
             [
              0.4444444444444444,
              "#bd3786"
             ],
             [
              0.5555555555555556,
              "#d8576b"
             ],
             [
              0.6666666666666666,
              "#ed7953"
             ],
             [
              0.7777777777777778,
              "#fb9f3a"
             ],
             [
              0.8888888888888888,
              "#fdca26"
             ],
             [
              1,
              "#f0f921"
             ]
            ],
            "type": "histogram2d"
           }
          ],
          "histogram2dcontour": [
           {
            "colorbar": {
             "outlinewidth": 0,
             "ticks": ""
            },
            "colorscale": [
             [
              0,
              "#0d0887"
             ],
             [
              0.1111111111111111,
              "#46039f"
             ],
             [
              0.2222222222222222,
              "#7201a8"
             ],
             [
              0.3333333333333333,
              "#9c179e"
             ],
             [
              0.4444444444444444,
              "#bd3786"
             ],
             [
              0.5555555555555556,
              "#d8576b"
             ],
             [
              0.6666666666666666,
              "#ed7953"
             ],
             [
              0.7777777777777778,
              "#fb9f3a"
             ],
             [
              0.8888888888888888,
              "#fdca26"
             ],
             [
              1,
              "#f0f921"
             ]
            ],
            "type": "histogram2dcontour"
           }
          ],
          "mesh3d": [
           {
            "colorbar": {
             "outlinewidth": 0,
             "ticks": ""
            },
            "type": "mesh3d"
           }
          ],
          "parcoords": [
           {
            "line": {
             "colorbar": {
              "outlinewidth": 0,
              "ticks": ""
             }
            },
            "type": "parcoords"
           }
          ],
          "pie": [
           {
            "automargin": true,
            "type": "pie"
           }
          ],
          "scatter": [
           {
            "fillpattern": {
             "fillmode": "overlay",
             "size": 10,
             "solidity": 0.2
            },
            "type": "scatter"
           }
          ],
          "scatter3d": [
           {
            "line": {
             "colorbar": {
              "outlinewidth": 0,
              "ticks": ""
             }
            },
            "marker": {
             "colorbar": {
              "outlinewidth": 0,
              "ticks": ""
             }
            },
            "type": "scatter3d"
           }
          ],
          "scattercarpet": [
           {
            "marker": {
             "colorbar": {
              "outlinewidth": 0,
              "ticks": ""
             }
            },
            "type": "scattercarpet"
           }
          ],
          "scattergeo": [
           {
            "marker": {
             "colorbar": {
              "outlinewidth": 0,
              "ticks": ""
             }
            },
            "type": "scattergeo"
           }
          ],
          "scattergl": [
           {
            "marker": {
             "colorbar": {
              "outlinewidth": 0,
              "ticks": ""
             }
            },
            "type": "scattergl"
           }
          ],
          "scattermapbox": [
           {
            "marker": {
             "colorbar": {
              "outlinewidth": 0,
              "ticks": ""
             }
            },
            "type": "scattermapbox"
           }
          ],
          "scatterpolar": [
           {
            "marker": {
             "colorbar": {
              "outlinewidth": 0,
              "ticks": ""
             }
            },
            "type": "scatterpolar"
           }
          ],
          "scatterpolargl": [
           {
            "marker": {
             "colorbar": {
              "outlinewidth": 0,
              "ticks": ""
             }
            },
            "type": "scatterpolargl"
           }
          ],
          "scatterternary": [
           {
            "marker": {
             "colorbar": {
              "outlinewidth": 0,
              "ticks": ""
             }
            },
            "type": "scatterternary"
           }
          ],
          "surface": [
           {
            "colorbar": {
             "outlinewidth": 0,
             "ticks": ""
            },
            "colorscale": [
             [
              0,
              "#0d0887"
             ],
             [
              0.1111111111111111,
              "#46039f"
             ],
             [
              0.2222222222222222,
              "#7201a8"
             ],
             [
              0.3333333333333333,
              "#9c179e"
             ],
             [
              0.4444444444444444,
              "#bd3786"
             ],
             [
              0.5555555555555556,
              "#d8576b"
             ],
             [
              0.6666666666666666,
              "#ed7953"
             ],
             [
              0.7777777777777778,
              "#fb9f3a"
             ],
             [
              0.8888888888888888,
              "#fdca26"
             ],
             [
              1,
              "#f0f921"
             ]
            ],
            "type": "surface"
           }
          ],
          "table": [
           {
            "cells": {
             "fill": {
              "color": "#EBF0F8"
             },
             "line": {
              "color": "white"
             }
            },
            "header": {
             "fill": {
              "color": "#C8D4E3"
             },
             "line": {
              "color": "white"
             }
            },
            "type": "table"
           }
          ]
         },
         "layout": {
          "annotationdefaults": {
           "arrowcolor": "#2a3f5f",
           "arrowhead": 0,
           "arrowwidth": 1
          },
          "autotypenumbers": "strict",
          "coloraxis": {
           "colorbar": {
            "outlinewidth": 0,
            "ticks": ""
           }
          },
          "colorscale": {
           "diverging": [
            [
             0,
             "#8e0152"
            ],
            [
             0.1,
             "#c51b7d"
            ],
            [
             0.2,
             "#de77ae"
            ],
            [
             0.3,
             "#f1b6da"
            ],
            [
             0.4,
             "#fde0ef"
            ],
            [
             0.5,
             "#f7f7f7"
            ],
            [
             0.6,
             "#e6f5d0"
            ],
            [
             0.7,
             "#b8e186"
            ],
            [
             0.8,
             "#7fbc41"
            ],
            [
             0.9,
             "#4d9221"
            ],
            [
             1,
             "#276419"
            ]
           ],
           "sequential": [
            [
             0,
             "#0d0887"
            ],
            [
             0.1111111111111111,
             "#46039f"
            ],
            [
             0.2222222222222222,
             "#7201a8"
            ],
            [
             0.3333333333333333,
             "#9c179e"
            ],
            [
             0.4444444444444444,
             "#bd3786"
            ],
            [
             0.5555555555555556,
             "#d8576b"
            ],
            [
             0.6666666666666666,
             "#ed7953"
            ],
            [
             0.7777777777777778,
             "#fb9f3a"
            ],
            [
             0.8888888888888888,
             "#fdca26"
            ],
            [
             1,
             "#f0f921"
            ]
           ],
           "sequentialminus": [
            [
             0,
             "#0d0887"
            ],
            [
             0.1111111111111111,
             "#46039f"
            ],
            [
             0.2222222222222222,
             "#7201a8"
            ],
            [
             0.3333333333333333,
             "#9c179e"
            ],
            [
             0.4444444444444444,
             "#bd3786"
            ],
            [
             0.5555555555555556,
             "#d8576b"
            ],
            [
             0.6666666666666666,
             "#ed7953"
            ],
            [
             0.7777777777777778,
             "#fb9f3a"
            ],
            [
             0.8888888888888888,
             "#fdca26"
            ],
            [
             1,
             "#f0f921"
            ]
           ]
          },
          "colorway": [
           "#636efa",
           "#EF553B",
           "#00cc96",
           "#ab63fa",
           "#FFA15A",
           "#19d3f3",
           "#FF6692",
           "#B6E880",
           "#FF97FF",
           "#FECB52"
          ],
          "font": {
           "color": "#2a3f5f"
          },
          "geo": {
           "bgcolor": "white",
           "lakecolor": "white",
           "landcolor": "#E5ECF6",
           "showlakes": true,
           "showland": true,
           "subunitcolor": "white"
          },
          "hoverlabel": {
           "align": "left"
          },
          "hovermode": "closest",
          "mapbox": {
           "style": "light"
          },
          "paper_bgcolor": "white",
          "plot_bgcolor": "#E5ECF6",
          "polar": {
           "angularaxis": {
            "gridcolor": "white",
            "linecolor": "white",
            "ticks": ""
           },
           "bgcolor": "#E5ECF6",
           "radialaxis": {
            "gridcolor": "white",
            "linecolor": "white",
            "ticks": ""
           }
          },
          "scene": {
           "xaxis": {
            "backgroundcolor": "#E5ECF6",
            "gridcolor": "white",
            "gridwidth": 2,
            "linecolor": "white",
            "showbackground": true,
            "ticks": "",
            "zerolinecolor": "white"
           },
           "yaxis": {
            "backgroundcolor": "#E5ECF6",
            "gridcolor": "white",
            "gridwidth": 2,
            "linecolor": "white",
            "showbackground": true,
            "ticks": "",
            "zerolinecolor": "white"
           },
           "zaxis": {
            "backgroundcolor": "#E5ECF6",
            "gridcolor": "white",
            "gridwidth": 2,
            "linecolor": "white",
            "showbackground": true,
            "ticks": "",
            "zerolinecolor": "white"
           }
          },
          "shapedefaults": {
           "line": {
            "color": "#2a3f5f"
           }
          },
          "ternary": {
           "aaxis": {
            "gridcolor": "white",
            "linecolor": "white",
            "ticks": ""
           },
           "baxis": {
            "gridcolor": "white",
            "linecolor": "white",
            "ticks": ""
           },
           "bgcolor": "#E5ECF6",
           "caxis": {
            "gridcolor": "white",
            "linecolor": "white",
            "ticks": ""
           }
          },
          "title": {
           "x": 0.05
          },
          "xaxis": {
           "automargin": true,
           "gridcolor": "white",
           "linecolor": "white",
           "ticks": "",
           "title": {
            "standoff": 15
           },
           "zerolinecolor": "white",
           "zerolinewidth": 2
          },
          "yaxis": {
           "automargin": true,
           "gridcolor": "white",
           "linecolor": "white",
           "ticks": "",
           "title": {
            "standoff": 15
           },
           "zerolinecolor": "white",
           "zerolinewidth": 2
          }
         }
        },
        "title": {
         "font": {
          "color": "#543810",
          "family": "DejaVu Sans",
          "size": 24
         },
         "text": "<b>Which athletes present the most difficult elements and how are they ranked?</b>",
         "x": 0.5,
         "xanchor": "center",
         "y": 0.97,
         "yanchor": "top"
        },
        "width": 1315,
        "xaxis": {
         "anchor": "y",
         "domain": [
          0,
          1
         ],
         "nticks": 20,
         "showticklabels": false,
         "title": {
          "text": ""
         },
         "visible": true
        },
        "yaxis": {
         "anchor": "x",
         "domain": [
          0,
          1
         ],
         "title": {
          "text": ""
         }
        }
       }
      },
      "text/html": [
       "<div>                            <div id=\"e4b96017-305d-458b-bacb-d8c65606fe2d\" class=\"plotly-graph-div\" style=\"height:700px; width:1315px;\"></div>            <script type=\"text/javascript\">                require([\"plotly\"], function(Plotly) {                    window.PLOTLYENV=window.PLOTLYENV || {};                                    if (document.getElementById(\"e4b96017-305d-458b-bacb-d8c65606fe2d\")) {                    Plotly.newPlot(                        \"e4b96017-305d-458b-bacb-d8c65606fe2d\",                        [{\"customdata\":[[1.0,1.0],[0.72,1.3888888888888888],[0.6206896551724138,1.6111111111111112],[0.5725190839694657,1.7466666666666666],[0.4186046511627907,2.388888888888889],[0.37254901960784315,2.6842105263157894],[0.3333333333333333,3.0],[0.3138888888888889,3.185840707964602],[0.30434782608695654,3.2857142857142856],[0.296875,3.3684210526315788],[0.2946708463949843,3.393617021276596],[0.290519877675841,3.442105263157895],[0.2571428571428572,3.888888888888889],[0.2558922558922559,3.9078947368421053],[0.2550335570469799,3.9210526315789473],[0.24255319148936172,4.12280701754386],[0.24042553191489363,4.15929203539823],[0.23347107438016526,4.283185840707965],[0.2168674698795181,4.611111111111111],[0.2,5.0],[0.18686868686868685,5.351351351351352],[0.18656716417910446,5.36],[0.1812227074235808,5.518072289156627],[0.1793478260869565,5.575757575757576],[0.17272727272727273,5.7894736842105265],[0.16666666666666666,6.0],[0.16170212765957448,6.184210526315789],[0.16170212765957448,6.184210526315789],[0.15859030837004406,6.305555555555555],[0.15625,6.4],[0.15510204081632653,6.447368421052632],[0.15384615384615385,6.5],[0.14834437086092714,6.741071428571429],[0.14303797468354432,6.991150442477876],[0.13803230543318648,7.24468085106383],[0.1342756183745583,7.447368421052632],[0.13103448275862067,7.631578947368421],[0.1292517006802721,7.7368421052631575],[0.125,8.0],[0.12403100775193798,8.0625],[0.11597151576805696,8.62280701754386],[0.109717868338558,9.114285714285714],[0.10952380952380952,9.130434782608695],[0.1072234762979684,9.326315789473684],[0.10497237569060773,9.526315789473685],[0.10382513661202186,9.631578947368421],[0.10124333925399645,9.87719298245614],[0.1,10.0],[0.1,10.0],[0.09912280701754385,10.08849557522124],[0.09420289855072464,10.615384615384615],[0.09178743961352656,10.894736842105264],[0.09112709832134293,10.973684210526315],[0.0861244019138756,11.61111111111111],[0.08482142857142858,11.789473684210526],[0.08333333333333333,12.0],[0.08214676889375684,12.173333333333334],[0.0805084745762712,12.421052631578947],[0.07922912205567452,12.621621621621621],[0.07664670658682635,13.046875],[0.07562349155269509,13.22340425531915],[0.07364341085271317,13.578947368421053],[0.06785714285714285,14.736842105263158],[0.06578947368421052,15.2],[0.06479113384484228,15.43421052631579],[0.06426155580608793,15.56140350877193],[0.05555555555555555,18.0],[0.054441260744985676,18.36842105263158],[0.05405405405405406,18.5],[0.05357142857142857,18.666666666666668],[0.04909560723514212,20.36842105263158],[0.04785894206549118,20.894736842105264],[0.04727272727272727,21.153846153846153],[0.04570383912248629,21.88],[0.044520547945205484,22.46153846153846],[0.043478260869565216,23.0],[0.04220779220779221,23.692307692307693],[0.041666666666666664,24.0],[0.04113924050632912,24.307692307692307],[0.04,25.0],[0.03851851851851852,25.96153846153846],[0.03571428571428571,28.0],[0.034482758620689655,29.0],[0.03333333333333333,30.0],[0.03333333333333333,30.0],[0.03333333333333333,30.0],[0.03225806451612903,31.0],[0.03225806451612903,31.0],[0.03125,32.0],[0.030303030303030304,33.0],[0.029411764705882353,34.0]],\"hovertemplate\":\"=Ladies<br>athlete_name=%{x}<br>avg_elem_base_value=%{y}<br>Average rank=%{customdata[1]}<extra></extra>\",\"legendgroup\":\"Ladies\",\"marker\":{\"color\":\"#F833FA\",\"size\":[1.0,0.72,0.6206896551724138,0.5725190839694657,0.4186046511627907,0.37254901960784315,0.3333333333333333,0.3138888888888889,0.30434782608695654,0.296875,0.2946708463949843,0.290519877675841,0.2571428571428572,0.2558922558922559,0.2550335570469799,0.24255319148936172,0.24042553191489363,0.23347107438016526,0.2168674698795181,0.2,0.18686868686868685,0.18656716417910446,0.1812227074235808,0.1793478260869565,0.17272727272727273,0.16666666666666666,0.16170212765957448,0.16170212765957448,0.15859030837004406,0.15625,0.15510204081632653,0.15384615384615385,0.14834437086092714,0.14303797468354432,0.13803230543318648,0.1342756183745583,0.13103448275862067,0.1292517006802721,0.125,0.12403100775193798,0.11597151576805696,0.109717868338558,0.10952380952380952,0.1072234762979684,0.10497237569060773,0.10382513661202186,0.10124333925399645,0.1,0.1,0.09912280701754385,0.09420289855072464,0.09178743961352656,0.09112709832134293,0.0861244019138756,0.08482142857142858,0.08333333333333333,0.08214676889375684,0.0805084745762712,0.07922912205567452,0.07664670658682635,0.07562349155269509,0.07364341085271317,0.06785714285714285,0.06578947368421052,0.06479113384484228,0.06426155580608793,0.05555555555555555,0.054441260744985676,0.05405405405405406,0.05357142857142857,0.04909560723514212,0.04785894206549118,0.04727272727272727,0.04570383912248629,0.044520547945205484,0.043478260869565216,0.04220779220779221,0.041666666666666664,0.04113924050632912,0.04,0.03851851851851852,0.03571428571428571,0.034482758620689655,0.03333333333333333,0.03333333333333333,0.03333333333333333,0.03225806451612903,0.03225806451612903,0.03125,0.030303030303030304,0.029411764705882353],\"sizemode\":\"area\",\"sizeref\":0.0012755102040816326,\"symbol\":\"circle\"},\"mode\":\"markers\",\"name\":\"Ladies\",\"orientation\":\"v\",\"showlegend\":true,\"x\":[\"Evgenia MEDVEDEVA\",\"Alena KOSTORNAIA\",\"Alexandra TRUSOVA\",\"Alina ZAGITOVA\",\"Anastasiia GUBANOVA\",\"Kaetlyn OSMOND\",\"Anastasia TARAKANOVA\",\"Satoko MIYAHARA\",\"Kaori SAKAMOTO\",\"Bradie TENNELL\",\"Elena RADIONOVA\",\"Carolina KOSTNER\",\"Rika KIHIRA\",\"Maria SOTSKOVA\",\"Polina TSURSKAYA\",\"Gabrielle DALEMAN\",\"Mai MIHARA\",\"Anna POGORILAYA\",\"Elizaveta NUGUMANOVA\",\"Daria PANENKOVA\",\"Marin HONDA\",\"Elizaveta TUKTAMYSHEVA\",\"Ashley WAGNER\",\"Wakaba HIGUCHI\",\"Courtney HICKS\",\"Sofia SAMODUROVA\",\"So Youn PARK\",\"Serafima SAKHANOVICH\",\"Gracie GOLD\",\"Mirai NAGASU\",\"Yuna SHIRAIWA\",\"Yura MATSUDA\",\"Elizabet TURSYNBAEVA\",\"Karen CHEN\",\"Mariah BELL\",\"Mao ASADA\",\"Alena LEONOVA\",\"Dabin CHOI\",\"Valeriia MIKHAILOVA\",\"Julia LIPNITSKAIA\",\"Rika HONGO\",\"Yuka NAGAI\",\"Alaine CHARTRAND\",\"Laurine LECAVELIER\",\"Zijun LI\",\"Polina EDMUNDS\",\"Roberta RODEGHIERO\",\"Kanako MURAKAMI\",\"Amber GLENN\",\"Nicole RAJICOVA\",\"Nahyun KIM\",\"Xiangning LI\",\"Mae Berenice MEITE\",\"Soyoun PARK\",\"Loena HENDRICKX\",\"Larkyn AUSTMAN\",\"Nicole SCHOTT\",\"Ziquan ZHAO\",\"Ivett TOTH\",\"Joshi HELGESSON\",\"Anastasia GALUSTYAN\",\"Matilda ALGOTSSON\",\"Brooklee HAN\",\"Emmi PELTONEN\",\"Angelina KUCHVALSKA\",\"Kailani CRAINE\",\"Suh Hyun SON\",\"Maisy Hiu Ching MA\",\"Helery H\\u00c4LVIN\",\"Nathalie WEINZIERL\",\"Chloe ING\",\"Viveca LINDFORS\",\"Amy LIN\",\"Shuran YU\",\"Natasha MCKAY\",\"Michaela DU TOIT\",\"Michaela-Lucie HANZLIKOVA\",\"Kerstin FRANK\",\"Anna KHNYCHENKOVA\",\"Julia SAUTER\",\"Anne Line GJERSEM\",\"Elzbieta KROPA\",\"Antonina DUBININA\",\"Isadora WILLIAMS\",\"Yasmine Kimiko YAMADA\",\"Colette Coco KAMINSKI\",\"Dasa GRM\",\"Aimee BUCHANAN\",\"Birce ATABEY\",\"Valentina MATOS\",\"Hristina VASSILEVA\"],\"xaxis\":\"x\",\"y\":[5.012631578947368,5.2877777777777775,5.75,5.247466666666667,4.901666666666666,4.649144736842105,5.265555555555555,4.714424778761062,4.898571428571429,4.997894736842105,4.781914893617022,4.389684210526315,4.93638888888889,4.780263157894737,4.968947368421053,4.547543859649123,4.813628318584071,4.698672566371681,4.459444444444444,5.313888888888889,4.666486486486487,4.64,4.207831325301205,4.699848484848485,4.408245614035088,5.144444444444444,4.306315789473684,4.497894736842105,4.2675,4.498421052631579,4.582894736842105,4.553684210526316,4.648482142857143,4.3523893805309735,4.649468085106383,3.4560526315789475,4.331929824561404,4.667052631578947,4.855789473684211,3.8512500000000003,4.353771929824561,3.8565714285714283,4.345652173913043,4.442315789473684,4.431052631578948,4.131578947368421,3.987017543859649,3.4286842105263156,3.869473684210526,4.272035398230089,4.095384615384615,4.490315789473684,4.424473684210526,3.299444444444444,4.299736842105263,3.0,4.218,3.9710526315789476,4.316756756756757,3.8543749999999997,4.160744680851064,4.2894736842105265,4.11578947368421,3.9248,3.802763157894737,3.685263157894737,4.07,3.548421052631579,4.093461538461538,4.17,3.5457894736842106,3.76421052631579,3.261538461538462,3.6276,3.5703846153846155,2.7614285714285716,3.461153846153846,3.5865384615384617,4.297307692307692,3.6757142857142857,3.8665384615384615,3.8899999999999997,3.657142857142857,3.9857142857142858,3.837142857142857,3.59,3.627857142857143,3.252857142857143,3.3333333333333335,3.247142857142857,2.06],\"yaxis\":\"y\",\"type\":\"scatter\",\"opacity\":1},{\"customdata\":[[0.5839416058394161,1.7125],[0.5555555555555556,1.8],[0.42105263157894735,2.375],[0.3921568627450981,2.55],[0.3333333333333333,3.0],[0.3220338983050848,3.1052631578947367],[0.30158730158730157,3.3157894736842106],[0.2891566265060241,3.4583333333333335],[0.2881844380403458,3.47],[0.2826603325415677,3.53781512605042],[0.2753623188405797,3.6315789473684212],[0.25675675675675674,3.8947368421052633],[0.2542735042735043,3.9327731092436973],[0.25,4.0],[0.23795180722891565,4.2025316455696204],[0.228995057660626,4.366906474820144],[0.21978021978021978,4.55],[0.2,5.0],[0.19716312056737587,5.071942446043166],[0.18627450980392157,5.368421052631579],[0.17341040462427745,5.766666666666667],[0.16666666666666666,6.0],[0.1646090534979424,6.075],[0.15918367346938775,6.282051282051282],[0.15037593984962405,6.65],[0.1466992665036675,6.816666666666666],[0.14475627769571642,6.908163265306122],[0.14338235294117646,6.9743589743589745],[0.14184397163120568,7.05],[0.136986301369863,7.3],[0.13367174280879865,7.481012658227848],[0.1318242343541944,7.585858585858586],[0.12987012987012986,7.7],[0.12781954887218044,7.823529411764706],[0.1234567901234568,8.1],[0.12288786482334871,8.1375],[0.12145748987854252,8.233333333333333],[0.12074303405572755,8.282051282051283],[0.12058212058212059,8.293103448275861],[0.11985472154963679,8.343434343434344],[0.11661807580174928,8.575],[0.11267605633802817,8.875],[0.1111111111111111,9.0],[0.10869565217391305,9.2],[0.10737527114967461,9.313131313131313],[0.10582010582010583,9.45],[0.1053763440860215,9.489795918367347],[0.10530973451327434,9.495798319327731],[0.10362694300518134,9.65],[0.10070921985815603,9.929577464788732],[0.0970873786407767,10.3],[0.09389671361502347,10.65],[0.09248554913294797,10.8125],[0.09208103130755065,10.86],[0.09090909090909091,11.0],[0.08837209302325581,11.31578947368421],[0.08796296296296297,11.368421052631579],[0.07920792079207921,12.625],[0.07435653002859867,13.448717948717949],[0.07338308457711443,13.627118644067796],[0.058823529411764705,17.0],[0.05844155844155844,17.11111111111111],[0.057803468208092484,17.3],[0.05547850208044383,18.025],[0.05361930294906166,18.65],[0.053608247422680416,18.653846153846153],[0.05263157894736842,19.0],[0.051526717557251904,19.40740740740741],[0.05103969754253308,19.59259259259259],[0.05027932960893854,19.88888888888889],[0.05,20.0],[0.04926108374384236,20.3],[0.04842615012106538,20.65],[0.04702970297029703,21.263157894736842],[0.046189376443418015,21.65],[0.043478260869565216,23.0],[0.043478260869565216,23.0],[0.043199999999999995,23.14814814814815],[0.041666666666666664,24.0],[0.04,25.0],[0.03982300884955752,25.11111111111111],[0.038737446197991396,25.814814814814813],[0.038461538461538464,26.0],[0.037037037037037035,27.0],[0.037037037037037035,27.0],[0.03571428571428571,28.0],[0.034482758620689655,29.0],[0.03333333333333333,30.0],[0.03333333333333333,30.0],[0.03333333333333333,30.0],[0.03125,32.0],[0.02968036529680365,33.69230769230769],[0.029411764705882353,34.0],[0.02857142857142857,35.0],[0.027777777777777776,36.0]],\"hovertemplate\":\"=Men<br>athlete_name=%{x}<br>avg_elem_base_value=%{y}<br>Average rank=%{customdata[1]}<extra></extra>\",\"legendgroup\":\"Men\",\"marker\":{\"color\":\"#3399FA\",\"size\":[0.5839416058394161,0.5555555555555556,0.42105263157894735,0.3921568627450981,0.3333333333333333,0.3220338983050848,0.30158730158730157,0.2891566265060241,0.2881844380403458,0.2826603325415677,0.2753623188405797,0.25675675675675674,0.2542735042735043,0.25,0.23795180722891565,0.228995057660626,0.21978021978021978,0.2,0.19716312056737587,0.18627450980392157,0.17341040462427745,0.16666666666666666,0.1646090534979424,0.15918367346938775,0.15037593984962405,0.1466992665036675,0.14475627769571642,0.14338235294117646,0.14184397163120568,0.136986301369863,0.13367174280879865,0.1318242343541944,0.12987012987012986,0.12781954887218044,0.1234567901234568,0.12288786482334871,0.12145748987854252,0.12074303405572755,0.12058212058212059,0.11985472154963679,0.11661807580174928,0.11267605633802817,0.1111111111111111,0.10869565217391305,0.10737527114967461,0.10582010582010583,0.1053763440860215,0.10530973451327434,0.10362694300518134,0.10070921985815603,0.0970873786407767,0.09389671361502347,0.09248554913294797,0.09208103130755065,0.09090909090909091,0.08837209302325581,0.08796296296296297,0.07920792079207921,0.07435653002859867,0.07338308457711443,0.058823529411764705,0.05844155844155844,0.057803468208092484,0.05547850208044383,0.05361930294906166,0.053608247422680416,0.05263157894736842,0.051526717557251904,0.05103969754253308,0.05027932960893854,0.05,0.04926108374384236,0.04842615012106538,0.04702970297029703,0.046189376443418015,0.043478260869565216,0.043478260869565216,0.043199999999999995,0.041666666666666664,0.04,0.03982300884955752,0.038737446197991396,0.038461538461538464,0.037037037037037035,0.037037037037037035,0.03571428571428571,0.034482758620689655,0.03333333333333333,0.03333333333333333,0.03333333333333333,0.03125,0.02968036529680365,0.029411764705882353,0.02857142857142857,0.027777777777777776],\"sizemode\":\"area\",\"sizeref\":0.0012755102040816326,\"symbol\":\"circle\"},\"mode\":\"markers\",\"name\":\"Men\",\"orientation\":\"v\",\"showlegend\":true,\"x\":[\"Shoma UNO\",\"Yuzuru HANYU\",\"Nathan CHEN\",\"Javier FERNANDEZ\",\"Mitsuki SUMOTO\",\"Camden PULKINEN\",\"Alexei KRASNOZHON\",\"Adam RIPPON\",\"Sergei VORONOV\",\"Patrick CHAN\",\"Roman SAVOSIN\",\"Alexey EROKHOV\",\"Boyang JIN\",\"Makar IGNATOV\",\"Alexander SAMARIN\",\"Mikhail KOLYADA\",\"Max AARON\",\"Dmitri ALIEV\",\"Jason BROWN\",\"Ilia SKIRDA\",\"Alexei BYCHENKO\",\"Andrew TORGASHEV\",\"Vincent ZHOU\",\"Jun Hwan CHA\",\"Kazuki TOMONO\",\"Misha GE\",\"Han YAN\",\"Keegan MESSING\",\"Nicolas NADEAU\",\"Timothy DOLENSKY\",\"Takahito MURA\",\"Nam NGUYEN\",\"Gordei GORSHKOV\",\"Maxim KOVTUN\",\"Elladj BALDE\",\"Moris KVITELASHVILI\",\"Alexander PETROV\",\"Artur DMITRIEV\",\"Ross MINER\",\"Kevin REYNOLDS\",\"Deniss VASILJEVS\",\"Liam FIRUS\",\"Ryuju HINO\",\"Denis TEN\",\"Grant HOCHSTEIN\",\"Jorik HENDRICKX\",\"Keiji TANAKA\",\"Michal BREZINA\",\"Roman SADOVSKY\",\"Daniel SAMOHIN\",\"Andrei LAZUKIN\",\"Hiroaki SATO\",\"Chafik BESSEGHIER\",\"Brendan KERRY\",\"Romain PONSART\",\"He ZHANG\",\"Ivan RIGHINI\",\"Kevin AYMOZ\",\"Alexander MAJOROV\",\"Paul FENTZ\",\"Sihyeong LEE\",\"Ivan PAVLOV\",\"June Hyoung LEE\",\"Julian Zhi Jie YEE\",\"Maurizio ZANDRON\",\"Jinseo KIM\",\"Michael Christian MARTINEZ\",\"Stephane WALKER\",\"Javier RAYA\",\"Graham NEWBERRY\",\"Mark WEBSTER\",\"Andrew DODDS\",\"Jiri BELOHRADSKY\",\"Daniel Albert NAURITS\",\"Leslie Man Cheuk IP\",\"Sondre ODDVOLL BOE\",\"Kai Xiang CHEW\",\"Chih-I TSAO\",\"Micah TANG\",\"Harry Hau Yin LEE\",\"Slavik HAYRAPETYAN\",\"Valtter VIRTANEN\",\"Harrison Jon-Yen WONG\",\"Igor REZNICHENKO\",\"Alexander BOROVOJ\",\"Thomas KENNES\",\"Anton KARPUK\",\"Mark GORODNITSKY\",\"Matteo RIZZO\",\"Nicholas VRDOLJAK\",\"Engin Ali ARTAN\",\"Larry LOUPOLOVER\",\"Michael NEUMAN\",\"Nicky OBREYKOV\",\"Mario-Rafael IONIAN\"],\"xaxis\":\"x\",\"y\":[7.0523125,6.806166666666667,7.534812499999999,6.562142857142858,5.5142105263157895,5.316315789473684,6.058684210526316,5.760916666666667,6.0748999999999995,6.080756302521008,5.712631578947368,5.953684210526316,7.391764705882353,6.058333333333334,6.342911392405064,6.196546762589928,6.268625,6.1258620689655165,5.489928057553956,5.137368421052631,5.951833333333334,4.042105263157895,7.147,5.483333333333333,6.014499999999999,5.578250000000001,5.6272448979591845,5.448717948717949,5.5329999999999995,5.2735,5.215316455696203,6.092929292929293,5.395499999999999,5.874,4.7764999999999995,6.31475,5.222833333333333,5.96948717948718,4.7379310344827585,6.17949494949495,5.202999999999999,5.37375,5.1555,5.51375,5.291818181818182,5.4036,5.777551020408163,5.153109243697479,5.1235,5.442112676056339,5.4315,5.295,5.8004999999999995,5.6002,4.85,4.628947368421052,5.048947368421053,5.120500000000001,5.016538461538461,5.7589830508474575,4.6945,5.156666666666666,4.7700000000000005,5.32225,4.91,5.298461538461538,5.24775,5.107407407407407,5.090370370370371,5.104444444444445,4.849473684210526,4.01,4.727,4.704210526315789,4.3205,3.8184210526315794,4.016,5.037037037037037,4.060526315789474,3.765714285714286,4.877407407407407,4.448148148148149,3.3185714285714285,5.513571428571429,3.8757142857142854,3.934285714285714,4.95,4.075714285714286,4.857142857142857,4.347142857142857,4.452857142857144,3.712307692307692,3.861428571428571,3.8666666666666663,3.032857142857143],\"yaxis\":\"y\",\"type\":\"scatter\",\"opacity\":1},{\"customdata\":[[1.0,1.0],[0.7851239669421488,1.2736842105263158],[0.7307692307692307,1.368421052631579],[0.5974842767295597,1.6736842105263159],[0.44999999999999996,2.2222222222222223],[0.4186046511627907,2.388888888888889],[0.4113173106175844,2.4312130177514795],[0.37254901960784315,2.6842105263157894],[0.34953703703703703,2.8609271523178808],[0.2857142857142857,3.5],[0.27692307692307694,3.611111111111111],[0.2671035386631717,3.7438665358194307],[0.26108754338603934,3.8301329394387],[0.25885558583106266,3.863157894736842],[0.25,4.0],[0.24672489082969434,4.053097345132743],[0.22784810126582278,4.388888888888889],[0.22619047619047616,4.421052631578948],[0.2205398288347597,4.534328358208955],[0.2052877138413686,4.871212121212121],[0.20357142857142857,4.912280701754386],[0.19332195029406185,5.1727183513248285],[0.18181818181818182,5.5],[0.17843964153927255,5.604135893648449],[0.17821782178217824,5.611111111111111],[0.17383145684066872,5.75269872423945],[0.17209302325581396,5.8108108108108105],[0.16666666666666666,6.0],[0.15702479338842976,6.368421052631579],[0.15573770491803277,6.421052631578948],[0.15419769803656058,6.485181119648738],[0.1529175050301811,6.5394736842105265],[0.15079365079365079,6.631578947368421],[0.15079365079365079,6.631578947368421],[0.14285714285714285,7.0],[0.13421052631578947,7.450980392156863],[0.12669683257918551,7.892857142857143],[0.125,8.0],[0.125,8.0],[0.125,8.0],[0.125,8.0],[0.11717495987158907,8.534246575342467],[0.11688311688311688,8.555555555555555],[0.09405940594059406,10.631578947368421],[0.08260869565217392,12.105263157894736],[0.08085106382978724,12.368421052631579],[0.08029197080291971,12.454545454545455],[0.07692307692307693,13.0],[0.07638888888888888,13.090909090909092],[0.075,13.333333333333334],[0.07407407407407407,13.5],[0.07065217391304349,14.153846153846153],[0.0683453237410072,14.631578947368421],[0.06666666666666667,15.0],[0.0625,16.0],[0.06018518518518518,16.615384615384617],[0.044444444444444446,22.5],[0.041666666666666664,24.0],[0.04,25.0]],\"hovertemplate\":\"=Pairs<br>athlete_name=%{x}<br>avg_elem_base_value=%{y}<br>Average rank=%{customdata[1]}<extra></extra>\",\"legendgroup\":\"Pairs\",\"marker\":{\"color\":\"#FA9433\",\"size\":[1.0,0.7851239669421488,0.7307692307692307,0.5974842767295597,0.44999999999999996,0.4186046511627907,0.4113173106175844,0.37254901960784315,0.34953703703703703,0.2857142857142857,0.27692307692307694,0.2671035386631717,0.26108754338603934,0.25885558583106266,0.25,0.24672489082969434,0.22784810126582278,0.22619047619047616,0.2205398288347597,0.2052877138413686,0.20357142857142857,0.19332195029406185,0.18181818181818182,0.17843964153927255,0.17821782178217824,0.17383145684066872,0.17209302325581396,0.16666666666666666,0.15702479338842976,0.15573770491803277,0.15419769803656058,0.1529175050301811,0.15079365079365079,0.15079365079365079,0.14285714285714285,0.13421052631578947,0.12669683257918551,0.125,0.125,0.125,0.125,0.11717495987158907,0.11688311688311688,0.09405940594059406,0.08260869565217392,0.08085106382978724,0.08029197080291971,0.07692307692307693,0.07638888888888888,0.075,0.07407407407407407,0.07065217391304349,0.0683453237410072,0.06666666666666667,0.0625,0.06018518518518518,0.044444444444444446,0.041666666666666664,0.04],\"sizemode\":\"area\",\"sizeref\":0.0012755102040816326,\"symbol\":\"circle\"},\"mode\":\"markers\",\"name\":\"Pairs\",\"orientation\":\"v\",\"showlegend\":true,\"x\":[\"Anastasia MISHINA / Vladislav MIRZOEV\",\"Wenjing SUI / Cong HAN\",\"Aljona SAVCHENKO / Bruno MASSOT\",\"Aliona SAVCHENKO / Bruno MASSOT\",\"Apollinariia PANFILOVA / Dmitry RYLOV\",\"Daria PAVLIUCHENKO / Denis KHODYKIN\",\"Evgenia TARASOVA / Vladimir MOROZOV\",\"Meagan DUHAMEL / Eric RADFORD\",\"Xiaoyu YU / Hao ZHANG\",\"Xuehan WANG / Lei WANG\",\"Alina USTIMKINA / Nikita VOLODIN\",\"Vanessa JAMES / Morgan CIPRES\",\"Kristina ASTAKHOVA / Alexei ROGONOV\",\"Ksenia STOLBOVA / Fedor KLIMOV\",\"Yumeng GAO / Zhong XIE\",\"Cheng PENG / Yang JIN\",\"Aleksandra BOIKOVA / Dmitrii KOZLOVSKII\",\"Liubov ILYUSHECHKINA / Dylan MOSCOVITCH\",\"Tarah KAYNE / Danny O'SHEA\",\"Natalia ZABIIAKO / Alexander ENBERT\",\"Kirsten MOORE-TOWERS / Michael MARINARO\",\"Julianne SEGUIN / Charlie BILODEAU\",\"Mari VARTMANN / Ruben BLOMMAERT\",\"Marissa CASTELLI / Mervin TRAN\",\"Anastasia POLUIANOVA / Dmitry SOPOT\",\"Valentina MARCHEI / Ondrej HOTAREK\",\"Yuko KAVAGUTI / Alexander SMIRNOV\",\"Amina ATAKHANOVA / Ilia SPIRIDONOV\",\"Camille RUEST / Andrew WOLFE\",\"Nicole DELLA MONICA / Matteo GUARISE\",\"Haven DENNEY / Brandon FRAZIER\",\"Alexa SCIMECA KNIERIM / Chris KNIERIM\",\"Mingyang ZHANG / Bowen SONG\",\"Alisa EFIMOVA / Alexander KOROVIN\",\"Brittany JONES / Joshua REAGAN\",\"Miriam ZIEGLER / Severin KIEFER\",\"Anna DUSKOVA / Martin BIDAR\",\"Deanna STELLATO / Nathan BARTHOLOMAY\",\"Sydney KOLODZIEJ / Maxime DESCHAMPS\",\"Jessica PFUND / Joshua SANTILLAN\",\"Ashley CAIN / Timothy LEDUC\",\"Ekaterina ALEXANDROVSKAYA / Harley WINDSOR\",\"Sumire SUTO / Francis BOUDREAU-AUDET\",\"Miu SUZAKI / Ryuichi KIHARA\",\"Rebecca GHILARDI / Filippo AMBROSINI\",\"Su Yeon KIM / Hyungtae KIM\",\"Lola ESBRAT / Andrei NOVOSELOV\",\"Zoe JONES / Christopher BOYADJI\",\"Goda BUTKUTE / Nikita ERMOLAEV\",\"Minji JI / Themistocles LEFTHERIS\",\"Tatiana DANILOVA / Mikalai KAMIANCHUK\",\"Minerva Fabienne HASE / Nolan SEEGERT\",\"Tae Ok RYOM / Ju Sik KIM\",\"Kyueun KIM / Alex Kang Chan KAM\",\"Arina CHERNIAVSKAIA / Evgeni KRASNOPOLSKI\",\"Lana PETRANOVIC / Antonio SOUZA-KORDEIRU\",\"Ioulia CHTCHETININA / Noah SCHERER\",\"Daria BEKLEMISHEVA / Mark MAGYAR\",\"Emilia SIMONEN / Matthew PENASSE\"],\"xaxis\":\"x\",\"y\":[4.694444444444445,4.9526315789473685,4.860526315789474,4.877894736842106,4.308888888888888,4.693333333333333,4.757766272189349,5.1421052631578945,4.798675496688741,4.5131578947368425,4.45,4.889106967615309,4.788035450516987,4.920000000000001,4.138888888888889,4.6185840707964605,4.602777777777778,4.5964912280701755,4.637134328358209,4.6431818181818185,4.752631578947368,4.687340529931305,4.691052631578947,4.4470753323485965,4.411111111111111,4.763120706575074,4.355135135135135,4.347058823529412,4.426315789473684,4.594736842105263,4.401558726673985,4.554736842105263,4.311578947368421,4.252631578947368,4.321052631578947,4.52156862745098,4.7875000000000005,4.494736842105263,4.58421052631579,4.226111111111111,4.3999999999999995,4.568630136986301,4.381111111111111,3.897368421052632,4.309473684210526,4.136842105263158,4.087727272727273,4.011136363636364,4.06969696969697,4.25,4.461538461538462,4.376923076923077,4.38421052631579,3.811111111111111,4.105263157894737,4.36,4.157142857142857,3.857142857142857,4.0285714285714285],\"yaxis\":\"y\",\"type\":\"scatter\",\"opacity\":1},{\"customdata\":[[1.0,1.0],[0.7777777777777777,1.2857142857142858],[0.7,1.4285714285714286],[0.4375,2.2857142857142856],[0.33793103448275863,2.9591836734693877],[0.3333333333333333,3.0],[0.3333333333333333,3.0],[0.31197771587743733,3.205357142857143],[0.28965517241379307,3.4523809523809526],[0.2792022792022792,3.5816326530612246],[0.2575406032482599,3.8828828828828827],[0.24528301886792456,4.076923076923077],[0.23333333333333334,4.285714285714286],[0.22641509433962262,4.416666666666667],[0.21538461538461537,4.642857142857143],[0.2131979695431472,4.690476190476191],[0.2043795620437956,4.892857142857143],[0.2,5.0],[0.1958041958041958,5.107142857142857],[0.1943661971830986,5.144927536231884],[0.19387755102040816,5.157894736842105],[0.1935483870967742,5.166666666666667],[0.1846153846153846,5.416666666666667],[0.17177914110429449,5.821428571428571],[0.16666666666666666,6.0],[0.16666666666666666,6.0],[0.16326530612244897,6.125],[0.15730337078651685,6.357142857142857],[0.15625,6.4],[0.1497326203208556,6.678571428571429],[0.14814814814814814,6.75],[0.13333333333333333,7.5],[0.1320754716981132,7.571428571428571],[0.12704174228675136,7.871428571428571],[0.125,8.0],[0.11650485436893203,8.583333333333334],[0.11570247933884298,8.642857142857142],[0.11551155115511552,8.657142857142857],[0.11522633744855967,8.678571428571429],[0.1111111111111111,9.0],[0.10727969348659004,9.321428571428571],[0.10626185958254268,9.410714285714286],[0.10579345088161209,9.452380952380953],[0.10481099656357389,9.540983606557377],[0.1,10.0],[0.1,10.0],[0.0963855421686747,10.375],[0.09523809523809523,10.5],[0.08383233532934131,11.928571428571429],[0.0812807881773399,12.303030303030303],[0.08045977011494253,12.428571428571429],[0.07692307692307693,13.0],[0.07420494699646643,13.476190476190476],[0.07142857142857142,14.0],[0.06999999999999999,14.285714285714286],[0.06861313868613138,14.574468085106384],[0.06707317073170732,14.909090909090908],[0.06511627906976744,15.357142857142858],[0.0639269406392694,15.642857142857142],[0.0611353711790393,16.357142857142858],[0.06075949367088608,16.458333333333332],[0.057401812688821746,17.42105263157895],[0.05053191489361702,19.789473684210527],[0.047619047619047616,21.0],[0.04714640198511166,21.210526315789473],[0.045454545454545456,22.0],[0.041666666666666664,24.0],[0.04,25.0],[0.038461538461538464,26.0],[0.03571428571428571,28.0],[0.034482758620689655,29.0],[0.03389830508474576,29.5],[0.03333333333333333,30.0],[0.03225806451612903,31.0]],\"hovertemplate\":\"=Ice dance<br>athlete_name=%{x}<br>avg_elem_base_value=%{y}<br>Average rank=%{customdata[1]}<extra></extra>\",\"legendgroup\":\"Ice dance\",\"marker\":{\"color\":\"#35FA33\",\"size\":[1.0,0.7777777777777777,0.7,0.4375,0.33793103448275863,0.3333333333333333,0.3333333333333333,0.31197771587743733,0.28965517241379307,0.2792022792022792,0.2575406032482599,0.24528301886792456,0.23333333333333334,0.22641509433962262,0.21538461538461537,0.2131979695431472,0.2043795620437956,0.2,0.1958041958041958,0.1943661971830986,0.19387755102040816,0.1935483870967742,0.1846153846153846,0.17177914110429449,0.16666666666666666,0.16666666666666666,0.16326530612244897,0.15730337078651685,0.15625,0.1497326203208556,0.14814814814814814,0.13333333333333333,0.1320754716981132,0.12704174228675136,0.125,0.11650485436893203,0.11570247933884298,0.11551155115511552,0.11522633744855967,0.1111111111111111,0.10727969348659004,0.10626185958254268,0.10579345088161209,0.10481099656357389,0.1,0.1,0.0963855421686747,0.09523809523809523,0.08383233532934131,0.0812807881773399,0.08045977011494253,0.07692307692307693,0.07420494699646643,0.07142857142857142,0.06999999999999999,0.06861313868613138,0.06707317073170732,0.06511627906976744,0.0639269406392694,0.0611353711790393,0.06075949367088608,0.057401812688821746,0.05053191489361702,0.047619047619047616,0.04714640198511166,0.045454545454545456,0.041666666666666664,0.04,0.038461538461538464,0.03571428571428571,0.034482758620689655,0.03389830508474576,0.03333333333333333,0.03225806451612903],\"sizemode\":\"area\",\"sizeref\":0.0012755102040816326,\"symbol\":\"circle\"},\"mode\":\"markers\",\"name\":\"Ice dance\",\"orientation\":\"v\",\"showlegend\":true,\"x\":[\"Anastasia SKOPTCOVA / Kirill ALESHIN\",\"Tessa VIRTUE / Scott MOIR\",\"Gabriella PAPADAKIS / Guillaume CIZERON\",\"Maia SHIBUTANI / Alex SHIBUTANI\",\"Ekaterina BOBROVA / Dmitri SOLOVIEV\",\"Sofia POLISHCHUK / Alexander VAKHNOV\",\"Christina CARREIRA / Anthony PONOMARENKO\",\"Madison CHOCK / Evan BATES\",\"Kaitlyn WEAVER / Andrew POJE\",\"Anna CAPPELLINI / Luca LANOTTE\",\"Madison HUBBELL / Zachary DONOHUE\",\"Lorraine MCNAMARA / Quinn CARPENTER\",\"Elena ILINYKH / Ruslan ZHIGANSHIN\",\"Sofia SHEVCHENKO / Igor EREMENKO\",\"Tiffani ZAGORSKI / Jonathan GUERREIRO\",\"Piper GILLES / Paul POIRIER\",\"Alexandra STEPANOVA / Ivan BUKIN\",\"Tiffany ZAHORSKI / Jonathan GUERREIRO\",\"Kaitlin HAWAYEK / Jean-Luc BAKER\",\"Victoria SINITSINA / Nikita KATSALAPOV\",\"Alla LOBODA / Pavel DROZD\",\"Marjorie LAJOIE / Zachary LAGHA\",\"Arina USHAKOVA / Maxim NEKRASOV\",\"Charlene GUIGNARD / Marco FABBRI\",\"Anastasia SHPILEVAYA / Grigory SMIRNOV\",\"Betina POPOVA / Sergey MOZGOV\",\"Rachel PARSONS / Michael PARSONS\",\"Carolane SOUCISSE / Shane FIRUS\",\"Angelique ABACHKINA / Louis THAURON\",\"Isabella TOBIAS / Ilia TKACHENKO\",\"Elliana POGREBINSKY / Alex BENOIT\",\"Anastasia CANNUSCIO / Colin MCMANUS\",\"Penny COOMES / Nicholas BUCKLAND\",\"Laurence FOURNIER BEAUDRY / Nikolaj SORENSEN\",\"Cortney MANSOUR / Michal CESKA\",\"Shiyue WANG / Xinyu LIU\",\"Alexandra PAUL / Mitchell ISLAM\",\"Marie-Jade LAURIAULT / Romain LE GAC\",\"Natalia KALISZEK / Maksym SPODYRIEV\",\"Sofia EVDOKIMOVA / Egor BAZIN\",\"Linshu SONG / Zhuoming SUN\",\"Alexandra NAZAROVA / Maxim NIKITIN\",\"Hong CHEN / Yan ZHAO\",\"Kana MURAMOTO / Chris REED\",\"Xiaotong WANG / Kaige ZHAO\",\"Misato KOMATSUBARA / Timothy KOLETO\",\"Alisa AGAFONOVA / Alper UCAR\",\"Emi HIRAI / Marien DE LA ASUNCION\",\"Olivia SMART / Adria DIAZ\",\"Lorenza ALESSANDRINI / Pierre SOUQUET\",\"Yura MIN / Alexander GAMELIN\",\"Hojung LEE / Richard Kang In KAM\",\"Kavita LORENZ / Joti POLIZOAKIS\",\"Adele MORRISON / Demid ROKACHEV\",\"Sara HURTADO / Kirill KHALIAVIN\",\"Viktoria KAVALIOVA / Yurii BIELIAIEV\",\"Cecilia T\\u00d6RN / Jussiville PARTANEN\",\"Matilda FRIEND / William BADAOUI\",\"Kimberley HEW-LOW / Timothy MCKERNAN\",\"Lucie MYSLIVECKOVA / Lukas CSOLLEY\",\"Nicole KUZMICHOVA / Alexandr SINICYN\",\"Lilah FEAR / Lewis GIBSON\",\"Tina GARABEDIAN / Simon PROULX-SENECAL\",\"Robynne TWEEDALE / Joseph BUCKLAND\",\"Taylor TRAN / Saulius AMBRULEVICIUS\",\"Jasmine TESSARI / Francesco FIORETTI\",\"Vavara OGLOBLINA / Mikhail ZHIRNOV\",\"Victoria MANNI / Carlo R\\u00d6THLISBERGER\",\"Olga JAKUSHINA / Andrey NEVSKIY\",\"Hanna JAKUCS / Daniel ILLES\",\"Katerina BUNINA / German FROLOV\",\"Tatiana KOZMAVA / Alexei SHUMSKI\",\"Adel TANKOVA / Ronald ZILBERBERG\",\"Anastasia GALYETA / Avidan BROWN\"],\"xaxis\":\"x\",\"y\":[4.875,5.276785714285714,5.148214285714285,5.086607142857143,5.009183673469387,4.825,4.9833333333333325,5.069642857142857,5.011904761904762,5.075510204081632,5.108108108108108,5.088461538461539,4.607142857142857,4.6499999999999995,4.871428571428571,4.911904761904762,4.876190476190477,4.614285714285714,4.917857142857143,4.827536231884058,5.118421052631579,4.441666666666666,4.5249999999999995,4.897619047619047,5.008333333333333,5.507692307692308,4.76,4.585714285714285,4.8525,4.675,4.853571428571429,4.439285714285714,4.685714285714286,4.935714285714286,4.535714285714286,4.8464285714285715,4.428571428571429,5.104285714285714,4.83452380952381,4.535714285714286,4.503571428571428,4.757142857142857,4.2214285714285715,4.618032786885245,3.957142857142857,4.642857142857143,4.8237499999999995,4.407142857142857,4.707142857142857,4.524242424242424,4.7785714285714285,4.538461538461538,4.597619047619047,4.128571428571428,4.357142857142857,4.138297872340425,4.618181818181818,3.7785714285714285,3.3857142857142852,4.314285714285714,4.699999999999999,4.726315789473684,4.405263157894737,5.04,4.542105263157894,5.04,4.84,4.54,4.79,4.619999999999999,4.42,4.569999999999999,4.1,5.04],\"yaxis\":\"y\",\"type\":\"scatter\",\"opacity\":1}],                        {\"template\":{\"data\":{\"histogram2dcontour\":[{\"type\":\"histogram2dcontour\",\"colorbar\":{\"outlinewidth\":0,\"ticks\":\"\"},\"colorscale\":[[0.0,\"#0d0887\"],[0.1111111111111111,\"#46039f\"],[0.2222222222222222,\"#7201a8\"],[0.3333333333333333,\"#9c179e\"],[0.4444444444444444,\"#bd3786\"],[0.5555555555555556,\"#d8576b\"],[0.6666666666666666,\"#ed7953\"],[0.7777777777777778,\"#fb9f3a\"],[0.8888888888888888,\"#fdca26\"],[1.0,\"#f0f921\"]]}],\"choropleth\":[{\"type\":\"choropleth\",\"colorbar\":{\"outlinewidth\":0,\"ticks\":\"\"}}],\"histogram2d\":[{\"type\":\"histogram2d\",\"colorbar\":{\"outlinewidth\":0,\"ticks\":\"\"},\"colorscale\":[[0.0,\"#0d0887\"],[0.1111111111111111,\"#46039f\"],[0.2222222222222222,\"#7201a8\"],[0.3333333333333333,\"#9c179e\"],[0.4444444444444444,\"#bd3786\"],[0.5555555555555556,\"#d8576b\"],[0.6666666666666666,\"#ed7953\"],[0.7777777777777778,\"#fb9f3a\"],[0.8888888888888888,\"#fdca26\"],[1.0,\"#f0f921\"]]}],\"heatmap\":[{\"type\":\"heatmap\",\"colorbar\":{\"outlinewidth\":0,\"ticks\":\"\"},\"colorscale\":[[0.0,\"#0d0887\"],[0.1111111111111111,\"#46039f\"],[0.2222222222222222,\"#7201a8\"],[0.3333333333333333,\"#9c179e\"],[0.4444444444444444,\"#bd3786\"],[0.5555555555555556,\"#d8576b\"],[0.6666666666666666,\"#ed7953\"],[0.7777777777777778,\"#fb9f3a\"],[0.8888888888888888,\"#fdca26\"],[1.0,\"#f0f921\"]]}],\"heatmapgl\":[{\"type\":\"heatmapgl\",\"colorbar\":{\"outlinewidth\":0,\"ticks\":\"\"},\"colorscale\":[[0.0,\"#0d0887\"],[0.1111111111111111,\"#46039f\"],[0.2222222222222222,\"#7201a8\"],[0.3333333333333333,\"#9c179e\"],[0.4444444444444444,\"#bd3786\"],[0.5555555555555556,\"#d8576b\"],[0.6666666666666666,\"#ed7953\"],[0.7777777777777778,\"#fb9f3a\"],[0.8888888888888888,\"#fdca26\"],[1.0,\"#f0f921\"]]}],\"contourcarpet\":[{\"type\":\"contourcarpet\",\"colorbar\":{\"outlinewidth\":0,\"ticks\":\"\"}}],\"contour\":[{\"type\":\"contour\",\"colorbar\":{\"outlinewidth\":0,\"ticks\":\"\"},\"colorscale\":[[0.0,\"#0d0887\"],[0.1111111111111111,\"#46039f\"],[0.2222222222222222,\"#7201a8\"],[0.3333333333333333,\"#9c179e\"],[0.4444444444444444,\"#bd3786\"],[0.5555555555555556,\"#d8576b\"],[0.6666666666666666,\"#ed7953\"],[0.7777777777777778,\"#fb9f3a\"],[0.8888888888888888,\"#fdca26\"],[1.0,\"#f0f921\"]]}],\"surface\":[{\"type\":\"surface\",\"colorbar\":{\"outlinewidth\":0,\"ticks\":\"\"},\"colorscale\":[[0.0,\"#0d0887\"],[0.1111111111111111,\"#46039f\"],[0.2222222222222222,\"#7201a8\"],[0.3333333333333333,\"#9c179e\"],[0.4444444444444444,\"#bd3786\"],[0.5555555555555556,\"#d8576b\"],[0.6666666666666666,\"#ed7953\"],[0.7777777777777778,\"#fb9f3a\"],[0.8888888888888888,\"#fdca26\"],[1.0,\"#f0f921\"]]}],\"mesh3d\":[{\"type\":\"mesh3d\",\"colorbar\":{\"outlinewidth\":0,\"ticks\":\"\"}}],\"scatter\":[{\"fillpattern\":{\"fillmode\":\"overlay\",\"size\":10,\"solidity\":0.2},\"type\":\"scatter\"}],\"parcoords\":[{\"type\":\"parcoords\",\"line\":{\"colorbar\":{\"outlinewidth\":0,\"ticks\":\"\"}}}],\"scatterpolargl\":[{\"type\":\"scatterpolargl\",\"marker\":{\"colorbar\":{\"outlinewidth\":0,\"ticks\":\"\"}}}],\"bar\":[{\"error_x\":{\"color\":\"#2a3f5f\"},\"error_y\":{\"color\":\"#2a3f5f\"},\"marker\":{\"line\":{\"color\":\"#E5ECF6\",\"width\":0.5},\"pattern\":{\"fillmode\":\"overlay\",\"size\":10,\"solidity\":0.2}},\"type\":\"bar\"}],\"scattergeo\":[{\"type\":\"scattergeo\",\"marker\":{\"colorbar\":{\"outlinewidth\":0,\"ticks\":\"\"}}}],\"scatterpolar\":[{\"type\":\"scatterpolar\",\"marker\":{\"colorbar\":{\"outlinewidth\":0,\"ticks\":\"\"}}}],\"histogram\":[{\"marker\":{\"pattern\":{\"fillmode\":\"overlay\",\"size\":10,\"solidity\":0.2}},\"type\":\"histogram\"}],\"scattergl\":[{\"type\":\"scattergl\",\"marker\":{\"colorbar\":{\"outlinewidth\":0,\"ticks\":\"\"}}}],\"scatter3d\":[{\"type\":\"scatter3d\",\"line\":{\"colorbar\":{\"outlinewidth\":0,\"ticks\":\"\"}},\"marker\":{\"colorbar\":{\"outlinewidth\":0,\"ticks\":\"\"}}}],\"scattermapbox\":[{\"type\":\"scattermapbox\",\"marker\":{\"colorbar\":{\"outlinewidth\":0,\"ticks\":\"\"}}}],\"scatterternary\":[{\"type\":\"scatterternary\",\"marker\":{\"colorbar\":{\"outlinewidth\":0,\"ticks\":\"\"}}}],\"scattercarpet\":[{\"type\":\"scattercarpet\",\"marker\":{\"colorbar\":{\"outlinewidth\":0,\"ticks\":\"\"}}}],\"carpet\":[{\"aaxis\":{\"endlinecolor\":\"#2a3f5f\",\"gridcolor\":\"white\",\"linecolor\":\"white\",\"minorgridcolor\":\"white\",\"startlinecolor\":\"#2a3f5f\"},\"baxis\":{\"endlinecolor\":\"#2a3f5f\",\"gridcolor\":\"white\",\"linecolor\":\"white\",\"minorgridcolor\":\"white\",\"startlinecolor\":\"#2a3f5f\"},\"type\":\"carpet\"}],\"table\":[{\"cells\":{\"fill\":{\"color\":\"#EBF0F8\"},\"line\":{\"color\":\"white\"}},\"header\":{\"fill\":{\"color\":\"#C8D4E3\"},\"line\":{\"color\":\"white\"}},\"type\":\"table\"}],\"barpolar\":[{\"marker\":{\"line\":{\"color\":\"#E5ECF6\",\"width\":0.5},\"pattern\":{\"fillmode\":\"overlay\",\"size\":10,\"solidity\":0.2}},\"type\":\"barpolar\"}],\"pie\":[{\"automargin\":true,\"type\":\"pie\"}]},\"layout\":{\"autotypenumbers\":\"strict\",\"colorway\":[\"#636efa\",\"#EF553B\",\"#00cc96\",\"#ab63fa\",\"#FFA15A\",\"#19d3f3\",\"#FF6692\",\"#B6E880\",\"#FF97FF\",\"#FECB52\"],\"font\":{\"color\":\"#2a3f5f\"},\"hovermode\":\"closest\",\"hoverlabel\":{\"align\":\"left\"},\"paper_bgcolor\":\"white\",\"plot_bgcolor\":\"#E5ECF6\",\"polar\":{\"bgcolor\":\"#E5ECF6\",\"angularaxis\":{\"gridcolor\":\"white\",\"linecolor\":\"white\",\"ticks\":\"\"},\"radialaxis\":{\"gridcolor\":\"white\",\"linecolor\":\"white\",\"ticks\":\"\"}},\"ternary\":{\"bgcolor\":\"#E5ECF6\",\"aaxis\":{\"gridcolor\":\"white\",\"linecolor\":\"white\",\"ticks\":\"\"},\"baxis\":{\"gridcolor\":\"white\",\"linecolor\":\"white\",\"ticks\":\"\"},\"caxis\":{\"gridcolor\":\"white\",\"linecolor\":\"white\",\"ticks\":\"\"}},\"coloraxis\":{\"colorbar\":{\"outlinewidth\":0,\"ticks\":\"\"}},\"colorscale\":{\"sequential\":[[0.0,\"#0d0887\"],[0.1111111111111111,\"#46039f\"],[0.2222222222222222,\"#7201a8\"],[0.3333333333333333,\"#9c179e\"],[0.4444444444444444,\"#bd3786\"],[0.5555555555555556,\"#d8576b\"],[0.6666666666666666,\"#ed7953\"],[0.7777777777777778,\"#fb9f3a\"],[0.8888888888888888,\"#fdca26\"],[1.0,\"#f0f921\"]],\"sequentialminus\":[[0.0,\"#0d0887\"],[0.1111111111111111,\"#46039f\"],[0.2222222222222222,\"#7201a8\"],[0.3333333333333333,\"#9c179e\"],[0.4444444444444444,\"#bd3786\"],[0.5555555555555556,\"#d8576b\"],[0.6666666666666666,\"#ed7953\"],[0.7777777777777778,\"#fb9f3a\"],[0.8888888888888888,\"#fdca26\"],[1.0,\"#f0f921\"]],\"diverging\":[[0,\"#8e0152\"],[0.1,\"#c51b7d\"],[0.2,\"#de77ae\"],[0.3,\"#f1b6da\"],[0.4,\"#fde0ef\"],[0.5,\"#f7f7f7\"],[0.6,\"#e6f5d0\"],[0.7,\"#b8e186\"],[0.8,\"#7fbc41\"],[0.9,\"#4d9221\"],[1,\"#276419\"]]},\"xaxis\":{\"gridcolor\":\"white\",\"linecolor\":\"white\",\"ticks\":\"\",\"title\":{\"standoff\":15},\"zerolinecolor\":\"white\",\"automargin\":true,\"zerolinewidth\":2},\"yaxis\":{\"gridcolor\":\"white\",\"linecolor\":\"white\",\"ticks\":\"\",\"title\":{\"standoff\":15},\"zerolinecolor\":\"white\",\"automargin\":true,\"zerolinewidth\":2},\"scene\":{\"xaxis\":{\"backgroundcolor\":\"#E5ECF6\",\"gridcolor\":\"white\",\"linecolor\":\"white\",\"showbackground\":true,\"ticks\":\"\",\"zerolinecolor\":\"white\",\"gridwidth\":2},\"yaxis\":{\"backgroundcolor\":\"#E5ECF6\",\"gridcolor\":\"white\",\"linecolor\":\"white\",\"showbackground\":true,\"ticks\":\"\",\"zerolinecolor\":\"white\",\"gridwidth\":2},\"zaxis\":{\"backgroundcolor\":\"#E5ECF6\",\"gridcolor\":\"white\",\"linecolor\":\"white\",\"showbackground\":true,\"ticks\":\"\",\"zerolinecolor\":\"white\",\"gridwidth\":2}},\"shapedefaults\":{\"line\":{\"color\":\"#2a3f5f\"}},\"annotationdefaults\":{\"arrowcolor\":\"#2a3f5f\",\"arrowhead\":0,\"arrowwidth\":1},\"geo\":{\"bgcolor\":\"white\",\"landcolor\":\"#E5ECF6\",\"subunitcolor\":\"white\",\"showland\":true,\"showlakes\":true,\"lakecolor\":\"white\"},\"title\":{\"x\":0.05},\"mapbox\":{\"style\":\"light\"}}},\"xaxis\":{\"anchor\":\"y\",\"domain\":[0.0,1.0],\"title\":{\"text\":\"\"},\"visible\":true,\"showticklabels\":false,\"nticks\":20},\"yaxis\":{\"anchor\":\"x\",\"domain\":[0.0,1.0],\"title\":{\"text\":\"\"}},\"legend\":{\"title\":{\"text\":\"\"},\"tracegroupgap\":0,\"itemsizing\":\"constant\",\"yanchor\":\"bottom\",\"xanchor\":\"right\",\"y\":0.8,\"x\":1},\"margin\":{\"t\":120,\"l\":100,\"r\":60,\"b\":80},\"title\":{\"font\":{\"family\":\"DejaVu Sans\",\"size\":24,\"color\":\"#543810\"},\"text\":\"<b>Which athletes present the most difficult elements and how are they ranked?</b>\",\"y\":0.97,\"x\":0.5,\"xanchor\":\"center\",\"yanchor\":\"top\"},\"font\":{\"family\":\"DejaVu Sans\",\"size\":14,\"color\":\"#543810\"},\"width\":1315,\"height\":700,\"plot_bgcolor\":\"#E9F1FA\",\"paper_bgcolor\":\"#E9F1FA\",\"annotations\":[{\"align\":\"center\",\"font\":{\"color\":\"#543810\",\"family\":\"DejaVu Sans\",\"size\":18},\"showarrow\":false,\"text\":\"Each athlete is represented by a bubble. The athletes are categorized and ordered by average rank descending from left to right,\",\"x\":0,\"xanchor\":\"center\",\"xref\":\"paper\",\"xshift\":558,\"y\":-0.14,\"yanchor\":\"top\",\"yref\":\"paper\",\"yshift\":640},{\"align\":\"center\",\"font\":{\"color\":\"#543810\",\"family\":\"DejaVu Sans\",\"size\":18},\"showarrow\":false,\"text\":\"the rank is also represented by the dimension of the bubble\",\"x\":0,\"xanchor\":\"center\",\"xref\":\"paper\",\"xshift\":558,\"y\":-0.14,\"yanchor\":\"top\",\"yref\":\"paper\",\"yshift\":620},{\"align\":\"left\",\"font\":{\"color\":\"#543810\",\"family\":\"DejaVu Sans\",\"size\":10},\"showarrow\":false,\"text\":\"data source: https://github.com/BuzzFeedNews/2018-02-figure-skating-analysis\",\"x\":0,\"xanchor\":\"left\",\"xref\":\"paper\",\"xshift\":-1,\"y\":-0.11,\"yanchor\":\"bottom\",\"yref\":\"paper\",\"yshift\":-5},{\"align\":\"left\",\"font\":{\"color\":\"#543810\",\"family\":\"DejaVu Sans\",\"size\":10},\"showarrow\":false,\"text\":\"plot author: Cecilia Zagni\",\"x\":0,\"xanchor\":\"left\",\"xref\":\"paper\",\"xshift\":-1,\"y\":-0.14,\"yanchor\":\"bottom\",\"yref\":\"paper\",\"yshift\":-5},{\"align\":\"left\",\"font\":{\"color\":\"#543810\",\"family\":\"DejaVu Sans\",\"size\":16},\"showarrow\":false,\"text\":\"Average\",\"x\":0,\"xanchor\":\"left\",\"xref\":\"paper\",\"xshift\":-83,\"y\":-0.15,\"yanchor\":\"top\",\"yref\":\"paper\",\"yshift\":585},{\"align\":\"left\",\"font\":{\"color\":\"#543810\",\"family\":\"DejaVu Sans\",\"size\":16},\"showarrow\":false,\"text\":\"Base\",\"x\":0,\"xanchor\":\"left\",\"xref\":\"paper\",\"xshift\":-56,\"y\":-0.15,\"yanchor\":\"top\",\"yref\":\"paper\",\"yshift\":565},{\"align\":\"left\",\"font\":{\"color\":\"#543810\",\"family\":\"DejaVu Sans\",\"size\":16},\"showarrow\":false,\"text\":\"Value\",\"x\":0,\"xanchor\":\"left\",\"xref\":\"paper\",\"xshift\":-61,\"y\":-0.15,\"yanchor\":\"top\",\"yref\":\"paper\",\"yshift\":545},{\"align\":\"center\",\"font\":{\"color\":\"#543810\",\"family\":\"DejaVu Sans\",\"size\":17},\"showarrow\":false,\"text\":\"Athletes\",\"x\":0,\"xanchor\":\"center\",\"xref\":\"paper\",\"xshift\":580,\"y\":-0.14,\"yanchor\":\"bottom\",\"yref\":\"paper\",\"yshift\":40},{\"align\":\"left\",\"font\":{\"color\":\"#543810\",\"family\":\"DejaVu Sans\",\"size\":14},\"showarrow\":false,\"text\":\"Max: 1\",\"x\":0,\"xanchor\":\"left\",\"xref\":\"paper\",\"xshift\":1085,\"y\":-0.15,\"yanchor\":\"top\",\"yref\":\"paper\",\"yshift\":459},{\"align\":\"left\",\"font\":{\"color\":\"#543810\",\"family\":\"DejaVu Sans\",\"size\":14},\"showarrow\":false,\"text\":\"Min: 36\",\"x\":0,\"xanchor\":\"left\",\"xref\":\"paper\",\"xshift\":1085,\"y\":-0.15,\"yanchor\":\"top\",\"yref\":\"paper\",\"yshift\":419}],\"images\":[{\"sizex\":0.15,\"sizey\":0.15,\"source\":\"img/maxminL.png\",\"x\":1.05,\"xanchor\":\"right\",\"xref\":\"paper\",\"y\":0.655,\"yanchor\":\"bottom\",\"yref\":\"paper\"},{\"sizex\":0.13,\"sizey\":0.13,\"source\":\"img/d_ladies.PNG\",\"x\":0.03,\"xanchor\":\"left\",\"xref\":\"paper\",\"y\":0.12,\"yanchor\":\"bottom\",\"yref\":\"paper\"},{\"sizex\":0.13,\"sizey\":0.13,\"source\":\"img/d_men.PNG\",\"x\":0.15,\"xanchor\":\"left\",\"xref\":\"paper\",\"y\":0.8,\"yanchor\":\"bottom\",\"yref\":\"paper\"},{\"sizex\":0.2,\"sizey\":0.2,\"source\":\"img/d_pairs.PNG\",\"x\":0.5,\"xanchor\":\"left\",\"xref\":\"paper\",\"y\":0.7,\"yanchor\":\"bottom\",\"yref\":\"paper\"},{\"sizex\":0.2,\"sizey\":0.2,\"source\":\"img/d_pairs.PNG\",\"x\":0.75,\"xanchor\":\"left\",\"xref\":\"paper\",\"y\":0.1,\"yanchor\":\"bottom\",\"yref\":\"paper\"}]},                        {\"responsive\": true}                    ).then(function(){\n",
       "                            \n",
       "var gd = document.getElementById('e4b96017-305d-458b-bacb-d8c65606fe2d');\n",
       "var x = new MutationObserver(function (mutations, observer) {{\n",
       "        var display = window.getComputedStyle(gd).display;\n",
       "        if (!display || display === 'none') {{\n",
       "            console.log([gd, 'removed!']);\n",
       "            Plotly.purge(gd);\n",
       "            observer.disconnect();\n",
       "        }}\n",
       "}});\n",
       "\n",
       "// Listen for the removal of the full notebook cells\n",
       "var notebookContainer = gd.closest('#notebook-container');\n",
       "if (notebookContainer) {{\n",
       "    x.observe(notebookContainer, {childList: true});\n",
       "}}\n",
       "\n",
       "// Listen for the clearing of the current output cell\n",
       "var outputEl = gd.closest('.output');\n",
       "if (outputEl) {{\n",
       "    x.observe(outputEl, {childList: true});\n",
       "}}\n",
       "\n",
       "                        })                };                });            </script>        </div>"
      ]
     },
     "metadata": {},
     "output_type": "display_data"
    }
   ],
   "source": [
    "# grafico con tutti i dati\n",
    "bubble = px.scatter(athlete_base_value,\n",
    "                    x=\"athlete_name\",\n",
    "                    y=\"avg_elem_base_value\",\n",
    "                    color=\"category\",\n",
    "                    color_discrete_map=palette2,\n",
    "                    size=\"avg_rank_inv\",\n",
    "                    log_x=False, \n",
    "                    size_max=28,\n",
    "                    labels={\"category\": \"\",\"avg_rank\": \"Average rank\"},\n",
    "                    hover_data={\"avg_rank_inv\":False, \"avg_rank\": True},\n",
    "                    category_orders={\"category\": ['Ladies','Men','Pairs','Ice dance']},\n",
    "                   )\n",
    "bubble.update_traces(marker=dict(symbol=\"circle\"),\n",
    "                     selector=dict(mode=\"markers\"),\n",
    "                     opacity=1\n",
    "                    )\n",
    "\n",
    "                    #general features\n",
    "bubble.update_layout(width=1315,\n",
    "                     height=700,\n",
    "                     plot_bgcolor='#E9F1FA',\n",
    "                     paper_bgcolor='#E9F1FA',\n",
    "                     \n",
    "                     #margins\n",
    "                     margin=dict(l=100, r=60, t=120, b=80),\n",
    "                     \n",
    "                     #legend\n",
    "                     legend=dict(yanchor=\"bottom\",\n",
    "                                 xanchor=\"right\",\n",
    "                                 #orientation=\"h\",\n",
    "                                 y=0.8,\n",
    "                                 x=1),\n",
    "                     \n",
    "                     #title\n",
    "                     title={'text': \"<b>Which athletes present the most difficult elements and how are they ranked?</b>\",\n",
    "                             'y':0.97,\n",
    "                             'x':0.5,\n",
    "                             'xanchor': 'center',\n",
    "                             'yanchor': 'top'},\n",
    "                     title_font={'family': 'DejaVu Sans',\n",
    "                                  'size': 24,\n",
    "                                  'color': '#543810'},\n",
    "                     \n",
    "                     #general font\n",
    "                     font={'family': 'DejaVu Sans',\n",
    "                           'size': 14,\n",
    "                           'color': '#543810'},\n",
    "\n",
    "                     xaxis_title=\"\",\n",
    "                     yaxis_title=\"\")\n",
    "\n",
    "\n",
    "# sottotitolo riga 1\n",
    "bubble.add_annotation(text = (\"Each athlete is represented by a bubble. The athletes are categorized and ordered by average rank descending from left to right,\"),\n",
    "                              showarrow=False,\n",
    "                              x = 0, \n",
    "                              y = -0.14, \n",
    "                              xref='paper', \n",
    "                              yref='paper', \n",
    "                              xanchor='center', \n",
    "                              yanchor='top', \n",
    "                              xshift=558, \n",
    "                              yshift=640, \n",
    "                              font=dict(size=18, color=\"#543810\", family='DejaVu Sans'), \n",
    "                              align=\"center\")\n",
    "\n",
    "# sottotitolo riga 2\n",
    "bubble.add_annotation(text = (\"the rank is also represented by the dimension of the bubble\"),\n",
    "                              showarrow=False,\n",
    "                              x = 0, \n",
    "                              y = -0.14, \n",
    "                              xref='paper', \n",
    "                              yref='paper', \n",
    "                              xanchor='center', \n",
    "                              yanchor='top', \n",
    "                              xshift=558, \n",
    "                              yshift=620, \n",
    "                              font=dict(size=18, color=\"#543810\", family='DejaVu Sans'), \n",
    "                              align=\"center\")\n",
    "\n",
    "# aggiungi autore e origine dati\n",
    "bubble.add_annotation(text = \"data source: https://github.com/BuzzFeedNews/2018-02-figure-skating-analysis\",\n",
    "                      showarrow=False,\n",
    "                      x = 0, \n",
    "                      y = -0.11, \n",
    "                      xref='paper', \n",
    "                      yref='paper', \n",
    "                      xanchor='left', \n",
    "                      yanchor='bottom', \n",
    "                      xshift=-1, \n",
    "                      yshift=-5, \n",
    "                      font=dict(size=10, color=\"#543810\", family='DejaVu Sans'), \n",
    "                      align=\"left\")\n",
    "bubble.add_annotation(text = \"plot author: Cecilia Zagni\",\n",
    "                      showarrow=False,\n",
    "                      x = 0, \n",
    "                      y = -0.14, \n",
    "                      xref='paper', \n",
    "                      yref='paper', \n",
    "                      xanchor='left', \n",
    "                      yanchor='bottom', \n",
    "                      xshift=-1, \n",
    "                      yshift=-5, \n",
    "                      font=dict(size=10, color=\"#543810\", family='DejaVu Sans'), \n",
    "                      align=\"left\")\n",
    "#titolo asse y riga 1\n",
    "bubble.add_annotation(text = \"Average\",\n",
    "                   showarrow=False,\n",
    "                   x = 0, \n",
    "                   y = -0.15, \n",
    "                   xref='paper', \n",
    "                   yref='paper', \n",
    "                   xanchor='left', \n",
    "                   yanchor='top', \n",
    "                   xshift=-83, \n",
    "                   yshift=585, \n",
    "                   font=dict(size=16, color=\"#543810\", family='DejaVu Sans'), \n",
    "                   align=\"left\")\n",
    "#titolo asse y riga 2\n",
    "bubble.add_annotation(text = \"Base\",\n",
    "                      showarrow=False,\n",
    "                      x = 0, \n",
    "                      y = -0.15, \n",
    "                      xref='paper', \n",
    "                      yref='paper', \n",
    "                      xanchor='left', \n",
    "                      yanchor='top', \n",
    "                      xshift=-56, \n",
    "                      yshift=565, \n",
    "                      font=dict(size=16, color=\"#543810\", family='DejaVu Sans'), \n",
    "                      align=\"left\")\n",
    "#titolo asse y riga 3\n",
    "bubble.add_annotation(text = \"Value\",\n",
    "                      showarrow=False,\n",
    "                      x = 0, \n",
    "                      y = -0.15, \n",
    "                      xref='paper', \n",
    "                      yref='paper', \n",
    "                      xanchor='left', \n",
    "                      yanchor='top', \n",
    "                      xshift=-61, \n",
    "                      yshift=545, \n",
    "                      font=dict(size=16, color=\"#543810\", family='DejaVu Sans'), \n",
    "                      align=\"left\")\n",
    "\n",
    "\n",
    "#titolo asse x\n",
    "bubble.add_annotation(text = (\"Athletes\"),\n",
    "                              showarrow=False,\n",
    "                              x = 0, \n",
    "                              y = -0.14, \n",
    "                              xref='paper', \n",
    "                              yref='paper', \n",
    "                              xanchor='center', \n",
    "                              yanchor='bottom', \n",
    "                              xshift=580, \n",
    "                              yshift=40, \n",
    "                              font=dict(size=17, color=\"#543810\", family='DejaVu Sans'), \n",
    "                              align=\"center\")\n",
    "\n",
    "#legenda dimensioni\n",
    "bubble.add_layout_image({'source':\"img/maxminL.png\",\n",
    "                         'xref':\"paper\",\n",
    "                         'yref':\"paper\",\n",
    "                         'x':1.05,\n",
    "                         'y':0.655,\n",
    "                         'sizex':0.15,\n",
    "                         'sizey':0.15,\n",
    "                         'xanchor':\"right\", \n",
    "                         'yanchor':\"bottom\"}\n",
    "                       )\n",
    "bubble.add_annotation(text = \"Max: 1\",\n",
    "                      showarrow=False,\n",
    "                      x = 0, \n",
    "                      y = -0.15, \n",
    "                      xref='paper', \n",
    "                      yref='paper', \n",
    "                      xanchor='left', \n",
    "                      yanchor='top', \n",
    "                      xshift=1085, \n",
    "                      yshift=459,\n",
    "                      font=dict(size=14, color=\"#543810\", family='DejaVu Sans'), \n",
    "                      align=\"left\")\n",
    "bubble.add_annotation(text = \"Min: 36\",\n",
    "                      showarrow=False,\n",
    "                      x = 0, \n",
    "                      y = -0.15, \n",
    "                      xref='paper', \n",
    "                      yref='paper', \n",
    "                      xanchor='left', \n",
    "                      yanchor='top', \n",
    "                      xshift=1085, \n",
    "                      yshift=419,\n",
    "                      font=dict(size=14, color=\"#543810\", family='DejaVu Sans'), \n",
    "                      align=\"left\")\n",
    "\n",
    "#etichetta top ladies\n",
    "bubble.add_layout_image({'source':\"img/d_ladies.PNG\",\n",
    "                         'xref':\"paper\",\n",
    "                         'yref':\"paper\",\n",
    "                         'x':0.03,\n",
    "                         'y':0.12,\n",
    "                         'sizex':0.13,\n",
    "                         'sizey':0.13,\n",
    "                         'xanchor':\"left\", \n",
    "                         'yanchor':\"bottom\"}\n",
    "                       )  \n",
    "\n",
    "#etichetta top men\n",
    "bubble.add_layout_image({'source':\"img/d_men.PNG\",\n",
    "                         'xref':\"paper\",\n",
    "                         'yref':\"paper\",\n",
    "                         'x':0.15,\n",
    "                         'y':0.8,\n",
    "                         'sizex':0.13,\n",
    "                         'sizey':0.13,\n",
    "                         'xanchor':\"left\", \n",
    "                         'yanchor':\"bottom\"}\n",
    "                       )     \n",
    "\n",
    "#etichetta top pairs\n",
    "bubble.add_layout_image({'source':\"img/d_pairs.PNG\",\n",
    "                         'xref':\"paper\",\n",
    "                         'yref':\"paper\",\n",
    "                         'x':0.5,\n",
    "                         'y':0.7,\n",
    "                         'sizex':0.2,\n",
    "                         'sizey':0.2,\n",
    "                         'xanchor':\"left\", \n",
    "                         'yanchor':\"bottom\"}\n",
    "                       ) \n",
    "\n",
    "#etichetta top ice dance\n",
    "bubble.add_layout_image({'source':\"img/d_pairs.PNG\",\n",
    "                         'xref':\"paper\",\n",
    "                         'yref':\"paper\",\n",
    "                         'x':0.75,\n",
    "                         'y':0.1,\n",
    "                         'sizex':0.2,\n",
    "                         'sizey':0.2,\n",
    "                         'xanchor':\"left\", \n",
    "                         'yanchor':\"bottom\"}\n",
    "                       ) \n",
    "\n",
    "bubble.update_xaxes(visible=True, showticklabels=False,nticks=20)\n",
    "bubble.show()"
   ]
  },
  {
   "cell_type": "code",
   "execution_count": null,
   "metadata": {},
   "outputs": [],
   "source": []
  }
 ],
 "metadata": {
  "kernelspec": {
   "display_name": "Python 3 (ipykernel)",
   "language": "python",
   "name": "python3"
  },
  "language_info": {
   "codemirror_mode": {
    "name": "ipython",
    "version": 3
   },
   "file_extension": ".py",
   "mimetype": "text/x-python",
   "name": "python",
   "nbconvert_exporter": "python",
   "pygments_lexer": "ipython3",
   "version": "3.9.13"
  },
  "vscode": {
   "interpreter": {
    "hash": "9cda0c324310104f05d8df7cc4d2a731da6a442630e1c96fb26d87993a9b905b"
   }
  }
 },
 "nbformat": 4,
 "nbformat_minor": 2
}
